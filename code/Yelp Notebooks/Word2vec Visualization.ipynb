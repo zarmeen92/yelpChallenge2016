{
 "cells": [
  {
   "cell_type": "markdown",
   "metadata": {},
   "source": [
    "## Loading trained Word2"
   ]
  },
  {
   "cell_type": "code",
   "execution_count": 2,
   "metadata": {
    "collapsed": false
   },
   "outputs": [],
   "source": [
    "import gensim\n",
    "model = gensim.models.Word2Vec.load(\"500features_20minwords_5context_1.1MReviews\")"
   ]
  },
  {
   "cell_type": "code",
   "execution_count": 3,
   "metadata": {
    "collapsed": false
   },
   "outputs": [
    {
     "data": {
      "text/plain": [
       "20"
      ]
     },
     "execution_count": 3,
     "metadata": {},
     "output_type": "execute_result"
    }
   ],
   "source": [
    "model.min_count"
   ]
  },
  {
   "cell_type": "code",
   "execution_count": 4,
   "metadata": {
    "collapsed": false,
    "scrolled": true
   },
   "outputs": [
    {
     "data": {
      "text/plain": [
       "35106"
      ]
     },
     "execution_count": 4,
     "metadata": {},
     "output_type": "execute_result"
    }
   ],
   "source": [
    "len(model.vocab)-1"
   ]
  },
  {
   "cell_type": "markdown",
   "metadata": {},
   "source": [
    "## Querying Word2Vec Results"
   ]
  },
  {
   "cell_type": "code",
   "execution_count": 5,
   "metadata": {
    "collapsed": false
   },
   "outputs": [
    {
     "data": {
      "text/plain": [
       "[(u'appealing', 0.6998410820960999),\n",
       " (u'tasteful', 0.6116796135902405),\n",
       " (u'stimulating', 0.6085736155509949),\n",
       " (u'sophisticated', 0.5932707190513611),\n",
       " (u'refined', 0.560735285282135),\n",
       " (u'intriguing', 0.5483849048614502),\n",
       " (u'inviting', 0.5443443059921265),\n",
       " (u'subdued', 0.542420506477356),\n",
       " (u'impressive', 0.541544497013092),\n",
       " (u'unappealing', 0.5393925309181213)]"
      ]
     },
     "execution_count": 5,
     "metadata": {},
     "output_type": "execute_result"
    }
   ],
   "source": [
    "model.most_similar(\"pleasing\")"
   ]
  },
  {
   "cell_type": "code",
   "execution_count": 12,
   "metadata": {
    "collapsed": false
   },
   "outputs": [
    {
     "data": {
      "text/plain": [
       "[(u'amazing', 0.8100380301475525),\n",
       " (u'excellent', 0.6963405013084412),\n",
       " (u'outstanding', 0.68399977684021),\n",
       " (u'fantastic', 0.6803176999092102),\n",
       " (u'fabulous', 0.6687726974487305),\n",
       " (u'incredible', 0.6651450991630554),\n",
       " (u'great', 0.6244757175445557),\n",
       " (u'unbeatable', 0.6076033115386963),\n",
       " (u'phenomenal', 0.6069279313087463),\n",
       " (u'terrific', 0.5911704301834106)]"
      ]
     },
     "execution_count": 12,
     "metadata": {},
     "output_type": "execute_result"
    }
   ],
   "source": [
    "model.most_similar(\"awesome\")"
   ]
  },
  {
   "cell_type": "code",
   "execution_count": 10,
   "metadata": {
    "collapsed": false
   },
   "outputs": [
    {
     "data": {
      "text/plain": [
       "[(u'pepperoni', 0.5435189604759216),\n",
       " (u'pizzas', 0.5177438259124756),\n",
       " (u'crust', 0.5149180889129639),\n",
       " (u'margherita', 0.4947345554828644),\n",
       " (u'pie', 0.47431910037994385),\n",
       " (u'wings', 0.4478134512901306),\n",
       " (u'neapolitan', 0.44461575150489807),\n",
       " (u'pasta', 0.4445711374282837),\n",
       " (u'stromboli', 0.42378923296928406),\n",
       " (u'mozzarella', 0.41436484456062317)]"
      ]
     },
     "execution_count": 10,
     "metadata": {},
     "output_type": "execute_result"
    }
   ],
   "source": [
    "model.most_similar(\"pizza\")"
   ]
  },
  {
   "cell_type": "code",
   "execution_count": 4,
   "metadata": {
    "collapsed": false
   },
   "outputs": [
    {
     "data": {
      "text/plain": [
       "[(u'beers', 0.7111819982528687),\n",
       " (u'draft', 0.6070507168769836),\n",
       " (u'wine', 0.6062905192375183),\n",
       " (u'drafts', 0.5826494693756104),\n",
       " (u'brews', 0.5793382525444031),\n",
       " (u'ipa', 0.578469455242157),\n",
       " (u'pint', 0.5771774649620056),\n",
       " (u'craft', 0.5672218203544617),\n",
       " (u'brew', 0.559675931930542),\n",
       " (u'tap', 0.5509968400001526)]"
      ]
     },
     "execution_count": 4,
     "metadata": {},
     "output_type": "execute_result"
    }
   ],
   "source": [
    "model.most_similar(\"beer\")"
   ]
  },
  {
   "cell_type": "code",
   "execution_count": 6,
   "metadata": {
    "collapsed": false
   },
   "outputs": [
    {
     "data": {
      "text/plain": [
       "[(u'fantastic', 0.8443286418914795),\n",
       " (u'wonderful', 0.7955607175827026),\n",
       " (u'terrific', 0.7933611273765564),\n",
       " (u'fabulous', 0.7540406584739685),\n",
       " (u'good', 0.7312899231910706),\n",
       " (u'excellent', 0.7246370911598206),\n",
       " (u'awesome', 0.7195494174957275),\n",
       " (u'phenomenal', 0.7028565406799316),\n",
       " (u'superb', 0.6976917386054993),\n",
       " (u'amazing', 0.6795844435691833)]"
      ]
     },
     "execution_count": 6,
     "metadata": {},
     "output_type": "execute_result"
    }
   ],
   "source": [
    "model.most_similar(\"great\")"
   ]
  },
  {
   "cell_type": "code",
   "execution_count": 7,
   "metadata": {
    "collapsed": false
   },
   "outputs": [
    {
     "data": {
      "text/plain": [
       "[(u'cuisine', 0.43188926577568054),\n",
       " (u'foods', 0.4108291268348694),\n",
       " (u'cusine', 0.40695491433143616),\n",
       " (u'cuisines', 0.3344745635986328),\n",
       " (u'delicacies', 0.32621604204177856),\n",
       " (u'traditionally', 0.32172688841819763),\n",
       " (u'delicacy', 0.30805501341819763),\n",
       " (u'dishes', 0.3066617548465729),\n",
       " (u'delights', 0.30346646904945374),\n",
       " (u'fare', 0.2872616946697235)]"
      ]
     },
     "execution_count": 7,
     "metadata": {},
     "output_type": "execute_result"
    }
   ],
   "source": [
    "model.most_similar(positive= [\"food\"] ,negative = [\"service\"])"
   ]
  },
  {
   "cell_type": "code",
   "execution_count": 18,
   "metadata": {
    "collapsed": false
   },
   "outputs": [
    {
     "data": {
      "text/plain": [
       "[(u'extremely', 0.7696152925491333),\n",
       " (u'super', 0.6704330444335938),\n",
       " (u'incredibly', 0.6338322758674622),\n",
       " (u'quite', 0.5965129137039185),\n",
       " (u'fairly', 0.5748721361160278),\n",
       " (u'pretty', 0.5605811476707458),\n",
       " (u'sooo', 0.5462443232536316),\n",
       " (u'exceptionally', 0.5125430226325989),\n",
       " (u'amazingly', 0.4971260130405426),\n",
       " (u'sooooo', 0.46890562772750854)]"
      ]
     },
     "execution_count": 18,
     "metadata": {},
     "output_type": "execute_result"
    }
   ],
   "source": [
    "model.most_similar(\"very\")"
   ]
  },
  {
   "cell_type": "code",
   "execution_count": 19,
   "metadata": {
    "collapsed": false
   },
   "outputs": [
    {
     "data": {
      "text/plain": [
       "[(u'fuck', 0.4873337149620056),\n",
       " (u'anyway', 0.47939881682395935),\n",
       " (u'mad', 0.4696158766746521),\n",
       " (u'yea', 0.4663986265659332),\n",
       " (u'kinda', 0.4610860347747803),\n",
       " (u'drunk', 0.41878291964530945),\n",
       " (u'sorry', 0.4133502244949341),\n",
       " (u'yeah', 0.41302165389060974),\n",
       " (u'kidding', 0.41151171922683716),\n",
       " (u'anyways', 0.40970224142074585)]"
      ]
     },
     "execution_count": 19,
     "metadata": {},
     "output_type": "execute_result"
    }
   ],
   "source": [
    "model.most_similar(\"lol\")"
   ]
  },
  {
   "cell_type": "code",
   "execution_count": 8,
   "metadata": {
    "collapsed": false
   },
   "outputs": [
    {
     "data": {
      "text/plain": [
       "[(u'resturant', 0.7518532872200012),\n",
       " (u'establishment', 0.7483794093132019),\n",
       " (u'place', 0.7168595194816589),\n",
       " (u'eatery', 0.683251142501831),\n",
       " (u'joint', 0.681903064250946),\n",
       " (u'resto', 0.6742333769798279),\n",
       " (u'restaraunt', 0.6698898673057556),\n",
       " (u'restraunt', 0.6442806720733643),\n",
       " (u'restuarant', 0.6432080864906311),\n",
       " (u'steakhouse', 0.6061412692070007)]"
      ]
     },
     "execution_count": 8,
     "metadata": {},
     "output_type": "execute_result"
    }
   ],
   "source": [
    "model.most_similar('restaurant')"
   ]
  },
  {
   "cell_type": "markdown",
   "metadata": {},
   "source": [
    "## Word2Vec Visualization Using PCA"
   ]
  },
  {
   "cell_type": "code",
   "execution_count": 11,
   "metadata": {
    "collapsed": false
   },
   "outputs": [],
   "source": [
    "import numpy as np"
   ]
  },
  {
   "cell_type": "code",
   "execution_count": 12,
   "metadata": {
    "collapsed": false
   },
   "outputs": [
    {
     "data": {
      "image/png": "[encoded data removed]",
      "text/plain": [
       "<matplotlib.figure.Figure at 0x170ac4e0>"
      ]
     },
     "metadata": {},
     "output_type": "display_data"
    }
   ],
   "source": [
    "from matplotlib import pylab\n",
    "\n",
    "from sklearn.decomposition import PCA\n",
    "import numpy as np\n",
    "def plot(words,sm):\n",
    "  %matplotlib inline\n",
    "  embeddings = [model[w] for w in words]\n",
    "  \n",
    "  pca = PCA(n_components=2)  \n",
    "  two_d_embeddings = pca.fit_transform(embeddings)\n",
    "   \n",
    "  pylab.figure(figsize=(7,7))  # in inches\n",
    "   \n",
    "  for i, label in enumerate(words):\n",
    "    x, y = two_d_embeddings[i,:]\n",
    "    pylab.scatter(x, y,s=170, color=np.random.rand(3))\n",
    "    pylab.suptitle('Words similar to '+sm, fontsize=14, fontweight='bold')\n",
    "    pylab.annotate(label, xy=(x, y), xytext=(20,10), textcoords='offset points', ha='right', va='bottom',fontsize = 14)\n",
    "  pylab.show()\n",
    "\n",
    "plot([w[0] for w in model.most_similar('food')],\"food\")\n"
   ]
  },
  {
   "cell_type": "code",
   "execution_count": 13,
   "metadata": {
    "collapsed": false
   },
   "outputs": [
    {
     "data": {
      "image/png": "[encoded data removed]",
      "text/plain": [
       "<matplotlib.figure.Figure at 0x1c288860>"
      ]
     },
     "metadata": {},
     "output_type": "display_data"
    }
   ],
   "source": [
    "plot([w[0] for w in model.most_similar(['delicious'])],\"delicious\")"
   ]
  },
  {
   "cell_type": "code",
   "execution_count": 30,
   "metadata": {
    "collapsed": false
   },
   "outputs": [
    {
     "data": {
      "image/png": "[encoded data removed]",
      "text/plain": [
       "<matplotlib.figure.Figure at 0x1c74bfd0>"
      ]
     },
     "metadata": {},
     "output_type": "display_data"
    }
   ],
   "source": [
    "plot([w[0] for w in model.most_similar('great')],\"great\")\n"
   ]
  },
  {
   "cell_type": "code",
   "execution_count": 99,
   "metadata": {
    "collapsed": false
   },
   "outputs": [
    {
     "data": {
      "text/plain": [
       "[(u'atmosphere', 0.8843246102333069),\n",
       " (u'ambience', 0.88351970911026),\n",
       " (u'decor', 0.8292551040649414),\n",
       " (u'environment', 0.7528558373451233),\n",
       " (u'vibe', 0.7373777627944946),\n",
       " (u'cozy', 0.6912780404090881),\n",
       " (u'intimate', 0.686738908290863),\n",
       " (u'layout', 0.6818156838417053),\n",
       " (u'interior', 0.6805610656738281),\n",
       " (u'elegant', 0.6770901083946228)]"
      ]
     },
     "execution_count": 99,
     "metadata": {},
     "output_type": "execute_result"
    }
   ],
   "source": [
    "model.most_similar(\"ambiance\")\n"
   ]
  },
  {
   "cell_type": "code",
   "execution_count": null,
   "metadata": {
    "collapsed": true
   },
   "outputs": [],
   "source": []
  }
 ],
 "metadata": {
  "kernelspec": {
   "display_name": "Python 2",
   "language": "python",
   "name": "python2"
  },
  "language_info": {
   "codemirror_mode": {
    "name": "ipython",
    "version": 2
   },
   "file_extension": ".py",
   "mimetype": "text/x-python",
   "name": "python",
   "nbconvert_exporter": "python",
   "pygments_lexer": "ipython2",
   "version": "2.7.11"
  }
 },
 "nbformat": 4,
 "nbformat_minor": 0
}
