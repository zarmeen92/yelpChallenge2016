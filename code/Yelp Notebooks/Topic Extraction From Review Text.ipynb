{
 "cells": [
  {
   "cell_type": "code",
   "execution_count": null,
   "metadata": {
    "collapsed": true
   },
   "outputs": [],
   "source": [
    "import graphlab"
   ]
  },
  {
   "cell_type": "code",
   "execution_count": 2,
   "metadata": {
    "collapsed": false
   },
   "outputs": [
    {
     "name": "stdout",
     "output_type": "stream",
     "text": [
      "This non-commercial license of GraphLab Create is assigned to znasim@khi.iba.edu.pk and will expire on February 01, 2017. For commercial licensing options, visit https://dato.com/buy/.\n"
     ]
    },
    {
     "name": "stderr",
     "output_type": "stream",
     "text": [
      "2016-05-21 00:24:50,173 [INFO] graphlab.cython.cy_server, 176: GraphLab Create v1.9 started. Logging: C:\\Users\\znasim\\AppData\\Local\\Temp\\graphlab_server_1463772288.log.0\n"
     ]
    }
   ],
   "source": [
    "reviews = graphlab.load_sframe('review')"
   ]
  },
  {
   "cell_type": "code",
   "execution_count": 3,
   "metadata": {
    "collapsed": false
   },
   "outputs": [
    {
     "data": {
      "text/plain": [
       "2225213"
      ]
     },
     "execution_count": 3,
     "metadata": {},
     "output_type": "execute_result"
    }
   ],
   "source": [
    "reviews.num_rows()"
   ]
  },
  {
   "cell_type": "markdown",
   "metadata": {},
   "source": [
    "## Joining Review Data with Business Data"
   ]
  },
  {
   "cell_type": "code",
   "execution_count": 5,
   "metadata": {
    "collapsed": false
   },
   "outputs": [
    {
     "data": {
      "text/html": [
       "<pre>Finished parsing file C:\\Users\\znasim\\Documents\\YelpNotebooks\\yelp_academic_dataset_business.json</pre>"
      ],
      "text/plain": [
       "Finished parsing file C:\\Users\\znasim\\Documents\\YelpNotebooks\\yelp_academic_dataset_business.json"
      ]
     },
     "metadata": {},
     "output_type": "display_data"
    },
    {
     "data": {
      "text/html": [
       "<pre>Parsing completed. Parsed 100 lines in 1.032 secs.</pre>"
      ],
      "text/plain": [
       "Parsing completed. Parsed 100 lines in 1.032 secs."
      ]
     },
     "metadata": {},
     "output_type": "display_data"
    },
    {
     "name": "stdout",
     "output_type": "stream",
     "text": [
      "------------------------------------------------------\n",
      "Inferred types from first 100 line(s) of file as \n",
      "column_type_hints=[dict]\n",
      "If parsing fails due to incorrect types, you can correct\n",
      "the inferred type list above and pass it to read_csv in\n",
      "the column_type_hints argument\n",
      "------------------------------------------------------\n"
     ]
    },
    {
     "data": {
      "text/html": [
       "<pre>Read 59239 lines. Lines per second: 40381</pre>"
      ],
      "text/plain": [
       "Read 59239 lines. Lines per second: 40381"
      ]
     },
     "metadata": {},
     "output_type": "display_data"
    },
    {
     "data": {
      "text/html": [
       "<pre>Finished parsing file C:\\Users\\znasim\\Documents\\YelpNotebooks\\yelp_academic_dataset_business.json</pre>"
      ],
      "text/plain": [
       "Finished parsing file C:\\Users\\znasim\\Documents\\YelpNotebooks\\yelp_academic_dataset_business.json"
      ]
     },
     "metadata": {},
     "output_type": "display_data"
    },
    {
     "data": {
      "text/html": [
       "<pre>Parsing completed. Parsed 77445 lines in 1.586 secs.</pre>"
      ],
      "text/plain": [
       "Parsing completed. Parsed 77445 lines in 1.586 secs."
      ]
     },
     "metadata": {},
     "output_type": "display_data"
    }
   ],
   "source": [
    "business = graphlab.SFrame.read_json('yelp_academic_dataset_business.json',orient='lines')"
   ]
  },
  {
   "cell_type": "code",
   "execution_count": 6,
   "metadata": {
    "collapsed": false
   },
   "outputs": [
    {
     "data": {
      "text/html": [
       "<div style=\"max-height:1000px;max-width:1500px;overflow:auto;\"><table frame=\"box\" rules=\"cols\">\n",
       "    <tr>\n",
       "        <th style=\"padding-left: 1em; padding-right: 1em; text-align: center\">attributes</th>\n",
       "        <th style=\"padding-left: 1em; padding-right: 1em; text-align: center\">business_id</th>\n",
       "        <th style=\"padding-left: 1em; padding-right: 1em; text-align: center\">categories</th>\n",
       "        <th style=\"padding-left: 1em; padding-right: 1em; text-align: center\">city</th>\n",
       "    </tr>\n",
       "    <tr>\n",
       "        <td style=\"padding-left: 1em; padding-right: 1em; text-align: center; vertical-align: top\">{'Take-out': 'true',<br>'Drive-Thru': 'false', ...</td>\n",
       "        <td style=\"padding-left: 1em; padding-right: 1em; text-align: center; vertical-align: top\">5UmKMjUEUNdYWqANhGckJw</td>\n",
       "        <td style=\"padding-left: 1em; padding-right: 1em; text-align: center; vertical-align: top\">[Fast Food, Restaurants]</td>\n",
       "        <td style=\"padding-left: 1em; padding-right: 1em; text-align: center; vertical-align: top\">Dravosburg</td>\n",
       "    </tr>\n",
       "    <tr>\n",
       "        <td style=\"padding-left: 1em; padding-right: 1em; text-align: center; vertical-align: top\">{'Happy Hour': 'true',<br>'Accepts Credit Cards': ...</td>\n",
       "        <td style=\"padding-left: 1em; padding-right: 1em; text-align: center; vertical-align: top\">UsFtqoBl7naz8AVUBZMjQQ</td>\n",
       "        <td style=\"padding-left: 1em; padding-right: 1em; text-align: center; vertical-align: top\">[Nightlife]</td>\n",
       "        <td style=\"padding-left: 1em; padding-right: 1em; text-align: center; vertical-align: top\">Dravosburg</td>\n",
       "    </tr>\n",
       "    <tr>\n",
       "        <td style=\"padding-left: 1em; padding-right: 1em; text-align: center; vertical-align: top\">{}</td>\n",
       "        <td style=\"padding-left: 1em; padding-right: 1em; text-align: center; vertical-align: top\">3eu6MEFlq2Dg7bQh8QbdOg</td>\n",
       "        <td style=\"padding-left: 1em; padding-right: 1em; text-align: center; vertical-align: top\">[Auto Repair, Automotive]</td>\n",
       "        <td style=\"padding-left: 1em; padding-right: 1em; text-align: center; vertical-align: top\">Dravosburg</td>\n",
       "    </tr>\n",
       "    <tr>\n",
       "        <td style=\"padding-left: 1em; padding-right: 1em; text-align: center; vertical-align: top\">{'Good for Kids': 'true'}</td>\n",
       "        <td style=\"padding-left: 1em; padding-right: 1em; text-align: center; vertical-align: top\">cE27W9VPgO88Qxe4ol6y_g</td>\n",
       "        <td style=\"padding-left: 1em; padding-right: 1em; text-align: center; vertical-align: top\">[Active Life, Mini Golf,<br>Golf] ...</td>\n",
       "        <td style=\"padding-left: 1em; padding-right: 1em; text-align: center; vertical-align: top\">Bethel Park</td>\n",
       "    </tr>\n",
       "    <tr>\n",
       "        <td style=\"padding-left: 1em; padding-right: 1em; text-align: center; vertical-align: top\">{'Accepts Credit Cards':<br>'false', 'Price Range': ...</td>\n",
       "        <td style=\"padding-left: 1em; padding-right: 1em; text-align: center; vertical-align: top\">HZdLhv6COCleJMo7nPl-RA</td>\n",
       "        <td style=\"padding-left: 1em; padding-right: 1em; text-align: center; vertical-align: top\">[Shopping, Home Services,<br>Internet Service ...</td>\n",
       "        <td style=\"padding-left: 1em; padding-right: 1em; text-align: center; vertical-align: top\">Pittsburgh</td>\n",
       "    </tr>\n",
       "    <tr>\n",
       "        <td style=\"padding-left: 1em; padding-right: 1em; text-align: center; vertical-align: top\">{'Alcohol': 'full_bar',<br>'Noise Level': 'avera ...</td>\n",
       "        <td style=\"padding-left: 1em; padding-right: 1em; text-align: center; vertical-align: top\">mVHrayjG3uZ_RLHkLj-AMg</td>\n",
       "        <td style=\"padding-left: 1em; padding-right: 1em; text-align: center; vertical-align: top\">[Bars, American (New),<br>Nightlife, Lounges, ...</td>\n",
       "        <td style=\"padding-left: 1em; padding-right: 1em; text-align: center; vertical-align: top\">rankin</td>\n",
       "    </tr>\n",
       "    <tr>\n",
       "        <td style=\"padding-left: 1em; padding-right: 1em; text-align: center; vertical-align: top\">{'Good for Kids':<br>'false'} ...</td>\n",
       "        <td style=\"padding-left: 1em; padding-right: 1em; text-align: center; vertical-align: top\">VHYT1qgQw5JvXAlUDhTArA</td>\n",
       "        <td style=\"padding-left: 1em; padding-right: 1em; text-align: center; vertical-align: top\">[Active Life, Trainers,<br>Fitness &amp; Instruction] ...</td>\n",
       "        <td style=\"padding-left: 1em; padding-right: 1em; text-align: center; vertical-align: top\">Pittsburgh</td>\n",
       "    </tr>\n",
       "    <tr>\n",
       "        <td style=\"padding-left: 1em; padding-right: 1em; text-align: center; vertical-align: top\">{'Alcohol': 'full_bar',<br>'Noise Level': 'loud', ...</td>\n",
       "        <td style=\"padding-left: 1em; padding-right: 1em; text-align: center; vertical-align: top\">KayYbHCt-RkbGcPdGOThNg</td>\n",
       "        <td style=\"padding-left: 1em; padding-right: 1em; text-align: center; vertical-align: top\">[Bars, American<br>(Traditional), Nightl ...</td>\n",
       "        <td style=\"padding-left: 1em; padding-right: 1em; text-align: center; vertical-align: top\">Carnegie</td>\n",
       "    </tr>\n",
       "    <tr>\n",
       "        <td style=\"padding-left: 1em; padding-right: 1em; text-align: center; vertical-align: top\">{}</td>\n",
       "        <td style=\"padding-left: 1em; padding-right: 1em; text-align: center; vertical-align: top\">b12U9TFESStdy7CsTtcOeg</td>\n",
       "        <td style=\"padding-left: 1em; padding-right: 1em; text-align: center; vertical-align: top\">[Auto Repair, Automotive,<br>Tires] ...</td>\n",
       "        <td style=\"padding-left: 1em; padding-right: 1em; text-align: center; vertical-align: top\">Carnegie</td>\n",
       "    </tr>\n",
       "    <tr>\n",
       "        <td style=\"padding-left: 1em; padding-right: 1em; text-align: center; vertical-align: top\">{'Good for Kids': 'true'}</td>\n",
       "        <td style=\"padding-left: 1em; padding-right: 1em; text-align: center; vertical-align: top\">Sktj1eHQFuVa-M4bgnEh8g</td>\n",
       "        <td style=\"padding-left: 1em; padding-right: 1em; text-align: center; vertical-align: top\">[Active Life, Mini Golf]</td>\n",
       "        <td style=\"padding-left: 1em; padding-right: 1em; text-align: center; vertical-align: top\">Carnegie</td>\n",
       "    </tr>\n",
       "</table>\n",
       "<table frame=\"box\" rules=\"cols\">\n",
       "    <tr>\n",
       "        <th style=\"padding-left: 1em; padding-right: 1em; text-align: center\">full_address</th>\n",
       "        <th style=\"padding-left: 1em; padding-right: 1em; text-align: center\">hours</th>\n",
       "        <th style=\"padding-left: 1em; padding-right: 1em; text-align: center\">latitude</th>\n",
       "        <th style=\"padding-left: 1em; padding-right: 1em; text-align: center\">longitude</th>\n",
       "        <th style=\"padding-left: 1em; padding-right: 1em; text-align: center\">name</th>\n",
       "    </tr>\n",
       "    <tr>\n",
       "        <td style=\"padding-left: 1em; padding-right: 1em; text-align: center; vertical-align: top\">4734 Lebanon Church<br>Rd\\nDravosburg, PA 15034 ...</td>\n",
       "        <td style=\"padding-left: 1em; padding-right: 1em; text-align: center; vertical-align: top\">{'Tuesday': {'close':<br>'21:00', 'open': ...</td>\n",
       "        <td style=\"padding-left: 1em; padding-right: 1em; text-align: center; vertical-align: top\">40.3543266</td>\n",
       "        <td style=\"padding-left: 1em; padding-right: 1em; text-align: center; vertical-align: top\">-79.9007057</td>\n",
       "        <td style=\"padding-left: 1em; padding-right: 1em; text-align: center; vertical-align: top\">Mr Hoagie</td>\n",
       "    </tr>\n",
       "    <tr>\n",
       "        <td style=\"padding-left: 1em; padding-right: 1em; text-align: center; vertical-align: top\">202 McClure<br>St\\nDravosburg, PA 15034 ...</td>\n",
       "        <td style=\"padding-left: 1em; padding-right: 1em; text-align: center; vertical-align: top\">{}</td>\n",
       "        <td style=\"padding-left: 1em; padding-right: 1em; text-align: center; vertical-align: top\">40.3505527</td>\n",
       "        <td style=\"padding-left: 1em; padding-right: 1em; text-align: center; vertical-align: top\">-79.8868138</td>\n",
       "        <td style=\"padding-left: 1em; padding-right: 1em; text-align: center; vertical-align: top\">Clancy's Pub</td>\n",
       "    </tr>\n",
       "    <tr>\n",
       "        <td style=\"padding-left: 1em; padding-right: 1em; text-align: center; vertical-align: top\">1 Ravine St\\nDravosburg,<br>PA 15034 ...</td>\n",
       "        <td style=\"padding-left: 1em; padding-right: 1em; text-align: center; vertical-align: top\">{}</td>\n",
       "        <td style=\"padding-left: 1em; padding-right: 1em; text-align: center; vertical-align: top\">40.3509559</td>\n",
       "        <td style=\"padding-left: 1em; padding-right: 1em; text-align: center; vertical-align: top\">-79.889059</td>\n",
       "        <td style=\"padding-left: 1em; padding-right: 1em; text-align: center; vertical-align: top\">Joe Cislo's Auto</td>\n",
       "    </tr>\n",
       "    <tr>\n",
       "        <td style=\"padding-left: 1em; padding-right: 1em; text-align: center; vertical-align: top\">1530 Hamilton Rd\\nBethel<br>Park, PA 15234 ...</td>\n",
       "        <td style=\"padding-left: 1em; padding-right: 1em; text-align: center; vertical-align: top\">{}</td>\n",
       "        <td style=\"padding-left: 1em; padding-right: 1em; text-align: center; vertical-align: top\">40.3541155</td>\n",
       "        <td style=\"padding-left: 1em; padding-right: 1em; text-align: center; vertical-align: top\">-80.0146597</td>\n",
       "        <td style=\"padding-left: 1em; padding-right: 1em; text-align: center; vertical-align: top\">Cool Springs Golf Center</td>\n",
       "    </tr>\n",
       "    <tr>\n",
       "        <td style=\"padding-left: 1em; padding-right: 1em; text-align: center; vertical-align: top\">301 South Hills<br>Village\\nPittsburgh, PA ...</td>\n",
       "        <td style=\"padding-left: 1em; padding-right: 1em; text-align: center; vertical-align: top\">{'Monday': {'close':<br>'21:00', 'open': ...</td>\n",
       "        <td style=\"padding-left: 1em; padding-right: 1em; text-align: center; vertical-align: top\">40.35762</td>\n",
       "        <td style=\"padding-left: 1em; padding-right: 1em; text-align: center; vertical-align: top\">-80.05998</td>\n",
       "        <td style=\"padding-left: 1em; padding-right: 1em; text-align: center; vertical-align: top\">Verizon</td>\n",
       "    </tr>\n",
       "    <tr>\n",
       "        <td style=\"padding-left: 1em; padding-right: 1em; text-align: center; vertical-align: top\">414 Hawkins Ave\\nrankin,<br>PA 15104 ...</td>\n",
       "        <td style=\"padding-left: 1em; padding-right: 1em; text-align: center; vertical-align: top\">{'Tuesday': {'close':<br>'19:00', 'open': ...</td>\n",
       "        <td style=\"padding-left: 1em; padding-right: 1em; text-align: center; vertical-align: top\">40.4134643</td>\n",
       "        <td style=\"padding-left: 1em; padding-right: 1em; text-align: center; vertical-align: top\">-79.8802474</td>\n",
       "        <td style=\"padding-left: 1em; padding-right: 1em; text-align: center; vertical-align: top\">Emil's Lounge</td>\n",
       "    </tr>\n",
       "    <tr>\n",
       "        <td style=\"padding-left: 1em; padding-right: 1em; text-align: center; vertical-align: top\">2101 Greentree Rd Ste<br>B201\\nPittsburgh, PA ...</td>\n",
       "        <td style=\"padding-left: 1em; padding-right: 1em; text-align: center; vertical-align: top\">{}</td>\n",
       "        <td style=\"padding-left: 1em; padding-right: 1em; text-align: center; vertical-align: top\">40.3903858</td>\n",
       "        <td style=\"padding-left: 1em; padding-right: 1em; text-align: center; vertical-align: top\">-80.0708968</td>\n",
       "        <td style=\"padding-left: 1em; padding-right: 1em; text-align: center; vertical-align: top\">Extreme Fitness 2</td>\n",
       "    </tr>\n",
       "    <tr>\n",
       "        <td style=\"padding-left: 1em; padding-right: 1em; text-align: center; vertical-align: top\">141 Hawthorne<br>St\\nGreentree\\nCarnegie, ...</td>\n",
       "        <td style=\"padding-left: 1em; padding-right: 1em; text-align: center; vertical-align: top\">{'Monday': {'close':<br>'02:00', 'open': ...</td>\n",
       "        <td style=\"padding-left: 1em; padding-right: 1em; text-align: center; vertical-align: top\">40.415517</td>\n",
       "        <td style=\"padding-left: 1em; padding-right: 1em; text-align: center; vertical-align: top\">-80.067534</td>\n",
       "        <td style=\"padding-left: 1em; padding-right: 1em; text-align: center; vertical-align: top\">Alexion's Bar &amp; Grill</td>\n",
       "    </tr>\n",
       "    <tr>\n",
       "        <td style=\"padding-left: 1em; padding-right: 1em; text-align: center; vertical-align: top\">718A Hope Hollow<br>Rd\\nCarnegie, PA 15106 ...</td>\n",
       "        <td style=\"padding-left: 1em; padding-right: 1em; text-align: center; vertical-align: top\">{'Monday': {'close':<br>'19:00', 'open': ...</td>\n",
       "        <td style=\"padding-left: 1em; padding-right: 1em; text-align: center; vertical-align: top\">40.394588</td>\n",
       "        <td style=\"padding-left: 1em; padding-right: 1em; text-align: center; vertical-align: top\">-80.0844539</td>\n",
       "        <td style=\"padding-left: 1em; padding-right: 1em; text-align: center; vertical-align: top\">Flynn's Tire And Auto<br>Service ...</td>\n",
       "    </tr>\n",
       "    <tr>\n",
       "        <td style=\"padding-left: 1em; padding-right: 1em; text-align: center; vertical-align: top\">920 Forsythe<br>Rd\\nCarnegie\\nCarnegie, ...</td>\n",
       "        <td style=\"padding-left: 1em; padding-right: 1em; text-align: center; vertical-align: top\">{}</td>\n",
       "        <td style=\"padding-left: 1em; padding-right: 1em; text-align: center; vertical-align: top\">40.4054039</td>\n",
       "        <td style=\"padding-left: 1em; padding-right: 1em; text-align: center; vertical-align: top\">-80.0762665</td>\n",
       "        <td style=\"padding-left: 1em; padding-right: 1em; text-align: center; vertical-align: top\">Forsythe Miniature Golf &amp;<br>Snacks ...</td>\n",
       "    </tr>\n",
       "</table>\n",
       "<table frame=\"box\" rules=\"cols\">\n",
       "    <tr>\n",
       "        <th style=\"padding-left: 1em; padding-right: 1em; text-align: center\">neighborhoods</th>\n",
       "        <th style=\"padding-left: 1em; padding-right: 1em; text-align: center\">open</th>\n",
       "        <th style=\"padding-left: 1em; padding-right: 1em; text-align: center\">review_count</th>\n",
       "        <th style=\"padding-left: 1em; padding-right: 1em; text-align: center\">stars</th>\n",
       "        <th style=\"padding-left: 1em; padding-right: 1em; text-align: center\">state</th>\n",
       "        <th style=\"padding-left: 1em; padding-right: 1em; text-align: center\">type</th>\n",
       "    </tr>\n",
       "    <tr>\n",
       "        <td style=\"padding-left: 1em; padding-right: 1em; text-align: center; vertical-align: top\">[]</td>\n",
       "        <td style=\"padding-left: 1em; padding-right: 1em; text-align: center; vertical-align: top\">true</td>\n",
       "        <td style=\"padding-left: 1em; padding-right: 1em; text-align: center; vertical-align: top\">4</td>\n",
       "        <td style=\"padding-left: 1em; padding-right: 1em; text-align: center; vertical-align: top\">4.5</td>\n",
       "        <td style=\"padding-left: 1em; padding-right: 1em; text-align: center; vertical-align: top\">PA</td>\n",
       "        <td style=\"padding-left: 1em; padding-right: 1em; text-align: center; vertical-align: top\">business</td>\n",
       "    </tr>\n",
       "    <tr>\n",
       "        <td style=\"padding-left: 1em; padding-right: 1em; text-align: center; vertical-align: top\">[]</td>\n",
       "        <td style=\"padding-left: 1em; padding-right: 1em; text-align: center; vertical-align: top\">true</td>\n",
       "        <td style=\"padding-left: 1em; padding-right: 1em; text-align: center; vertical-align: top\">4</td>\n",
       "        <td style=\"padding-left: 1em; padding-right: 1em; text-align: center; vertical-align: top\">3.5</td>\n",
       "        <td style=\"padding-left: 1em; padding-right: 1em; text-align: center; vertical-align: top\">PA</td>\n",
       "        <td style=\"padding-left: 1em; padding-right: 1em; text-align: center; vertical-align: top\">business</td>\n",
       "    </tr>\n",
       "    <tr>\n",
       "        <td style=\"padding-left: 1em; padding-right: 1em; text-align: center; vertical-align: top\">[]</td>\n",
       "        <td style=\"padding-left: 1em; padding-right: 1em; text-align: center; vertical-align: top\">true</td>\n",
       "        <td style=\"padding-left: 1em; padding-right: 1em; text-align: center; vertical-align: top\">3</td>\n",
       "        <td style=\"padding-left: 1em; padding-right: 1em; text-align: center; vertical-align: top\">5.0</td>\n",
       "        <td style=\"padding-left: 1em; padding-right: 1em; text-align: center; vertical-align: top\">PA</td>\n",
       "        <td style=\"padding-left: 1em; padding-right: 1em; text-align: center; vertical-align: top\">business</td>\n",
       "    </tr>\n",
       "    <tr>\n",
       "        <td style=\"padding-left: 1em; padding-right: 1em; text-align: center; vertical-align: top\">[]</td>\n",
       "        <td style=\"padding-left: 1em; padding-right: 1em; text-align: center; vertical-align: top\">false</td>\n",
       "        <td style=\"padding-left: 1em; padding-right: 1em; text-align: center; vertical-align: top\">5</td>\n",
       "        <td style=\"padding-left: 1em; padding-right: 1em; text-align: center; vertical-align: top\">2.5</td>\n",
       "        <td style=\"padding-left: 1em; padding-right: 1em; text-align: center; vertical-align: top\">PA</td>\n",
       "        <td style=\"padding-left: 1em; padding-right: 1em; text-align: center; vertical-align: top\">business</td>\n",
       "    </tr>\n",
       "    <tr>\n",
       "        <td style=\"padding-left: 1em; padding-right: 1em; text-align: center; vertical-align: top\">[]</td>\n",
       "        <td style=\"padding-left: 1em; padding-right: 1em; text-align: center; vertical-align: top\">true</td>\n",
       "        <td style=\"padding-left: 1em; padding-right: 1em; text-align: center; vertical-align: top\">5</td>\n",
       "        <td style=\"padding-left: 1em; padding-right: 1em; text-align: center; vertical-align: top\">2.5</td>\n",
       "        <td style=\"padding-left: 1em; padding-right: 1em; text-align: center; vertical-align: top\">PA</td>\n",
       "        <td style=\"padding-left: 1em; padding-right: 1em; text-align: center; vertical-align: top\">business</td>\n",
       "    </tr>\n",
       "    <tr>\n",
       "        <td style=\"padding-left: 1em; padding-right: 1em; text-align: center; vertical-align: top\">[]</td>\n",
       "        <td style=\"padding-left: 1em; padding-right: 1em; text-align: center; vertical-align: top\">true</td>\n",
       "        <td style=\"padding-left: 1em; padding-right: 1em; text-align: center; vertical-align: top\">20</td>\n",
       "        <td style=\"padding-left: 1em; padding-right: 1em; text-align: center; vertical-align: top\">5.0</td>\n",
       "        <td style=\"padding-left: 1em; padding-right: 1em; text-align: center; vertical-align: top\">PA</td>\n",
       "        <td style=\"padding-left: 1em; padding-right: 1em; text-align: center; vertical-align: top\">business</td>\n",
       "    </tr>\n",
       "    <tr>\n",
       "        <td style=\"padding-left: 1em; padding-right: 1em; text-align: center; vertical-align: top\">[]</td>\n",
       "        <td style=\"padding-left: 1em; padding-right: 1em; text-align: center; vertical-align: top\">true</td>\n",
       "        <td style=\"padding-left: 1em; padding-right: 1em; text-align: center; vertical-align: top\">3</td>\n",
       "        <td style=\"padding-left: 1em; padding-right: 1em; text-align: center; vertical-align: top\">2.5</td>\n",
       "        <td style=\"padding-left: 1em; padding-right: 1em; text-align: center; vertical-align: top\">PA</td>\n",
       "        <td style=\"padding-left: 1em; padding-right: 1em; text-align: center; vertical-align: top\">business</td>\n",
       "    </tr>\n",
       "    <tr>\n",
       "        <td style=\"padding-left: 1em; padding-right: 1em; text-align: center; vertical-align: top\">[Greentree]</td>\n",
       "        <td style=\"padding-left: 1em; padding-right: 1em; text-align: center; vertical-align: top\">true</td>\n",
       "        <td style=\"padding-left: 1em; padding-right: 1em; text-align: center; vertical-align: top\">21</td>\n",
       "        <td style=\"padding-left: 1em; padding-right: 1em; text-align: center; vertical-align: top\">4.0</td>\n",
       "        <td style=\"padding-left: 1em; padding-right: 1em; text-align: center; vertical-align: top\">PA</td>\n",
       "        <td style=\"padding-left: 1em; padding-right: 1em; text-align: center; vertical-align: top\">business</td>\n",
       "    </tr>\n",
       "    <tr>\n",
       "        <td style=\"padding-left: 1em; padding-right: 1em; text-align: center; vertical-align: top\">[]</td>\n",
       "        <td style=\"padding-left: 1em; padding-right: 1em; text-align: center; vertical-align: top\">true</td>\n",
       "        <td style=\"padding-left: 1em; padding-right: 1em; text-align: center; vertical-align: top\">7</td>\n",
       "        <td style=\"padding-left: 1em; padding-right: 1em; text-align: center; vertical-align: top\">2.5</td>\n",
       "        <td style=\"padding-left: 1em; padding-right: 1em; text-align: center; vertical-align: top\">PA</td>\n",
       "        <td style=\"padding-left: 1em; padding-right: 1em; text-align: center; vertical-align: top\">business</td>\n",
       "    </tr>\n",
       "    <tr>\n",
       "        <td style=\"padding-left: 1em; padding-right: 1em; text-align: center; vertical-align: top\">[Carnegie]</td>\n",
       "        <td style=\"padding-left: 1em; padding-right: 1em; text-align: center; vertical-align: top\">false</td>\n",
       "        <td style=\"padding-left: 1em; padding-right: 1em; text-align: center; vertical-align: top\">4</td>\n",
       "        <td style=\"padding-left: 1em; padding-right: 1em; text-align: center; vertical-align: top\">4.0</td>\n",
       "        <td style=\"padding-left: 1em; padding-right: 1em; text-align: center; vertical-align: top\">PA</td>\n",
       "        <td style=\"padding-left: 1em; padding-right: 1em; text-align: center; vertical-align: top\">business</td>\n",
       "    </tr>\n",
       "</table>\n",
       "[10 rows x 15 columns]<br/>\n",
       "</div>"
      ],
      "text/plain": [
       "Columns:\n",
       "\tattributes\tdict\n",
       "\tbusiness_id\tstr\n",
       "\tcategories\tlist\n",
       "\tcity\tstr\n",
       "\tfull_address\tstr\n",
       "\thours\tdict\n",
       "\tlatitude\tfloat\n",
       "\tlongitude\tfloat\n",
       "\tname\tstr\n",
       "\tneighborhoods\tlist\n",
       "\topen\tstr\n",
       "\treview_count\tint\n",
       "\tstars\tfloat\n",
       "\tstate\tstr\n",
       "\ttype\tstr\n",
       "\n",
       "Rows: 10\n",
       "\n",
       "Data:\n",
       "+-------------------------------+------------------------+\n",
       "|           attributes          |      business_id       |\n",
       "+-------------------------------+------------------------+\n",
       "| {'Take-out': 'true', 'Driv... | 5UmKMjUEUNdYWqANhGckJw |\n",
       "| {'Happy Hour': 'true', 'Ac... | UsFtqoBl7naz8AVUBZMjQQ |\n",
       "|               {}              | 3eu6MEFlq2Dg7bQh8QbdOg |\n",
       "|   {'Good for Kids': 'true'}   | cE27W9VPgO88Qxe4ol6y_g |\n",
       "| {'Accepts Credit Cards': '... | HZdLhv6COCleJMo7nPl-RA |\n",
       "| {'Alcohol': 'full_bar', 'N... | mVHrayjG3uZ_RLHkLj-AMg |\n",
       "|   {'Good for Kids': 'false'}  | VHYT1qgQw5JvXAlUDhTArA |\n",
       "| {'Alcohol': 'full_bar', 'N... | KayYbHCt-RkbGcPdGOThNg |\n",
       "|               {}              | b12U9TFESStdy7CsTtcOeg |\n",
       "|   {'Good for Kids': 'true'}   | Sktj1eHQFuVa-M4bgnEh8g |\n",
       "+-------------------------------+------------------------+\n",
       "+--------------------------------+-------------+-------------------------------+\n",
       "|           categories           |     city    |          full_address         |\n",
       "+--------------------------------+-------------+-------------------------------+\n",
       "|    [Fast Food, Restaurants]    |  Dravosburg | 4734 Lebanon Church Rd\\nDr... |\n",
       "|          [Nightlife]           |  Dravosburg | 202 McClure St\\nDravosburg... |\n",
       "|   [Auto Repair, Automotive]    |  Dravosburg | 1 Ravine St\\nDravosburg, P... |\n",
       "| [Active Life, Mini Golf, Golf] | Bethel Park | 1530 Hamilton Rd\\nBethel P... |\n",
       "| [Shopping, Home Services, ...  |  Pittsburgh | 301 South Hills Village\\nP... |\n",
       "| [Bars, American (New), Nig...  |    rankin   | 414 Hawkins Ave\\nrankin, P... |\n",
       "| [Active Life, Trainers, Fi...  |  Pittsburgh | 2101 Greentree Rd Ste B201... |\n",
       "| [Bars, American (Tradition...  |   Carnegie  | 141 Hawthorne St\\nGreentre... |\n",
       "| [Auto Repair, Automotive, ...  |   Carnegie  | 718A Hope Hollow Rd\\nCarne... |\n",
       "|    [Active Life, Mini Golf]    |   Carnegie  | 920 Forsythe Rd\\nCarnegie\\... |\n",
       "+--------------------------------+-------------+-------------------------------+\n",
       "+-------------------------------+------------+-------------+\n",
       "|             hours             |  latitude  |  longitude  |\n",
       "+-------------------------------+------------+-------------+\n",
       "| {'Tuesday': {'close': '21:... | 40.3543266 | -79.9007057 |\n",
       "|               {}              | 40.3505527 | -79.8868138 |\n",
       "|               {}              | 40.3509559 |  -79.889059 |\n",
       "|               {}              | 40.3541155 | -80.0146597 |\n",
       "| {'Monday': {'close': '21:0... |  40.35762  |  -80.05998  |\n",
       "| {'Tuesday': {'close': '19:... | 40.4134643 | -79.8802474 |\n",
       "|               {}              | 40.3903858 | -80.0708968 |\n",
       "| {'Monday': {'close': '02:0... | 40.415517  |  -80.067534 |\n",
       "| {'Monday': {'close': '19:0... | 40.394588  | -80.0844539 |\n",
       "|               {}              | 40.4054039 | -80.0762665 |\n",
       "+-------------------------------+------------+-------------+\n",
       "+-------------------------------+---------------+-------+--------------+-------+\n",
       "|              name             | neighborhoods |  open | review_count | stars |\n",
       "+-------------------------------+---------------+-------+--------------+-------+\n",
       "|           Mr Hoagie           |       []      |  true |      4       |  4.5  |\n",
       "|          Clancy's Pub         |       []      |  true |      4       |  3.5  |\n",
       "|        Joe Cislo's Auto       |       []      |  true |      3       |  5.0  |\n",
       "|    Cool Springs Golf Center   |       []      | false |      5       |  2.5  |\n",
       "|            Verizon            |       []      |  true |      5       |  2.5  |\n",
       "|         Emil's Lounge         |       []      |  true |      20      |  5.0  |\n",
       "|       Extreme Fitness 2       |       []      |  true |      3       |  2.5  |\n",
       "|     Alexion's Bar & Grill     |  [Greentree]  |  true |      21      |  4.0  |\n",
       "| Flynn's Tire And Auto Service |       []      |  true |      7       |  2.5  |\n",
       "| Forsythe Miniature Golf & ... |   [Carnegie]  | false |      4       |  4.0  |\n",
       "+-------------------------------+---------------+-------+--------------+-------+\n",
       "+-------+----------+\n",
       "| state |   type   |\n",
       "+-------+----------+\n",
       "|   PA  | business |\n",
       "|   PA  | business |\n",
       "|   PA  | business |\n",
       "|   PA  | business |\n",
       "|   PA  | business |\n",
       "|   PA  | business |\n",
       "|   PA  | business |\n",
       "|   PA  | business |\n",
       "|   PA  | business |\n",
       "|   PA  | business |\n",
       "+-------+----------+\n",
       "[10 rows x 15 columns]"
      ]
     },
     "execution_count": 6,
     "metadata": {},
     "output_type": "execute_result"
    }
   ],
   "source": [
    "business.head()"
   ]
  },
  {
   "cell_type": "code",
   "execution_count": 7,
   "metadata": {
    "collapsed": false
   },
   "outputs": [
    {
     "data": {
      "text/plain": [
       "77445"
      ]
     },
     "execution_count": 7,
     "metadata": {},
     "output_type": "execute_result"
    }
   ],
   "source": [
    "business.num_rows()"
   ]
  },
  {
   "cell_type": "code",
   "execution_count": 26,
   "metadata": {
    "collapsed": false
   },
   "outputs": [],
   "source": [
    "review_business = reviews.join(business, how='inner', on='business_id')"
   ]
  },
  {
   "cell_type": "code",
   "execution_count": 29,
   "metadata": {
    "collapsed": false
   },
   "outputs": [],
   "source": [
    "# Saving joined table\n",
    "review_business.save('review_business')"
   ]
  },
  {
   "cell_type": "code",
   "execution_count": 30,
   "metadata": {
    "collapsed": false
   },
   "outputs": [
    {
     "data": {
      "text/plain": [
       "2225213"
      ]
     },
     "execution_count": 30,
     "metadata": {},
     "output_type": "execute_result"
    }
   ],
   "source": [
    "review_business.num_rows()"
   ]
  },
  {
   "cell_type": "markdown",
   "metadata": {},
   "source": [
    "## Data Partition into Training and Testing Set"
   ]
  },
  {
   "cell_type": "code",
   "execution_count": 31,
   "metadata": {
    "collapsed": true
   },
   "outputs": [],
   "source": [
    "train_rev,test_rev = review_business.random_split(0.6,seed = 0)"
   ]
  },
  {
   "cell_type": "markdown",
   "metadata": {},
   "source": [
    "## Data Cleaning"
   ]
  },
  {
   "cell_type": "code",
   "execution_count": 32,
   "metadata": {
    "collapsed": true
   },
   "outputs": [],
   "source": [
    "import nltk\n",
    "stopwords = nltk.corpus.stopwords.words('english')\n",
    "import re\n",
    "def review_to_words( raw_review ):\n",
    "    # Function to convert a raw review to a string of words\n",
    "    # The input is a single string (a raw movie review), and \n",
    "    # the output is a single string (a preprocessed movie review)\n",
    "    # 1. Remove non-letters        \n",
    "    letters_only = re.sub(\"[^a-zA-Z]\", \" \",raw_review) \n",
    "    #\n",
    "    # 3. Convert to lower case, split into individual words\n",
    "    words = letters_only.lower().split()\n",
    "    cleanwords = []\n",
    "    for word in words:\n",
    "        if(word not in stopwords and len(word) > 2):\n",
    "            cleanwords.append(word)\n",
    "    return( \" \".join( cleanwords ))   "
   ]
  },
  {
   "cell_type": "code",
   "execution_count": 33,
   "metadata": {
    "collapsed": true
   },
   "outputs": [],
   "source": [
    "train_rev['preprocessedText'] = train_rev['text'].apply(review_to_words)\n",
    "test_rev['preprocessedText'] = test_rev['text'].apply(review_to_words)"
   ]
  },
  {
   "cell_type": "markdown",
   "metadata": {},
   "source": [
    "## Tokenization"
   ]
  },
  {
   "cell_type": "code",
   "execution_count": 34,
   "metadata": {
    "collapsed": true
   },
   "outputs": [],
   "source": [
    "reviews_train = graphlab.text_analytics.count_words(train_rev['preprocessedText'])\n"
   ]
  },
  {
   "cell_type": "code",
   "execution_count": 35,
   "metadata": {
    "collapsed": false
   },
   "outputs": [],
   "source": [
    "reviews_test = graphlab.text_analytics.count_words(test_rev['preprocessedText'])\n"
   ]
  },
  {
   "cell_type": "markdown",
   "metadata": {},
   "source": [
    "## Learning Topic Model"
   ]
  },
  {
   "cell_type": "code",
   "execution_count": 36,
   "metadata": {
    "collapsed": true
   },
   "outputs": [],
   "source": [
    "# Initializing Word topic association for seeding topic model\n",
    "associations = graphlab.SFrame({'word':['food', 'italian', 'pasta', 'pizza','service','staff','worker'\n",
    "                                       ,'price','money','lunch','salad'],\n",
    "                                'topic': [1, 2, 2, 2,3,3,3,4,4,5,5]})"
   ]
  },
  {
   "cell_type": "code",
   "execution_count": 37,
   "metadata": {
    "collapsed": false
   },
   "outputs": [
    {
     "data": {
      "text/html": [
       "<pre>Learning a topic model</pre>"
      ],
      "text/plain": [
       "Learning a topic model"
      ]
     },
     "metadata": {},
     "output_type": "display_data"
    },
    {
     "data": {
      "text/html": [
       "<pre>       Number of documents   1335067</pre>"
      ],
      "text/plain": [
       "       Number of documents   1335067"
      ]
     },
     "metadata": {},
     "output_type": "display_data"
    },
    {
     "data": {
      "text/html": [
       "<pre>           Vocabulary size    300661</pre>"
      ],
      "text/plain": [
       "           Vocabulary size    300661"
      ]
     },
     "metadata": {},
     "output_type": "display_data"
    },
    {
     "data": {
      "text/html": [
       "<pre>   Running collapsed Gibbs sampling</pre>"
      ],
      "text/plain": [
       "   Running collapsed Gibbs sampling"
      ]
     },
     "metadata": {},
     "output_type": "display_data"
    },
    {
     "data": {
      "text/html": [
       "<pre>+-----------+---------------+----------------+-----------------+</pre>"
      ],
      "text/plain": [
       "+-----------+---------------+----------------+-----------------+"
      ]
     },
     "metadata": {},
     "output_type": "display_data"
    },
    {
     "data": {
      "text/html": [
       "<pre>| Iteration | Elapsed Time  | Tokens/Second  | Est. Perplexity |</pre>"
      ],
      "text/plain": [
       "| Iteration | Elapsed Time  | Tokens/Second  | Est. Perplexity |"
      ]
     },
     "metadata": {},
     "output_type": "display_data"
    },
    {
     "data": {
      "text/html": [
       "<pre>+-----------+---------------+----------------+-----------------+</pre>"
      ],
      "text/plain": [
       "+-----------+---------------+----------------+-----------------+"
      ]
     },
     "metadata": {},
     "output_type": "display_data"
    },
    {
     "data": {
      "text/html": [
       "<pre>| 10        | 1m 28s        | 7.85387e+006   | 0               |</pre>"
      ],
      "text/plain": [
       "| 10        | 1m 28s        | 7.85387e+006   | 0               |"
      ]
     },
     "metadata": {},
     "output_type": "display_data"
    },
    {
     "data": {
      "text/html": [
       "<pre>| 20        | 2m 48s        | 7.91467e+006   | 0               |</pre>"
      ],
      "text/plain": [
       "| 20        | 2m 48s        | 7.91467e+006   | 0               |"
      ]
     },
     "metadata": {},
     "output_type": "display_data"
    },
    {
     "data": {
      "text/html": [
       "<pre>| 30        | 4m 9s         | 7.45252e+006   | 0               |</pre>"
      ],
      "text/plain": [
       "| 30        | 4m 9s         | 7.45252e+006   | 0               |"
      ]
     },
     "metadata": {},
     "output_type": "display_data"
    },
    {
     "data": {
      "text/html": [
       "<pre>| 40        | 5m 28s        | 8.39953e+006   | 0               |</pre>"
      ],
      "text/plain": [
       "| 40        | 5m 28s        | 8.39953e+006   | 0               |"
      ]
     },
     "metadata": {},
     "output_type": "display_data"
    },
    {
     "data": {
      "text/html": [
       "<pre>| 50        | 6m 48s        | 8.18917e+006   | 0               |</pre>"
      ],
      "text/plain": [
       "| 50        | 6m 48s        | 8.18917e+006   | 0               |"
      ]
     },
     "metadata": {},
     "output_type": "display_data"
    },
    {
     "data": {
      "text/html": [
       "<pre>| 60        | 8m 6s         | 7.64348e+006   | 0               |</pre>"
      ],
      "text/plain": [
       "| 60        | 8m 6s         | 7.64348e+006   | 0               |"
      ]
     },
     "metadata": {},
     "output_type": "display_data"
    },
    {
     "data": {
      "text/html": [
       "<pre>| 70        | 9m 27s        | 7.63888e+006   | 0               |</pre>"
      ],
      "text/plain": [
       "| 70        | 9m 27s        | 7.63888e+006   | 0               |"
      ]
     },
     "metadata": {},
     "output_type": "display_data"
    },
    {
     "data": {
      "text/html": [
       "<pre>| 80        | 10m 47s       | 7.92322e+006   | 0               |</pre>"
      ],
      "text/plain": [
       "| 80        | 10m 47s       | 7.92322e+006   | 0               |"
      ]
     },
     "metadata": {},
     "output_type": "display_data"
    },
    {
     "data": {
      "text/html": [
       "<pre>| 90        | 12m 4s        | 7.9361e+006    | 0               |</pre>"
      ],
      "text/plain": [
       "| 90        | 12m 4s        | 7.9361e+006    | 0               |"
      ]
     },
     "metadata": {},
     "output_type": "display_data"
    },
    {
     "data": {
      "text/html": [
       "<pre>| 100       | 13m 23s       | 7.97201e+006   | 0               |</pre>"
      ],
      "text/plain": [
       "| 100       | 13m 23s       | 7.97201e+006   | 0               |"
      ]
     },
     "metadata": {},
     "output_type": "display_data"
    },
    {
     "data": {
      "text/html": [
       "<pre>| 110       | 14m 41s       | 8.26923e+006   | 0               |</pre>"
      ],
      "text/plain": [
       "| 110       | 14m 41s       | 8.26923e+006   | 0               |"
      ]
     },
     "metadata": {},
     "output_type": "display_data"
    },
    {
     "data": {
      "text/html": [
       "<pre>| 120       | 15m 59s       | 7.91333e+006   | 0               |</pre>"
      ],
      "text/plain": [
       "| 120       | 15m 59s       | 7.91333e+006   | 0               |"
      ]
     },
     "metadata": {},
     "output_type": "display_data"
    },
    {
     "data": {
      "text/html": [
       "<pre>| 130       | 17m 15s       | 8.61982e+006   | 0               |</pre>"
      ],
      "text/plain": [
       "| 130       | 17m 15s       | 8.61982e+006   | 0               |"
      ]
     },
     "metadata": {},
     "output_type": "display_data"
    },
    {
     "data": {
      "text/html": [
       "<pre>| 140       | 18m 35s       | 8.04378e+006   | 0               |</pre>"
      ],
      "text/plain": [
       "| 140       | 18m 35s       | 8.04378e+006   | 0               |"
      ]
     },
     "metadata": {},
     "output_type": "display_data"
    },
    {
     "data": {
      "text/html": [
       "<pre>| 150       | 19m 55s       | 7.28783e+006   | 0               |</pre>"
      ],
      "text/plain": [
       "| 150       | 19m 55s       | 7.28783e+006   | 0               |"
      ]
     },
     "metadata": {},
     "output_type": "display_data"
    },
    {
     "data": {
      "text/html": [
       "<pre>| 160       | 21m 12s       | 8.34539e+006   | 0               |</pre>"
      ],
      "text/plain": [
       "| 160       | 21m 12s       | 8.34539e+006   | 0               |"
      ]
     },
     "metadata": {},
     "output_type": "display_data"
    },
    {
     "data": {
      "text/html": [
       "<pre>| 170       | 22m 29s       | 8.02547e+006   | 0               |</pre>"
      ],
      "text/plain": [
       "| 170       | 22m 29s       | 8.02547e+006   | 0               |"
      ]
     },
     "metadata": {},
     "output_type": "display_data"
    },
    {
     "data": {
      "text/html": [
       "<pre>| 180       | 23m 46s       | 7.82258e+006   | 0               |</pre>"
      ],
      "text/plain": [
       "| 180       | 23m 46s       | 7.82258e+006   | 0               |"
      ]
     },
     "metadata": {},
     "output_type": "display_data"
    },
    {
     "data": {
      "text/html": [
       "<pre>| 190       | 25m 5s        | 8.49856e+006   | 0               |</pre>"
      ],
      "text/plain": [
       "| 190       | 25m 5s        | 8.49856e+006   | 0               |"
      ]
     },
     "metadata": {},
     "output_type": "display_data"
    },
    {
     "data": {
      "text/html": [
       "<pre>| 200       | 26m 21s       | 8.22527e+006   | 0               |</pre>"
      ],
      "text/plain": [
       "| 200       | 26m 21s       | 8.22527e+006   | 0               |"
      ]
     },
     "metadata": {},
     "output_type": "display_data"
    },
    {
     "data": {
      "text/html": [
       "<pre>| 210       | 27m 38s       | 7.89757e+006   | 0               |</pre>"
      ],
      "text/plain": [
       "| 210       | 27m 38s       | 7.89757e+006   | 0               |"
      ]
     },
     "metadata": {},
     "output_type": "display_data"
    },
    {
     "data": {
      "text/html": [
       "<pre>| 220       | 28m 55s       | 8.26815e+006   | 0               |</pre>"
      ],
      "text/plain": [
       "| 220       | 28m 55s       | 8.26815e+006   | 0               |"
      ]
     },
     "metadata": {},
     "output_type": "display_data"
    },
    {
     "data": {
      "text/html": [
       "<pre>| 230       | 30m 12s       | 7.97001e+006   | 0               |</pre>"
      ],
      "text/plain": [
       "| 230       | 30m 12s       | 7.97001e+006   | 0               |"
      ]
     },
     "metadata": {},
     "output_type": "display_data"
    },
    {
     "data": {
      "text/html": [
       "<pre>| 240       | 31m 28s       | 7.86428e+006   | 0               |</pre>"
      ],
      "text/plain": [
       "| 240       | 31m 28s       | 7.86428e+006   | 0               |"
      ]
     },
     "metadata": {},
     "output_type": "display_data"
    },
    {
     "data": {
      "text/html": [
       "<pre>| 250       | 32m 49s       | 7.9084e+006    | 0               |</pre>"
      ],
      "text/plain": [
       "| 250       | 32m 49s       | 7.9084e+006    | 0               |"
      ]
     },
     "metadata": {},
     "output_type": "display_data"
    },
    {
     "data": {
      "text/html": [
       "<pre>| 260       | 34m 7s        | 8.31258e+006   | 0               |</pre>"
      ],
      "text/plain": [
       "| 260       | 34m 7s        | 8.31258e+006   | 0               |"
      ]
     },
     "metadata": {},
     "output_type": "display_data"
    },
    {
     "data": {
      "text/html": [
       "<pre>| 270       | 35m 26s       | 8.05604e+006   | 0               |</pre>"
      ],
      "text/plain": [
       "| 270       | 35m 26s       | 8.05604e+006   | 0               |"
      ]
     },
     "metadata": {},
     "output_type": "display_data"
    },
    {
     "data": {
      "text/html": [
       "<pre>| 280       | 36m 42s       | 7.84677e+006   | 0               |</pre>"
      ],
      "text/plain": [
       "| 280       | 36m 42s       | 7.84677e+006   | 0               |"
      ]
     },
     "metadata": {},
     "output_type": "display_data"
    },
    {
     "data": {
      "text/html": [
       "<pre>| 290       | 37m 57s       | 8.88297e+006   | 0               |</pre>"
      ],
      "text/plain": [
       "| 290       | 37m 57s       | 8.88297e+006   | 0               |"
      ]
     },
     "metadata": {},
     "output_type": "display_data"
    },
    {
     "data": {
      "text/html": [
       "<pre>| 300       | 39m 14s       | 8.1231e+006    | 0               |</pre>"
      ],
      "text/plain": [
       "| 300       | 39m 14s       | 8.1231e+006    | 0               |"
      ]
     },
     "metadata": {},
     "output_type": "display_data"
    },
    {
     "data": {
      "text/html": [
       "<pre>| 310       | 40m 33s       | 7.89364e+006   | 0               |</pre>"
      ],
      "text/plain": [
       "| 310       | 40m 33s       | 7.89364e+006   | 0               |"
      ]
     },
     "metadata": {},
     "output_type": "display_data"
    },
    {
     "data": {
      "text/html": [
       "<pre>| 320       | 41m 52s       | 8.29844e+006   | 0               |</pre>"
      ],
      "text/plain": [
       "| 320       | 41m 52s       | 8.29844e+006   | 0               |"
      ]
     },
     "metadata": {},
     "output_type": "display_data"
    },
    {
     "data": {
      "text/html": [
       "<pre>| 330       | 43m 10s       | 8.33442e+006   | 0               |</pre>"
      ],
      "text/plain": [
       "| 330       | 43m 10s       | 8.33442e+006   | 0               |"
      ]
     },
     "metadata": {},
     "output_type": "display_data"
    },
    {
     "data": {
      "text/html": [
       "<pre>| 340       | 44m 29s       | 7.52828e+006   | 0               |</pre>"
      ],
      "text/plain": [
       "| 340       | 44m 29s       | 7.52828e+006   | 0               |"
      ]
     },
     "metadata": {},
     "output_type": "display_data"
    },
    {
     "data": {
      "text/html": [
       "<pre>| 350       | 45m 49s       | 8.46228e+006   | 0               |</pre>"
      ],
      "text/plain": [
       "| 350       | 45m 49s       | 8.46228e+006   | 0               |"
      ]
     },
     "metadata": {},
     "output_type": "display_data"
    },
    {
     "data": {
      "text/html": [
       "<pre>| 360       | 47m 6s        | 8.06014e+006   | 0               |</pre>"
      ],
      "text/plain": [
       "| 360       | 47m 6s        | 8.06014e+006   | 0               |"
      ]
     },
     "metadata": {},
     "output_type": "display_data"
    },
    {
     "data": {
      "text/html": [
       "<pre>| 370       | 48m 25s       | 7.5678e+006    | 0               |</pre>"
      ],
      "text/plain": [
       "| 370       | 48m 25s       | 7.5678e+006    | 0               |"
      ]
     },
     "metadata": {},
     "output_type": "display_data"
    },
    {
     "data": {
      "text/html": [
       "<pre>| 380       | 49m 43s       | 7.55068e+006   | 0               |</pre>"
      ],
      "text/plain": [
       "| 380       | 49m 43s       | 7.55068e+006   | 0               |"
      ]
     },
     "metadata": {},
     "output_type": "display_data"
    },
    {
     "data": {
      "text/html": [
       "<pre>| 390       | 50m 59s       | 8.90167e+006   | 0               |</pre>"
      ],
      "text/plain": [
       "| 390       | 50m 59s       | 8.90167e+006   | 0               |"
      ]
     },
     "metadata": {},
     "output_type": "display_data"
    },
    {
     "data": {
      "text/html": [
       "<pre>| 400       | 52m 18s       | 8.53171e+006   | 0               |</pre>"
      ],
      "text/plain": [
       "| 400       | 52m 18s       | 8.53171e+006   | 0               |"
      ]
     },
     "metadata": {},
     "output_type": "display_data"
    },
    {
     "data": {
      "text/html": [
       "<pre>| 410       | 53m 37s       | 8.11375e+006   | 0               |</pre>"
      ],
      "text/plain": [
       "| 410       | 53m 37s       | 8.11375e+006   | 0               |"
      ]
     },
     "metadata": {},
     "output_type": "display_data"
    },
    {
     "data": {
      "text/html": [
       "<pre>| 420       | 54m 54s       | 7.9084e+006    | 0               |</pre>"
      ],
      "text/plain": [
       "| 420       | 54m 54s       | 7.9084e+006    | 0               |"
      ]
     },
     "metadata": {},
     "output_type": "display_data"
    },
    {
     "data": {
      "text/html": [
       "<pre>| 430       | 56m 15s       | 7.76037e+006   | 0               |</pre>"
      ],
      "text/plain": [
       "| 430       | 56m 15s       | 7.76037e+006   | 0               |"
      ]
     },
     "metadata": {},
     "output_type": "display_data"
    },
    {
     "data": {
      "text/html": [
       "<pre>| 440       | 57m 33s       | 8.34209e+006   | 0               |</pre>"
      ],
      "text/plain": [
       "| 440       | 57m 33s       | 8.34209e+006   | 0               |"
      ]
     },
     "metadata": {},
     "output_type": "display_data"
    },
    {
     "data": {
      "text/html": [
       "<pre>| 450       | 58m 52s       | 7.82451e+006   | 0               |</pre>"
      ],
      "text/plain": [
       "| 450       | 58m 52s       | 7.82451e+006   | 0               |"
      ]
     },
     "metadata": {},
     "output_type": "display_data"
    },
    {
     "data": {
      "text/html": [
       "<pre>| 460       | 1h 0m         | 8.09304e+006   | 0               |</pre>"
      ],
      "text/plain": [
       "| 460       | 1h 0m         | 8.09304e+006   | 0               |"
      ]
     },
     "metadata": {},
     "output_type": "display_data"
    },
    {
     "data": {
      "text/html": [
       "<pre>| 470       | 1h 1m         | 7.99814e+006   | 0               |</pre>"
      ],
      "text/plain": [
       "| 470       | 1h 1m         | 7.99814e+006   | 0               |"
      ]
     },
     "metadata": {},
     "output_type": "display_data"
    },
    {
     "data": {
      "text/html": [
       "<pre>| 480       | 1h 2m         | 8.48038e+006   | 0               |</pre>"
      ],
      "text/plain": [
       "| 480       | 1h 2m         | 8.48038e+006   | 0               |"
      ]
     },
     "metadata": {},
     "output_type": "display_data"
    },
    {
     "data": {
      "text/html": [
       "<pre>| 490       | 1h 4m         | 7.94306e+006   | 0               |</pre>"
      ],
      "text/plain": [
       "| 490       | 1h 4m         | 7.94306e+006   | 0               |"
      ]
     },
     "metadata": {},
     "output_type": "display_data"
    },
    {
     "data": {
      "text/html": [
       "<pre>| 500       | 1h 5m         | 7.77273e+006   | 0               |</pre>"
      ],
      "text/plain": [
       "| 500       | 1h 5m         | 7.77273e+006   | 0               |"
      ]
     },
     "metadata": {},
     "output_type": "display_data"
    },
    {
     "data": {
      "text/html": [
       "<pre>| 510       | 1h 6m         | 7.75089e+006   | 0               |</pre>"
      ],
      "text/plain": [
       "| 510       | 1h 6m         | 7.75089e+006   | 0               |"
      ]
     },
     "metadata": {},
     "output_type": "display_data"
    },
    {
     "data": {
      "text/html": [
       "<pre>| 520       | 1h 8m         | 7.32401e+006   | 0               |</pre>"
      ],
      "text/plain": [
       "| 520       | 1h 8m         | 7.32401e+006   | 0               |"
      ]
     },
     "metadata": {},
     "output_type": "display_data"
    },
    {
     "data": {
      "text/html": [
       "<pre>| 530       | 1h 9m         | 8.186e+006     | 0               |</pre>"
      ],
      "text/plain": [
       "| 530       | 1h 9m         | 8.186e+006     | 0               |"
      ]
     },
     "metadata": {},
     "output_type": "display_data"
    },
    {
     "data": {
      "text/html": [
       "<pre>| 540       | 1h 10m        | 7.57322e+006   | 0               |</pre>"
      ],
      "text/plain": [
       "| 540       | 1h 10m        | 7.57322e+006   | 0               |"
      ]
     },
     "metadata": {},
     "output_type": "display_data"
    },
    {
     "data": {
      "text/html": [
       "<pre>| 550       | 1h 11m        | 7.48122e+006   | 0               |</pre>"
      ],
      "text/plain": [
       "| 550       | 1h 11m        | 7.48122e+006   | 0               |"
      ]
     },
     "metadata": {},
     "output_type": "display_data"
    },
    {
     "data": {
      "text/html": [
       "<pre>| 560       | 1h 13m        | 8.79674e+006   | 0               |</pre>"
      ],
      "text/plain": [
       "| 560       | 1h 13m        | 8.79674e+006   | 0               |"
      ]
     },
     "metadata": {},
     "output_type": "display_data"
    },
    {
     "data": {
      "text/html": [
       "<pre>| 570       | 1h 14m        | 8.38954e+006   | 0               |</pre>"
      ],
      "text/plain": [
       "| 570       | 1h 14m        | 8.38954e+006   | 0               |"
      ]
     },
     "metadata": {},
     "output_type": "display_data"
    },
    {
     "data": {
      "text/html": [
       "<pre>| 580       | 1h 15m        | 8.50084e+006   | 0               |</pre>"
      ],
      "text/plain": [
       "| 580       | 1h 15m        | 8.50084e+006   | 0               |"
      ]
     },
     "metadata": {},
     "output_type": "display_data"
    },
    {
     "data": {
      "text/html": [
       "<pre>| 590       | 1h 17m        | 7.69261e+006   | 0               |</pre>"
      ],
      "text/plain": [
       "| 590       | 1h 17m        | 7.69261e+006   | 0               |"
      ]
     },
     "metadata": {},
     "output_type": "display_data"
    },
    {
     "data": {
      "text/html": [
       "<pre>| 600       | 1h 18m        | 8.55357e+006   | 0               |</pre>"
      ],
      "text/plain": [
       "| 600       | 1h 18m        | 8.55357e+006   | 0               |"
      ]
     },
     "metadata": {},
     "output_type": "display_data"
    },
    {
     "data": {
      "text/html": [
       "<pre>| 610       | 1h 19m        | 8.35308e+006   | 0               |</pre>"
      ],
      "text/plain": [
       "| 610       | 1h 19m        | 8.35308e+006   | 0               |"
      ]
     },
     "metadata": {},
     "output_type": "display_data"
    },
    {
     "data": {
      "text/html": [
       "<pre>| 620       | 1h 21m        | 7.98807e+006   | 0               |</pre>"
      ],
      "text/plain": [
       "| 620       | 1h 21m        | 7.98807e+006   | 0               |"
      ]
     },
     "metadata": {},
     "output_type": "display_data"
    },
    {
     "data": {
      "text/html": [
       "<pre>| 630       | 1h 22m        | 8.19975e+006   | 0               |</pre>"
      ],
      "text/plain": [
       "| 630       | 1h 22m        | 8.19975e+006   | 0               |"
      ]
     },
     "metadata": {},
     "output_type": "display_data"
    },
    {
     "data": {
      "text/html": [
       "<pre>| 640       | 1h 23m        | 7.54888e+006   | 0               |</pre>"
      ],
      "text/plain": [
       "| 640       | 1h 23m        | 7.54888e+006   | 0               |"
      ]
     },
     "metadata": {},
     "output_type": "display_data"
    },
    {
     "data": {
      "text/html": [
       "<pre>| 650       | 1h 25m        | 8.12518e+006   | 0               |</pre>"
      ],
      "text/plain": [
       "| 650       | 1h 25m        | 8.12518e+006   | 0               |"
      ]
     },
     "metadata": {},
     "output_type": "display_data"
    },
    {
     "data": {
      "text/html": [
       "<pre>| 660       | 1h 26m        | 7.87306e+006   | 0               |</pre>"
      ],
      "text/plain": [
       "| 660       | 1h 26m        | 7.87306e+006   | 0               |"
      ]
     },
     "metadata": {},
     "output_type": "display_data"
    },
    {
     "data": {
      "text/html": [
       "<pre>| 670       | 1h 27m        | 8.23381e+006   | 0               |</pre>"
      ],
      "text/plain": [
       "| 670       | 1h 27m        | 8.23381e+006   | 0               |"
      ]
     },
     "metadata": {},
     "output_type": "display_data"
    },
    {
     "data": {
      "text/html": [
       "<pre>| 680       | 1h 29m        | 8.68235e+006   | 0               |</pre>"
      ],
      "text/plain": [
       "| 680       | 1h 29m        | 8.68235e+006   | 0               |"
      ]
     },
     "metadata": {},
     "output_type": "display_data"
    },
    {
     "data": {
      "text/html": [
       "<pre>| 690       | 1h 30m        | 7.82451e+006   | 0               |</pre>"
      ],
      "text/plain": [
       "| 690       | 1h 30m        | 7.82451e+006   | 0               |"
      ]
     },
     "metadata": {},
     "output_type": "display_data"
    },
    {
     "data": {
      "text/html": [
       "<pre>| 700       | 1h 31m        | 8.32239e+006   | 0               |</pre>"
      ],
      "text/plain": [
       "| 700       | 1h 31m        | 8.32239e+006   | 0               |"
      ]
     },
     "metadata": {},
     "output_type": "display_data"
    },
    {
     "data": {
      "text/html": [
       "<pre>| 710       | 1h 32m        | 8.09718e+006   | 0               |</pre>"
      ],
      "text/plain": [
       "| 710       | 1h 32m        | 8.09718e+006   | 0               |"
      ]
     },
     "metadata": {},
     "output_type": "display_data"
    },
    {
     "data": {
      "text/html": [
       "<pre>| 720       | 1h 34m        | 8.80529e+006   | 0               |</pre>"
      ],
      "text/plain": [
       "| 720       | 1h 34m        | 8.80529e+006   | 0               |"
      ]
     },
     "metadata": {},
     "output_type": "display_data"
    },
    {
     "data": {
      "text/html": [
       "<pre>| 730       | 1h 35m        | 7.79662e+006   | 0               |</pre>"
      ],
      "text/plain": [
       "| 730       | 1h 35m        | 7.79662e+006   | 0               |"
      ]
     },
     "metadata": {},
     "output_type": "display_data"
    },
    {
     "data": {
      "text/html": [
       "<pre>| 740       | 1h 36m        | 8.22314e+006   | 0               |</pre>"
      ],
      "text/plain": [
       "| 740       | 1h 36m        | 8.22314e+006   | 0               |"
      ]
     },
     "metadata": {},
     "output_type": "display_data"
    },
    {
     "data": {
      "text/html": [
       "<pre>| 750       | 1h 38m        | 8.28003e+006   | 0               |</pre>"
      ],
      "text/plain": [
       "| 750       | 1h 38m        | 8.28003e+006   | 0               |"
      ]
     },
     "metadata": {},
     "output_type": "display_data"
    },
    {
     "data": {
      "text/html": [
       "<pre>| 760       | 1h 39m        | 9.08656e+006   | 0               |</pre>"
      ],
      "text/plain": [
       "| 760       | 1h 39m        | 9.08656e+006   | 0               |"
      ]
     },
     "metadata": {},
     "output_type": "display_data"
    },
    {
     "data": {
      "text/html": [
       "<pre>| 770       | 1h 40m        | 8.79918e+006   | 0               |</pre>"
      ],
      "text/plain": [
       "| 770       | 1h 40m        | 8.79918e+006   | 0               |"
      ]
     },
     "metadata": {},
     "output_type": "display_data"
    },
    {
     "data": {
      "text/html": [
       "<pre>| 780       | 1h 42m        | 7.78131e+006   | 0               |</pre>"
      ],
      "text/plain": [
       "| 780       | 1h 42m        | 7.78131e+006   | 0               |"
      ]
     },
     "metadata": {},
     "output_type": "display_data"
    },
    {
     "data": {
      "text/html": [
       "<pre>| 790       | 1h 43m        | 8.09821e+006   | 0               |</pre>"
      ],
      "text/plain": [
       "| 790       | 1h 43m        | 8.09821e+006   | 0               |"
      ]
     },
     "metadata": {},
     "output_type": "display_data"
    },
    {
     "data": {
      "text/html": [
       "<pre>| 800       | 1h 44m        | 7.22969e+006   | 0               |</pre>"
      ],
      "text/plain": [
       "| 800       | 1h 44m        | 7.22969e+006   | 0               |"
      ]
     },
     "metadata": {},
     "output_type": "display_data"
    },
    {
     "data": {
      "text/html": [
       "<pre>| 810       | 1h 45m        | 7.8274e+006    | 0               |</pre>"
      ],
      "text/plain": [
       "| 810       | 1h 45m        | 7.8274e+006    | 0               |"
      ]
     },
     "metadata": {},
     "output_type": "display_data"
    },
    {
     "data": {
      "text/html": [
       "<pre>| 820       | 1h 47m        | 7.65455e+006   | 0               |</pre>"
      ],
      "text/plain": [
       "| 820       | 1h 47m        | 7.65455e+006   | 0               |"
      ]
     },
     "metadata": {},
     "output_type": "display_data"
    },
    {
     "data": {
      "text/html": [
       "<pre>| 830       | 1h 48m        | 8.5214e+006    | 0               |</pre>"
      ],
      "text/plain": [
       "| 830       | 1h 48m        | 8.5214e+006    | 0               |"
      ]
     },
     "metadata": {},
     "output_type": "display_data"
    },
    {
     "data": {
      "text/html": [
       "<pre>| 840       | 1h 49m        | 8.27355e+006   | 0               |</pre>"
      ],
      "text/plain": [
       "| 840       | 1h 49m        | 8.27355e+006   | 0               |"
      ]
     },
     "metadata": {},
     "output_type": "display_data"
    },
    {
     "data": {
      "text/html": [
       "<pre>| 850       | 1h 51m        | 7.81583e+006   | 0               |</pre>"
      ],
      "text/plain": [
       "| 850       | 1h 51m        | 7.81583e+006   | 0               |"
      ]
     },
     "metadata": {},
     "output_type": "display_data"
    },
    {
     "data": {
      "text/html": [
       "<pre>| 860       | 1h 52m        | 8.12934e+006   | 0               |</pre>"
      ],
      "text/plain": [
       "| 860       | 1h 52m        | 8.12934e+006   | 0               |"
      ]
     },
     "metadata": {},
     "output_type": "display_data"
    },
    {
     "data": {
      "text/html": [
       "<pre>| 870       | 1h 53m        | 6.88818e+006   | 0               |</pre>"
      ],
      "text/plain": [
       "| 870       | 1h 53m        | 6.88818e+006   | 0               |"
      ]
     },
     "metadata": {},
     "output_type": "display_data"
    },
    {
     "data": {
      "text/html": [
       "<pre>| 880       | 1h 55m        | 7.65548e+006   | 0               |</pre>"
      ],
      "text/plain": [
       "| 880       | 1h 55m        | 7.65548e+006   | 0               |"
      ]
     },
     "metadata": {},
     "output_type": "display_data"
    },
    {
     "data": {
      "text/html": [
       "<pre>| 890       | 1h 56m        | 9.09307e+006   | 0               |</pre>"
      ],
      "text/plain": [
       "| 890       | 1h 56m        | 9.09307e+006   | 0               |"
      ]
     },
     "metadata": {},
     "output_type": "display_data"
    },
    {
     "data": {
      "text/html": [
       "<pre>| 900       | 1h 57m        | 7.71601e+006   | 0               |</pre>"
      ],
      "text/plain": [
       "| 900       | 1h 57m        | 7.71601e+006   | 0               |"
      ]
     },
     "metadata": {},
     "output_type": "display_data"
    },
    {
     "data": {
      "text/html": [
       "<pre>| 910       | 1h 59m        | 8.52712e+006   | 0               |</pre>"
      ],
      "text/plain": [
       "| 910       | 1h 59m        | 8.52712e+006   | 0               |"
      ]
     },
     "metadata": {},
     "output_type": "display_data"
    },
    {
     "data": {
      "text/html": [
       "<pre>| 920       | 2h 0m         | 8.14709e+006   | 0               |</pre>"
      ],
      "text/plain": [
       "| 920       | 2h 0m         | 8.14709e+006   | 0               |"
      ]
     },
     "metadata": {},
     "output_type": "display_data"
    },
    {
     "data": {
      "text/html": [
       "<pre>| 930       | 2h 1m         | 7.31894e+006   | 0               |</pre>"
      ],
      "text/plain": [
       "| 930       | 2h 1m         | 7.31894e+006   | 0               |"
      ]
     },
     "metadata": {},
     "output_type": "display_data"
    },
    {
     "data": {
      "text/html": [
       "<pre>| 940       | 2h 3m         | 9.20123e+006   | 0               |</pre>"
      ],
      "text/plain": [
       "| 940       | 2h 3m         | 9.20123e+006   | 0               |"
      ]
     },
     "metadata": {},
     "output_type": "display_data"
    },
    {
     "data": {
      "text/html": [
       "<pre>| 950       | 2h 4m         | 8.37845e+006   | 0               |</pre>"
      ],
      "text/plain": [
       "| 950       | 2h 4m         | 8.37845e+006   | 0               |"
      ]
     },
     "metadata": {},
     "output_type": "display_data"
    },
    {
     "data": {
      "text/html": [
       "<pre>| 960       | 2h 5m         | 8.33661e+006   | 0               |</pre>"
      ],
      "text/plain": [
       "| 960       | 2h 5m         | 8.33661e+006   | 0               |"
      ]
     },
     "metadata": {},
     "output_type": "display_data"
    },
    {
     "data": {
      "text/html": [
       "<pre>| 970       | 2h 7m         | 8.19128e+006   | 0               |</pre>"
      ],
      "text/plain": [
       "| 970       | 2h 7m         | 8.19128e+006   | 0               |"
      ]
     },
     "metadata": {},
     "output_type": "display_data"
    },
    {
     "data": {
      "text/html": [
       "<pre>| 980       | 2h 8m         | 7.31725e+006   | 0               |</pre>"
      ],
      "text/plain": [
       "| 980       | 2h 8m         | 7.31725e+006   | 0               |"
      ]
     },
     "metadata": {},
     "output_type": "display_data"
    },
    {
     "data": {
      "text/html": [
       "<pre>| 990       | 2h 9m         | 8.54435e+006   | 0               |</pre>"
      ],
      "text/plain": [
       "| 990       | 2h 9m         | 8.54435e+006   | 0               |"
      ]
     },
     "metadata": {},
     "output_type": "display_data"
    },
    {
     "data": {
      "text/html": [
       "<pre>| 1000      | 2h 10m        | 7.52739e+006   | 0               |</pre>"
      ],
      "text/plain": [
       "| 1000      | 2h 10m        | 7.52739e+006   | 0               |"
      ]
     },
     "metadata": {},
     "output_type": "display_data"
    },
    {
     "data": {
      "text/html": [
       "<pre>| 1010      | 2h 12m        | 7.51045e+006   | 0               |</pre>"
      ],
      "text/plain": [
       "| 1010      | 2h 12m        | 7.51045e+006   | 0               |"
      ]
     },
     "metadata": {},
     "output_type": "display_data"
    },
    {
     "data": {
      "text/html": [
       "<pre>| 1020      | 2h 13m        | 8.69068e+006   | 0               |</pre>"
      ],
      "text/plain": [
       "| 1020      | 2h 13m        | 8.69068e+006   | 0               |"
      ]
     },
     "metadata": {},
     "output_type": "display_data"
    },
    {
     "data": {
      "text/html": [
       "<pre>| 1030      | 2h 14m        | 8.16597e+006   | 0               |</pre>"
      ],
      "text/plain": [
       "| 1030      | 2h 14m        | 8.16597e+006   | 0               |"
      ]
     },
     "metadata": {},
     "output_type": "display_data"
    },
    {
     "data": {
      "text/html": [
       "<pre>| 1040      | 2h 16m        | 8.64685e+006   | 0               |</pre>"
      ],
      "text/plain": [
       "| 1040      | 2h 16m        | 8.64685e+006   | 0               |"
      ]
     },
     "metadata": {},
     "output_type": "display_data"
    },
    {
     "data": {
      "text/html": [
       "<pre>| 1050      | 2h 17m        | 8.51911e+006   | 0               |</pre>"
      ],
      "text/plain": [
       "| 1050      | 2h 17m        | 8.51911e+006   | 0               |"
      ]
     },
     "metadata": {},
     "output_type": "display_data"
    },
    {
     "data": {
      "text/html": [
       "<pre>| 1060      | 2h 18m        | 8.86187e+006   | 0               |</pre>"
      ],
      "text/plain": [
       "| 1060      | 2h 18m        | 8.86187e+006   | 0               |"
      ]
     },
     "metadata": {},
     "output_type": "display_data"
    },
    {
     "data": {
      "text/html": [
       "<pre>| 1070      | 2h 19m        | 9.05284e+006   | 0               |</pre>"
      ],
      "text/plain": [
       "| 1070      | 2h 19m        | 9.05284e+006   | 0               |"
      ]
     },
     "metadata": {},
     "output_type": "display_data"
    },
    {
     "data": {
      "text/html": [
       "<pre>| 1080      | 2h 21m        | 7.65271e+006   | 0               |</pre>"
      ],
      "text/plain": [
       "| 1080      | 2h 21m        | 7.65271e+006   | 0               |"
      ]
     },
     "metadata": {},
     "output_type": "display_data"
    },
    {
     "data": {
      "text/html": [
       "<pre>| 1090      | 2h 22m        | 7.84289e+006   | 0               |</pre>"
      ],
      "text/plain": [
       "| 1090      | 2h 22m        | 7.84289e+006   | 0               |"
      ]
     },
     "metadata": {},
     "output_type": "display_data"
    },
    {
     "data": {
      "text/html": [
       "<pre>| 1100      | 2h 23m        | 7.87893e+006   | 0               |</pre>"
      ],
      "text/plain": [
       "| 1100      | 2h 23m        | 7.87893e+006   | 0               |"
      ]
     },
     "metadata": {},
     "output_type": "display_data"
    },
    {
     "data": {
      "text/html": [
       "<pre>| 1110      | 2h 25m        | 8.62334e+006   | 0               |</pre>"
      ],
      "text/plain": [
       "| 1110      | 2h 25m        | 8.62334e+006   | 0               |"
      ]
     },
     "metadata": {},
     "output_type": "display_data"
    },
    {
     "data": {
      "text/html": [
       "<pre>| 1120      | 2h 26m        | 8.37845e+006   | 0               |</pre>"
      ],
      "text/plain": [
       "| 1120      | 2h 26m        | 8.37845e+006   | 0               |"
      ]
     },
     "metadata": {},
     "output_type": "display_data"
    },
    {
     "data": {
      "text/html": [
       "<pre>| 1130      | 2h 27m        | 8.00319e+006   | 0               |</pre>"
      ],
      "text/plain": [
       "| 1130      | 2h 27m        | 8.00319e+006   | 0               |"
      ]
     },
     "metadata": {},
     "output_type": "display_data"
    },
    {
     "data": {
      "text/html": [
       "<pre>| 1140      | 2h 29m        | 8.64685e+006   | 0               |</pre>"
      ],
      "text/plain": [
       "| 1140      | 2h 29m        | 8.64685e+006   | 0               |"
      ]
     },
     "metadata": {},
     "output_type": "display_data"
    },
    {
     "data": {
      "text/html": [
       "<pre>| 1150      | 2h 30m        | 7.963e+006     | 0               |</pre>"
      ],
      "text/plain": [
       "| 1150      | 2h 30m        | 7.963e+006     | 0               |"
      ]
     },
     "metadata": {},
     "output_type": "display_data"
    },
    {
     "data": {
      "text/html": [
       "<pre>| 1160      | 2h 31m        | 8.32348e+006   | 0               |</pre>"
      ],
      "text/plain": [
       "| 1160      | 2h 31m        | 8.32348e+006   | 0               |"
      ]
     },
     "metadata": {},
     "output_type": "display_data"
    },
    {
     "data": {
      "text/html": [
       "<pre>| 1170      | 2h 33m        | 8.27678e+006   | 0               |</pre>"
      ],
      "text/plain": [
       "| 1170      | 2h 33m        | 8.27678e+006   | 0               |"
      ]
     },
     "metadata": {},
     "output_type": "display_data"
    },
    {
     "data": {
      "text/html": [
       "<pre>| 1180      | 2h 34m        | 8.44763e+006   | 0               |</pre>"
      ],
      "text/plain": [
       "| 1180      | 2h 34m        | 8.44763e+006   | 0               |"
      ]
     },
     "metadata": {},
     "output_type": "display_data"
    },
    {
     "data": {
      "text/html": [
       "<pre>| 1190      | 2h 35m        | 8.13143e+006   | 0               |</pre>"
      ],
      "text/plain": [
       "| 1190      | 2h 35m        | 8.13143e+006   | 0               |"
      ]
     },
     "metadata": {},
     "output_type": "display_data"
    },
    {
     "data": {
      "text/html": [
       "<pre>| 1200      | 2h 37m        | 8.08685e+006   | 0               |</pre>"
      ],
      "text/plain": [
       "| 1200      | 2h 37m        | 8.08685e+006   | 0               |"
      ]
     },
     "metadata": {},
     "output_type": "display_data"
    },
    {
     "data": {
      "text/html": [
       "<pre>| 1210      | 2h 38m        | 7.88187e+006   | 0               |</pre>"
      ],
      "text/plain": [
       "| 1210      | 2h 38m        | 7.88187e+006   | 0               |"
      ]
     },
     "metadata": {},
     "output_type": "display_data"
    },
    {
     "data": {
      "text/html": [
       "<pre>| 1220      | 2h 39m        | 8.0745e+006    | 0               |</pre>"
      ],
      "text/plain": [
       "| 1220      | 2h 39m        | 8.0745e+006    | 0               |"
      ]
     },
     "metadata": {},
     "output_type": "display_data"
    },
    {
     "data": {
      "text/html": [
       "<pre>| 1230      | 2h 40m        | 8.26923e+006   | 0               |</pre>"
      ],
      "text/plain": [
       "| 1230      | 2h 40m        | 8.26923e+006   | 0               |"
      ]
     },
     "metadata": {},
     "output_type": "display_data"
    },
    {
     "data": {
      "text/html": [
       "<pre>| 1240      | 2h 42m        | 8.85569e+006   | 0               |</pre>"
      ],
      "text/plain": [
       "| 1240      | 2h 42m        | 8.85569e+006   | 0               |"
      ]
     },
     "metadata": {},
     "output_type": "display_data"
    },
    {
     "data": {
      "text/html": [
       "<pre>| 1250      | 2h 43m        | 7.59134e+006   | 0               |</pre>"
      ],
      "text/plain": [
       "| 1250      | 2h 43m        | 7.59134e+006   | 0               |"
      ]
     },
     "metadata": {},
     "output_type": "display_data"
    },
    {
     "data": {
      "text/html": [
       "<pre>| 1260      | 2h 44m        | 7.57774e+006   | 0               |</pre>"
      ],
      "text/plain": [
       "| 1260      | 2h 44m        | 7.57774e+006   | 0               |"
      ]
     },
     "metadata": {},
     "output_type": "display_data"
    },
    {
     "data": {
      "text/html": [
       "<pre>| 1270      | 2h 46m        | 8.05604e+006   | 0               |</pre>"
      ],
      "text/plain": [
       "| 1270      | 2h 46m        | 8.05604e+006   | 0               |"
      ]
     },
     "metadata": {},
     "output_type": "display_data"
    },
    {
     "data": {
      "text/html": [
       "<pre>| 1280      | 2h 47m        | 8.80284e+006   | 0               |</pre>"
      ],
      "text/plain": [
       "| 1280      | 2h 47m        | 8.80284e+006   | 0               |"
      ]
     },
     "metadata": {},
     "output_type": "display_data"
    },
    {
     "data": {
      "text/html": [
       "<pre>| 1290      | 2h 48m        | 8.91418e+006   | 0               |</pre>"
      ],
      "text/plain": [
       "| 1290      | 2h 48m        | 8.91418e+006   | 0               |"
      ]
     },
     "metadata": {},
     "output_type": "display_data"
    },
    {
     "data": {
      "text/html": [
       "<pre>| 1300      | 2h 49m        | 8.48946e+006   | 0               |</pre>"
      ],
      "text/plain": [
       "| 1300      | 2h 49m        | 8.48946e+006   | 0               |"
      ]
     },
     "metadata": {},
     "output_type": "display_data"
    },
    {
     "data": {
      "text/html": [
       "<pre>| 1310      | 2h 51m        | 7.46449e+006   | 0               |</pre>"
      ],
      "text/plain": [
       "| 1310      | 2h 51m        | 7.46449e+006   | 0               |"
      ]
     },
     "metadata": {},
     "output_type": "display_data"
    },
    {
     "data": {
      "text/html": [
       "<pre>| 1320      | 2h 52m        | 7.37253e+006   | 0               |</pre>"
      ],
      "text/plain": [
       "| 1320      | 2h 52m        | 7.37253e+006   | 0               |"
      ]
     },
     "metadata": {},
     "output_type": "display_data"
    },
    {
     "data": {
      "text/html": [
       "<pre>| 1330      | 2h 54m        | 7.18465e+006   | 0               |</pre>"
      ],
      "text/plain": [
       "| 1330      | 2h 54m        | 7.18465e+006   | 0               |"
      ]
     },
     "metadata": {},
     "output_type": "display_data"
    },
    {
     "data": {
      "text/html": [
       "<pre>| 1340      | 2h 55m        | 7.86233e+006   | 0               |</pre>"
      ],
      "text/plain": [
       "| 1340      | 2h 55m        | 7.86233e+006   | 0               |"
      ]
     },
     "metadata": {},
     "output_type": "display_data"
    },
    {
     "data": {
      "text/html": [
       "<pre>| 1350      | 2h 56m        | 7.81776e+006   | 0               |</pre>"
      ],
      "text/plain": [
       "| 1350      | 2h 56m        | 7.81776e+006   | 0               |"
      ]
     },
     "metadata": {},
     "output_type": "display_data"
    },
    {
     "data": {
      "text/html": [
       "<pre>| 1360      | 2h 57m        | 8.16808e+006   | 0               |</pre>"
      ],
      "text/plain": [
       "| 1360      | 2h 57m        | 8.16808e+006   | 0               |"
      ]
     },
     "metadata": {},
     "output_type": "display_data"
    },
    {
     "data": {
      "text/html": [
       "<pre>| 1370      | 2h 59m        | 7.78992e+006   | 0               |</pre>"
      ],
      "text/plain": [
       "| 1370      | 2h 59m        | 7.78992e+006   | 0               |"
      ]
     },
     "metadata": {},
     "output_type": "display_data"
    },
    {
     "data": {
      "text/html": [
       "<pre>| 1380      | 3h 0m         | 8.32021e+006   | 0               |</pre>"
      ],
      "text/plain": [
       "| 1380      | 3h 0m         | 8.32021e+006   | 0               |"
      ]
     },
     "metadata": {},
     "output_type": "display_data"
    },
    {
     "data": {
      "text/html": [
       "<pre>| 1390      | 3h 1m         | 8.07759e+006   | 0               |</pre>"
      ],
      "text/plain": [
       "| 1390      | 3h 1m         | 8.07759e+006   | 0               |"
      ]
     },
     "metadata": {},
     "output_type": "display_data"
    },
    {
     "data": {
      "text/html": [
       "<pre>| 1400      | 3h 3m         | 9.05672e+006   | 0               |</pre>"
      ],
      "text/plain": [
       "| 1400      | 3h 3m         | 9.05672e+006   | 0               |"
      ]
     },
     "metadata": {},
     "output_type": "display_data"
    },
    {
     "data": {
      "text/html": [
       "<pre>| 1410      | 3h 4m         | 9.06449e+006   | 0               |</pre>"
      ],
      "text/plain": [
       "| 1410      | 3h 4m         | 9.06449e+006   | 0               |"
      ]
     },
     "metadata": {},
     "output_type": "display_data"
    },
    {
     "data": {
      "text/html": [
       "<pre>| 1420      | 3h 5m         | 7.89167e+006   | 0               |</pre>"
      ],
      "text/plain": [
       "| 1420      | 3h 5m         | 7.89167e+006   | 0               |"
      ]
     },
     "metadata": {},
     "output_type": "display_data"
    },
    {
     "data": {
      "text/html": [
       "<pre>| 1430      | 3h 7m         | 7.97301e+006   | 0               |</pre>"
      ],
      "text/plain": [
       "| 1430      | 3h 7m         | 7.97301e+006   | 0               |"
      ]
     },
     "metadata": {},
     "output_type": "display_data"
    },
    {
     "data": {
      "text/html": [
       "<pre>| 1440      | 3h 8m         | 7.95003e+006   | 0               |</pre>"
      ],
      "text/plain": [
       "| 1440      | 3h 8m         | 7.95003e+006   | 0               |"
      ]
     },
     "metadata": {},
     "output_type": "display_data"
    },
    {
     "data": {
      "text/html": [
       "<pre>| 1450      | 3h 9m         | 9.32157e+006   | 0               |</pre>"
      ],
      "text/plain": [
       "| 1450      | 3h 9m         | 9.32157e+006   | 0               |"
      ]
     },
     "metadata": {},
     "output_type": "display_data"
    },
    {
     "data": {
      "text/html": [
       "<pre>| 1460      | 3h 11m        | 7.17003e+006   | 0               |</pre>"
      ],
      "text/plain": [
       "| 1460      | 3h 11m        | 7.17003e+006   | 0               |"
      ]
     },
     "metadata": {},
     "output_type": "display_data"
    },
    {
     "data": {
      "text/html": [
       "<pre>| 1470      | 3h 12m        | 8.9393e+006    | 0               |</pre>"
      ],
      "text/plain": [
       "| 1470      | 3h 12m        | 8.9393e+006    | 0               |"
      ]
     },
     "metadata": {},
     "output_type": "display_data"
    },
    {
     "data": {
      "text/html": [
       "<pre>| 1480      | 3h 13m        | 8.00521e+006   | 0               |</pre>"
      ],
      "text/plain": [
       "| 1480      | 3h 13m        | 8.00521e+006   | 0               |"
      ]
     },
     "metadata": {},
     "output_type": "display_data"
    },
    {
     "data": {
      "text/html": [
       "<pre>| 1490      | 3h 14m        | 8.09201e+006   | 0               |</pre>"
      ],
      "text/plain": [
       "| 1490      | 3h 14m        | 8.09201e+006   | 0               |"
      ]
     },
     "metadata": {},
     "output_type": "display_data"
    },
    {
     "data": {
      "text/html": [
       "<pre>| 1500      | 3h 16m        | 9.20123e+006   | 0               |</pre>"
      ],
      "text/plain": [
       "| 1500      | 3h 16m        | 9.20123e+006   | 0               |"
      ]
     },
     "metadata": {},
     "output_type": "display_data"
    },
    {
     "data": {
      "text/html": [
       "<pre>| 1510      | 3h 17m        | 7.85551e+006   | 0               |</pre>"
      ],
      "text/plain": [
       "| 1510      | 3h 17m        | 7.85551e+006   | 0               |"
      ]
     },
     "metadata": {},
     "output_type": "display_data"
    },
    {
     "data": {
      "text/html": [
       "<pre>| 1520      | 3h 18m        | 8.10545e+006   | 0               |</pre>"
      ],
      "text/plain": [
       "| 1520      | 3h 18m        | 8.10545e+006   | 0               |"
      ]
     },
     "metadata": {},
     "output_type": "display_data"
    },
    {
     "data": {
      "text/html": [
       "<pre>| 1530      | 3h 20m        | 7.79853e+006   | 0               |</pre>"
      ],
      "text/plain": [
       "| 1530      | 3h 20m        | 7.79853e+006   | 0               |"
      ]
     },
     "metadata": {},
     "output_type": "display_data"
    },
    {
     "data": {
      "text/html": [
       "<pre>| 1540      | 3h 21m        | 7.60226e+006   | 0               |</pre>"
      ],
      "text/plain": [
       "| 1540      | 3h 21m        | 7.60226e+006   | 0               |"
      ]
     },
     "metadata": {},
     "output_type": "display_data"
    },
    {
     "data": {
      "text/html": [
       "<pre>| 1550      | 3h 22m        | 8.13143e+006   | 0               |</pre>"
      ],
      "text/plain": [
       "| 1550      | 3h 22m        | 8.13143e+006   | 0               |"
      ]
     },
     "metadata": {},
     "output_type": "display_data"
    },
    {
     "data": {
      "text/html": [
       "<pre>| 1560      | 3h 24m        | 7.48299e+006   | 0               |</pre>"
      ],
      "text/plain": [
       "| 1560      | 3h 24m        | 7.48299e+006   | 0               |"
      ]
     },
     "metadata": {},
     "output_type": "display_data"
    },
    {
     "data": {
      "text/html": [
       "<pre>| 1570      | 3h 25m        | 8.48265e+006   | 0               |</pre>"
      ],
      "text/plain": [
       "| 1570      | 3h 25m        | 8.48265e+006   | 0               |"
      ]
     },
     "metadata": {},
     "output_type": "display_data"
    },
    {
     "data": {
      "text/html": [
       "<pre>| 1580      | 3h 26m        | 7.78418e+006   | 0               |</pre>"
      ],
      "text/plain": [
       "| 1580      | 3h 26m        | 7.78418e+006   | 0               |"
      ]
     },
     "metadata": {},
     "output_type": "display_data"
    },
    {
     "data": {
      "text/html": [
       "<pre>| 1590      | 3h 28m        | 7.84483e+006   | 0               |</pre>"
      ],
      "text/plain": [
       "| 1590      | 3h 28m        | 7.84483e+006   | 0               |"
      ]
     },
     "metadata": {},
     "output_type": "display_data"
    },
    {
     "data": {
      "text/html": [
       "<pre>| 1600      | 3h 29m        | 8.23167e+006   | 0               |</pre>"
      ],
      "text/plain": [
       "| 1600      | 3h 29m        | 8.23167e+006   | 0               |"
      ]
     },
     "metadata": {},
     "output_type": "display_data"
    },
    {
     "data": {
      "text/html": [
       "<pre>| 1610      | 3h 30m        | 6.76549e+006   | 0               |</pre>"
      ],
      "text/plain": [
       "| 1610      | 3h 30m        | 6.76549e+006   | 0               |"
      ]
     },
     "metadata": {},
     "output_type": "display_data"
    },
    {
     "data": {
      "text/html": [
       "<pre>| 1620      | 3h 31m        | 8.2488e+006    | 0               |</pre>"
      ],
      "text/plain": [
       "| 1620      | 3h 31m        | 8.2488e+006    | 0               |"
      ]
     },
     "metadata": {},
     "output_type": "display_data"
    },
    {
     "data": {
      "text/html": [
       "<pre>| 1630      | 3h 33m        | 8.11271e+006   | 0               |</pre>"
      ],
      "text/plain": [
       "| 1630      | 3h 33m        | 8.11271e+006   | 0               |"
      ]
     },
     "metadata": {},
     "output_type": "display_data"
    },
    {
     "data": {
      "text/html": [
       "<pre>| 1640      | 3h 34m        | 9.26574e+006   | 0               |</pre>"
      ],
      "text/plain": [
       "| 1640      | 3h 34m        | 9.26574e+006   | 0               |"
      ]
     },
     "metadata": {},
     "output_type": "display_data"
    },
    {
     "data": {
      "text/html": [
       "<pre>| 1650      | 3h 35m        | 7.49891e+006   | 0               |</pre>"
      ],
      "text/plain": [
       "| 1650      | 3h 35m        | 7.49891e+006   | 0               |"
      ]
     },
     "metadata": {},
     "output_type": "display_data"
    },
    {
     "data": {
      "text/html": [
       "<pre>| 1660      | 3h 37m        | 7.40697e+006   | 0               |</pre>"
      ],
      "text/plain": [
       "| 1660      | 3h 37m        | 7.40697e+006   | 0               |"
      ]
     },
     "metadata": {},
     "output_type": "display_data"
    },
    {
     "data": {
      "text/html": [
       "<pre>| 1670      | 3h 38m        | 7.92322e+006   | 0               |</pre>"
      ],
      "text/plain": [
       "| 1670      | 3h 38m        | 7.92322e+006   | 0               |"
      ]
     },
     "metadata": {},
     "output_type": "display_data"
    },
    {
     "data": {
      "text/html": [
       "<pre>| 1680      | 3h 39m        | 7.93511e+006   | 0               |</pre>"
      ],
      "text/plain": [
       "| 1680      | 3h 39m        | 7.93511e+006   | 0               |"
      ]
     },
     "metadata": {},
     "output_type": "display_data"
    },
    {
     "data": {
      "text/html": [
       "<pre>| 1690      | 3h 41m        | 8.23167e+006   | 0               |</pre>"
      ],
      "text/plain": [
       "| 1690      | 3h 41m        | 8.23167e+006   | 0               |"
      ]
     },
     "metadata": {},
     "output_type": "display_data"
    },
    {
     "data": {
      "text/html": [
       "<pre>| 1700      | 3h 42m        | 8.50996e+006   | 0               |</pre>"
      ],
      "text/plain": [
       "| 1700      | 3h 42m        | 8.50996e+006   | 0               |"
      ]
     },
     "metadata": {},
     "output_type": "display_data"
    },
    {
     "data": {
      "text/html": [
       "<pre>| 1710      | 3h 43m        | 7.47505e+006   | 0               |</pre>"
      ],
      "text/plain": [
       "| 1710      | 3h 43m        | 7.47505e+006   | 0               |"
      ]
     },
     "metadata": {},
     "output_type": "display_data"
    },
    {
     "data": {
      "text/html": [
       "<pre>| 1720      | 3h 45m        | 7.89757e+006   | 0               |</pre>"
      ],
      "text/plain": [
       "| 1720      | 3h 45m        | 7.89757e+006   | 0               |"
      ]
     },
     "metadata": {},
     "output_type": "display_data"
    },
    {
     "data": {
      "text/html": [
       "<pre>| 1730      | 3h 46m        | 7.91827e+006   | 0               |</pre>"
      ],
      "text/plain": [
       "| 1730      | 3h 46m        | 7.91827e+006   | 0               |"
      ]
     },
     "metadata": {},
     "output_type": "display_data"
    },
    {
     "data": {
      "text/html": [
       "<pre>| 1740      | 3h 47m        | 7.58227e+006   | 0               |</pre>"
      ],
      "text/plain": [
       "| 1740      | 3h 47m        | 7.58227e+006   | 0               |"
      ]
     },
     "metadata": {},
     "output_type": "display_data"
    },
    {
     "data": {
      "text/html": [
       "<pre>| 1750      | 3h 49m        | 8.1179e+006    | 0               |</pre>"
      ],
      "text/plain": [
       "| 1750      | 3h 49m        | 8.1179e+006    | 0               |"
      ]
     },
     "metadata": {},
     "output_type": "display_data"
    },
    {
     "data": {
      "text/html": [
       "<pre>| 1760      | 3h 50m        | 7.89855e+006   | 0               |</pre>"
      ],
      "text/plain": [
       "| 1760      | 3h 50m        | 7.89855e+006   | 0               |"
      ]
     },
     "metadata": {},
     "output_type": "display_data"
    },
    {
     "data": {
      "text/html": [
       "<pre>| 1770      | 3h 51m        | 7.64717e+006   | 0               |</pre>"
      ],
      "text/plain": [
       "| 1770      | 3h 51m        | 7.64717e+006   | 0               |"
      ]
     },
     "metadata": {},
     "output_type": "display_data"
    },
    {
     "data": {
      "text/html": [
       "<pre>| 1780      | 3h 52m        | 8.0133e+006    | 0               |</pre>"
      ],
      "text/plain": [
       "| 1780      | 3h 52m        | 8.0133e+006    | 0               |"
      ]
     },
     "metadata": {},
     "output_type": "display_data"
    },
    {
     "data": {
      "text/html": [
       "<pre>| 1790      | 3h 54m        | 8.79674e+006   | 0               |</pre>"
      ],
      "text/plain": [
       "| 1790      | 3h 54m        | 8.79674e+006   | 0               |"
      ]
     },
     "metadata": {},
     "output_type": "display_data"
    },
    {
     "data": {
      "text/html": [
       "<pre>| 1800      | 3h 55m        | 7.69168e+006   | 0               |</pre>"
      ],
      "text/plain": [
       "| 1800      | 3h 55m        | 7.69168e+006   | 0               |"
      ]
     },
     "metadata": {},
     "output_type": "display_data"
    },
    {
     "data": {
      "text/html": [
       "<pre>| 1810      | 3h 56m        | 8.09511e+006   | 0               |</pre>"
      ],
      "text/plain": [
       "| 1810      | 3h 56m        | 8.09511e+006   | 0               |"
      ]
     },
     "metadata": {},
     "output_type": "display_data"
    },
    {
     "data": {
      "text/html": [
       "<pre>| 1820      | 3h 58m        | 7.78131e+006   | 0               |</pre>"
      ],
      "text/plain": [
       "| 1820      | 3h 58m        | 7.78131e+006   | 0               |"
      ]
     },
     "metadata": {},
     "output_type": "display_data"
    },
    {
     "data": {
      "text/html": [
       "<pre>| 1830      | 3h 59m        | 8.50198e+006   | 0               |</pre>"
      ],
      "text/plain": [
       "| 1830      | 3h 59m        | 8.50198e+006   | 0               |"
      ]
     },
     "metadata": {},
     "output_type": "display_data"
    },
    {
     "data": {
      "text/html": [
       "<pre>| 1840      | 4h 0m         | 7.83804e+006   | 0               |</pre>"
      ],
      "text/plain": [
       "| 1840      | 4h 0m         | 7.83804e+006   | 0               |"
      ]
     },
     "metadata": {},
     "output_type": "display_data"
    },
    {
     "data": {
      "text/html": [
       "<pre>| 1850      | 4h 2m         | 7.69915e+006   | 0               |</pre>"
      ],
      "text/plain": [
       "| 1850      | 4h 2m         | 7.69915e+006   | 0               |"
      ]
     },
     "metadata": {},
     "output_type": "display_data"
    },
    {
     "data": {
      "text/html": [
       "<pre>| 1860      | 4h 3m         | 8.00319e+006   | 0               |</pre>"
      ],
      "text/plain": [
       "| 1860      | 4h 3m         | 8.00319e+006   | 0               |"
      ]
     },
     "metadata": {},
     "output_type": "display_data"
    },
    {
     "data": {
      "text/html": [
       "<pre>| 1870      | 4h 4m         | 7.51045e+006   | 0               |</pre>"
      ],
      "text/plain": [
       "| 1870      | 4h 4m         | 7.51045e+006   | 0               |"
      ]
     },
     "metadata": {},
     "output_type": "display_data"
    },
    {
     "data": {
      "text/html": [
       "<pre>| 1880      | 4h 6m         | 8.20718e+006   | 0               |</pre>"
      ],
      "text/plain": [
       "| 1880      | 4h 6m         | 8.20718e+006   | 0               |"
      ]
     },
     "metadata": {},
     "output_type": "display_data"
    },
    {
     "data": {
      "text/html": [
       "<pre>| 1890      | 4h 7m         | 8.31476e+006   | 0               |</pre>"
      ],
      "text/plain": [
       "| 1890      | 4h 7m         | 8.31476e+006   | 0               |"
      ]
     },
     "metadata": {},
     "output_type": "display_data"
    },
    {
     "data": {
      "text/html": [
       "<pre>| 1900      | 4h 8m         | 8.07656e+006   | 0               |</pre>"
      ],
      "text/plain": [
       "| 1900      | 4h 8m         | 8.07656e+006   | 0               |"
      ]
     },
     "metadata": {},
     "output_type": "display_data"
    },
    {
     "data": {
      "text/html": [
       "<pre>| 1910      | 4h 9m         | 8.34539e+006   | 0               |</pre>"
      ],
      "text/plain": [
       "| 1910      | 4h 9m         | 8.34539e+006   | 0               |"
      ]
     },
     "metadata": {},
     "output_type": "display_data"
    },
    {
     "data": {
      "text/html": [
       "<pre>| 1920      | 4h 11m        | 6.99066e+006   | 0               |</pre>"
      ],
      "text/plain": [
       "| 1920      | 4h 11m        | 6.99066e+006   | 0               |"
      ]
     },
     "metadata": {},
     "output_type": "display_data"
    },
    {
     "data": {
      "text/html": [
       "<pre>| 1930      | 4h 12m        | 8.24773e+006   | 0               |</pre>"
      ],
      "text/plain": [
       "| 1930      | 4h 12m        | 8.24773e+006   | 0               |"
      ]
     },
     "metadata": {},
     "output_type": "display_data"
    },
    {
     "data": {
      "text/html": [
       "<pre>| 1940      | 4h 13m        | 8.0275e+006    | 0               |</pre>"
      ],
      "text/plain": [
       "| 1940      | 4h 13m        | 8.0275e+006    | 0               |"
      ]
     },
     "metadata": {},
     "output_type": "display_data"
    },
    {
     "data": {
      "text/html": [
       "<pre>| 1950      | 4h 15m        | 8.15757e+006   | 0               |</pre>"
      ],
      "text/plain": [
       "| 1950      | 4h 15m        | 8.15757e+006   | 0               |"
      ]
     },
     "metadata": {},
     "output_type": "display_data"
    },
    {
     "data": {
      "text/html": [
       "<pre>| 1960      | 4h 16m        | 8.65275e+006   | 0               |</pre>"
      ],
      "text/plain": [
       "| 1960      | 4h 16m        | 8.65275e+006   | 0               |"
      ]
     },
     "metadata": {},
     "output_type": "display_data"
    },
    {
     "data": {
      "text/html": [
       "<pre>| 1970      | 4h 17m        | 8.02344e+006   | 0               |</pre>"
      ],
      "text/plain": [
       "| 1970      | 4h 17m        | 8.02344e+006   | 0               |"
      ]
     },
     "metadata": {},
     "output_type": "display_data"
    },
    {
     "data": {
      "text/html": [
       "<pre>| 1980      | 4h 19m        | 9.05414e+006   | 0               |</pre>"
      ],
      "text/plain": [
       "| 1980      | 4h 19m        | 9.05414e+006   | 0               |"
      ]
     },
     "metadata": {},
     "output_type": "display_data"
    },
    {
     "data": {
      "text/html": [
       "<pre>| 1990      | 4h 20m        | 8.22101e+006   | 0               |</pre>"
      ],
      "text/plain": [
       "| 1990      | 4h 20m        | 8.22101e+006   | 0               |"
      ]
     },
     "metadata": {},
     "output_type": "display_data"
    },
    {
     "data": {
      "text/html": [
       "<pre>| 2000      | 4h 21m        | 8.01128e+006   | 0               |</pre>"
      ],
      "text/plain": [
       "| 2000      | 4h 21m        | 8.01128e+006   | 0               |"
      ]
     },
     "metadata": {},
     "output_type": "display_data"
    },
    {
     "data": {
      "text/html": [
       "<pre>| 2010      | 4h 23m        | 7.53185e+006   | 0               |</pre>"
      ],
      "text/plain": [
       "| 2010      | 4h 23m        | 7.53185e+006   | 0               |"
      ]
     },
     "metadata": {},
     "output_type": "display_data"
    },
    {
     "data": {
      "text/html": [
       "<pre>| 2020      | 4h 24m        | 8.01026e+006   | 0               |</pre>"
      ],
      "text/plain": [
       "| 2020      | 4h 24m        | 8.01026e+006   | 0               |"
      ]
     },
     "metadata": {},
     "output_type": "display_data"
    },
    {
     "data": {
      "text/html": [
       "<pre>| 2030      | 4h 25m        | 7.85746e+006   | 0               |</pre>"
      ],
      "text/plain": [
       "| 2030      | 4h 25m        | 7.85746e+006   | 0               |"
      ]
     },
     "metadata": {},
     "output_type": "display_data"
    },
    {
     "data": {
      "text/html": [
       "<pre>| 2040      | 4h 27m        | 7.9361e+006    | 0               |</pre>"
      ],
      "text/plain": [
       "| 2040      | 4h 27m        | 7.9361e+006    | 0               |"
      ]
     },
     "metadata": {},
     "output_type": "display_data"
    },
    {
     "data": {
      "text/html": [
       "<pre>| 2050      | 4h 28m        | 8.08892e+006   | 0               |</pre>"
      ],
      "text/plain": [
       "| 2050      | 4h 28m        | 8.08892e+006   | 0               |"
      ]
     },
     "metadata": {},
     "output_type": "display_data"
    },
    {
     "data": {
      "text/html": [
       "<pre>| 2060      | 4h 29m        | 8.054e+006     | 0               |</pre>"
      ],
      "text/plain": [
       "| 2060      | 4h 29m        | 8.054e+006     | 0               |"
      ]
     },
     "metadata": {},
     "output_type": "display_data"
    },
    {
     "data": {
      "text/html": [
       "<pre>| 2070      | 4h 31m        | 7.41563e+006   | 0               |</pre>"
      ],
      "text/plain": [
       "| 2070      | 4h 31m        | 7.41563e+006   | 0               |"
      ]
     },
     "metadata": {},
     "output_type": "display_data"
    },
    {
     "data": {
      "text/html": [
       "<pre>| 2080      | 4h 32m        | 7.87404e+006   | 0               |</pre>"
      ],
      "text/plain": [
       "| 2080      | 4h 32m        | 7.87404e+006   | 0               |"
      ]
     },
     "metadata": {},
     "output_type": "display_data"
    },
    {
     "data": {
      "text/html": [
       "<pre>| 2090      | 4h 33m        | 8.28111e+006   | 0               |</pre>"
      ],
      "text/plain": [
       "| 2090      | 4h 33m        | 8.28111e+006   | 0               |"
      ]
     },
     "metadata": {},
     "output_type": "display_data"
    },
    {
     "data": {
      "text/html": [
       "<pre>| 2100      | 4h 34m        | 7.93015e+006   | 0               |</pre>"
      ],
      "text/plain": [
       "| 2100      | 4h 34m        | 7.93015e+006   | 0               |"
      ]
     },
     "metadata": {},
     "output_type": "display_data"
    },
    {
     "data": {
      "text/html": [
       "<pre>| 2110      | 4h 36m        | 8.11271e+006   | 0               |</pre>"
      ],
      "text/plain": [
       "| 2110      | 4h 36m        | 8.11271e+006   | 0               |"
      ]
     },
     "metadata": {},
     "output_type": "display_data"
    },
    {
     "data": {
      "text/html": [
       "<pre>| 2120      | 4h 37m        | 8.1096e+006    | 0               |</pre>"
      ],
      "text/plain": [
       "| 2120      | 4h 37m        | 8.1096e+006    | 0               |"
      ]
     },
     "metadata": {},
     "output_type": "display_data"
    },
    {
     "data": {
      "text/html": [
       "<pre>| 2130      | 4h 38m        | 8.64685e+006   | 0               |</pre>"
      ],
      "text/plain": [
       "| 2130      | 4h 38m        | 8.64685e+006   | 0               |"
      ]
     },
     "metadata": {},
     "output_type": "display_data"
    },
    {
     "data": {
      "text/html": [
       "<pre>| 2140      | 4h 40m        | 9.20524e+006   | 0               |</pre>"
      ],
      "text/plain": [
       "| 2140      | 4h 40m        | 9.20524e+006   | 0               |"
      ]
     },
     "metadata": {},
     "output_type": "display_data"
    },
    {
     "data": {
      "text/html": [
       "<pre>| 2150      | 4h 41m        | 7.38369e+006   | 0               |</pre>"
      ],
      "text/plain": [
       "| 2150      | 4h 41m        | 7.38369e+006   | 0               |"
      ]
     },
     "metadata": {},
     "output_type": "display_data"
    },
    {
     "data": {
      "text/html": [
       "<pre>| 2160      | 4h 42m        | 8.60813e+006   | 0               |</pre>"
      ],
      "text/plain": [
       "| 2160      | 4h 42m        | 8.60813e+006   | 0               |"
      ]
     },
     "metadata": {},
     "output_type": "display_data"
    },
    {
     "data": {
      "text/html": [
       "<pre>| 2170      | 4h 43m        | 7.85065e+006   | 0               |</pre>"
      ],
      "text/plain": [
       "| 2170      | 4h 43m        | 7.85065e+006   | 0               |"
      ]
     },
     "metadata": {},
     "output_type": "display_data"
    },
    {
     "data": {
      "text/html": [
       "<pre>| 2180      | 4h 45m        | 8.22847e+006   | 0               |</pre>"
      ],
      "text/plain": [
       "| 2180      | 4h 45m        | 8.22847e+006   | 0               |"
      ]
     },
     "metadata": {},
     "output_type": "display_data"
    },
    {
     "data": {
      "text/html": [
       "<pre>| 2190      | 4h 46m        | 7.54799e+006   | 0               |</pre>"
      ],
      "text/plain": [
       "| 2190      | 4h 46m        | 7.54799e+006   | 0               |"
      ]
     },
     "metadata": {},
     "output_type": "display_data"
    },
    {
     "data": {
      "text/html": [
       "<pre>| 2200      | 4h 47m        | 8.13456e+006   | 0               |</pre>"
      ],
      "text/plain": [
       "| 2200      | 4h 47m        | 8.13456e+006   | 0               |"
      ]
     },
     "metadata": {},
     "output_type": "display_data"
    },
    {
     "data": {
      "text/html": [
       "<pre>| 2210      | 4h 49m        | 8.39509e+006   | 0               |</pre>"
      ],
      "text/plain": [
       "| 2210      | 4h 49m        | 8.39509e+006   | 0               |"
      ]
     },
     "metadata": {},
     "output_type": "display_data"
    },
    {
     "data": {
      "text/html": [
       "<pre>| 2220      | 4h 50m        | 8.10338e+006   | 0               |</pre>"
      ],
      "text/plain": [
       "| 2220      | 4h 50m        | 8.10338e+006   | 0               |"
      ]
     },
     "metadata": {},
     "output_type": "display_data"
    },
    {
     "data": {
      "text/html": [
       "<pre>| 2230      | 4h 51m        | 8.24558e+006   | 0               |</pre>"
      ],
      "text/plain": [
       "| 2230      | 4h 51m        | 8.24558e+006   | 0               |"
      ]
     },
     "metadata": {},
     "output_type": "display_data"
    },
    {
     "data": {
      "text/html": [
       "<pre>| 2240      | 4h 53m        | 7.90544e+006   | 0               |</pre>"
      ],
      "text/plain": [
       "| 2240      | 4h 53m        | 7.90544e+006   | 0               |"
      ]
     },
     "metadata": {},
     "output_type": "display_data"
    },
    {
     "data": {
      "text/html": [
       "<pre>| 2250      | 4h 54m        | 8.13143e+006   | 0               |</pre>"
      ],
      "text/plain": [
       "| 2250      | 4h 54m        | 8.13143e+006   | 0               |"
      ]
     },
     "metadata": {},
     "output_type": "display_data"
    },
    {
     "data": {
      "text/html": [
       "<pre>| 2260      | 4h 55m        | 7.54619e+006   | 0               |</pre>"
      ],
      "text/plain": [
       "| 2260      | 4h 55m        | 7.54619e+006   | 0               |"
      ]
     },
     "metadata": {},
     "output_type": "display_data"
    },
    {
     "data": {
      "text/html": [
       "<pre>| 2270      | 4h 57m        | 7.6601e+006    | 0               |</pre>"
      ],
      "text/plain": [
       "| 2270      | 4h 57m        | 7.6601e+006    | 0               |"
      ]
     },
     "metadata": {},
     "output_type": "display_data"
    },
    {
     "data": {
      "text/html": [
       "<pre>| 2280      | 4h 58m        | 8.04684e+006   | 0               |</pre>"
      ],
      "text/plain": [
       "| 2280      | 4h 58m        | 8.04684e+006   | 0               |"
      ]
     },
     "metadata": {},
     "output_type": "display_data"
    },
    {
     "data": {
      "text/html": [
       "<pre>| 2290      | 4h 59m        | 8.58599e+006   | 0               |</pre>"
      ],
      "text/plain": [
       "| 2290      | 4h 59m        | 8.58599e+006   | 0               |"
      ]
     },
     "metadata": {},
     "output_type": "display_data"
    },
    {
     "data": {
      "text/html": [
       "<pre>| 2300      | 5h 0m         | 8.70499e+006   | 0               |</pre>"
      ],
      "text/plain": [
       "| 2300      | 5h 0m         | 8.70499e+006   | 0               |"
      ]
     },
     "metadata": {},
     "output_type": "display_data"
    },
    {
     "data": {
      "text/html": [
       "<pre>| 2310      | 5h 2m         | 8.05093e+006   | 0               |</pre>"
      ],
      "text/plain": [
       "| 2310      | 5h 2m         | 8.05093e+006   | 0               |"
      ]
     },
     "metadata": {},
     "output_type": "display_data"
    },
    {
     "data": {
      "text/html": [
       "<pre>| 2320      | 5h 3m         | 8.08685e+006   | 0               |</pre>"
      ],
      "text/plain": [
       "| 2320      | 5h 3m         | 8.08685e+006   | 0               |"
      ]
     },
     "metadata": {},
     "output_type": "display_data"
    },
    {
     "data": {
      "text/html": [
       "<pre>| 2330      | 5h 4m         | 8.99508e+006   | 0               |</pre>"
      ],
      "text/plain": [
       "| 2330      | 5h 4m         | 8.99508e+006   | 0               |"
      ]
     },
     "metadata": {},
     "output_type": "display_data"
    },
    {
     "data": {
      "text/html": [
       "<pre>| 2340      | 5h 6m         | 6.83769e+006   | 0               |</pre>"
      ],
      "text/plain": [
       "| 2340      | 5h 6m         | 6.83769e+006   | 0               |"
      ]
     },
     "metadata": {},
     "output_type": "display_data"
    },
    {
     "data": {
      "text/html": [
       "<pre>| 2350      | 5h 7m         | 7.55068e+006   | 0               |</pre>"
      ],
      "text/plain": [
       "| 2350      | 5h 7m         | 7.55068e+006   | 0               |"
      ]
     },
     "metadata": {},
     "output_type": "display_data"
    },
    {
     "data": {
      "text/html": [
       "<pre>| 2360      | 5h 8m         | 8.92044e+006   | 0               |</pre>"
      ],
      "text/plain": [
       "| 2360      | 5h 8m         | 8.92044e+006   | 0               |"
      ]
     },
     "metadata": {},
     "output_type": "display_data"
    },
    {
     "data": {
      "text/html": [
       "<pre>| 2370      | 5h 10m        | 8.1765e+006    | 0               |</pre>"
      ],
      "text/plain": [
       "| 2370      | 5h 10m        | 8.1765e+006    | 0               |"
      ]
     },
     "metadata": {},
     "output_type": "display_data"
    },
    {
     "data": {
      "text/html": [
       "<pre>| 2380      | 5h 11m        | 9.18125e+006   | 0               |</pre>"
      ],
      "text/plain": [
       "| 2380      | 5h 11m        | 9.18125e+006   | 0               |"
      ]
     },
     "metadata": {},
     "output_type": "display_data"
    },
    {
     "data": {
      "text/html": [
       "<pre>| 2390      | 5h 12m        | 8.32895e+006   | 0               |</pre>"
      ],
      "text/plain": [
       "| 2390      | 5h 12m        | 8.32895e+006   | 0               |"
      ]
     },
     "metadata": {},
     "output_type": "display_data"
    },
    {
     "data": {
      "text/html": [
       "<pre>| 2400      | 5h 14m        | 6.73962e+006   | 0               |</pre>"
      ],
      "text/plain": [
       "| 2400      | 5h 14m        | 6.73962e+006   | 0               |"
      ]
     },
     "metadata": {},
     "output_type": "display_data"
    },
    {
     "data": {
      "text/html": [
       "<pre>| 2410      | 5h 15m        | 8.35418e+006   | 0               |</pre>"
      ],
      "text/plain": [
       "| 2410      | 5h 15m        | 8.35418e+006   | 0               |"
      ]
     },
     "metadata": {},
     "output_type": "display_data"
    },
    {
     "data": {
      "text/html": [
       "<pre>| 2420      | 5h 16m        | 7.73671e+006   | 0               |</pre>"
      ],
      "text/plain": [
       "| 2420      | 5h 16m        | 7.73671e+006   | 0               |"
      ]
     },
     "metadata": {},
     "output_type": "display_data"
    },
    {
     "data": {
      "text/html": [
       "<pre>| 2430      | 5h 17m        | 8.05707e+006   | 0               |</pre>"
      ],
      "text/plain": [
       "| 2430      | 5h 17m        | 8.05707e+006   | 0               |"
      ]
     },
     "metadata": {},
     "output_type": "display_data"
    },
    {
     "data": {
      "text/html": [
       "<pre>| 2440      | 5h 19m        | 8.94813e+006   | 0               |</pre>"
      ],
      "text/plain": [
       "| 2440      | 5h 19m        | 8.94813e+006   | 0               |"
      ]
     },
     "metadata": {},
     "output_type": "display_data"
    },
    {
     "data": {
      "text/html": [
       "<pre>| 2450      | 5h 20m        | 7.80621e+006   | 0               |</pre>"
      ],
      "text/plain": [
       "| 2450      | 5h 20m        | 7.80621e+006   | 0               |"
      ]
     },
     "metadata": {},
     "output_type": "display_data"
    },
    {
     "data": {
      "text/html": [
       "<pre>| 2460      | 5h 21m        | 8.22314e+006   | 0               |</pre>"
      ],
      "text/plain": [
       "| 2460      | 5h 21m        | 8.22314e+006   | 0               |"
      ]
     },
     "metadata": {},
     "output_type": "display_data"
    },
    {
     "data": {
      "text/html": [
       "<pre>| 2470      | 5h 23m        | 8.1934e+006    | 0               |</pre>"
      ],
      "text/plain": [
       "| 2470      | 5h 23m        | 8.1934e+006    | 0               |"
      ]
     },
     "metadata": {},
     "output_type": "display_data"
    },
    {
     "data": {
      "text/html": [
       "<pre>| 2480      | 5h 24m        | 7.57774e+006   | 0               |</pre>"
      ],
      "text/plain": [
       "| 2480      | 5h 24m        | 7.57774e+006   | 0               |"
      ]
     },
     "metadata": {},
     "output_type": "display_data"
    },
    {
     "data": {
      "text/html": [
       "<pre>| 2490      | 5h 25m        | 8.72055e+006   | 0               |</pre>"
      ],
      "text/plain": [
       "| 2490      | 5h 25m        | 8.72055e+006   | 0               |"
      ]
     },
     "metadata": {},
     "output_type": "display_data"
    },
    {
     "data": {
      "text/html": [
       "<pre>| 2500      | 5h 27m        | 7.53454e+006   | 0               |</pre>"
      ],
      "text/plain": [
       "| 2500      | 5h 27m        | 7.53454e+006   | 0               |"
      ]
     },
     "metadata": {},
     "output_type": "display_data"
    },
    {
     "data": {
      "text/html": [
       "<pre>| 2510      | 5h 28m        | 8.10235e+006   | 0               |</pre>"
      ],
      "text/plain": [
       "| 2510      | 5h 28m        | 8.10235e+006   | 0               |"
      ]
     },
     "metadata": {},
     "output_type": "display_data"
    },
    {
     "data": {
      "text/html": [
       "<pre>| 2520      | 5h 29m        | 8.47359e+006   | 0               |</pre>"
      ],
      "text/plain": [
       "| 2520      | 5h 29m        | 8.47359e+006   | 0               |"
      ]
     },
     "metadata": {},
     "output_type": "display_data"
    },
    {
     "data": {
      "text/html": [
       "<pre>| 2530      | 5h 31m        | 7.72258e+006   | 0               |</pre>"
      ],
      "text/plain": [
       "| 2530      | 5h 31m        | 7.72258e+006   | 0               |"
      ]
     },
     "metadata": {},
     "output_type": "display_data"
    },
    {
     "data": {
      "text/html": [
       "<pre>| 2540      | 5h 32m        | 7.95801e+006   | 0               |</pre>"
      ],
      "text/plain": [
       "| 2540      | 5h 32m        | 7.95801e+006   | 0               |"
      ]
     },
     "metadata": {},
     "output_type": "display_data"
    },
    {
     "data": {
      "text/html": [
       "<pre>| 2550      | 5h 33m        | 7.8274e+006    | 0               |</pre>"
      ],
      "text/plain": [
       "| 2550      | 5h 33m        | 7.8274e+006    | 0               |"
      ]
     },
     "metadata": {},
     "output_type": "display_data"
    },
    {
     "data": {
      "text/html": [
       "<pre>| 2560      | 5h 35m        | 8.18388e+006   | 0               |</pre>"
      ],
      "text/plain": [
       "| 2560      | 5h 35m        | 8.18388e+006   | 0               |"
      ]
     },
     "metadata": {},
     "output_type": "display_data"
    },
    {
     "data": {
      "text/html": [
       "<pre>| 2570      | 5h 36m        | 7.38197e+006   | 0               |</pre>"
      ],
      "text/plain": [
       "| 2570      | 5h 36m        | 7.38197e+006   | 0               |"
      ]
     },
     "metadata": {},
     "output_type": "display_data"
    },
    {
     "data": {
      "text/html": [
       "<pre>| 2580      | 5h 37m        | 7.12013e+006   | 0               |</pre>"
      ],
      "text/plain": [
       "| 2580      | 5h 37m        | 7.12013e+006   | 0               |"
      ]
     },
     "metadata": {},
     "output_type": "display_data"
    },
    {
     "data": {
      "text/html": [
       "<pre>| 2590      | 5h 38m        | 8.19657e+006   | 0               |</pre>"
      ],
      "text/plain": [
       "| 2590      | 5h 38m        | 8.19657e+006   | 0               |"
      ]
     },
     "metadata": {},
     "output_type": "display_data"
    },
    {
     "data": {
      "text/html": [
       "<pre>| 2600      | 5h 40m        | 8.054e+006     | 0               |</pre>"
      ],
      "text/plain": [
       "| 2600      | 5h 40m        | 8.054e+006     | 0               |"
      ]
     },
     "metadata": {},
     "output_type": "display_data"
    },
    {
     "data": {
      "text/html": [
       "<pre>| 2610      | 5h 41m        | 8.05093e+006   | 0               |</pre>"
      ],
      "text/plain": [
       "| 2610      | 5h 41m        | 8.05093e+006   | 0               |"
      ]
     },
     "metadata": {},
     "output_type": "display_data"
    },
    {
     "data": {
      "text/html": [
       "<pre>| 2620      | 5h 43m        | 6.92579e+006   | 0               |</pre>"
      ],
      "text/plain": [
       "| 2620      | 5h 43m        | 6.92579e+006   | 0               |"
      ]
     },
     "metadata": {},
     "output_type": "display_data"
    },
    {
     "data": {
      "text/html": [
       "<pre>| 2630      | 5h 44m        | 8.39953e+006   | 0               |</pre>"
      ],
      "text/plain": [
       "| 2630      | 5h 44m        | 8.39953e+006   | 0               |"
      ]
     },
     "metadata": {},
     "output_type": "display_data"
    },
    {
     "data": {
      "text/html": [
       "<pre>| 2640      | 5h 45m        | 7.27196e+006   | 0               |</pre>"
      ],
      "text/plain": [
       "| 2640      | 5h 45m        | 7.27196e+006   | 0               |"
      ]
     },
     "metadata": {},
     "output_type": "display_data"
    },
    {
     "data": {
      "text/html": [
       "<pre>| 2650      | 5h 46m        | 8.54435e+006   | 0               |</pre>"
      ],
      "text/plain": [
       "| 2650      | 5h 46m        | 8.54435e+006   | 0               |"
      ]
     },
     "metadata": {},
     "output_type": "display_data"
    },
    {
     "data": {
      "text/html": [
       "<pre>| 2660      | 5h 48m        | 8.5054e+006    | 0               |</pre>"
      ],
      "text/plain": [
       "| 2660      | 5h 48m        | 8.5054e+006    | 0               |"
      ]
     },
     "metadata": {},
     "output_type": "display_data"
    },
    {
     "data": {
      "text/html": [
       "<pre>| 2670      | 5h 49m        | 8.00319e+006   | 0               |</pre>"
      ],
      "text/plain": [
       "| 2670      | 5h 49m        | 8.00319e+006   | 0               |"
      ]
     },
     "metadata": {},
     "output_type": "display_data"
    },
    {
     "data": {
      "text/html": [
       "<pre>| 2680      | 5h 50m        | 8.02851e+006   | 0               |</pre>"
      ],
      "text/plain": [
       "| 2680      | 5h 50m        | 8.02851e+006   | 0               |"
      ]
     },
     "metadata": {},
     "output_type": "display_data"
    },
    {
     "data": {
      "text/html": [
       "<pre>| 2690      | 5h 52m        | 7.43562e+006   | 0               |</pre>"
      ],
      "text/plain": [
       "| 2690      | 5h 52m        | 7.43562e+006   | 0               |"
      ]
     },
     "metadata": {},
     "output_type": "display_data"
    },
    {
     "data": {
      "text/html": [
       "<pre>| 2700      | 5h 53m        | 8.94813e+006   | 0               |</pre>"
      ],
      "text/plain": [
       "| 2700      | 5h 53m        | 8.94813e+006   | 0               |"
      ]
     },
     "metadata": {},
     "output_type": "display_data"
    },
    {
     "data": {
      "text/html": [
       "<pre>| 2710      | 5h 54m        | 7.98003e+006   | 0               |</pre>"
      ],
      "text/plain": [
       "| 2710      | 5h 54m        | 7.98003e+006   | 0               |"
      ]
     },
     "metadata": {},
     "output_type": "display_data"
    },
    {
     "data": {
      "text/html": [
       "<pre>| 2720      | 5h 56m        | 8.13039e+006   | 0               |</pre>"
      ],
      "text/plain": [
       "| 2720      | 5h 56m        | 8.13039e+006   | 0               |"
      ]
     },
     "metadata": {},
     "output_type": "display_data"
    },
    {
     "data": {
      "text/html": [
       "<pre>| 2730      | 5h 57m        | 7.967e+006     | 0               |</pre>"
      ],
      "text/plain": [
       "| 2730      | 5h 57m        | 7.967e+006     | 0               |"
      ]
     },
     "metadata": {},
     "output_type": "display_data"
    },
    {
     "data": {
      "text/html": [
       "<pre>| 2740      | 5h 58m        | 8.49629e+006   | 0               |</pre>"
      ],
      "text/plain": [
       "| 2740      | 5h 58m        | 8.49629e+006   | 0               |"
      ]
     },
     "metadata": {},
     "output_type": "display_data"
    },
    {
     "data": {
      "text/html": [
       "<pre>| 2750      | 6h 0m         | 8.09201e+006   | 0               |</pre>"
      ],
      "text/plain": [
       "| 2750      | 6h 0m         | 8.09201e+006   | 0               |"
      ]
     },
     "metadata": {},
     "output_type": "display_data"
    },
    {
     "data": {
      "text/html": [
       "<pre>| 2760      | 6h 1m         | 7.48564e+006   | 0               |</pre>"
      ],
      "text/plain": [
       "| 2760      | 6h 1m         | 7.48564e+006   | 0               |"
      ]
     },
     "metadata": {},
     "output_type": "display_data"
    },
    {
     "data": {
      "text/html": [
       "<pre>| 2770      | 6h 2m         | 7.81102e+006   | 0               |</pre>"
      ],
      "text/plain": [
       "| 2770      | 6h 2m         | 7.81102e+006   | 0               |"
      ]
     },
     "metadata": {},
     "output_type": "display_data"
    },
    {
     "data": {
      "text/html": [
       "<pre>| 2780      | 6h 4m         | 8.00319e+006   | 0               |</pre>"
      ],
      "text/plain": [
       "| 2780      | 6h 4m         | 8.00319e+006   | 0               |"
      ]
     },
     "metadata": {},
     "output_type": "display_data"
    },
    {
     "data": {
      "text/html": [
       "<pre>| 2790      | 6h 5m         | 8.14919e+006   | 0               |</pre>"
      ],
      "text/plain": [
       "| 2790      | 6h 5m         | 8.14919e+006   | 0               |"
      ]
     },
     "metadata": {},
     "output_type": "display_data"
    },
    {
     "data": {
      "text/html": [
       "<pre>| 2800      | 6h 6m         | 7.44872e+006   | 0               |</pre>"
      ],
      "text/plain": [
       "| 2800      | 6h 6m         | 7.44872e+006   | 0               |"
      ]
     },
     "metadata": {},
     "output_type": "display_data"
    },
    {
     "data": {
      "text/html": [
       "<pre>| 2810      | 6h 8m         | 8.0817e+006    | 0               |</pre>"
      ],
      "text/plain": [
       "| 2810      | 6h 8m         | 8.0817e+006    | 0               |"
      ]
     },
     "metadata": {},
     "output_type": "display_data"
    },
    {
     "data": {
      "text/html": [
       "<pre>| 2820      | 6h 9m         | 7.87111e+006   | 0               |</pre>"
      ],
      "text/plain": [
       "| 2820      | 6h 9m         | 7.87111e+006   | 0               |"
      ]
     },
     "metadata": {},
     "output_type": "display_data"
    },
    {
     "data": {
      "text/html": [
       "<pre>| 2830      | 6h 10m        | 7.60956e+006   | 0               |</pre>"
      ],
      "text/plain": [
       "| 2830      | 6h 10m        | 7.60956e+006   | 0               |"
      ]
     },
     "metadata": {},
     "output_type": "display_data"
    },
    {
     "data": {
      "text/html": [
       "<pre>| 2840      | 6h 11m        | 7.80813e+006   | 0               |</pre>"
      ],
      "text/plain": [
       "| 2840      | 6h 11m        | 7.80813e+006   | 0               |"
      ]
     },
     "metadata": {},
     "output_type": "display_data"
    },
    {
     "data": {
      "text/html": [
       "<pre>| 2850      | 6h 13m        | 8.35088e+006   | 0               |</pre>"
      ],
      "text/plain": [
       "| 2850      | 6h 13m        | 8.35088e+006   | 0               |"
      ]
     },
     "metadata": {},
     "output_type": "display_data"
    },
    {
     "data": {
      "text/html": [
       "<pre>| 2860      | 6h 14m        | 7.62511e+006   | 0               |</pre>"
      ],
      "text/plain": [
       "| 2860      | 6h 14m        | 7.62511e+006   | 0               |"
      ]
     },
     "metadata": {},
     "output_type": "display_data"
    },
    {
     "data": {
      "text/html": [
       "<pre>| 2870      | 6h 15m        | 8.01836e+006   | 0               |</pre>"
      ],
      "text/plain": [
       "| 2870      | 6h 15m        | 8.01836e+006   | 0               |"
      ]
     },
     "metadata": {},
     "output_type": "display_data"
    },
    {
     "data": {
      "text/html": [
       "<pre>| 2880      | 6h 17m        | 8.01532e+006   | 0               |</pre>"
      ],
      "text/plain": [
       "| 2880      | 6h 17m        | 8.01532e+006   | 0               |"
      ]
     },
     "metadata": {},
     "output_type": "display_data"
    },
    {
     "data": {
      "text/html": [
       "<pre>| 2890      | 6h 18m        | 9.16269e+006   | 0               |</pre>"
      ],
      "text/plain": [
       "| 2890      | 6h 18m        | 9.16269e+006   | 0               |"
      ]
     },
     "metadata": {},
     "output_type": "display_data"
    },
    {
     "data": {
      "text/html": [
       "<pre>| 2900      | 6h 19m        | 7.70195e+006   | 0               |</pre>"
      ],
      "text/plain": [
       "| 2900      | 6h 19m        | 7.70195e+006   | 0               |"
      ]
     },
     "metadata": {},
     "output_type": "display_data"
    },
    {
     "data": {
      "text/html": [
       "<pre>| 2910      | 6h 21m        | 7.50956e+006   | 0               |</pre>"
      ],
      "text/plain": [
       "| 2910      | 6h 21m        | 7.50956e+006   | 0               |"
      ]
     },
     "metadata": {},
     "output_type": "display_data"
    },
    {
     "data": {
      "text/html": [
       "<pre>| 2920      | 6h 22m        | 8.24987e+006   | 0               |</pre>"
      ],
      "text/plain": [
       "| 2920      | 6h 22m        | 8.24987e+006   | 0               |"
      ]
     },
     "metadata": {},
     "output_type": "display_data"
    },
    {
     "data": {
      "text/html": [
       "<pre>| 2930      | 6h 23m        | 8.23702e+006   | 0               |</pre>"
      ],
      "text/plain": [
       "| 2930      | 6h 23m        | 8.23702e+006   | 0               |"
      ]
     },
     "metadata": {},
     "output_type": "display_data"
    },
    {
     "data": {
      "text/html": [
       "<pre>| 2940      | 6h 25m        | 8.14709e+006   | 0               |</pre>"
      ],
      "text/plain": [
       "| 2940      | 6h 25m        | 8.14709e+006   | 0               |"
      ]
     },
     "metadata": {},
     "output_type": "display_data"
    },
    {
     "data": {
      "text/html": [
       "<pre>| 2950      | 6h 26m        | 7.33417e+006   | 0               |</pre>"
      ],
      "text/plain": [
       "| 2950      | 6h 26m        | 7.33417e+006   | 0               |"
      ]
     },
     "metadata": {},
     "output_type": "display_data"
    },
    {
     "data": {
      "text/html": [
       "<pre>| 2960      | 6h 27m        | 8.22527e+006   | 0               |</pre>"
      ],
      "text/plain": [
       "| 2960      | 6h 27m        | 8.22527e+006   | 0               |"
      ]
     },
     "metadata": {},
     "output_type": "display_data"
    },
    {
     "data": {
      "text/html": [
       "<pre>| 2970      | 6h 29m        | 7.68795e+006   | 0               |</pre>"
      ],
      "text/plain": [
       "| 2970      | 6h 29m        | 7.68795e+006   | 0               |"
      ]
     },
     "metadata": {},
     "output_type": "display_data"
    },
    {
     "data": {
      "text/html": [
       "<pre>| 2980      | 6h 30m        | 7.63245e+006   | 0               |</pre>"
      ],
      "text/plain": [
       "| 2980      | 6h 30m        | 7.63245e+006   | 0               |"
      ]
     },
     "metadata": {},
     "output_type": "display_data"
    },
    {
     "data": {
      "text/html": [
       "<pre>| 2990      | 6h 31m        | 7.8633e+006    | 0               |</pre>"
      ],
      "text/plain": [
       "| 2990      | 6h 31m        | 7.8633e+006    | 0               |"
      ]
     },
     "metadata": {},
     "output_type": "display_data"
    },
    {
     "data": {
      "text/html": [
       "<pre>| 3000      | 6h 33m        | 8.32021e+006   | 0               |</pre>"
      ],
      "text/plain": [
       "| 3000      | 6h 33m        | 8.32021e+006   | 0               |"
      ]
     },
     "metadata": {},
     "output_type": "display_data"
    },
    {
     "data": {
      "text/html": [
       "<pre>| 3010      | 6h 34m        | 7.9252e+006    | 0               |</pre>"
      ],
      "text/plain": [
       "| 3010      | 6h 34m        | 7.9252e+006    | 0               |"
      ]
     },
     "metadata": {},
     "output_type": "display_data"
    },
    {
     "data": {
      "text/html": [
       "<pre>| 3020      | 6h 35m        | 8.17545e+006   | 0               |</pre>"
      ],
      "text/plain": [
       "| 3020      | 6h 35m        | 8.17545e+006   | 0               |"
      ]
     },
     "metadata": {},
     "output_type": "display_data"
    },
    {
     "data": {
      "text/html": [
       "<pre>| 3030      | 6h 37m        | 8.06424e+006   | 0               |</pre>"
      ],
      "text/plain": [
       "| 3030      | 6h 37m        | 8.06424e+006   | 0               |"
      ]
     },
     "metadata": {},
     "output_type": "display_data"
    },
    {
     "data": {
      "text/html": [
       "<pre>| 3040      | 6h 38m        | 7.41996e+006   | 0               |</pre>"
      ],
      "text/plain": [
       "| 3040      | 6h 38m        | 7.41996e+006   | 0               |"
      ]
     },
     "metadata": {},
     "output_type": "display_data"
    },
    {
     "data": {
      "text/html": [
       "<pre>| 3050      | 6h 39m        | 8.4196e+006    | 0               |</pre>"
      ],
      "text/plain": [
       "| 3050      | 6h 39m        | 8.4196e+006    | 0               |"
      ]
     },
     "metadata": {},
     "output_type": "display_data"
    },
    {
     "data": {
      "text/html": [
       "<pre>| 3060      | 6h 41m        | 7.50601e+006   | 0               |</pre>"
      ],
      "text/plain": [
       "| 3060      | 6h 41m        | 7.50601e+006   | 0               |"
      ]
     },
     "metadata": {},
     "output_type": "display_data"
    },
    {
     "data": {
      "text/html": [
       "<pre>| 3070      | 6h 42m        | 7.8956e+006    | 0               |</pre>"
      ],
      "text/plain": [
       "| 3070      | 6h 42m        | 7.8956e+006    | 0               |"
      ]
     },
     "metadata": {},
     "output_type": "display_data"
    },
    {
     "data": {
      "text/html": [
       "<pre>| 3080      | 6h 43m        | 8.60813e+006   | 0               |</pre>"
      ],
      "text/plain": [
       "| 3080      | 6h 43m        | 8.60813e+006   | 0               |"
      ]
     },
     "metadata": {},
     "output_type": "display_data"
    },
    {
     "data": {
      "text/html": [
       "<pre>| 3090      | 6h 44m        | 6.60007e+006   | 0               |</pre>"
      ],
      "text/plain": [
       "| 3090      | 6h 44m        | 6.60007e+006   | 0               |"
      ]
     },
     "metadata": {},
     "output_type": "display_data"
    },
    {
     "data": {
      "text/html": [
       "<pre>| 3100      | 6h 46m        | 8.19446e+006   | 0               |</pre>"
      ],
      "text/plain": [
       "| 3100      | 6h 46m        | 8.19446e+006   | 0               |"
      ]
     },
     "metadata": {},
     "output_type": "display_data"
    },
    {
     "data": {
      "text/html": [
       "<pre>| 3110      | 6h 47m        | 7.11454e+006   | 0               |</pre>"
      ],
      "text/plain": [
       "| 3110      | 6h 47m        | 7.11454e+006   | 0               |"
      ]
     },
     "metadata": {},
     "output_type": "display_data"
    },
    {
     "data": {
      "text/html": [
       "<pre>| 3120      | 6h 48m        | 8.17861e+006   | 0               |</pre>"
      ],
      "text/plain": [
       "| 3120      | 6h 48m        | 8.17861e+006   | 0               |"
      ]
     },
     "metadata": {},
     "output_type": "display_data"
    },
    {
     "data": {
      "text/html": [
       "<pre>| 3130      | 6h 50m        | 7.94804e+006   | 0               |</pre>"
      ],
      "text/plain": [
       "| 3130      | 6h 50m        | 7.94804e+006   | 0               |"
      ]
     },
     "metadata": {},
     "output_type": "display_data"
    },
    {
     "data": {
      "text/html": [
       "<pre>| 3140      | 6h 51m        | 8.55934e+006   | 0               |</pre>"
      ],
      "text/plain": [
       "| 3140      | 6h 51m        | 8.55934e+006   | 0               |"
      ]
     },
     "metadata": {},
     "output_type": "display_data"
    },
    {
     "data": {
      "text/html": [
       "<pre>| 3150      | 6h 52m        | 7.36654e+006   | 0               |</pre>"
      ],
      "text/plain": [
       "| 3150      | 6h 52m        | 7.36654e+006   | 0               |"
      ]
     },
     "metadata": {},
     "output_type": "display_data"
    },
    {
     "data": {
      "text/html": [
       "<pre>| 3160      | 6h 54m        | 7.62786e+006   | 0               |</pre>"
      ],
      "text/plain": [
       "| 3160      | 6h 54m        | 7.62786e+006   | 0               |"
      ]
     },
     "metadata": {},
     "output_type": "display_data"
    },
    {
     "data": {
      "text/html": [
       "<pre>| 3170      | 6h 55m        | 7.97101e+006   | 0               |</pre>"
      ],
      "text/plain": [
       "| 3170      | 6h 55m        | 7.97101e+006   | 0               |"
      ]
     },
     "metadata": {},
     "output_type": "display_data"
    },
    {
     "data": {
      "text/html": [
       "<pre>| 3180      | 6h 56m        | 8.20187e+006   | 0               |</pre>"
      ],
      "text/plain": [
       "| 3180      | 6h 56m        | 8.20187e+006   | 0               |"
      ]
     },
     "metadata": {},
     "output_type": "display_data"
    },
    {
     "data": {
      "text/html": [
       "<pre>| 3190      | 6h 58m        | 8.65629e+006   | 0               |</pre>"
      ],
      "text/plain": [
       "| 3190      | 6h 58m        | 8.65629e+006   | 0               |"
      ]
     },
     "metadata": {},
     "output_type": "display_data"
    },
    {
     "data": {
      "text/html": [
       "<pre>| 3200      | 6h 59m        | 8.24237e+006   | 0               |</pre>"
      ],
      "text/plain": [
       "| 3200      | 6h 59m        | 8.24237e+006   | 0               |"
      ]
     },
     "metadata": {},
     "output_type": "display_data"
    },
    {
     "data": {
      "text/html": [
       "<pre>| 3210      | 7h 0m         | 7.93511e+006   | 0               |</pre>"
      ],
      "text/plain": [
       "| 3210      | 7h 0m         | 7.93511e+006   | 0               |"
      ]
     },
     "metadata": {},
     "output_type": "display_data"
    },
    {
     "data": {
      "text/html": [
       "<pre>| 3220      | 7h 2m         | 8.21568e+006   | 0               |</pre>"
      ],
      "text/plain": [
       "| 3220      | 7h 2m         | 8.21568e+006   | 0               |"
      ]
     },
     "metadata": {},
     "output_type": "display_data"
    },
    {
     "data": {
      "text/html": [
       "<pre>| 3230      | 7h 3m         | 7.23959e+006   | 0               |</pre>"
      ],
      "text/plain": [
       "| 3230      | 7h 3m         | 7.23959e+006   | 0               |"
      ]
     },
     "metadata": {},
     "output_type": "display_data"
    },
    {
     "data": {
      "text/html": [
       "<pre>| 3240      | 7h 4m         | 8.40065e+006   | 0               |</pre>"
      ],
      "text/plain": [
       "| 3240      | 7h 4m         | 8.40065e+006   | 0               |"
      ]
     },
     "metadata": {},
     "output_type": "display_data"
    },
    {
     "data": {
      "text/html": [
       "<pre>| 3250      | 7h 5m         | 8.26708e+006   | 0               |</pre>"
      ],
      "text/plain": [
       "| 3250      | 7h 5m         | 8.26708e+006   | 0               |"
      ]
     },
     "metadata": {},
     "output_type": "display_data"
    },
    {
     "data": {
      "text/html": [
       "<pre>| 3260      | 7h 7m         | 8.06424e+006   | 0               |</pre>"
      ],
      "text/plain": [
       "| 3260      | 7h 7m         | 8.06424e+006   | 0               |"
      ]
     },
     "metadata": {},
     "output_type": "display_data"
    },
    {
     "data": {
      "text/html": [
       "<pre>| 3270      | 7h 8m         | 9.04123e+006   | 0               |</pre>"
      ],
      "text/plain": [
       "| 3270      | 7h 8m         | 9.04123e+006   | 0               |"
      ]
     },
     "metadata": {},
     "output_type": "display_data"
    },
    {
     "data": {
      "text/html": [
       "<pre>| 3280      | 7h 9m         | 8.44763e+006   | 0               |</pre>"
      ],
      "text/plain": [
       "| 3280      | 7h 9m         | 8.44763e+006   | 0               |"
      ]
     },
     "metadata": {},
     "output_type": "display_data"
    },
    {
     "data": {
      "text/html": [
       "<pre>| 3290      | 7h 11m        | 8.8212e+006    | 0               |</pre>"
      ],
      "text/plain": [
       "| 3290      | 7h 11m        | 8.8212e+006    | 0               |"
      ]
     },
     "metadata": {},
     "output_type": "display_data"
    },
    {
     "data": {
      "text/html": [
       "<pre>| 3300      | 7h 12m        | 7.605e+006     | 0               |</pre>"
      ],
      "text/plain": [
       "| 3300      | 7h 12m        | 7.605e+006     | 0               |"
      ]
     },
     "metadata": {},
     "output_type": "display_data"
    },
    {
     "data": {
      "text/html": [
       "<pre>| 3310      | 7h 13m        | 8.09718e+006   | 0               |</pre>"
      ],
      "text/plain": [
       "| 3310      | 7h 13m        | 8.09718e+006   | 0               |"
      ]
     },
     "metadata": {},
     "output_type": "display_data"
    },
    {
     "data": {
      "text/html": [
       "<pre>| 3320      | 7h 15m        | 8.03869e+006   | 0               |</pre>"
      ],
      "text/plain": [
       "| 3320      | 7h 15m        | 8.03869e+006   | 0               |"
      ]
     },
     "metadata": {},
     "output_type": "display_data"
    },
    {
     "data": {
      "text/html": [
       "<pre>| 3330      | 7h 16m        | 8.00521e+006   | 0               |</pre>"
      ],
      "text/plain": [
       "| 3330      | 7h 16m        | 8.00521e+006   | 0               |"
      ]
     },
     "metadata": {},
     "output_type": "display_data"
    },
    {
     "data": {
      "text/html": [
       "<pre>| 3340      | 7h 17m        | 7.93313e+006   | 0               |</pre>"
      ],
      "text/plain": [
       "| 3340      | 7h 17m        | 7.93313e+006   | 0               |"
      ]
     },
     "metadata": {},
     "output_type": "display_data"
    },
    {
     "data": {
      "text/html": [
       "<pre>| 3350      | 7h 19m        | 7.87795e+006   | 0               |</pre>"
      ],
      "text/plain": [
       "| 3350      | 7h 19m        | 7.87795e+006   | 0               |"
      ]
     },
     "metadata": {},
     "output_type": "display_data"
    },
    {
     "data": {
      "text/html": [
       "<pre>| 3360      | 7h 20m        | 8.1231e+006    | 0               |</pre>"
      ],
      "text/plain": [
       "| 3360      | 7h 20m        | 8.1231e+006    | 0               |"
      ]
     },
     "metadata": {},
     "output_type": "display_data"
    },
    {
     "data": {
      "text/html": [
       "<pre>| 3370      | 7h 21m        | 7.88089e+006   | 0               |</pre>"
      ],
      "text/plain": [
       "| 3370      | 7h 21m        | 7.88089e+006   | 0               |"
      ]
     },
     "metadata": {},
     "output_type": "display_data"
    },
    {
     "data": {
      "text/html": [
       "<pre>| 3380      | 7h 23m        | 7.73482e+006   | 0               |</pre>"
      ],
      "text/plain": [
       "| 3380      | 7h 23m        | 7.73482e+006   | 0               |"
      ]
     },
     "metadata": {},
     "output_type": "display_data"
    },
    {
     "data": {
      "text/html": [
       "<pre>| 3390      | 7h 24m        | 8.02242e+006   | 0               |</pre>"
      ],
      "text/plain": [
       "| 3390      | 7h 24m        | 8.02242e+006   | 0               |"
      ]
     },
     "metadata": {},
     "output_type": "display_data"
    },
    {
     "data": {
      "text/html": [
       "<pre>| 3400      | 7h 25m        | 8.11479e+006   | 0               |</pre>"
      ],
      "text/plain": [
       "| 3400      | 7h 25m        | 8.11479e+006   | 0               |"
      ]
     },
     "metadata": {},
     "output_type": "display_data"
    },
    {
     "data": {
      "text/html": [
       "<pre>| 3410      | 7h 27m        | 7.88873e+006   | 0               |</pre>"
      ],
      "text/plain": [
       "| 3410      | 7h 27m        | 7.88873e+006   | 0               |"
      ]
     },
     "metadata": {},
     "output_type": "display_data"
    },
    {
     "data": {
      "text/html": [
       "<pre>| 3420      | 7h 28m        | 7.69915e+006   | 0               |</pre>"
      ],
      "text/plain": [
       "| 3420      | 7h 28m        | 7.69915e+006   | 0               |"
      ]
     },
     "metadata": {},
     "output_type": "display_data"
    },
    {
     "data": {
      "text/html": [
       "<pre>| 3430      | 7h 29m        | 8.38067e+006   | 0               |</pre>"
      ],
      "text/plain": [
       "| 3430      | 7h 29m        | 8.38067e+006   | 0               |"
      ]
     },
     "metadata": {},
     "output_type": "display_data"
    },
    {
     "data": {
      "text/html": [
       "<pre>| 3440      | 7h 31m        | 8.05093e+006   | 0               |</pre>"
      ],
      "text/plain": [
       "| 3440      | 7h 31m        | 8.05093e+006   | 0               |"
      ]
     },
     "metadata": {},
     "output_type": "display_data"
    },
    {
     "data": {
      "text/html": [
       "<pre>| 3450      | 7h 32m        | 8.75666e+006   | 0               |</pre>"
      ],
      "text/plain": [
       "| 3450      | 7h 32m        | 8.75666e+006   | 0               |"
      ]
     },
     "metadata": {},
     "output_type": "display_data"
    },
    {
     "data": {
      "text/html": [
       "<pre>| 3460      | 7h 33m        | 8.50768e+006   | 0               |</pre>"
      ],
      "text/plain": [
       "| 3460      | 7h 33m        | 8.50768e+006   | 0               |"
      ]
     },
     "metadata": {},
     "output_type": "display_data"
    },
    {
     "data": {
      "text/html": [
       "<pre>| 3470      | 7h 34m        | 7.46977e+006   | 0               |</pre>"
      ],
      "text/plain": [
       "| 3470      | 7h 34m        | 7.46977e+006   | 0               |"
      ]
     },
     "metadata": {},
     "output_type": "display_data"
    },
    {
     "data": {
      "text/html": [
       "<pre>| 3480      | 7h 36m        | 7.76322e+006   | 0               |</pre>"
      ],
      "text/plain": [
       "| 3480      | 7h 36m        | 7.76322e+006   | 0               |"
      ]
     },
     "metadata": {},
     "output_type": "display_data"
    },
    {
     "data": {
      "text/html": [
       "<pre>| 3490      | 7h 37m        | 8.06936e+006   | 0               |</pre>"
      ],
      "text/plain": [
       "| 3490      | 7h 37m        | 8.06936e+006   | 0               |"
      ]
     },
     "metadata": {},
     "output_type": "display_data"
    },
    {
     "data": {
      "text/html": [
       "<pre>| 3500      | 7h 38m        | 7.94804e+006   | 0               |</pre>"
      ],
      "text/plain": [
       "| 3500      | 7h 38m        | 7.94804e+006   | 0               |"
      ]
     },
     "metadata": {},
     "output_type": "display_data"
    },
    {
     "data": {
      "text/html": [
       "<pre>| 3510      | 7h 40m        | 8.33661e+006   | 0               |</pre>"
      ],
      "text/plain": [
       "| 3510      | 7h 40m        | 8.33661e+006   | 0               |"
      ]
     },
     "metadata": {},
     "output_type": "display_data"
    },
    {
     "data": {
      "text/html": [
       "<pre>| 3520      | 7h 41m        | 7.91432e+006   | 0               |</pre>"
      ],
      "text/plain": [
       "| 3520      | 7h 41m        | 7.91432e+006   | 0               |"
      ]
     },
     "metadata": {},
     "output_type": "display_data"
    },
    {
     "data": {
      "text/html": [
       "<pre>| 3530      | 7h 42m        | 7.72352e+006   | 0               |</pre>"
      ],
      "text/plain": [
       "| 3530      | 7h 42m        | 7.72352e+006   | 0               |"
      ]
     },
     "metadata": {},
     "output_type": "display_data"
    },
    {
     "data": {
      "text/html": [
       "<pre>| 3540      | 7h 44m        | 8.56396e+006   | 0               |</pre>"
      ],
      "text/plain": [
       "| 3540      | 7h 44m        | 8.56396e+006   | 0               |"
      ]
     },
     "metadata": {},
     "output_type": "display_data"
    },
    {
     "data": {
      "text/html": [
       "<pre>| 3550      | 7h 45m        | 7.66936e+006   | 0               |</pre>"
      ],
      "text/plain": [
       "| 3550      | 7h 45m        | 7.66936e+006   | 0               |"
      ]
     },
     "metadata": {},
     "output_type": "display_data"
    },
    {
     "data": {
      "text/html": [
       "<pre>| 3560      | 7h 46m        | 8.01836e+006   | 0               |</pre>"
      ],
      "text/plain": [
       "| 3560      | 7h 46m        | 8.01836e+006   | 0               |"
      ]
     },
     "metadata": {},
     "output_type": "display_data"
    },
    {
     "data": {
      "text/html": [
       "<pre>| 3570      | 7h 48m        | 8.45552e+006   | 0               |</pre>"
      ],
      "text/plain": [
       "| 3570      | 7h 48m        | 8.45552e+006   | 0               |"
      ]
     },
     "metadata": {},
     "output_type": "display_data"
    },
    {
     "data": {
      "text/html": [
       "<pre>| 3580      | 7h 49m        | 8.44426e+006   | 0               |</pre>"
      ],
      "text/plain": [
       "| 3580      | 7h 49m        | 8.44426e+006   | 0               |"
      ]
     },
     "metadata": {},
     "output_type": "display_data"
    },
    {
     "data": {
      "text/html": [
       "<pre>| 3590      | 7h 50m        | 7.56419e+006   | 0               |</pre>"
      ],
      "text/plain": [
       "| 3590      | 7h 50m        | 7.56419e+006   | 0               |"
      ]
     },
     "metadata": {},
     "output_type": "display_data"
    },
    {
     "data": {
      "text/html": [
       "<pre>| 3600      | 7h 52m        | 8.66456e+006   | 0               |</pre>"
      ],
      "text/plain": [
       "| 3600      | 7h 52m        | 8.66456e+006   | 0               |"
      ]
     },
     "metadata": {},
     "output_type": "display_data"
    },
    {
     "data": {
      "text/html": [
       "<pre>| 3610      | 7h 53m        | 7.79374e+006   | 0               |</pre>"
      ],
      "text/plain": [
       "| 3610      | 7h 53m        | 7.79374e+006   | 0               |"
      ]
     },
     "metadata": {},
     "output_type": "display_data"
    },
    {
     "data": {
      "text/html": [
       "<pre>| 3620      | 7h 54m        | 8.10442e+006   | 0               |</pre>"
      ],
      "text/plain": [
       "| 3620      | 7h 54m        | 8.10442e+006   | 0               |"
      ]
     },
     "metadata": {},
     "output_type": "display_data"
    },
    {
     "data": {
      "text/html": [
       "<pre>| 3630      | 7h 56m        | 8.26385e+006   | 0               |</pre>"
      ],
      "text/plain": [
       "| 3630      | 7h 56m        | 8.26385e+006   | 0               |"
      ]
     },
     "metadata": {},
     "output_type": "display_data"
    },
    {
     "data": {
      "text/html": [
       "<pre>| 3640      | 7h 57m        | 8.04889e+006   | 0               |</pre>"
      ],
      "text/plain": [
       "| 3640      | 7h 57m        | 8.04889e+006   | 0               |"
      ]
     },
     "metadata": {},
     "output_type": "display_data"
    },
    {
     "data": {
      "text/html": [
       "<pre>| 3650      | 7h 58m        | 8.11271e+006   | 0               |</pre>"
      ],
      "text/plain": [
       "| 3650      | 7h 58m        | 8.11271e+006   | 0               |"
      ]
     },
     "metadata": {},
     "output_type": "display_data"
    },
    {
     "data": {
      "text/html": [
       "<pre>| 3660      | 7h 59m        | 8.14709e+006   | 0               |</pre>"
      ],
      "text/plain": [
       "| 3660      | 7h 59m        | 8.14709e+006   | 0               |"
      ]
     },
     "metadata": {},
     "output_type": "display_data"
    },
    {
     "data": {
      "text/html": [
       "<pre>| 3670      | 8h 1m         | 8.28435e+006   | 0               |</pre>"
      ],
      "text/plain": [
       "| 3670      | 8h 1m         | 8.28435e+006   | 0               |"
      ]
     },
     "metadata": {},
     "output_type": "display_data"
    },
    {
     "data": {
      "text/html": [
       "<pre>| 3680      | 8h 2m         | 8.24237e+006   | 0               |</pre>"
      ],
      "text/plain": [
       "| 3680      | 8h 2m         | 8.24237e+006   | 0               |"
      ]
     },
     "metadata": {},
     "output_type": "display_data"
    },
    {
     "data": {
      "text/html": [
       "<pre>| 3690      | 8h 3m         | 7.74616e+006   | 0               |</pre>"
      ],
      "text/plain": [
       "| 3690      | 8h 3m         | 7.74616e+006   | 0               |"
      ]
     },
     "metadata": {},
     "output_type": "display_data"
    },
    {
     "data": {
      "text/html": [
       "<pre>| 3700      | 8h 5m         | 7.85941e+006   | 0               |</pre>"
      ],
      "text/plain": [
       "| 3700      | 8h 5m         | 7.85941e+006   | 0               |"
      ]
     },
     "metadata": {},
     "output_type": "display_data"
    },
    {
     "data": {
      "text/html": [
       "<pre>| 3710      | 8h 6m         | 8.57554e+006   | 0               |</pre>"
      ],
      "text/plain": [
       "| 3710      | 8h 6m         | 8.57554e+006   | 0               |"
      ]
     },
     "metadata": {},
     "output_type": "display_data"
    },
    {
     "data": {
      "text/html": [
       "<pre>| 3720      | 8h 7m         | 8.1231e+006    | 0               |</pre>"
      ],
      "text/plain": [
       "| 3720      | 8h 7m         | 8.1231e+006    | 0               |"
      ]
     },
     "metadata": {},
     "output_type": "display_data"
    },
    {
     "data": {
      "text/html": [
       "<pre>| 3730      | 8h 9m         | 8.50768e+006   | 0               |</pre>"
      ],
      "text/plain": [
       "| 3730      | 8h 9m         | 8.50768e+006   | 0               |"
      ]
     },
     "metadata": {},
     "output_type": "display_data"
    },
    {
     "data": {
      "text/html": [
       "<pre>| 3740      | 8h 10m        | 8.77848e+006   | 0               |</pre>"
      ],
      "text/plain": [
       "| 3740      | 8h 10m        | 8.77848e+006   | 0               |"
      ]
     },
     "metadata": {},
     "output_type": "display_data"
    },
    {
     "data": {
      "text/html": [
       "<pre>| 3750      | 8h 11m        | 6.9661e+006    | 0               |</pre>"
      ],
      "text/plain": [
       "| 3750      | 8h 11m        | 6.9661e+006    | 0               |"
      ]
     },
     "metadata": {},
     "output_type": "display_data"
    },
    {
     "data": {
      "text/html": [
       "<pre>| 3760      | 8h 13m        | 7.99008e+006   | 0               |</pre>"
      ],
      "text/plain": [
       "| 3760      | 8h 13m        | 7.99008e+006   | 0               |"
      ]
     },
     "metadata": {},
     "output_type": "display_data"
    },
    {
     "data": {
      "text/html": [
       "<pre>| 3770      | 8h 14m        | 7.85941e+006   | 0               |</pre>"
      ],
      "text/plain": [
       "| 3770      | 8h 14m        | 7.85941e+006   | 0               |"
      ]
     },
     "metadata": {},
     "output_type": "display_data"
    },
    {
     "data": {
      "text/html": [
       "<pre>| 3780      | 8h 15m        | 7.71601e+006   | 0               |</pre>"
      ],
      "text/plain": [
       "| 3780      | 8h 15m        | 7.71601e+006   | 0               |"
      ]
     },
     "metadata": {},
     "output_type": "display_data"
    },
    {
     "data": {
      "text/html": [
       "<pre>| 3790      | 8h 17m        | 8.13351e+006   | 0               |</pre>"
      ],
      "text/plain": [
       "| 3790      | 8h 17m        | 8.13351e+006   | 0               |"
      ]
     },
     "metadata": {},
     "output_type": "display_data"
    },
    {
     "data": {
      "text/html": [
       "<pre>| 3800      | 8h 18m        | 7.68795e+006   | 0               |</pre>"
      ],
      "text/plain": [
       "| 3800      | 8h 18m        | 7.68795e+006   | 0               |"
      ]
     },
     "metadata": {},
     "output_type": "display_data"
    },
    {
     "data": {
      "text/html": [
       "<pre>| 3810      | 8h 19m        | 8.52827e+006   | 0               |</pre>"
      ],
      "text/plain": [
       "| 3810      | 8h 19m        | 8.52827e+006   | 0               |"
      ]
     },
     "metadata": {},
     "output_type": "display_data"
    },
    {
     "data": {
      "text/html": [
       "<pre>| 3820      | 8h 20m        | 7.94605e+006   | 0               |</pre>"
      ],
      "text/plain": [
       "| 3820      | 8h 20m        | 7.94605e+006   | 0               |"
      ]
     },
     "metadata": {},
     "output_type": "display_data"
    },
    {
     "data": {
      "text/html": [
       "<pre>| 3830      | 8h 22m        | 7.9252e+006    | 0               |</pre>"
      ],
      "text/plain": [
       "| 3830      | 8h 22m        | 7.9252e+006    | 0               |"
      ]
     },
     "metadata": {},
     "output_type": "display_data"
    },
    {
     "data": {
      "text/html": [
       "<pre>| 3840      | 8h 23m        | 8.51911e+006   | 0               |</pre>"
      ],
      "text/plain": [
       "| 3840      | 8h 23m        | 8.51911e+006   | 0               |"
      ]
     },
     "metadata": {},
     "output_type": "display_data"
    },
    {
     "data": {
      "text/html": [
       "<pre>| 3850      | 8h 24m        | 8.48265e+006   | 0               |</pre>"
      ],
      "text/plain": [
       "| 3850      | 8h 24m        | 8.48265e+006   | 0               |"
      ]
     },
     "metadata": {},
     "output_type": "display_data"
    },
    {
     "data": {
      "text/html": [
       "<pre>| 3860      | 8h 26m        | 8.31912e+006   | 0               |</pre>"
      ],
      "text/plain": [
       "| 3860      | 8h 26m        | 8.31912e+006   | 0               |"
      ]
     },
     "metadata": {},
     "output_type": "display_data"
    },
    {
     "data": {
      "text/html": [
       "<pre>| 3870      | 8h 27m        | 8.70977e+006   | 0               |</pre>"
      ],
      "text/plain": [
       "| 3870      | 8h 27m        | 8.70977e+006   | 0               |"
      ]
     },
     "metadata": {},
     "output_type": "display_data"
    },
    {
     "data": {
      "text/html": [
       "<pre>| 3880      | 8h 28m        | 8.27895e+006   | 0               |</pre>"
      ],
      "text/plain": [
       "| 3880      | 8h 28m        | 8.27895e+006   | 0               |"
      ]
     },
     "metadata": {},
     "output_type": "display_data"
    },
    {
     "data": {
      "text/html": [
       "<pre>| 3890      | 8h 30m        | 7.62694e+006   | 0               |</pre>"
      ],
      "text/plain": [
       "| 3890      | 8h 30m        | 7.62694e+006   | 0               |"
      ]
     },
     "metadata": {},
     "output_type": "display_data"
    },
    {
     "data": {
      "text/html": [
       "<pre>| 3900      | 8h 31m        | 8.38067e+006   | 0               |</pre>"
      ],
      "text/plain": [
       "| 3900      | 8h 31m        | 8.38067e+006   | 0               |"
      ]
     },
     "metadata": {},
     "output_type": "display_data"
    },
    {
     "data": {
      "text/html": [
       "<pre>| 3910      | 8h 32m        | 7.26862e+006   | 0               |</pre>"
      ],
      "text/plain": [
       "| 3910      | 8h 32m        | 7.26862e+006   | 0               |"
      ]
     },
     "metadata": {},
     "output_type": "display_data"
    },
    {
     "data": {
      "text/html": [
       "<pre>| 3920      | 8h 34m        | 7.90347e+006   | 0               |</pre>"
      ],
      "text/plain": [
       "| 3920      | 8h 34m        | 7.90347e+006   | 0               |"
      ]
     },
     "metadata": {},
     "output_type": "display_data"
    },
    {
     "data": {
      "text/html": [
       "<pre>| 3930      | 8h 35m        | 7.95003e+006   | 0               |</pre>"
      ],
      "text/plain": [
       "| 3930      | 8h 35m        | 7.95003e+006   | 0               |"
      ]
     },
     "metadata": {},
     "output_type": "display_data"
    },
    {
     "data": {
      "text/html": [
       "<pre>| 3940      | 8h 36m        | 7.93268e+006   | 0               |</pre>"
      ],
      "text/plain": [
       "| 3940      | 8h 36m        | 7.93268e+006   | 0               |"
      ]
     },
     "metadata": {},
     "output_type": "display_data"
    },
    {
     "data": {
      "text/html": [
       "<pre>| 3950      | 8h 38m        | 8.40174e+006   | 0               |</pre>"
      ],
      "text/plain": [
       "| 3950      | 8h 38m        | 8.40174e+006   | 0               |"
      ]
     },
     "metadata": {},
     "output_type": "display_data"
    },
    {
     "data": {
      "text/html": [
       "<pre>| 3960      | 8h 39m        | 8.10038e+006   | 0               |</pre>"
      ],
      "text/plain": [
       "| 3960      | 8h 39m        | 8.10038e+006   | 0               |"
      ]
     },
     "metadata": {},
     "output_type": "display_data"
    },
    {
     "data": {
      "text/html": [
       "<pre>| 3970      | 8h 40m        | 6.80569e+006   | 0               |</pre>"
      ],
      "text/plain": [
       "| 3970      | 8h 40m        | 6.80569e+006   | 0               |"
      ]
     },
     "metadata": {},
     "output_type": "display_data"
    },
    {
     "data": {
      "text/html": [
       "<pre>| 3980      | 8h 42m        | 8.26372e+006   | 0               |</pre>"
      ],
      "text/plain": [
       "| 3980      | 8h 42m        | 8.26372e+006   | 0               |"
      ]
     },
     "metadata": {},
     "output_type": "display_data"
    },
    {
     "data": {
      "text/html": [
       "<pre>| 3990      | 8h 43m        | 7.91879e+006   | 0               |</pre>"
      ],
      "text/plain": [
       "| 3990      | 8h 43m        | 7.91879e+006   | 0               |"
      ]
     },
     "metadata": {},
     "output_type": "display_data"
    },
    {
     "data": {
      "text/html": [
       "<pre>| 4000      | 8h 44m        | 9.02533e+006   | 0               |</pre>"
      ],
      "text/plain": [
       "| 4000      | 8h 44m        | 9.02533e+006   | 0               |"
      ]
     },
     "metadata": {},
     "output_type": "display_data"
    },
    {
     "data": {
      "text/html": [
       "<pre>| 4010      | 8h 46m        | 7.90295e+006   | 0               |</pre>"
      ],
      "text/plain": [
       "| 4010      | 8h 46m        | 7.90295e+006   | 0               |"
      ]
     },
     "metadata": {},
     "output_type": "display_data"
    },
    {
     "data": {
      "text/html": [
       "<pre>| 4020      | 8h 47m        | 8.55171e+006   | 0               |</pre>"
      ],
      "text/plain": [
       "| 4020      | 8h 47m        | 8.55171e+006   | 0               |"
      ]
     },
     "metadata": {},
     "output_type": "display_data"
    },
    {
     "data": {
      "text/html": [
       "<pre>| 4030      | 8h 48m        | 7.55784e+006   | 0               |</pre>"
      ],
      "text/plain": [
       "| 4030      | 8h 48m        | 7.55784e+006   | 0               |"
      ]
     },
     "metadata": {},
     "output_type": "display_data"
    },
    {
     "data": {
      "text/html": [
       "<pre>| 4040      | 8h 49m        | 8.23514e+006   | 0               |</pre>"
      ],
      "text/plain": [
       "| 4040      | 8h 49m        | 8.23514e+006   | 0               |"
      ]
     },
     "metadata": {},
     "output_type": "display_data"
    },
    {
     "data": {
      "text/html": [
       "<pre>| 4050      | 8h 51m        | 7.91447e+006   | 0               |</pre>"
      ],
      "text/plain": [
       "| 4050      | 8h 51m        | 7.91447e+006   | 0               |"
      ]
     },
     "metadata": {},
     "output_type": "display_data"
    },
    {
     "data": {
      "text/html": [
       "<pre>| 4060      | 8h 52m        | 8.13926e+006   | 0               |</pre>"
      ],
      "text/plain": [
       "| 4060      | 8h 52m        | 8.13926e+006   | 0               |"
      ]
     },
     "metadata": {},
     "output_type": "display_data"
    },
    {
     "data": {
      "text/html": [
       "<pre>| 4070      | 8h 53m        | 7.36002e+006   | 0               |</pre>"
      ],
      "text/plain": [
       "| 4070      | 8h 53m        | 7.36002e+006   | 0               |"
      ]
     },
     "metadata": {},
     "output_type": "display_data"
    },
    {
     "data": {
      "text/html": [
       "<pre>| 4080      | 8h 55m        | 8.24827e+006   | 0               |</pre>"
      ],
      "text/plain": [
       "| 4080      | 8h 55m        | 8.24827e+006   | 0               |"
      ]
     },
     "metadata": {},
     "output_type": "display_data"
    },
    {
     "data": {
      "text/html": [
       "<pre>| 4090      | 8h 56m        | 8.06277e+006   | 0               |</pre>"
      ],
      "text/plain": [
       "| 4090      | 8h 56m        | 8.06277e+006   | 0               |"
      ]
     },
     "metadata": {},
     "output_type": "display_data"
    },
    {
     "data": {
      "text/html": [
       "<pre>| 4100      | 8h 57m        | 9.00826e+006   | 0               |</pre>"
      ],
      "text/plain": [
       "| 4100      | 8h 57m        | 9.00826e+006   | 0               |"
      ]
     },
     "metadata": {},
     "output_type": "display_data"
    },
    {
     "data": {
      "text/html": [
       "<pre>| 4110      | 8h 59m        | 7.80263e+006   | 0               |</pre>"
      ],
      "text/plain": [
       "| 4110      | 8h 59m        | 7.80263e+006   | 0               |"
      ]
     },
     "metadata": {},
     "output_type": "display_data"
    },
    {
     "data": {
      "text/html": [
       "<pre>| 4120      | 9h 0m         | 7.9324e+006    | 0               |</pre>"
      ],
      "text/plain": [
       "| 4120      | 9h 0m         | 7.9324e+006    | 0               |"
      ]
     },
     "metadata": {},
     "output_type": "display_data"
    },
    {
     "data": {
      "text/html": [
       "<pre>| 4130      | 9h 1m         | 8.10474e+006   | 0               |</pre>"
      ],
      "text/plain": [
       "| 4130      | 9h 1m         | 8.10474e+006   | 0               |"
      ]
     },
     "metadata": {},
     "output_type": "display_data"
    },
    {
     "data": {
      "text/html": [
       "<pre>| 4140      | 9h 2m         | 7.99745e+006   | 0               |</pre>"
      ],
      "text/plain": [
       "| 4140      | 9h 2m         | 7.99745e+006   | 0               |"
      ]
     },
     "metadata": {},
     "output_type": "display_data"
    },
    {
     "data": {
      "text/html": [
       "<pre>| 4150      | 9h 4m         | 7.44811e+006   | 0               |</pre>"
      ],
      "text/plain": [
       "| 4150      | 9h 4m         | 7.44811e+006   | 0               |"
      ]
     },
     "metadata": {},
     "output_type": "display_data"
    },
    {
     "data": {
      "text/html": [
       "<pre>| 4160      | 9h 5m         | 7.82767e+006   | 0               |</pre>"
      ],
      "text/plain": [
       "| 4160      | 9h 5m         | 7.82767e+006   | 0               |"
      ]
     },
     "metadata": {},
     "output_type": "display_data"
    },
    {
     "data": {
      "text/html": [
       "<pre>| 4170      | 9h 6m         | 8.2224e+006    | 0               |</pre>"
      ],
      "text/plain": [
       "| 4170      | 9h 6m         | 8.2224e+006    | 0               |"
      ]
     },
     "metadata": {},
     "output_type": "display_data"
    },
    {
     "data": {
      "text/html": [
       "<pre>| 4180      | 9h 8m         | 7.9824e+006    | 0               |</pre>"
      ],
      "text/plain": [
       "| 4180      | 9h 8m         | 7.9824e+006    | 0               |"
      ]
     },
     "metadata": {},
     "output_type": "display_data"
    },
    {
     "data": {
      "text/html": [
       "<pre>| 4190      | 9h 9m         | 7.07036e+006   | 0               |</pre>"
      ],
      "text/plain": [
       "| 4190      | 9h 9m         | 7.07036e+006   | 0               |"
      ]
     },
     "metadata": {},
     "output_type": "display_data"
    },
    {
     "data": {
      "text/html": [
       "<pre>| 4200      | 9h 10m        | 7.76736e+006   | 0               |</pre>"
      ],
      "text/plain": [
       "| 4200      | 9h 10m        | 7.76736e+006   | 0               |"
      ]
     },
     "metadata": {},
     "output_type": "display_data"
    },
    {
     "data": {
      "text/html": [
       "<pre>| 4210      | 9h 12m        | 7.8665e+006    | 0               |</pre>"
      ],
      "text/plain": [
       "| 4210      | 9h 12m        | 7.8665e+006    | 0               |"
      ]
     },
     "metadata": {},
     "output_type": "display_data"
    },
    {
     "data": {
      "text/html": [
       "<pre>| 4220      | 9h 13m        | 8.54937e+006   | 0               |</pre>"
      ],
      "text/plain": [
       "| 4220      | 9h 13m        | 8.54937e+006   | 0               |"
      ]
     },
     "metadata": {},
     "output_type": "display_data"
    },
    {
     "data": {
      "text/html": [
       "<pre>| 4230      | 9h 14m        | 7.8056e+006    | 0               |</pre>"
      ],
      "text/plain": [
       "| 4230      | 9h 14m        | 7.8056e+006    | 0               |"
      ]
     },
     "metadata": {},
     "output_type": "display_data"
    },
    {
     "data": {
      "text/html": [
       "<pre>| 4240      | 9h 16m        | 8.48415e+006   | 0               |</pre>"
      ],
      "text/plain": [
       "| 4240      | 9h 16m        | 8.48415e+006   | 0               |"
      ]
     },
     "metadata": {},
     "output_type": "display_data"
    },
    {
     "data": {
      "text/html": [
       "<pre>| 4250      | 9h 17m        | 7.59071e+006   | 0               |</pre>"
      ],
      "text/plain": [
       "| 4250      | 9h 17m        | 7.59071e+006   | 0               |"
      ]
     },
     "metadata": {},
     "output_type": "display_data"
    },
    {
     "data": {
      "text/html": [
       "<pre>| 4260      | 9h 18m        | 8.35237e+006   | 0               |</pre>"
      ],
      "text/plain": [
       "| 4260      | 9h 18m        | 8.35237e+006   | 0               |"
      ]
     },
     "metadata": {},
     "output_type": "display_data"
    },
    {
     "data": {
      "text/html": [
       "<pre>| 4270      | 9h 20m        | 7.93548e+006   | 0               |</pre>"
      ],
      "text/plain": [
       "| 4270      | 9h 20m        | 7.93548e+006   | 0               |"
      ]
     },
     "metadata": {},
     "output_type": "display_data"
    },
    {
     "data": {
      "text/html": [
       "<pre>| 4280      | 9h 21m        | 8.13183e+006   | 0               |</pre>"
      ],
      "text/plain": [
       "| 4280      | 9h 21m        | 8.13183e+006   | 0               |"
      ]
     },
     "metadata": {},
     "output_type": "display_data"
    },
    {
     "data": {
      "text/html": [
       "<pre>| 4290      | 9h 22m        | 7.64379e+006   | 0               |</pre>"
      ],
      "text/plain": [
       "| 4290      | 9h 22m        | 7.64379e+006   | 0               |"
      ]
     },
     "metadata": {},
     "output_type": "display_data"
    },
    {
     "data": {
      "text/html": [
       "<pre>| 4300      | 9h 24m        | 8.07071e+006   | 0               |</pre>"
      ],
      "text/plain": [
       "| 4300      | 9h 24m        | 8.07071e+006   | 0               |"
      ]
     },
     "metadata": {},
     "output_type": "display_data"
    },
    {
     "data": {
      "text/html": [
       "<pre>| 4310      | 9h 25m        | 8.59341e+006   | 0               |</pre>"
      ],
      "text/plain": [
       "| 4310      | 9h 25m        | 8.59341e+006   | 0               |"
      ]
     },
     "metadata": {},
     "output_type": "display_data"
    },
    {
     "data": {
      "text/html": [
       "<pre>| 4320      | 9h 26m        | 7.78833e+006   | 0               |</pre>"
      ],
      "text/plain": [
       "| 4320      | 9h 26m        | 7.78833e+006   | 0               |"
      ]
     },
     "metadata": {},
     "output_type": "display_data"
    },
    {
     "data": {
      "text/html": [
       "<pre>| 4330      | 9h 28m        | 8.09336e+006   | 0               |</pre>"
      ],
      "text/plain": [
       "| 4330      | 9h 28m        | 8.09336e+006   | 0               |"
      ]
     },
     "metadata": {},
     "output_type": "display_data"
    },
    {
     "data": {
      "text/html": [
       "<pre>| 4340      | 9h 29m        | 7.91271e+006   | 0               |</pre>"
      ],
      "text/plain": [
       "| 4340      | 9h 29m        | 7.91271e+006   | 0               |"
      ]
     },
     "metadata": {},
     "output_type": "display_data"
    },
    {
     "data": {
      "text/html": [
       "<pre>| 4350      | 9h 30m        | 8.36337e+006   | 0               |</pre>"
      ],
      "text/plain": [
       "| 4350      | 9h 30m        | 8.36337e+006   | 0               |"
      ]
     },
     "metadata": {},
     "output_type": "display_data"
    },
    {
     "data": {
      "text/html": [
       "<pre>| 4360      | 9h 31m        | 7.68921e+006   | 0               |</pre>"
      ],
      "text/plain": [
       "| 4360      | 9h 31m        | 7.68921e+006   | 0               |"
      ]
     },
     "metadata": {},
     "output_type": "display_data"
    },
    {
     "data": {
      "text/html": [
       "<pre>| 4370      | 9h 33m        | 8.23848e+006   | 0               |</pre>"
      ],
      "text/plain": [
       "| 4370      | 9h 33m        | 8.23848e+006   | 0               |"
      ]
     },
     "metadata": {},
     "output_type": "display_data"
    },
    {
     "data": {
      "text/html": [
       "<pre>| 4380      | 9h 34m        | 8.38105e+006   | 0               |</pre>"
      ],
      "text/plain": [
       "| 4380      | 9h 34m        | 8.38105e+006   | 0               |"
      ]
     },
     "metadata": {},
     "output_type": "display_data"
    },
    {
     "data": {
      "text/html": [
       "<pre>| 4390      | 9h 35m        | 7.51608e+006   | 0               |</pre>"
      ],
      "text/plain": [
       "| 4390      | 9h 35m        | 7.51608e+006   | 0               |"
      ]
     },
     "metadata": {},
     "output_type": "display_data"
    },
    {
     "data": {
      "text/html": [
       "<pre>| 4400      | 9h 37m        | 7.91954e+006   | 0               |</pre>"
      ],
      "text/plain": [
       "| 4400      | 9h 37m        | 7.91954e+006   | 0               |"
      ]
     },
     "metadata": {},
     "output_type": "display_data"
    },
    {
     "data": {
      "text/html": [
       "<pre>| 4410      | 9h 38m        | 7.69388e+006   | 0               |</pre>"
      ],
      "text/plain": [
       "| 4410      | 9h 38m        | 7.69388e+006   | 0               |"
      ]
     },
     "metadata": {},
     "output_type": "display_data"
    },
    {
     "data": {
      "text/html": [
       "<pre>| 4420      | 9h 39m        | 8.29992e+006   | 0               |</pre>"
      ],
      "text/plain": [
       "| 4420      | 9h 39m        | 8.29992e+006   | 0               |"
      ]
     },
     "metadata": {},
     "output_type": "display_data"
    },
    {
     "data": {
      "text/html": [
       "<pre>| 4430      | 9h 41m        | 7.19627e+006   | 0               |</pre>"
      ],
      "text/plain": [
       "| 4430      | 9h 41m        | 7.19627e+006   | 0               |"
      ]
     },
     "metadata": {},
     "output_type": "display_data"
    },
    {
     "data": {
      "text/html": [
       "<pre>| 4440      | 9h 42m        | 8.06359e+006   | 0               |</pre>"
      ],
      "text/plain": [
       "| 4440      | 9h 42m        | 8.06359e+006   | 0               |"
      ]
     },
     "metadata": {},
     "output_type": "display_data"
    },
    {
     "data": {
      "text/html": [
       "<pre>| 4450      | 9h 43m        | 6.70779e+006   | 0               |</pre>"
      ],
      "text/plain": [
       "| 4450      | 9h 43m        | 6.70779e+006   | 0               |"
      ]
     },
     "metadata": {},
     "output_type": "display_data"
    },
    {
     "data": {
      "text/html": [
       "<pre>| 4460      | 9h 45m        | 7.83937e+006   | 0               |</pre>"
      ],
      "text/plain": [
       "| 4460      | 9h 45m        | 7.83937e+006   | 0               |"
      ]
     },
     "metadata": {},
     "output_type": "display_data"
    },
    {
     "data": {
      "text/html": [
       "<pre>| 4470      | 9h 46m        | 8.60502e+006   | 0               |</pre>"
      ],
      "text/plain": [
       "| 4470      | 9h 46m        | 8.60502e+006   | 0               |"
      ]
     },
     "metadata": {},
     "output_type": "display_data"
    },
    {
     "data": {
      "text/html": [
       "<pre>| 4480      | 9h 47m        | 7.75312e+006   | 0               |</pre>"
      ],
      "text/plain": [
       "| 4480      | 9h 47m        | 7.75312e+006   | 0               |"
      ]
     },
     "metadata": {},
     "output_type": "display_data"
    },
    {
     "data": {
      "text/html": [
       "<pre>| 4490      | 9h 49m        | 8.51492e+006   | 0               |</pre>"
      ],
      "text/plain": [
       "| 4490      | 9h 49m        | 8.51492e+006   | 0               |"
      ]
     },
     "metadata": {},
     "output_type": "display_data"
    },
    {
     "data": {
      "text/html": [
       "<pre>| 4500      | 9h 50m        | 7.72481e+006   | 0               |</pre>"
      ],
      "text/plain": [
       "| 4500      | 9h 50m        | 7.72481e+006   | 0               |"
      ]
     },
     "metadata": {},
     "output_type": "display_data"
    },
    {
     "data": {
      "text/html": [
       "<pre>| 4510      | 9h 51m        | 7.46393e+006   | 0               |</pre>"
      ],
      "text/plain": [
       "| 4510      | 9h 51m        | 7.46393e+006   | 0               |"
      ]
     },
     "metadata": {},
     "output_type": "display_data"
    },
    {
     "data": {
      "text/html": [
       "<pre>| 4520      | 9h 53m        | 7.25557e+006   | 0               |</pre>"
      ],
      "text/plain": [
       "| 4520      | 9h 53m        | 7.25557e+006   | 0               |"
      ]
     },
     "metadata": {},
     "output_type": "display_data"
    },
    {
     "data": {
      "text/html": [
       "<pre>| 4530      | 9h 54m        | 8.54015e+006   | 0               |</pre>"
      ],
      "text/plain": [
       "| 4530      | 9h 54m        | 8.54015e+006   | 0               |"
      ]
     },
     "metadata": {},
     "output_type": "display_data"
    },
    {
     "data": {
      "text/html": [
       "<pre>| 4540      | 9h 55m        | 8.09233e+006   | 0               |</pre>"
      ],
      "text/plain": [
       "| 4540      | 9h 55m        | 8.09233e+006   | 0               |"
      ]
     },
     "metadata": {},
     "output_type": "display_data"
    },
    {
     "data": {
      "text/html": [
       "<pre>| 4550      | 9h 57m        | 8.18532e+006   | 0               |</pre>"
      ],
      "text/plain": [
       "| 4550      | 9h 57m        | 8.18532e+006   | 0               |"
      ]
     },
     "metadata": {},
     "output_type": "display_data"
    },
    {
     "data": {
      "text/html": [
       "<pre>| 4560      | 9h 58m        | 8.45024e+006   | 0               |</pre>"
      ],
      "text/plain": [
       "| 4560      | 9h 58m        | 8.45024e+006   | 0               |"
      ]
     },
     "metadata": {},
     "output_type": "display_data"
    },
    {
     "data": {
      "text/html": [
       "<pre>| 4570      | 9h 59m        | 8.33918e+006   | 0               |</pre>"
      ],
      "text/plain": [
       "| 4570      | 9h 59m        | 8.33918e+006   | 0               |"
      ]
     },
     "metadata": {},
     "output_type": "display_data"
    },
    {
     "data": {
      "text/html": [
       "<pre>| 4580      | 10h 1m        | 8.04211e+006   | 0               |</pre>"
      ],
      "text/plain": [
       "| 4580      | 10h 1m        | 8.04211e+006   | 0               |"
      ]
     },
     "metadata": {},
     "output_type": "display_data"
    },
    {
     "data": {
      "text/html": [
       "<pre>| 4590      | 10h 2m        | 7.44988e+006   | 0               |</pre>"
      ],
      "text/plain": [
       "| 4590      | 10h 2m        | 7.44988e+006   | 0               |"
      ]
     },
     "metadata": {},
     "output_type": "display_data"
    },
    {
     "data": {
      "text/html": [
       "<pre>| 4600      | 10h 3m        | 7.95235e+006   | 0               |</pre>"
      ],
      "text/plain": [
       "| 4600      | 10h 3m        | 7.95235e+006   | 0               |"
      ]
     },
     "metadata": {},
     "output_type": "display_data"
    },
    {
     "data": {
      "text/html": [
       "<pre>| 4610      | 10h 4m        | 7.76926e+006   | 0               |</pre>"
      ],
      "text/plain": [
       "| 4610      | 10h 4m        | 7.76926e+006   | 0               |"
      ]
     },
     "metadata": {},
     "output_type": "display_data"
    },
    {
     "data": {
      "text/html": [
       "<pre>| 4620      | 10h 6m        | 7.67525e+006   | 0               |</pre>"
      ],
      "text/plain": [
       "| 4620      | 10h 6m        | 7.67525e+006   | 0               |"
      ]
     },
     "metadata": {},
     "output_type": "display_data"
    },
    {
     "data": {
      "text/html": [
       "<pre>| 4630      | 10h 7m        | 7.28559e+006   | 0               |</pre>"
      ],
      "text/plain": [
       "| 4630      | 10h 7m        | 7.28559e+006   | 0               |"
      ]
     },
     "metadata": {},
     "output_type": "display_data"
    },
    {
     "data": {
      "text/html": [
       "<pre>| 4640      | 10h 9m        | 8.08207e+006   | 0               |</pre>"
      ],
      "text/plain": [
       "| 4640      | 10h 9m        | 8.08207e+006   | 0               |"
      ]
     },
     "metadata": {},
     "output_type": "display_data"
    },
    {
     "data": {
      "text/html": [
       "<pre>| 4650      | 10h 10m       | 8.58758e+006   | 0               |</pre>"
      ],
      "text/plain": [
       "| 4650      | 10h 10m       | 8.58758e+006   | 0               |"
      ]
     },
     "metadata": {},
     "output_type": "display_data"
    },
    {
     "data": {
      "text/html": [
       "<pre>| 4660      | 10h 11m       | 8.47854e+006   | 0               |</pre>"
      ],
      "text/plain": [
       "| 4660      | 10h 11m       | 8.47854e+006   | 0               |"
      ]
     },
     "metadata": {},
     "output_type": "display_data"
    },
    {
     "data": {
      "text/html": [
       "<pre>| 4670      | 10h 12m       | 8.29557e+006   | 0               |</pre>"
      ],
      "text/plain": [
       "| 4670      | 10h 12m       | 8.29557e+006   | 0               |"
      ]
     },
     "metadata": {},
     "output_type": "display_data"
    },
    {
     "data": {
      "text/html": [
       "<pre>| 4680      | 10h 14m       | 8.27931e+006   | 0               |</pre>"
      ],
      "text/plain": [
       "| 4680      | 10h 14m       | 8.27931e+006   | 0               |"
      ]
     },
     "metadata": {},
     "output_type": "display_data"
    },
    {
     "data": {
      "text/html": [
       "<pre>| 4690      | 10h 15m       | 7.77498e+006   | 0               |</pre>"
      ],
      "text/plain": [
       "| 4690      | 10h 15m       | 7.77498e+006   | 0               |"
      ]
     },
     "metadata": {},
     "output_type": "display_data"
    },
    {
     "data": {
      "text/html": [
       "<pre>| 4700      | 10h 16m       | 8.01567e+006   | 0               |</pre>"
      ],
      "text/plain": [
       "| 4700      | 10h 16m       | 8.01567e+006   | 0               |"
      ]
     },
     "metadata": {},
     "output_type": "display_data"
    },
    {
     "data": {
      "text/html": [
       "<pre>| 4710      | 10h 18m       | 7.67805e+006   | 0               |</pre>"
      ],
      "text/plain": [
       "| 4710      | 10h 18m       | 7.67805e+006   | 0               |"
      ]
     },
     "metadata": {},
     "output_type": "display_data"
    },
    {
     "data": {
      "text/html": [
       "<pre>| 4720      | 10h 19m       | 8.55514e+006   | 0               |</pre>"
      ],
      "text/plain": [
       "| 4720      | 10h 19m       | 8.55514e+006   | 0               |"
      ]
     },
     "metadata": {},
     "output_type": "display_data"
    },
    {
     "data": {
      "text/html": [
       "<pre>| 4730      | 10h 20m       | 8.64485e+006   | 0               |</pre>"
      ],
      "text/plain": [
       "| 4730      | 10h 20m       | 8.64485e+006   | 0               |"
      ]
     },
     "metadata": {},
     "output_type": "display_data"
    },
    {
     "data": {
      "text/html": [
       "<pre>| 4740      | 10h 22m       | 8.26636e+006   | 0               |</pre>"
      ],
      "text/plain": [
       "| 4740      | 10h 22m       | 8.26636e+006   | 0               |"
      ]
     },
     "metadata": {},
     "output_type": "display_data"
    },
    {
     "data": {
      "text/html": [
       "<pre>| 4750      | 10h 23m       | 7.20696e+006   | 0               |</pre>"
      ],
      "text/plain": [
       "| 4750      | 10h 23m       | 7.20696e+006   | 0               |"
      ]
     },
     "metadata": {},
     "output_type": "display_data"
    },
    {
     "data": {
      "text/html": [
       "<pre>| 4760      | 10h 24m       | 8.18636e+006   | 0               |</pre>"
      ],
      "text/plain": [
       "| 4760      | 10h 24m       | 8.18636e+006   | 0               |"
      ]
     },
     "metadata": {},
     "output_type": "display_data"
    },
    {
     "data": {
      "text/html": [
       "<pre>| 4770      | 10h 26m       | 6.47631e+006   | 0               |</pre>"
      ],
      "text/plain": [
       "| 4770      | 10h 26m       | 6.47631e+006   | 0               |"
      ]
     },
     "metadata": {},
     "output_type": "display_data"
    },
    {
     "data": {
      "text/html": [
       "<pre>| 4780      | 10h 27m       | 8.16004e+006   | 0               |</pre>"
      ],
      "text/plain": [
       "| 4780      | 10h 27m       | 8.16004e+006   | 0               |"
      ]
     },
     "metadata": {},
     "output_type": "display_data"
    },
    {
     "data": {
      "text/html": [
       "<pre>| 4790      | 10h 28m       | 9.05069e+006   | 0               |</pre>"
      ],
      "text/plain": [
       "| 4790      | 10h 28m       | 9.05069e+006   | 0               |"
      ]
     },
     "metadata": {},
     "output_type": "display_data"
    },
    {
     "data": {
      "text/html": [
       "<pre>| 4800      | 10h 29m       | 8.25559e+006   | 0               |</pre>"
      ],
      "text/plain": [
       "| 4800      | 10h 29m       | 8.25559e+006   | 0               |"
      ]
     },
     "metadata": {},
     "output_type": "display_data"
    },
    {
     "data": {
      "text/html": [
       "<pre>| 4810      | 10h 31m       | 7.80559e+006   | 0               |</pre>"
      ],
      "text/plain": [
       "| 4810      | 10h 31m       | 7.80559e+006   | 0               |"
      ]
     },
     "metadata": {},
     "output_type": "display_data"
    },
    {
     "data": {
      "text/html": [
       "<pre>| 4820      | 10h 32m       | 8.72698e+006   | 0               |</pre>"
      ],
      "text/plain": [
       "| 4820      | 10h 32m       | 8.72698e+006   | 0               |"
      ]
     },
     "metadata": {},
     "output_type": "display_data"
    },
    {
     "data": {
      "text/html": [
       "<pre>| 4830      | 10h 33m       | 8.12555e+006   | 0               |</pre>"
      ],
      "text/plain": [
       "| 4830      | 10h 33m       | 8.12555e+006   | 0               |"
      ]
     },
     "metadata": {},
     "output_type": "display_data"
    },
    {
     "data": {
      "text/html": [
       "<pre>| 4840      | 10h 35m       | 8.19584e+006   | 0               |</pre>"
      ],
      "text/plain": [
       "| 4840      | 10h 35m       | 8.19584e+006   | 0               |"
      ]
     },
     "metadata": {},
     "output_type": "display_data"
    },
    {
     "data": {
      "text/html": [
       "<pre>| 4850      | 10h 36m       | 8.13806e+006   | 0               |</pre>"
      ],
      "text/plain": [
       "| 4850      | 10h 36m       | 8.13806e+006   | 0               |"
      ]
     },
     "metadata": {},
     "output_type": "display_data"
    },
    {
     "data": {
      "text/html": [
       "<pre>| 4860      | 10h 37m       | 8.38326e+006   | 0               |</pre>"
      ],
      "text/plain": [
       "| 4860      | 10h 37m       | 8.38326e+006   | 0               |"
      ]
     },
     "metadata": {},
     "output_type": "display_data"
    },
    {
     "data": {
      "text/html": [
       "<pre>| 4870      | 10h 39m       | 8.41668e+006   | 0               |</pre>"
      ],
      "text/plain": [
       "| 4870      | 10h 39m       | 8.41668e+006   | 0               |"
      ]
     },
     "metadata": {},
     "output_type": "display_data"
    },
    {
     "data": {
      "text/html": [
       "<pre>| 4880      | 10h 40m       | 7.85586e+006   | 0               |</pre>"
      ],
      "text/plain": [
       "| 4880      | 10h 40m       | 7.85586e+006   | 0               |"
      ]
     },
     "metadata": {},
     "output_type": "display_data"
    },
    {
     "data": {
      "text/html": [
       "<pre>| 4890      | 10h 41m       | 9.29472e+006   | 0               |</pre>"
      ],
      "text/plain": [
       "| 4890      | 10h 41m       | 9.29472e+006   | 0               |"
      ]
     },
     "metadata": {},
     "output_type": "display_data"
    },
    {
     "data": {
      "text/html": [
       "<pre>| 4900      | 10h 43m       | 7.68922e+006   | 0               |</pre>"
      ],
      "text/plain": [
       "| 4900      | 10h 43m       | 7.68922e+006   | 0               |"
      ]
     },
     "metadata": {},
     "output_type": "display_data"
    },
    {
     "data": {
      "text/html": [
       "<pre>| 4910      | 10h 44m       | 7.87539e+006   | 0               |</pre>"
      ],
      "text/plain": [
       "| 4910      | 10h 44m       | 7.87539e+006   | 0               |"
      ]
     },
     "metadata": {},
     "output_type": "display_data"
    },
    {
     "data": {
      "text/html": [
       "<pre>| 4920      | 10h 45m       | 7.55634e+006   | 0               |</pre>"
      ],
      "text/plain": [
       "| 4920      | 10h 45m       | 7.55634e+006   | 0               |"
      ]
     },
     "metadata": {},
     "output_type": "display_data"
    },
    {
     "data": {
      "text/html": [
       "<pre>| 4930      | 10h 46m       | 7.6181e+006    | 0               |</pre>"
      ],
      "text/plain": [
       "| 4930      | 10h 46m       | 7.6181e+006    | 0               |"
      ]
     },
     "metadata": {},
     "output_type": "display_data"
    },
    {
     "data": {
      "text/html": [
       "<pre>| 4940      | 10h 48m       | 8.13806e+006   | 0               |</pre>"
      ],
      "text/plain": [
       "| 4940      | 10h 48m       | 8.13806e+006   | 0               |"
      ]
     },
     "metadata": {},
     "output_type": "display_data"
    },
    {
     "data": {
      "text/html": [
       "<pre>| 4950      | 10h 49m       | 8.28474e+006   | 0               |</pre>"
      ],
      "text/plain": [
       "| 4950      | 10h 49m       | 8.28474e+006   | 0               |"
      ]
     },
     "metadata": {},
     "output_type": "display_data"
    },
    {
     "data": {
      "text/html": [
       "<pre>| 4960      | 10h 50m       | 8.34904e+006   | 0               |</pre>"
      ],
      "text/plain": [
       "| 4960      | 10h 50m       | 8.34904e+006   | 0               |"
      ]
     },
     "metadata": {},
     "output_type": "display_data"
    },
    {
     "data": {
      "text/html": [
       "<pre>| 4970      | 10h 52m       | 7.41249e+006   | 0               |</pre>"
      ],
      "text/plain": [
       "| 4970      | 10h 52m       | 7.41249e+006   | 0               |"
      ]
     },
     "metadata": {},
     "output_type": "display_data"
    },
    {
     "data": {
      "text/html": [
       "<pre>| 4980      | 10h 53m       | 7.90286e+006   | 0               |</pre>"
      ],
      "text/plain": [
       "| 4980      | 10h 53m       | 7.90286e+006   | 0               |"
      ]
     },
     "metadata": {},
     "output_type": "display_data"
    },
    {
     "data": {
      "text/html": [
       "<pre>| 4990      | 10h 54m       | 7.77878e+006   | 0               |</pre>"
      ],
      "text/plain": [
       "| 4990      | 10h 54m       | 7.77878e+006   | 0               |"
      ]
     },
     "metadata": {},
     "output_type": "display_data"
    },
    {
     "data": {
      "text/html": [
       "<pre>| 5000      | 10h 56m       | 8.50348e+006   | 0               |</pre>"
      ],
      "text/plain": [
       "| 5000      | 10h 56m       | 8.50348e+006   | 0               |"
      ]
     },
     "metadata": {},
     "output_type": "display_data"
    },
    {
     "data": {
      "text/html": [
       "<pre>+-----------+---------------+----------------+-----------------+</pre>"
      ],
      "text/plain": [
       "+-----------+---------------+----------------+-----------------+"
      ]
     },
     "metadata": {},
     "output_type": "display_data"
    }
   ],
   "source": [
    "model = graphlab.topic_model.create(reviews_train,num_topics= 50,num_iterations=5000,\n",
    "                                   associations=associations)"
   ]
  },
  {
   "cell_type": "markdown",
   "metadata": {},
   "source": [
    "## Saving Topic Model"
   ]
  },
  {
   "cell_type": "code",
   "execution_count": 38,
   "metadata": {
    "collapsed": true
   },
   "outputs": [],
   "source": [
    "model.save('my_topicModel_50topics_5000iters')"
   ]
  },
  {
   "cell_type": "code",
   "execution_count": 39,
   "metadata": {
    "collapsed": false
   },
   "outputs": [
    {
     "name": "stdout",
     "output_type": "stream",
     "text": [
      "Class                         : TopicModel\n",
      "\n",
      "Schema\n",
      "------\n",
      "Vocabulary Size               : 300661\n",
      "\n",
      "Settings\n",
      "--------\n",
      "Number of Topics              : 50\n",
      "alpha                         : 1.0\n",
      "beta                          : 0.1\n",
      "Iterations                    : 5000\n",
      "Training time                 : 39367.6915\n",
      "Verbose                       : False\n",
      "\n",
      "Accessible fields             : \n",
      "m['topics']                   : An SFrame containing the topics.\n",
      "m['vocabulary']               : An SArray containing the words in the vocabulary.\n",
      "Useful methods                : \n",
      "m.get_topics()                : Get the most probable words per topic.\n",
      "m.predict(new_docs)           : Make predictions for new documents.\n"
     ]
    }
   ],
   "source": [
    "print model"
   ]
  },
  {
   "cell_type": "code",
   "execution_count": 40,
   "metadata": {
    "collapsed": false
   },
   "outputs": [
    {
     "name": "stdout",
     "output_type": "stream",
     "text": [
      "+-------------------------------+------------+\n",
      "|      topic_probabilities      | vocabulary |\n",
      "+-------------------------------+------------+\n",
      "| [6.37830722408e-08, 0.4918... |    food    |\n",
      "| [6.37830722408e-08, 6.9383... |  italian   |\n",
      "| [6.37830722408e-08, 6.9383... |   pasta    |\n",
      "| [6.37830722408e-08, 6.9383... |   pizza    |\n",
      "| [6.37830722408e-08, 6.9383... |  service   |\n",
      "| [6.37830722408e-08, 6.9383... |   staff    |\n",
      "| [6.37830722408e-08, 6.9383... |   worker   |\n",
      "| [6.37830722408e-08, 6.9383... |   price    |\n",
      "| [6.37830722408e-08, 6.9383... |   money    |\n",
      "| [6.37830722408e-08, 6.9383... |   lunch    |\n",
      "+-------------------------------+------------+\n",
      "[300661 rows x 2 columns]\n",
      "Note: Only the head of the SFrame is printed.\n",
      "You can use print_rows(num_rows=m, num_columns=n) to print more rows and columns.\n"
     ]
    }
   ],
   "source": [
    "print model['topics']"
   ]
  },
  {
   "cell_type": "code",
   "execution_count": 95,
   "metadata": {
    "collapsed": false
   },
   "outputs": [
    {
     "name": "stdout",
     "output_type": "stream",
     "text": [
      "['hole', 'key', 'low', 'carnegie', 'gem', 'wings', 'atmosphere', 'prices', 'selection', 'wall', 'relaxing', 'beer', 'good', 'buffalo', 'greetree', 'friendly', 'area', 'staff', 'chicken', 'food', 'hidden', 'place', 'pizza', 'thick', 'sandwiches', 'cut', 'fresh', 'italian', 'great', 'bread', 'system', 'fuel', 'reading', 'refused', 'wheel', 'manual', 'brakes', 'release', 'walked', 'mechanic', 'signal', 'glove', 'windshield', 'gas', 'owners', 'quicker', 'cow', 'gear', 'turned', 'back', 'hazard', 'needed', 'put', 'triple', 'present', 'hands', 'figured', 'learn', 'show', 'rear', 'lot', 'customer', 'lucky', 'box', 'leather', 'case', 'head', 'clean', 'car', 'embarrassment', 'idea', 'wipers', 'jack', 'means', 'proud', 'steering', 'day', 'extra', 'dealership', 'saved', 'defoggers', 'advanced', 'driving', 'training', 'auto', 'rain', 'god', 'parking', 'gave', 'cover', 'send', 'sounded', 'involved', 'putting', 'skinned', 'alive', 'time', 'didn', 'isn', 'associate', ... ]\n"
     ]
    }
   ],
   "source": [
    "print model['vocabulary']"
   ]
  },
  {
   "cell_type": "code",
   "execution_count": 41,
   "metadata": {
    "collapsed": false
   },
   "outputs": [
    {
     "name": "stdout",
     "output_type": "stream",
     "text": [
      "+-------+------------+------------------+\n",
      "| topic |    word    |      score       |\n",
      "+-------+------------+------------------+\n",
      "|   0   |    care    | 0.0202658593261  |\n",
      "|   0   |    dog     | 0.0174976739909  |\n",
      "|   0   |   office   | 0.0155274148894  |\n",
      "|   0   |    dogs    | 0.00937617540247 |\n",
      "|   0   |    time    | 0.0087166584355  |\n",
      "|   1   |    food    |  0.491885243793  |\n",
      "|   1   |    good    | 0.0540487189969  |\n",
      "|   1   | restaurant | 0.0397334382603  |\n",
      "|   1   |   place    | 0.0334424024694  |\n",
      "|   1   |   great    | 0.0260884057397  |\n",
      "|   2   |   pizza    | 0.0892770952442  |\n",
      "|   2   |    good    | 0.0305262760738  |\n",
      "|   2   |   cheese   | 0.0208769276401  |\n",
      "|   2   |   sauce    | 0.0205420650124  |\n",
      "|   2   |  italian   | 0.0203033510599  |\n",
      "|   3   |  service   |  0.341991735064  |\n",
      "|   3   |   staff    |  0.147183860652  |\n",
      "|   3   |  friendly  | 0.0769128231989  |\n",
      "|   3   |   great    | 0.0639572035212  |\n",
      "|   3   |  customer  | 0.0255653742063  |\n",
      "|   4   |   price    | 0.0813603740378  |\n",
      "|   4   |   money    |  0.041224864134  |\n",
      "|   4   |    get     | 0.0294741015502  |\n",
      "|   4   |    pay     | 0.0219331705854  |\n",
      "|   4   |   worth    | 0.0191268334655  |\n",
      "|   5   |   lunch    | 0.0781122335178  |\n",
      "|   5   |   salad    | 0.0745612951239  |\n",
      "|   5   |  chicken   | 0.0256677553995  |\n",
      "|   5   |    menu    | 0.0231567998809  |\n",
      "|   5   |   fresh    | 0.0197493074008  |\n",
      "|   6   |   always   |  0.089183511139  |\n",
      "|   6   |    love    | 0.0501943841774  |\n",
      "|   6   |    get     | 0.0313143429636  |\n",
      "|   6   |   place    | 0.0296073747056  |\n",
      "|   6   |   times    | 0.0262112405059  |\n",
      "|   7   |  reviews   | 0.0371179799331  |\n",
      "|   7   |    yelp    | 0.0314410389878  |\n",
      "|   7   |   review   | 0.0230810147666  |\n",
      "|   7   |   would    | 0.0159196917788  |\n",
      "|   7   |    try     |  0.014876699455  |\n",
      "|   8   |   night    | 0.0284096831326  |\n",
      "|   8   |    club    | 0.0234879549712  |\n",
      "|   8   |   people   | 0.0207776955516  |\n",
      "|   8   |   music    | 0.0194038765105  |\n",
      "|   8   |    get     | 0.0178927981183  |\n",
      "|   9   |    nice    |  0.03311420811   |\n",
      "|   9   |   place    | 0.0249016343111  |\n",
      "|   9   |  outside   | 0.0237691464559  |\n",
      "|   9   |    area    | 0.0218118915738  |\n",
      "|   9   |   inside   | 0.0211682473971  |\n",
      "|   10  |   night    | 0.0404311283399  |\n",
      "|   10  |    time    |  0.038482524934  |\n",
      "|   10  |    back    | 0.0306009386725  |\n",
      "|   10  |    went    | 0.0262331307019  |\n",
      "|   10  |    day     | 0.0229421997564  |\n",
      "|   11  |   clean    | 0.0139545930721  |\n",
      "|   11  |    one     | 0.0135151797419  |\n",
      "|   11  |   dirty    | 0.0113421040487  |\n",
      "|   11  |    like    | 0.0105453517173  |\n",
      "|   11  |  airport   | 0.0103849911054  |\n",
      "|   12  |  chicken   | 0.0291714838062  |\n",
      "|   12  |    rice    | 0.0263810235837  |\n",
      "|   12  |    thai    | 0.0230602782498  |\n",
      "|   12  |    soup    |  0.020699561541  |\n",
      "|   12  |   fried    | 0.0174914227964  |\n",
      "|   13  |    like    | 0.0396805209252  |\n",
      "|   13  |    know    | 0.0246548793347  |\n",
      "|   13  |    get     | 0.0213002736631  |\n",
      "|   13  |    one     | 0.0127052745109  |\n",
      "|   13  |    say     | 0.0126881952334  |\n",
      "|   14  |    good    | 0.0550714932513  |\n",
      "|   14  |   pretty   | 0.0469607951915  |\n",
      "|   14  |   really   | 0.0368955508167  |\n",
      "|   14  |    like    |  0.027550435994  |\n",
      "|   14  |   little   | 0.0274580299895  |\n",
      "|   15  |    said    | 0.0348121669058  |\n",
      "|   15  |    back    | 0.0338026848596  |\n",
      "|   15  |    got     | 0.0264319355456  |\n",
      "|   15  |    went    | 0.0244798545984  |\n",
      "|   15  |    came    | 0.0243455215019  |\n",
      "|   16  |   called   | 0.0218088769028  |\n",
      "|   16  |    call    | 0.0213097504001  |\n",
      "|   16  |    told    | 0.0203467054882  |\n",
      "|   16  |   would    | 0.0199992844473  |\n",
      "|   16  |   phone    | 0.0167746372907  |\n",
      "|   17  |    made    | 0.0220371398516  |\n",
      "|   17  | experience | 0.0216156385238  |\n",
      "|   17  |  amazing   | 0.0162052634347  |\n",
      "|   17  |   thank    |  0.014532554695  |\n",
      "|   17  |   great    | 0.0135672235781  |\n",
      "|   18  |    best    | 0.0765010415795  |\n",
      "|   18  |   vegas    | 0.0595009811848  |\n",
      "|   18  |   place    | 0.0454086785269  |\n",
      "|   18  |    ever    | 0.0328475849971  |\n",
      "|   18  |    las     | 0.0267535406238  |\n",
      "|   19  |    said    | 0.0197919212702  |\n",
      "|   19  |  manager   | 0.0186277584413  |\n",
      "|   19  |    rude    | 0.0177678155216  |\n",
      "|   19  |  customer  | 0.0175920928304  |\n",
      "|   19  |   never    | 0.0173361966614  |\n",
      "|   20  |  parking   | 0.0266035881928  |\n",
      "|   20  |    area    |  0.01741959796   |\n",
      "|   20  |    park    | 0.0154341214881  |\n",
      "|   20  |   street   | 0.0147979017262  |\n",
      "|   20  |  location  | 0.0132194324437  |\n",
      "|   21  |   class    | 0.0120042227445  |\n",
      "|   21  |    work    | 0.0106494905937  |\n",
      "|   21  |   people   | 0.0102633687898  |\n",
      "|   21  |    also    | 0.00979195638203 |\n",
      "|   21  |    get     | 0.00940517341072 |\n",
      "|   22  |   store    | 0.0520529881322  |\n",
      "|   22  |    find    |  0.019794554285  |\n",
      "|   22  |    shop    | 0.0176046566614  |\n",
      "|   22  |   items    |  0.016155023186  |\n",
      "|   22  |    buy     | 0.0158975663423  |\n",
      "|   23  |   stars    | 0.0589979295251  |\n",
      "|   23  |    give    | 0.0378411091629  |\n",
      "|   23  |    star    | 0.0337942917625  |\n",
      "|   23  |   would    |  0.032213012772  |\n",
      "|   23  |    one     | 0.0320321852476  |\n",
      "|   24  |   really   | 0.0464795072805  |\n",
      "|   24  |    back    | 0.0351548100858  |\n",
      "|   24  |    got     | 0.0339577682868  |\n",
      "|   24  |    good    | 0.0261540521997  |\n",
      "|   24  | definitely | 0.0245276224607  |\n",
      "|   25  |    wait    | 0.0533367558435  |\n",
      "|   25  |    get     | 0.0428696980561  |\n",
      "|   25  |    time    | 0.0400982681169  |\n",
      "|   25  |  minutes   | 0.0390378840106  |\n",
      "|   25  |    long    | 0.0317777038369  |\n",
      "|   26  |   burger   | 0.0606866705294  |\n",
      "|   26  |   fries    | 0.0507451411483  |\n",
      "|   26  |  sandwich  |   0.0333709857   |\n",
      "|   26  |   cheese   | 0.0284698430764  |\n",
      "|   26  |    good    | 0.0269964896053  |\n",
      "|   27  |   quite    | 0.0101754022215  |\n",
      "|   27  |    one     | 0.00912060379695 |\n",
      "|   27  |    well    | 0.00764761785962 |\n",
      "|   27  |    bit     | 0.00717400129334 |\n",
      "|   27  |    may     | 0.00537886828253 |\n",
      "|   28  |   great    | 0.0711812412318  |\n",
      "|   28  |    love    | 0.0573715011737  |\n",
      "|   28  |   place    | 0.0531977833335  |\n",
      "|   28  |  amazing   | 0.0461212568307  |\n",
      "|   28  |    best    | 0.0383301928108  |\n",
      "|   29  |    hair    | 0.0318390129761  |\n",
      "|   29  |    cut     |  0.022923125463  |\n",
      "|   29  |    time    | 0.0207101362844  |\n",
      "|   29  |    get     | 0.0149163198539  |\n",
      "|   29  |    back    | 0.0143001955651  |\n",
      "|   30  |   table    | 0.0426754036474  |\n",
      "|   30  |   server   | 0.0294660576463  |\n",
      "|   30  |    came    | 0.0290482765728  |\n",
      "|   30  |  ordered   | 0.0232677622657  |\n",
      "|   30  |  minutes   | 0.0226898145027  |\n",
      "|   31  |    show    | 0.0478149024855  |\n",
      "|   31  |    see     | 0.0273749323863  |\n",
      "|   31  |   seats    | 0.00988362866852 |\n",
      "|   31  |   music    | 0.00987526639475 |\n",
      "|   31  |   movie    | 0.00955878649518 |\n",
      "|   32  |   great    | 0.0463958782464  |\n",
      "|   32  |   place    | 0.0418222793569  |\n",
      "|   32  |    plus    | 0.0214172445029  |\n",
      "|   32  |    good    | 0.0181675821341  |\n",
      "|   32  |    est     | 0.0146192134263  |\n",
      "|   33  |   great    | 0.0883802433241  |\n",
      "|   33  | recommend  | 0.0723710563508  |\n",
      "|   33  |   place    | 0.0446245832232  |\n",
      "|   33  |   highly   | 0.0391415149931  |\n",
      "|   33  |  friendly  | 0.0363865566087  |\n",
      "|   34  |    room    | 0.0673331927405  |\n",
      "|   34  |   hotel    |  0.045033026825  |\n",
      "|   34  |    stay    |  0.028240114669  |\n",
      "|   34  |   strip    | 0.0201195446401  |\n",
      "|   34  |   rooms    | 0.0188789296878  |\n",
      "|   35  |   buffet   | 0.0373602605727  |\n",
      "|   35  |    good    |  0.036473936052  |\n",
      "|   35  |   vegas    |  0.015681353222  |\n",
      "|   35  |    crab    | 0.0146748840141  |\n",
      "|   35  |    like    | 0.0141970514298  |\n",
      "|   36  |    time    | 0.0520826418106  |\n",
      "|   36  |   times    | 0.0355183298628  |\n",
      "|   36  |    last    |  0.035166989595  |\n",
      "|   36  |   years    | 0.0307976062281  |\n",
      "|   36  |   first    | 0.0257656767009  |\n",
      "|   37  |    like    | 0.0328048197591  |\n",
      "|   37  |   better   | 0.0209653649592  |\n",
      "|   37  |    bad     | 0.0207017046931  |\n",
      "|   37  |  nothing   | 0.0177256702408  |\n",
      "|   37  |   would    | 0.0152399946012  |\n",
      "|   38  |    bar     | 0.0660089342521  |\n",
      "|   38  |    beer    | 0.0509842286859  |\n",
      "|   38  |   great    | 0.0296862726413  |\n",
      "|   38  |   drinks   | 0.0264269016822  |\n",
      "|   38  |   drink    | 0.0231927093324  |\n",
      "|   39  |    get     | 0.0349442154831  |\n",
      "|   39  |    like    | 0.0337737716203  |\n",
      "|   39  |   place    |  0.025099946566  |\n",
      "|   39  |   really   | 0.0244500628364  |\n",
      "|   39  |    know    | 0.0206506923287  |\n",
      "|   40  |   cream    | 0.0356772540494  |\n",
      "|   40  |    ice     |  0.030781097611  |\n",
      "|   40  | chocolate  |  0.030651357953  |\n",
      "|   40  |    cake    | 0.0209827221333  |\n",
      "|   40  |   sweet    | 0.0197974836691  |\n",
      "|   41  |   sushi    | 0.0545428671241  |\n",
      "|   41  |    good    | 0.0335411092274  |\n",
      "|   41  |    roll    |  0.026368858585  |\n",
      "|   41  |    fish    | 0.0221920652433  |\n",
      "|   41  |   place    | 0.0211353687149  |\n",
      "|   42  |    time    | 0.0188753467193  |\n",
      "|   42  |    done    | 0.0158028900438  |\n",
      "|   42  |  massage   | 0.0155593244295  |\n",
      "|   42  |    get     | 0.0150721932011  |\n",
      "|   42  |    back    | 0.0141191103629  |\n",
      "|   43  | breakfast  | 0.0544170836801  |\n",
      "|   43  |    good    | 0.0282873371075  |\n",
      "|   43  |    eggs    | 0.0214565752713  |\n",
      "|   43  |   brunch   | 0.0162106334831  |\n",
      "|   43  |   bacon    | 0.0156809717676  |\n",
      "|   44  |    good    | 0.0338223428342  |\n",
      "|   44  |   tacos    | 0.0293060859759  |\n",
      "|   44  |  mexican   | 0.0261270220368  |\n",
      "|   44  |   chips    | 0.0252366936893  |\n",
      "|   44  |   salsa    | 0.0206843883952  |\n",
      "|   45  |   coffee   | 0.0484866892958  |\n",
      "|   45  |   place    | 0.0338688360138  |\n",
      "|   45  |    tea     |  0.026574112495  |\n",
      "|   45  |    good    |  0.020319057515  |\n",
      "|   45  |    like    | 0.0178967150381  |\n",
      "|   46  |   steak    | 0.0236590863597  |\n",
      "|   46  |    wine    | 0.0171855299611  |\n",
      "|   46  |   dinner   | 0.0159809947783  |\n",
      "|   46  | restaurant | 0.0156693154411  |\n",
      "|   46  |    meal    | 0.0148167669986  |\n",
      "|   47  |  chicken   | 0.0456456452334  |\n",
      "|   47  |    good    | 0.0318871761844  |\n",
      "|   47  |   sauce    | 0.0265120036885  |\n",
      "|   47  |    bbq     |  0.021221725335  |\n",
      "|   47  |   fried    |  0.018090005394  |\n",
      "|   48  |    kids    | 0.0333870083681  |\n",
      "|   48  |   place    | 0.0288582856391  |\n",
      "|   48  |    old     | 0.0247669766621  |\n",
      "|   48  |   family   | 0.0210908988063  |\n",
      "|   48  |   great    | 0.0168228219898  |\n",
      "|   49  |    car     |  0.042530239625  |\n",
      "|   49  |    work    | 0.0192072180985  |\n",
      "|   49  |    new     | 0.0143814851591  |\n",
      "|   49  |    done    | 0.0116795622781  |\n",
      "|   49  |    guys    | 0.0110991277172  |\n",
      "+-------+------------+------------------+\n",
      "[250 rows x 3 columns]\n",
      "\n"
     ]
    }
   ],
   "source": [
    "model.get_topics().print_rows(500)"
   ]
  },
  {
   "cell_type": "markdown",
   "metadata": {},
   "source": [
    "## Predicting Topic on Review Set"
   ]
  },
  {
   "cell_type": "code",
   "execution_count": 69,
   "metadata": {
    "collapsed": false
   },
   "outputs": [],
   "source": [
    "test_rev_topics = model.predict(reviews_test,output_type = \"probability\")"
   ]
  },
  {
   "cell_type": "code",
   "execution_count": 140,
   "metadata": {
    "collapsed": true
   },
   "outputs": [],
   "source": [
    "train_rev['test_rev_topics'] = model.predict(reviews_train,output_type = \"probability\")"
   ]
  },
  {
   "cell_type": "code",
   "execution_count": 71,
   "metadata": {
    "collapsed": false
   },
   "outputs": [],
   "source": [
    "test_rev['test_rev_topics'] = test_rev_topics"
   ]
  },
  {
   "cell_type": "code",
   "execution_count": 141,
   "metadata": {
    "collapsed": true
   },
   "outputs": [],
   "source": [
    "train_rev = train_rev.add_row_number()"
   ]
  },
  {
   "cell_type": "code",
   "execution_count": 135,
   "metadata": {
    "collapsed": false
   },
   "outputs": [],
   "source": [
    "test_rev = test_rev.add_row_number()"
   ]
  },
  {
   "cell_type": "code",
   "execution_count": 136,
   "metadata": {
    "collapsed": false
   },
   "outputs": [
    {
     "data": {
      "text/html": [
       "<div style=\"max-height:1000px;max-width:1500px;overflow:auto;\"><table frame=\"box\" rules=\"cols\">\n",
       "    <tr>\n",
       "        <th style=\"padding-left: 1em; padding-right: 1em; text-align: center\">id</th>\n",
       "        <th style=\"padding-left: 1em; padding-right: 1em; text-align: center\">business_id</th>\n",
       "        <th style=\"padding-left: 1em; padding-right: 1em; text-align: center\">date</th>\n",
       "        <th style=\"padding-left: 1em; padding-right: 1em; text-align: center\">review_id</th>\n",
       "        <th style=\"padding-left: 1em; padding-right: 1em; text-align: center\">stars</th>\n",
       "        <th style=\"padding-left: 1em; padding-right: 1em; text-align: center\">text</th>\n",
       "        <th style=\"padding-left: 1em; padding-right: 1em; text-align: center\">type</th>\n",
       "    </tr>\n",
       "    <tr>\n",
       "        <td style=\"padding-left: 1em; padding-right: 1em; text-align: center; vertical-align: top\">0</td>\n",
       "        <td style=\"padding-left: 1em; padding-right: 1em; text-align: center; vertical-align: top\">5UmKMjUEUNdYWqANhGckJw</td>\n",
       "        <td style=\"padding-left: 1em; padding-right: 1em; text-align: center; vertical-align: top\">2014-02-13</td>\n",
       "        <td style=\"padding-left: 1em; padding-right: 1em; text-align: center; vertical-align: top\">KPvLNJ21_4wbYNctrOwWdQ</td>\n",
       "        <td style=\"padding-left: 1em; padding-right: 1em; text-align: center; vertical-align: top\">5</td>\n",
       "        <td style=\"padding-left: 1em; padding-right: 1em; text-align: center; vertical-align: top\">Excellent food. Superb<br>customer service. I miss ...</td>\n",
       "        <td style=\"padding-left: 1em; padding-right: 1em; text-align: center; vertical-align: top\">review</td>\n",
       "    </tr>\n",
       "    <tr>\n",
       "        <td style=\"padding-left: 1em; padding-right: 1em; text-align: center; vertical-align: top\">1</td>\n",
       "        <td style=\"padding-left: 1em; padding-right: 1em; text-align: center; vertical-align: top\">5UmKMjUEUNdYWqANhGckJw</td>\n",
       "        <td style=\"padding-left: 1em; padding-right: 1em; text-align: center; vertical-align: top\">2015-10-31</td>\n",
       "        <td style=\"padding-left: 1em; padding-right: 1em; text-align: center; vertical-align: top\">fFSoGV46Yxuwbr3fHNuZig</td>\n",
       "        <td style=\"padding-left: 1em; padding-right: 1em; text-align: center; vertical-align: top\">5</td>\n",
       "        <td style=\"padding-left: 1em; padding-right: 1em; text-align: center; vertical-align: top\">Yes this place is a<br>little out dated and not ...</td>\n",
       "        <td style=\"padding-left: 1em; padding-right: 1em; text-align: center; vertical-align: top\">review</td>\n",
       "    </tr>\n",
       "    <tr>\n",
       "        <td style=\"padding-left: 1em; padding-right: 1em; text-align: center; vertical-align: top\">2</td>\n",
       "        <td style=\"padding-left: 1em; padding-right: 1em; text-align: center; vertical-align: top\">UsFtqoBl7naz8AVUBZMjQQ</td>\n",
       "        <td style=\"padding-left: 1em; padding-right: 1em; text-align: center; vertical-align: top\">2013-11-08</td>\n",
       "        <td style=\"padding-left: 1em; padding-right: 1em; text-align: center; vertical-align: top\">Di3exaUCFNw1V4kSNW5pgA</td>\n",
       "        <td style=\"padding-left: 1em; padding-right: 1em; text-align: center; vertical-align: top\">5</td>\n",
       "        <td style=\"padding-left: 1em; padding-right: 1em; text-align: center; vertical-align: top\">All the food is great<br>here. But the best thing ...</td>\n",
       "        <td style=\"padding-left: 1em; padding-right: 1em; text-align: center; vertical-align: top\">review</td>\n",
       "    </tr>\n",
       "    <tr>\n",
       "        <td style=\"padding-left: 1em; padding-right: 1em; text-align: center; vertical-align: top\">3</td>\n",
       "        <td style=\"padding-left: 1em; padding-right: 1em; text-align: center; vertical-align: top\">UsFtqoBl7naz8AVUBZMjQQ</td>\n",
       "        <td style=\"padding-left: 1em; padding-right: 1em; text-align: center; vertical-align: top\">2014-10-29</td>\n",
       "        <td style=\"padding-left: 1em; padding-right: 1em; text-align: center; vertical-align: top\">7N9j5YbBHBW6qguE5DAeyA</td>\n",
       "        <td style=\"padding-left: 1em; padding-right: 1em; text-align: center; vertical-align: top\">1</td>\n",
       "        <td style=\"padding-left: 1em; padding-right: 1em; text-align: center; vertical-align: top\">Wing sauce is like water.<br>Pretty much a lot of ...</td>\n",
       "        <td style=\"padding-left: 1em; padding-right: 1em; text-align: center; vertical-align: top\">review</td>\n",
       "    </tr>\n",
       "    <tr>\n",
       "        <td style=\"padding-left: 1em; padding-right: 1em; text-align: center; vertical-align: top\">4</td>\n",
       "        <td style=\"padding-left: 1em; padding-right: 1em; text-align: center; vertical-align: top\">cE27W9VPgO88Qxe4ol6y_g</td>\n",
       "        <td style=\"padding-left: 1em; padding-right: 1em; text-align: center; vertical-align: top\">2013-08-16</td>\n",
       "        <td style=\"padding-left: 1em; padding-right: 1em; text-align: center; vertical-align: top\">iS34GJhMkkt9kCoTJLYEwA</td>\n",
       "        <td style=\"padding-left: 1em; padding-right: 1em; text-align: center; vertical-align: top\">4</td>\n",
       "        <td style=\"padding-left: 1em; padding-right: 1em; text-align: center; vertical-align: top\">Before I finally made it<br>over to this range I ...</td>\n",
       "        <td style=\"padding-left: 1em; padding-right: 1em; text-align: center; vertical-align: top\">review</td>\n",
       "    </tr>\n",
       "    <tr>\n",
       "        <td style=\"padding-left: 1em; padding-right: 1em; text-align: center; vertical-align: top\">5</td>\n",
       "        <td style=\"padding-left: 1em; padding-right: 1em; text-align: center; vertical-align: top\">HZdLhv6COCleJMo7nPl-RA</td>\n",
       "        <td style=\"padding-left: 1em; padding-right: 1em; text-align: center; vertical-align: top\">2013-06-10</td>\n",
       "        <td style=\"padding-left: 1em; padding-right: 1em; text-align: center; vertical-align: top\">fBQ69-NU9ZyTjjS7Tb5tww</td>\n",
       "        <td style=\"padding-left: 1em; padding-right: 1em; text-align: center; vertical-align: top\">5</td>\n",
       "        <td style=\"padding-left: 1em; padding-right: 1em; text-align: center; vertical-align: top\">THANK YOU ROB! i truly<br>appreciated all the help ...</td>\n",
       "        <td style=\"padding-left: 1em; padding-right: 1em; text-align: center; vertical-align: top\">review</td>\n",
       "    </tr>\n",
       "    <tr>\n",
       "        <td style=\"padding-left: 1em; padding-right: 1em; text-align: center; vertical-align: top\">6</td>\n",
       "        <td style=\"padding-left: 1em; padding-right: 1em; text-align: center; vertical-align: top\">HZdLhv6COCleJMo7nPl-RA</td>\n",
       "        <td style=\"padding-left: 1em; padding-right: 1em; text-align: center; vertical-align: top\">2013-12-23</td>\n",
       "        <td style=\"padding-left: 1em; padding-right: 1em; text-align: center; vertical-align: top\">CFiLh7WvH7dM3qVZvNiacQ</td>\n",
       "        <td style=\"padding-left: 1em; padding-right: 1em; text-align: center; vertical-align: top\">2</td>\n",
       "        <td style=\"padding-left: 1em; padding-right: 1em; text-align: center; vertical-align: top\">After waiting for almost<br>30 minutes to trade i ...</td>\n",
       "        <td style=\"padding-left: 1em; padding-right: 1em; text-align: center; vertical-align: top\">review</td>\n",
       "    </tr>\n",
       "    <tr>\n",
       "        <td style=\"padding-left: 1em; padding-right: 1em; text-align: center; vertical-align: top\">7</td>\n",
       "        <td style=\"padding-left: 1em; padding-right: 1em; text-align: center; vertical-align: top\">mVHrayjG3uZ_RLHkLj-AMg</td>\n",
       "        <td style=\"padding-left: 1em; padding-right: 1em; text-align: center; vertical-align: top\">2013-03-30</td>\n",
       "        <td style=\"padding-left: 1em; padding-right: 1em; text-align: center; vertical-align: top\">3Es8GsjkssusYgeU6_ZVpQ</td>\n",
       "        <td style=\"padding-left: 1em; padding-right: 1em; text-align: center; vertical-align: top\">5</td>\n",
       "        <td style=\"padding-left: 1em; padding-right: 1em; text-align: center; vertical-align: top\">This place should have a<br>lot more reviews - but ...</td>\n",
       "        <td style=\"padding-left: 1em; padding-right: 1em; text-align: center; vertical-align: top\">review</td>\n",
       "    </tr>\n",
       "    <tr>\n",
       "        <td style=\"padding-left: 1em; padding-right: 1em; text-align: center; vertical-align: top\">8</td>\n",
       "        <td style=\"padding-left: 1em; padding-right: 1em; text-align: center; vertical-align: top\">mVHrayjG3uZ_RLHkLj-AMg</td>\n",
       "        <td style=\"padding-left: 1em; padding-right: 1em; text-align: center; vertical-align: top\">2014-05-01</td>\n",
       "        <td style=\"padding-left: 1em; padding-right: 1em; text-align: center; vertical-align: top\">PY6nIMMLP2pqARlbIOJuRA</td>\n",
       "        <td style=\"padding-left: 1em; padding-right: 1em; text-align: center; vertical-align: top\">5</td>\n",
       "        <td style=\"padding-left: 1em; padding-right: 1em; text-align: center; vertical-align: top\">Like a lot of recent<br>patrons, I heard about ...</td>\n",
       "        <td style=\"padding-left: 1em; padding-right: 1em; text-align: center; vertical-align: top\">review</td>\n",
       "    </tr>\n",
       "    <tr>\n",
       "        <td style=\"padding-left: 1em; padding-right: 1em; text-align: center; vertical-align: top\">9</td>\n",
       "        <td style=\"padding-left: 1em; padding-right: 1em; text-align: center; vertical-align: top\">mVHrayjG3uZ_RLHkLj-AMg</td>\n",
       "        <td style=\"padding-left: 1em; padding-right: 1em; text-align: center; vertical-align: top\">2014-09-29</td>\n",
       "        <td style=\"padding-left: 1em; padding-right: 1em; text-align: center; vertical-align: top\">5uyYmniYyIB_wtKtyXDudQ</td>\n",
       "        <td style=\"padding-left: 1em; padding-right: 1em; text-align: center; vertical-align: top\">4</td>\n",
       "        <td style=\"padding-left: 1em; padding-right: 1em; text-align: center; vertical-align: top\">Wonderful reuben.  Map<br>shown on Yelp page is ...</td>\n",
       "        <td style=\"padding-left: 1em; padding-right: 1em; text-align: center; vertical-align: top\">review</td>\n",
       "    </tr>\n",
       "</table>\n",
       "<table frame=\"box\" rules=\"cols\">\n",
       "    <tr>\n",
       "        <th style=\"padding-left: 1em; padding-right: 1em; text-align: center\">user_id</th>\n",
       "        <th style=\"padding-left: 1em; padding-right: 1em; text-align: center\">votes</th>\n",
       "        <th style=\"padding-left: 1em; padding-right: 1em; text-align: center\">attributes</th>\n",
       "        <th style=\"padding-left: 1em; padding-right: 1em; text-align: center\">categories</th>\n",
       "    </tr>\n",
       "    <tr>\n",
       "        <td style=\"padding-left: 1em; padding-right: 1em; text-align: center; vertical-align: top\">Iu6AxdBYGR4A0wspR9BYHA</td>\n",
       "        <td style=\"padding-left: 1em; padding-right: 1em; text-align: center; vertical-align: top\">{'funny': 0L, 'useful':<br>0L, 'cool': 0L} ...</td>\n",
       "        <td style=\"padding-left: 1em; padding-right: 1em; text-align: center; vertical-align: top\">{'Take-out': 'true',<br>'Drive-Thru': 'false', ...</td>\n",
       "        <td style=\"padding-left: 1em; padding-right: 1em; text-align: center; vertical-align: top\">[Fast Food, Restaurants]</td>\n",
       "    </tr>\n",
       "    <tr>\n",
       "        <td style=\"padding-left: 1em; padding-right: 1em; text-align: center; vertical-align: top\">auESFwWvW42h6alXgFxAXQ</td>\n",
       "        <td style=\"padding-left: 1em; padding-right: 1em; text-align: center; vertical-align: top\">{'funny': 0L, 'useful':<br>0L, 'cool': 0L} ...</td>\n",
       "        <td style=\"padding-left: 1em; padding-right: 1em; text-align: center; vertical-align: top\">{'Take-out': 'true',<br>'Drive-Thru': 'false', ...</td>\n",
       "        <td style=\"padding-left: 1em; padding-right: 1em; text-align: center; vertical-align: top\">[Fast Food, Restaurants]</td>\n",
       "    </tr>\n",
       "    <tr>\n",
       "        <td style=\"padding-left: 1em; padding-right: 1em; text-align: center; vertical-align: top\">uK8tzraOp4M5u3uYrqIBXg</td>\n",
       "        <td style=\"padding-left: 1em; padding-right: 1em; text-align: center; vertical-align: top\">{'funny': 0L, 'useful':<br>0L, 'cool': 0L} ...</td>\n",
       "        <td style=\"padding-left: 1em; padding-right: 1em; text-align: center; vertical-align: top\">{'Happy Hour': 'true',<br>'Accepts Credit Cards': ...</td>\n",
       "        <td style=\"padding-left: 1em; padding-right: 1em; text-align: center; vertical-align: top\">[Nightlife]</td>\n",
       "    </tr>\n",
       "    <tr>\n",
       "        <td style=\"padding-left: 1em; padding-right: 1em; text-align: center; vertical-align: top\">PP_xoMSYlGr2pb67BbqBdA</td>\n",
       "        <td style=\"padding-left: 1em; padding-right: 1em; text-align: center; vertical-align: top\">{'funny': 0L, 'useful':<br>0L, 'cool': 0L} ...</td>\n",
       "        <td style=\"padding-left: 1em; padding-right: 1em; text-align: center; vertical-align: top\">{'Happy Hour': 'true',<br>'Accepts Credit Cards': ...</td>\n",
       "        <td style=\"padding-left: 1em; padding-right: 1em; text-align: center; vertical-align: top\">[Nightlife]</td>\n",
       "    </tr>\n",
       "    <tr>\n",
       "        <td style=\"padding-left: 1em; padding-right: 1em; text-align: center; vertical-align: top\">H9E5VejGEsRhwcbOMFknmQ</td>\n",
       "        <td style=\"padding-left: 1em; padding-right: 1em; text-align: center; vertical-align: top\">{'funny': 0L, 'useful':<br>0L, 'cool': 0L} ...</td>\n",
       "        <td style=\"padding-left: 1em; padding-right: 1em; text-align: center; vertical-align: top\">{'Good for Kids': 'true'}</td>\n",
       "        <td style=\"padding-left: 1em; padding-right: 1em; text-align: center; vertical-align: top\">[Active Life, Mini Golf,<br>Golf] ...</td>\n",
       "    </tr>\n",
       "    <tr>\n",
       "        <td style=\"padding-left: 1em; padding-right: 1em; text-align: center; vertical-align: top\">JbAeIYc89Sk8SWmrBCJs9g</td>\n",
       "        <td style=\"padding-left: 1em; padding-right: 1em; text-align: center; vertical-align: top\">{'funny': 3L, 'useful':<br>7L, 'cool': 7L} ...</td>\n",
       "        <td style=\"padding-left: 1em; padding-right: 1em; text-align: center; vertical-align: top\">{'Accepts Credit Cards':<br>'false', 'Price Range': ...</td>\n",
       "        <td style=\"padding-left: 1em; padding-right: 1em; text-align: center; vertical-align: top\">[Shopping, Home Services,<br>Internet Service ...</td>\n",
       "    </tr>\n",
       "    <tr>\n",
       "        <td style=\"padding-left: 1em; padding-right: 1em; text-align: center; vertical-align: top\">l_szjd-ken3ma6oHDkTYXg</td>\n",
       "        <td style=\"padding-left: 1em; padding-right: 1em; text-align: center; vertical-align: top\">{'funny': 1L, 'useful':<br>1L, 'cool': 1L} ...</td>\n",
       "        <td style=\"padding-left: 1em; padding-right: 1em; text-align: center; vertical-align: top\">{'Accepts Credit Cards':<br>'false', 'Price Range': ...</td>\n",
       "        <td style=\"padding-left: 1em; padding-right: 1em; text-align: center; vertical-align: top\">[Shopping, Home Services,<br>Internet Service ...</td>\n",
       "    </tr>\n",
       "    <tr>\n",
       "        <td style=\"padding-left: 1em; padding-right: 1em; text-align: center; vertical-align: top\">8fApIAMHn2MZJFUiCQto5Q</td>\n",
       "        <td style=\"padding-left: 1em; padding-right: 1em; text-align: center; vertical-align: top\">{'funny': 0L, 'useful':<br>3L, 'cool': 1L} ...</td>\n",
       "        <td style=\"padding-left: 1em; padding-right: 1em; text-align: center; vertical-align: top\">{'Alcohol': 'full_bar',<br>'Noise Level': 'avera ...</td>\n",
       "        <td style=\"padding-left: 1em; padding-right: 1em; text-align: center; vertical-align: top\">[Bars, American (New),<br>Nightlife, Lounges, ...</td>\n",
       "    </tr>\n",
       "    <tr>\n",
       "        <td style=\"padding-left: 1em; padding-right: 1em; text-align: center; vertical-align: top\">r1Uk-h_bddXb2ScCetoMPA</td>\n",
       "        <td style=\"padding-left: 1em; padding-right: 1em; text-align: center; vertical-align: top\">{'funny': 0L, 'useful':<br>0L, 'cool': 0L} ...</td>\n",
       "        <td style=\"padding-left: 1em; padding-right: 1em; text-align: center; vertical-align: top\">{'Alcohol': 'full_bar',<br>'Noise Level': 'avera ...</td>\n",
       "        <td style=\"padding-left: 1em; padding-right: 1em; text-align: center; vertical-align: top\">[Bars, American (New),<br>Nightlife, Lounges, ...</td>\n",
       "    </tr>\n",
       "    <tr>\n",
       "        <td style=\"padding-left: 1em; padding-right: 1em; text-align: center; vertical-align: top\">u9ULAsnYTdYH65Haj5LMSw</td>\n",
       "        <td style=\"padding-left: 1em; padding-right: 1em; text-align: center; vertical-align: top\">{'funny': 0L, 'useful':<br>0L, 'cool': 0L} ...</td>\n",
       "        <td style=\"padding-left: 1em; padding-right: 1em; text-align: center; vertical-align: top\">{'Alcohol': 'full_bar',<br>'Noise Level': 'avera ...</td>\n",
       "        <td style=\"padding-left: 1em; padding-right: 1em; text-align: center; vertical-align: top\">[Bars, American (New),<br>Nightlife, Lounges, ...</td>\n",
       "    </tr>\n",
       "</table>\n",
       "<table frame=\"box\" rules=\"cols\">\n",
       "    <tr>\n",
       "        <th style=\"padding-left: 1em; padding-right: 1em; text-align: center\">city</th>\n",
       "        <th style=\"padding-left: 1em; padding-right: 1em; text-align: center\">full_address</th>\n",
       "        <th style=\"padding-left: 1em; padding-right: 1em; text-align: center\">hours</th>\n",
       "        <th style=\"padding-left: 1em; padding-right: 1em; text-align: center\">latitude</th>\n",
       "        <th style=\"padding-left: 1em; padding-right: 1em; text-align: center\">longitude</th>\n",
       "    </tr>\n",
       "    <tr>\n",
       "        <td style=\"padding-left: 1em; padding-right: 1em; text-align: center; vertical-align: top\">Dravosburg</td>\n",
       "        <td style=\"padding-left: 1em; padding-right: 1em; text-align: center; vertical-align: top\">4734 Lebanon Church<br>Rd\\nDravosburg, PA 15034 ...</td>\n",
       "        <td style=\"padding-left: 1em; padding-right: 1em; text-align: center; vertical-align: top\">{'Tuesday': {'close':<br>'21:00', 'open': ...</td>\n",
       "        <td style=\"padding-left: 1em; padding-right: 1em; text-align: center; vertical-align: top\">40.3543266</td>\n",
       "        <td style=\"padding-left: 1em; padding-right: 1em; text-align: center; vertical-align: top\">-79.9007057</td>\n",
       "    </tr>\n",
       "    <tr>\n",
       "        <td style=\"padding-left: 1em; padding-right: 1em; text-align: center; vertical-align: top\">Dravosburg</td>\n",
       "        <td style=\"padding-left: 1em; padding-right: 1em; text-align: center; vertical-align: top\">4734 Lebanon Church<br>Rd\\nDravosburg, PA 15034 ...</td>\n",
       "        <td style=\"padding-left: 1em; padding-right: 1em; text-align: center; vertical-align: top\">{'Tuesday': {'close':<br>'21:00', 'open': ...</td>\n",
       "        <td style=\"padding-left: 1em; padding-right: 1em; text-align: center; vertical-align: top\">40.3543266</td>\n",
       "        <td style=\"padding-left: 1em; padding-right: 1em; text-align: center; vertical-align: top\">-79.9007057</td>\n",
       "    </tr>\n",
       "    <tr>\n",
       "        <td style=\"padding-left: 1em; padding-right: 1em; text-align: center; vertical-align: top\">Dravosburg</td>\n",
       "        <td style=\"padding-left: 1em; padding-right: 1em; text-align: center; vertical-align: top\">202 McClure<br>St\\nDravosburg, PA 15034 ...</td>\n",
       "        <td style=\"padding-left: 1em; padding-right: 1em; text-align: center; vertical-align: top\">{}</td>\n",
       "        <td style=\"padding-left: 1em; padding-right: 1em; text-align: center; vertical-align: top\">40.3505527</td>\n",
       "        <td style=\"padding-left: 1em; padding-right: 1em; text-align: center; vertical-align: top\">-79.8868138</td>\n",
       "    </tr>\n",
       "    <tr>\n",
       "        <td style=\"padding-left: 1em; padding-right: 1em; text-align: center; vertical-align: top\">Dravosburg</td>\n",
       "        <td style=\"padding-left: 1em; padding-right: 1em; text-align: center; vertical-align: top\">202 McClure<br>St\\nDravosburg, PA 15034 ...</td>\n",
       "        <td style=\"padding-left: 1em; padding-right: 1em; text-align: center; vertical-align: top\">{}</td>\n",
       "        <td style=\"padding-left: 1em; padding-right: 1em; text-align: center; vertical-align: top\">40.3505527</td>\n",
       "        <td style=\"padding-left: 1em; padding-right: 1em; text-align: center; vertical-align: top\">-79.8868138</td>\n",
       "    </tr>\n",
       "    <tr>\n",
       "        <td style=\"padding-left: 1em; padding-right: 1em; text-align: center; vertical-align: top\">Bethel Park</td>\n",
       "        <td style=\"padding-left: 1em; padding-right: 1em; text-align: center; vertical-align: top\">1530 Hamilton Rd\\nBethel<br>Park, PA 15234 ...</td>\n",
       "        <td style=\"padding-left: 1em; padding-right: 1em; text-align: center; vertical-align: top\">{}</td>\n",
       "        <td style=\"padding-left: 1em; padding-right: 1em; text-align: center; vertical-align: top\">40.3541155</td>\n",
       "        <td style=\"padding-left: 1em; padding-right: 1em; text-align: center; vertical-align: top\">-80.0146597</td>\n",
       "    </tr>\n",
       "    <tr>\n",
       "        <td style=\"padding-left: 1em; padding-right: 1em; text-align: center; vertical-align: top\">Pittsburgh</td>\n",
       "        <td style=\"padding-left: 1em; padding-right: 1em; text-align: center; vertical-align: top\">301 South Hills<br>Village\\nPittsburgh, PA ...</td>\n",
       "        <td style=\"padding-left: 1em; padding-right: 1em; text-align: center; vertical-align: top\">{'Monday': {'close':<br>'21:00', 'open': ...</td>\n",
       "        <td style=\"padding-left: 1em; padding-right: 1em; text-align: center; vertical-align: top\">40.35762</td>\n",
       "        <td style=\"padding-left: 1em; padding-right: 1em; text-align: center; vertical-align: top\">-80.05998</td>\n",
       "    </tr>\n",
       "    <tr>\n",
       "        <td style=\"padding-left: 1em; padding-right: 1em; text-align: center; vertical-align: top\">Pittsburgh</td>\n",
       "        <td style=\"padding-left: 1em; padding-right: 1em; text-align: center; vertical-align: top\">301 South Hills<br>Village\\nPittsburgh, PA ...</td>\n",
       "        <td style=\"padding-left: 1em; padding-right: 1em; text-align: center; vertical-align: top\">{'Monday': {'close':<br>'21:00', 'open': ...</td>\n",
       "        <td style=\"padding-left: 1em; padding-right: 1em; text-align: center; vertical-align: top\">40.35762</td>\n",
       "        <td style=\"padding-left: 1em; padding-right: 1em; text-align: center; vertical-align: top\">-80.05998</td>\n",
       "    </tr>\n",
       "    <tr>\n",
       "        <td style=\"padding-left: 1em; padding-right: 1em; text-align: center; vertical-align: top\">rankin</td>\n",
       "        <td style=\"padding-left: 1em; padding-right: 1em; text-align: center; vertical-align: top\">414 Hawkins Ave\\nrankin,<br>PA 15104 ...</td>\n",
       "        <td style=\"padding-left: 1em; padding-right: 1em; text-align: center; vertical-align: top\">{'Tuesday': {'close':<br>'19:00', 'open': ...</td>\n",
       "        <td style=\"padding-left: 1em; padding-right: 1em; text-align: center; vertical-align: top\">40.4134643</td>\n",
       "        <td style=\"padding-left: 1em; padding-right: 1em; text-align: center; vertical-align: top\">-79.8802474</td>\n",
       "    </tr>\n",
       "    <tr>\n",
       "        <td style=\"padding-left: 1em; padding-right: 1em; text-align: center; vertical-align: top\">rankin</td>\n",
       "        <td style=\"padding-left: 1em; padding-right: 1em; text-align: center; vertical-align: top\">414 Hawkins Ave\\nrankin,<br>PA 15104 ...</td>\n",
       "        <td style=\"padding-left: 1em; padding-right: 1em; text-align: center; vertical-align: top\">{'Tuesday': {'close':<br>'19:00', 'open': ...</td>\n",
       "        <td style=\"padding-left: 1em; padding-right: 1em; text-align: center; vertical-align: top\">40.4134643</td>\n",
       "        <td style=\"padding-left: 1em; padding-right: 1em; text-align: center; vertical-align: top\">-79.8802474</td>\n",
       "    </tr>\n",
       "    <tr>\n",
       "        <td style=\"padding-left: 1em; padding-right: 1em; text-align: center; vertical-align: top\">rankin</td>\n",
       "        <td style=\"padding-left: 1em; padding-right: 1em; text-align: center; vertical-align: top\">414 Hawkins Ave\\nrankin,<br>PA 15104 ...</td>\n",
       "        <td style=\"padding-left: 1em; padding-right: 1em; text-align: center; vertical-align: top\">{'Tuesday': {'close':<br>'19:00', 'open': ...</td>\n",
       "        <td style=\"padding-left: 1em; padding-right: 1em; text-align: center; vertical-align: top\">40.4134643</td>\n",
       "        <td style=\"padding-left: 1em; padding-right: 1em; text-align: center; vertical-align: top\">-79.8802474</td>\n",
       "    </tr>\n",
       "</table>\n",
       "<table frame=\"box\" rules=\"cols\">\n",
       "    <tr>\n",
       "        <th style=\"padding-left: 1em; padding-right: 1em; text-align: center\">name</th>\n",
       "        <th style=\"padding-left: 1em; padding-right: 1em; text-align: center\">neighborhoods</th>\n",
       "        <th style=\"padding-left: 1em; padding-right: 1em; text-align: center\">open</th>\n",
       "        <th style=\"padding-left: 1em; padding-right: 1em; text-align: center\">review_count</th>\n",
       "        <th style=\"padding-left: 1em; padding-right: 1em; text-align: center\">stars.1</th>\n",
       "        <th style=\"padding-left: 1em; padding-right: 1em; text-align: center\">state</th>\n",
       "        <th style=\"padding-left: 1em; padding-right: 1em; text-align: center\">type.1</th>\n",
       "    </tr>\n",
       "    <tr>\n",
       "        <td style=\"padding-left: 1em; padding-right: 1em; text-align: center; vertical-align: top\">Mr Hoagie</td>\n",
       "        <td style=\"padding-left: 1em; padding-right: 1em; text-align: center; vertical-align: top\">[]</td>\n",
       "        <td style=\"padding-left: 1em; padding-right: 1em; text-align: center; vertical-align: top\">true</td>\n",
       "        <td style=\"padding-left: 1em; padding-right: 1em; text-align: center; vertical-align: top\">4</td>\n",
       "        <td style=\"padding-left: 1em; padding-right: 1em; text-align: center; vertical-align: top\">4.5</td>\n",
       "        <td style=\"padding-left: 1em; padding-right: 1em; text-align: center; vertical-align: top\">PA</td>\n",
       "        <td style=\"padding-left: 1em; padding-right: 1em; text-align: center; vertical-align: top\">business</td>\n",
       "    </tr>\n",
       "    <tr>\n",
       "        <td style=\"padding-left: 1em; padding-right: 1em; text-align: center; vertical-align: top\">Mr Hoagie</td>\n",
       "        <td style=\"padding-left: 1em; padding-right: 1em; text-align: center; vertical-align: top\">[]</td>\n",
       "        <td style=\"padding-left: 1em; padding-right: 1em; text-align: center; vertical-align: top\">true</td>\n",
       "        <td style=\"padding-left: 1em; padding-right: 1em; text-align: center; vertical-align: top\">4</td>\n",
       "        <td style=\"padding-left: 1em; padding-right: 1em; text-align: center; vertical-align: top\">4.5</td>\n",
       "        <td style=\"padding-left: 1em; padding-right: 1em; text-align: center; vertical-align: top\">PA</td>\n",
       "        <td style=\"padding-left: 1em; padding-right: 1em; text-align: center; vertical-align: top\">business</td>\n",
       "    </tr>\n",
       "    <tr>\n",
       "        <td style=\"padding-left: 1em; padding-right: 1em; text-align: center; vertical-align: top\">Clancy's Pub</td>\n",
       "        <td style=\"padding-left: 1em; padding-right: 1em; text-align: center; vertical-align: top\">[]</td>\n",
       "        <td style=\"padding-left: 1em; padding-right: 1em; text-align: center; vertical-align: top\">true</td>\n",
       "        <td style=\"padding-left: 1em; padding-right: 1em; text-align: center; vertical-align: top\">4</td>\n",
       "        <td style=\"padding-left: 1em; padding-right: 1em; text-align: center; vertical-align: top\">3.5</td>\n",
       "        <td style=\"padding-left: 1em; padding-right: 1em; text-align: center; vertical-align: top\">PA</td>\n",
       "        <td style=\"padding-left: 1em; padding-right: 1em; text-align: center; vertical-align: top\">business</td>\n",
       "    </tr>\n",
       "    <tr>\n",
       "        <td style=\"padding-left: 1em; padding-right: 1em; text-align: center; vertical-align: top\">Clancy's Pub</td>\n",
       "        <td style=\"padding-left: 1em; padding-right: 1em; text-align: center; vertical-align: top\">[]</td>\n",
       "        <td style=\"padding-left: 1em; padding-right: 1em; text-align: center; vertical-align: top\">true</td>\n",
       "        <td style=\"padding-left: 1em; padding-right: 1em; text-align: center; vertical-align: top\">4</td>\n",
       "        <td style=\"padding-left: 1em; padding-right: 1em; text-align: center; vertical-align: top\">3.5</td>\n",
       "        <td style=\"padding-left: 1em; padding-right: 1em; text-align: center; vertical-align: top\">PA</td>\n",
       "        <td style=\"padding-left: 1em; padding-right: 1em; text-align: center; vertical-align: top\">business</td>\n",
       "    </tr>\n",
       "    <tr>\n",
       "        <td style=\"padding-left: 1em; padding-right: 1em; text-align: center; vertical-align: top\">Cool Springs Golf Center</td>\n",
       "        <td style=\"padding-left: 1em; padding-right: 1em; text-align: center; vertical-align: top\">[]</td>\n",
       "        <td style=\"padding-left: 1em; padding-right: 1em; text-align: center; vertical-align: top\">false</td>\n",
       "        <td style=\"padding-left: 1em; padding-right: 1em; text-align: center; vertical-align: top\">5</td>\n",
       "        <td style=\"padding-left: 1em; padding-right: 1em; text-align: center; vertical-align: top\">2.5</td>\n",
       "        <td style=\"padding-left: 1em; padding-right: 1em; text-align: center; vertical-align: top\">PA</td>\n",
       "        <td style=\"padding-left: 1em; padding-right: 1em; text-align: center; vertical-align: top\">business</td>\n",
       "    </tr>\n",
       "    <tr>\n",
       "        <td style=\"padding-left: 1em; padding-right: 1em; text-align: center; vertical-align: top\">Verizon</td>\n",
       "        <td style=\"padding-left: 1em; padding-right: 1em; text-align: center; vertical-align: top\">[]</td>\n",
       "        <td style=\"padding-left: 1em; padding-right: 1em; text-align: center; vertical-align: top\">true</td>\n",
       "        <td style=\"padding-left: 1em; padding-right: 1em; text-align: center; vertical-align: top\">5</td>\n",
       "        <td style=\"padding-left: 1em; padding-right: 1em; text-align: center; vertical-align: top\">2.5</td>\n",
       "        <td style=\"padding-left: 1em; padding-right: 1em; text-align: center; vertical-align: top\">PA</td>\n",
       "        <td style=\"padding-left: 1em; padding-right: 1em; text-align: center; vertical-align: top\">business</td>\n",
       "    </tr>\n",
       "    <tr>\n",
       "        <td style=\"padding-left: 1em; padding-right: 1em; text-align: center; vertical-align: top\">Verizon</td>\n",
       "        <td style=\"padding-left: 1em; padding-right: 1em; text-align: center; vertical-align: top\">[]</td>\n",
       "        <td style=\"padding-left: 1em; padding-right: 1em; text-align: center; vertical-align: top\">true</td>\n",
       "        <td style=\"padding-left: 1em; padding-right: 1em; text-align: center; vertical-align: top\">5</td>\n",
       "        <td style=\"padding-left: 1em; padding-right: 1em; text-align: center; vertical-align: top\">2.5</td>\n",
       "        <td style=\"padding-left: 1em; padding-right: 1em; text-align: center; vertical-align: top\">PA</td>\n",
       "        <td style=\"padding-left: 1em; padding-right: 1em; text-align: center; vertical-align: top\">business</td>\n",
       "    </tr>\n",
       "    <tr>\n",
       "        <td style=\"padding-left: 1em; padding-right: 1em; text-align: center; vertical-align: top\">Emil's Lounge</td>\n",
       "        <td style=\"padding-left: 1em; padding-right: 1em; text-align: center; vertical-align: top\">[]</td>\n",
       "        <td style=\"padding-left: 1em; padding-right: 1em; text-align: center; vertical-align: top\">true</td>\n",
       "        <td style=\"padding-left: 1em; padding-right: 1em; text-align: center; vertical-align: top\">20</td>\n",
       "        <td style=\"padding-left: 1em; padding-right: 1em; text-align: center; vertical-align: top\">5.0</td>\n",
       "        <td style=\"padding-left: 1em; padding-right: 1em; text-align: center; vertical-align: top\">PA</td>\n",
       "        <td style=\"padding-left: 1em; padding-right: 1em; text-align: center; vertical-align: top\">business</td>\n",
       "    </tr>\n",
       "    <tr>\n",
       "        <td style=\"padding-left: 1em; padding-right: 1em; text-align: center; vertical-align: top\">Emil's Lounge</td>\n",
       "        <td style=\"padding-left: 1em; padding-right: 1em; text-align: center; vertical-align: top\">[]</td>\n",
       "        <td style=\"padding-left: 1em; padding-right: 1em; text-align: center; vertical-align: top\">true</td>\n",
       "        <td style=\"padding-left: 1em; padding-right: 1em; text-align: center; vertical-align: top\">20</td>\n",
       "        <td style=\"padding-left: 1em; padding-right: 1em; text-align: center; vertical-align: top\">5.0</td>\n",
       "        <td style=\"padding-left: 1em; padding-right: 1em; text-align: center; vertical-align: top\">PA</td>\n",
       "        <td style=\"padding-left: 1em; padding-right: 1em; text-align: center; vertical-align: top\">business</td>\n",
       "    </tr>\n",
       "    <tr>\n",
       "        <td style=\"padding-left: 1em; padding-right: 1em; text-align: center; vertical-align: top\">Emil's Lounge</td>\n",
       "        <td style=\"padding-left: 1em; padding-right: 1em; text-align: center; vertical-align: top\">[]</td>\n",
       "        <td style=\"padding-left: 1em; padding-right: 1em; text-align: center; vertical-align: top\">true</td>\n",
       "        <td style=\"padding-left: 1em; padding-right: 1em; text-align: center; vertical-align: top\">20</td>\n",
       "        <td style=\"padding-left: 1em; padding-right: 1em; text-align: center; vertical-align: top\">5.0</td>\n",
       "        <td style=\"padding-left: 1em; padding-right: 1em; text-align: center; vertical-align: top\">PA</td>\n",
       "        <td style=\"padding-left: 1em; padding-right: 1em; text-align: center; vertical-align: top\">business</td>\n",
       "    </tr>\n",
       "</table>\n",
       "<table frame=\"box\" rules=\"cols\">\n",
       "    <tr>\n",
       "        <th style=\"padding-left: 1em; padding-right: 1em; text-align: center\">preprocessedText</th>\n",
       "        <th style=\"padding-left: 1em; padding-right: 1em; text-align: center\">test_rev_topics</th>\n",
       "    </tr>\n",
       "    <tr>\n",
       "        <td style=\"padding-left: 1em; padding-right: 1em; text-align: center; vertical-align: top\">excellent food superb<br>customer service miss ...</td>\n",
       "        <td style=\"padding-left: 1em; padding-right: 1em; text-align: center; vertical-align: top\">[0.015625, 0.03125,<br>0.03125, 0.0625, ...</td>\n",
       "    </tr>\n",
       "    <tr>\n",
       "        <td style=\"padding-left: 1em; padding-right: 1em; text-align: center; vertical-align: top\">yes place little dated<br>opened weekend staff ...</td>\n",
       "        <td style=\"padding-left: 1em; padding-right: 1em; text-align: center; vertical-align: top\">[0.0238095238095,<br>0.047619047619, ...</td>\n",
       "    </tr>\n",
       "    <tr>\n",
       "        <td style=\"padding-left: 1em; padding-right: 1em; text-align: center; vertical-align: top\">food great best thing<br>wings wings simply ...</td>\n",
       "        <td style=\"padding-left: 1em; padding-right: 1em; text-align: center; vertical-align: top\">[0.010989010989,<br>0.021978021978, ...</td>\n",
       "    </tr>\n",
       "    <tr>\n",
       "        <td style=\"padding-left: 1em; padding-right: 1em; text-align: center; vertical-align: top\">wing sauce like water<br>pretty much lot butter ...</td>\n",
       "        <td style=\"padding-left: 1em; padding-right: 1em; text-align: center; vertical-align: top\">[0.0117647058824,<br>0.0117647058824, ...</td>\n",
       "    </tr>\n",
       "    <tr>\n",
       "        <td style=\"padding-left: 1em; padding-right: 1em; text-align: center; vertical-align: top\">finally made range heard<br>thing people fine work ...</td>\n",
       "        <td style=\"padding-left: 1em; padding-right: 1em; text-align: center; vertical-align: top\">[0.0077519379845,<br>0.0077519379845, ...</td>\n",
       "    </tr>\n",
       "    <tr>\n",
       "        <td style=\"padding-left: 1em; padding-right: 1em; text-align: center; vertical-align: top\">thank rob truly<br>appreciated help rece ...</td>\n",
       "        <td style=\"padding-left: 1em; padding-right: 1em; text-align: center; vertical-align: top\">[0.00952380952381,<br>0.00952380952381, ...</td>\n",
       "    </tr>\n",
       "    <tr>\n",
       "        <td style=\"padding-left: 1em; padding-right: 1em; text-align: center; vertical-align: top\">waiting almost minutes<br>trade old phone part buy ...</td>\n",
       "        <td style=\"padding-left: 1em; padding-right: 1em; text-align: center; vertical-align: top\">[0.012987012987,<br>0.012987012987, ...</td>\n",
       "    </tr>\n",
       "    <tr>\n",
       "        <td style=\"padding-left: 1em; padding-right: 1em; text-align: center; vertical-align: top\">place lot reviews glad<br>need get busier ages ...</td>\n",
       "        <td style=\"padding-left: 1em; padding-right: 1em; text-align: center; vertical-align: top\">[0.00645161290323,<br>0.058064516129, ...</td>\n",
       "    </tr>\n",
       "    <tr>\n",
       "        <td style=\"padding-left: 1em; padding-right: 1em; text-align: center; vertical-align: top\">like lot recent patrons<br>heard emil wqed food ...</td>\n",
       "        <td style=\"padding-left: 1em; padding-right: 1em; text-align: center; vertical-align: top\">[0.025974025974,<br>0.0649350649351, ...</td>\n",
       "    </tr>\n",
       "    <tr>\n",
       "        <td style=\"padding-left: 1em; padding-right: 1em; text-align: center; vertical-align: top\">wonderful reuben map<br>shown yelp page incor ...</td>\n",
       "        <td style=\"padding-left: 1em; padding-right: 1em; text-align: center; vertical-align: top\">[0.015873015873,<br>0.015873015873, ...</td>\n",
       "    </tr>\n",
       "</table>\n",
       "[10 rows x 25 columns]<br/>\n",
       "</div>"
      ],
      "text/plain": [
       "Columns:\n",
       "\tid\tint\n",
       "\tbusiness_id\tstr\n",
       "\tdate\tstr\n",
       "\treview_id\tstr\n",
       "\tstars\tint\n",
       "\ttext\tstr\n",
       "\ttype\tstr\n",
       "\tuser_id\tstr\n",
       "\tvotes\tdict\n",
       "\tattributes\tdict\n",
       "\tcategories\tlist\n",
       "\tcity\tstr\n",
       "\tfull_address\tstr\n",
       "\thours\tdict\n",
       "\tlatitude\tfloat\n",
       "\tlongitude\tfloat\n",
       "\tname\tstr\n",
       "\tneighborhoods\tlist\n",
       "\topen\tstr\n",
       "\treview_count\tint\n",
       "\tstars.1\tfloat\n",
       "\tstate\tstr\n",
       "\ttype.1\tstr\n",
       "\tpreprocessedText\tstr\n",
       "\ttest_rev_topics\tarray\n",
       "\n",
       "Rows: 10\n",
       "\n",
       "Data:\n",
       "+----+------------------------+------------+------------------------+-------+\n",
       "| id |      business_id       |    date    |       review_id        | stars |\n",
       "+----+------------------------+------------+------------------------+-------+\n",
       "| 0  | 5UmKMjUEUNdYWqANhGckJw | 2014-02-13 | KPvLNJ21_4wbYNctrOwWdQ |   5   |\n",
       "| 1  | 5UmKMjUEUNdYWqANhGckJw | 2015-10-31 | fFSoGV46Yxuwbr3fHNuZig |   5   |\n",
       "| 2  | UsFtqoBl7naz8AVUBZMjQQ | 2013-11-08 | Di3exaUCFNw1V4kSNW5pgA |   5   |\n",
       "| 3  | UsFtqoBl7naz8AVUBZMjQQ | 2014-10-29 | 7N9j5YbBHBW6qguE5DAeyA |   1   |\n",
       "| 4  | cE27W9VPgO88Qxe4ol6y_g | 2013-08-16 | iS34GJhMkkt9kCoTJLYEwA |   4   |\n",
       "| 5  | HZdLhv6COCleJMo7nPl-RA | 2013-06-10 | fBQ69-NU9ZyTjjS7Tb5tww |   5   |\n",
       "| 6  | HZdLhv6COCleJMo7nPl-RA | 2013-12-23 | CFiLh7WvH7dM3qVZvNiacQ |   2   |\n",
       "| 7  | mVHrayjG3uZ_RLHkLj-AMg | 2013-03-30 | 3Es8GsjkssusYgeU6_ZVpQ |   5   |\n",
       "| 8  | mVHrayjG3uZ_RLHkLj-AMg | 2014-05-01 | PY6nIMMLP2pqARlbIOJuRA |   5   |\n",
       "| 9  | mVHrayjG3uZ_RLHkLj-AMg | 2014-09-29 | 5uyYmniYyIB_wtKtyXDudQ |   4   |\n",
       "+----+------------------------+------------+------------------------+-------+\n",
       "+-------------------------------+--------+------------------------+\n",
       "|              text             |  type  |        user_id         |\n",
       "+-------------------------------+--------+------------------------+\n",
       "| Excellent food. Superb cus... | review | Iu6AxdBYGR4A0wspR9BYHA |\n",
       "| Yes this place is a little... | review | auESFwWvW42h6alXgFxAXQ |\n",
       "| All the food is great here... | review | uK8tzraOp4M5u3uYrqIBXg |\n",
       "| Wing sauce is like water. ... | review | PP_xoMSYlGr2pb67BbqBdA |\n",
       "| Before I finally made it o... | review | H9E5VejGEsRhwcbOMFknmQ |\n",
       "| THANK YOU ROB! i truly app... | review | JbAeIYc89Sk8SWmrBCJs9g |\n",
       "| After waiting for almost 3... | review | l_szjd-ken3ma6oHDkTYXg |\n",
       "| This place should have a l... | review | 8fApIAMHn2MZJFUiCQto5Q |\n",
       "| Like a lot of recent patro... | review | r1Uk-h_bddXb2ScCetoMPA |\n",
       "| Wonderful reuben.  Map sho... | review | u9ULAsnYTdYH65Haj5LMSw |\n",
       "+-------------------------------+--------+------------------------+\n",
       "+-------------------------------+-------------------------------+\n",
       "|             votes             |           attributes          |\n",
       "+-------------------------------+-------------------------------+\n",
       "| {'funny': 0L, 'useful': 0L... | {'Take-out': 'true', 'Driv... |\n",
       "| {'funny': 0L, 'useful': 0L... | {'Take-out': 'true', 'Driv... |\n",
       "| {'funny': 0L, 'useful': 0L... | {'Happy Hour': 'true', 'Ac... |\n",
       "| {'funny': 0L, 'useful': 0L... | {'Happy Hour': 'true', 'Ac... |\n",
       "| {'funny': 0L, 'useful': 0L... |   {'Good for Kids': 'true'}   |\n",
       "| {'funny': 3L, 'useful': 7L... | {'Accepts Credit Cards': '... |\n",
       "| {'funny': 1L, 'useful': 1L... | {'Accepts Credit Cards': '... |\n",
       "| {'funny': 0L, 'useful': 3L... | {'Alcohol': 'full_bar', 'N... |\n",
       "| {'funny': 0L, 'useful': 0L... | {'Alcohol': 'full_bar', 'N... |\n",
       "| {'funny': 0L, 'useful': 0L... | {'Alcohol': 'full_bar', 'N... |\n",
       "+-------------------------------+-------------------------------+\n",
       "+--------------------------------+-------------+-------------------------------+\n",
       "|           categories           |     city    |          full_address         |\n",
       "+--------------------------------+-------------+-------------------------------+\n",
       "|    [Fast Food, Restaurants]    |  Dravosburg | 4734 Lebanon Church Rd\\nDr... |\n",
       "|    [Fast Food, Restaurants]    |  Dravosburg | 4734 Lebanon Church Rd\\nDr... |\n",
       "|          [Nightlife]           |  Dravosburg | 202 McClure St\\nDravosburg... |\n",
       "|          [Nightlife]           |  Dravosburg | 202 McClure St\\nDravosburg... |\n",
       "| [Active Life, Mini Golf, Golf] | Bethel Park | 1530 Hamilton Rd\\nBethel P... |\n",
       "| [Shopping, Home Services, ...  |  Pittsburgh | 301 South Hills Village\\nP... |\n",
       "| [Shopping, Home Services, ...  |  Pittsburgh | 301 South Hills Village\\nP... |\n",
       "| [Bars, American (New), Nig...  |    rankin   | 414 Hawkins Ave\\nrankin, P... |\n",
       "| [Bars, American (New), Nig...  |    rankin   | 414 Hawkins Ave\\nrankin, P... |\n",
       "| [Bars, American (New), Nig...  |    rankin   | 414 Hawkins Ave\\nrankin, P... |\n",
       "+--------------------------------+-------------+-------------------------------+\n",
       "+-------------------------------+------------+-------------+\n",
       "|             hours             |  latitude  |  longitude  |\n",
       "+-------------------------------+------------+-------------+\n",
       "| {'Tuesday': {'close': '21:... | 40.3543266 | -79.9007057 |\n",
       "| {'Tuesday': {'close': '21:... | 40.3543266 | -79.9007057 |\n",
       "|               {}              | 40.3505527 | -79.8868138 |\n",
       "|               {}              | 40.3505527 | -79.8868138 |\n",
       "|               {}              | 40.3541155 | -80.0146597 |\n",
       "| {'Monday': {'close': '21:0... |  40.35762  |  -80.05998  |\n",
       "| {'Monday': {'close': '21:0... |  40.35762  |  -80.05998  |\n",
       "| {'Tuesday': {'close': '19:... | 40.4134643 | -79.8802474 |\n",
       "| {'Tuesday': {'close': '19:... | 40.4134643 | -79.8802474 |\n",
       "| {'Tuesday': {'close': '19:... | 40.4134643 | -79.8802474 |\n",
       "+-------------------------------+------------+-------------+\n",
       "+--------------------------+---------------+-------+--------------+-----+\n",
       "|           name           | neighborhoods |  open | review_count | ... |\n",
       "+--------------------------+---------------+-------+--------------+-----+\n",
       "|        Mr Hoagie         |       []      |  true |      4       | ... |\n",
       "|        Mr Hoagie         |       []      |  true |      4       | ... |\n",
       "|       Clancy's Pub       |       []      |  true |      4       | ... |\n",
       "|       Clancy's Pub       |       []      |  true |      4       | ... |\n",
       "| Cool Springs Golf Center |       []      | false |      5       | ... |\n",
       "|         Verizon          |       []      |  true |      5       | ... |\n",
       "|         Verizon          |       []      |  true |      5       | ... |\n",
       "|      Emil's Lounge       |       []      |  true |      20      | ... |\n",
       "|      Emil's Lounge       |       []      |  true |      20      | ... |\n",
       "|      Emil's Lounge       |       []      |  true |      20      | ... |\n",
       "+--------------------------+---------------+-------+--------------+-----+\n",
       "[10 rows x 25 columns]"
      ]
     },
     "execution_count": 136,
     "metadata": {},
     "output_type": "execute_result"
    }
   ],
   "source": [
    "test_rev.head()"
   ]
  },
  {
   "cell_type": "code",
   "execution_count": 143,
   "metadata": {
    "collapsed": false
   },
   "outputs": [],
   "source": [
    "sf_train = graphlab.SFrame({'predictions': train_rev['test_rev_topics']}).add_row_number()"
   ]
  },
  {
   "cell_type": "code",
   "execution_count": 80,
   "metadata": {
    "collapsed": false
   },
   "outputs": [],
   "source": [
    "# Stack these predictions and add a row number.\n",
    "sf = graphlab.SFrame({'predictions': test_rev_topics}).add_row_number()\n",
    "\n",
    "def top2_dict(lst):\n",
    "    \"\"\" Return the top 2 elements of a list along with the indices and then\n",
    "        convert the result into a dictionary. For example:\n",
    "\n",
    "        input  : [10, 5, 8, 20]\n",
    "        output : {0: 20, 3: 10} \n",
    "    \"\"\"\n",
    "    sorted_lst = sorted(enumerate(lst), key=lambda x: x[1], reverse=True)\n",
    "    # Return the top2\n",
    "    return dict(sorted_lst[:2])\n"
   ]
  },
  {
   "cell_type": "code",
   "execution_count": 81,
   "metadata": {
    "collapsed": false
   },
   "outputs": [],
   "source": [
    "# Top-2 predictions\n",
    "sf['predictions'] = sf['predictions'].apply(top2_dict)"
   ]
  },
  {
   "cell_type": "code",
   "execution_count": 144,
   "metadata": {
    "collapsed": true
   },
   "outputs": [],
   "source": [
    "# Top-2 predictions\n",
    "sf_train['predictions'] = sf_train['predictions'].apply(top2_dict)"
   ]
  },
  {
   "cell_type": "code",
   "execution_count": 145,
   "metadata": {
    "collapsed": false
   },
   "outputs": [
    {
     "data": {
      "text/html": [
       "<div style=\"max-height:1000px;max-width:1500px;overflow:auto;\"><table frame=\"box\" rules=\"cols\">\n",
       "    <tr>\n",
       "        <th style=\"padding-left: 1em; padding-right: 1em; text-align: center\">id</th>\n",
       "        <th style=\"padding-left: 1em; padding-right: 1em; text-align: center\">topic</th>\n",
       "        <th style=\"padding-left: 1em; padding-right: 1em; text-align: center\">probability</th>\n",
       "    </tr>\n",
       "    <tr>\n",
       "        <td style=\"padding-left: 1em; padding-right: 1em; text-align: center; vertical-align: top\">0</td>\n",
       "        <td style=\"padding-left: 1em; padding-right: 1em; text-align: center; vertical-align: top\">48</td>\n",
       "        <td style=\"padding-left: 1em; padding-right: 1em; text-align: center; vertical-align: top\">0.0568181818182</td>\n",
       "    </tr>\n",
       "    <tr>\n",
       "        <td style=\"padding-left: 1em; padding-right: 1em; text-align: center; vertical-align: top\">0</td>\n",
       "        <td style=\"padding-left: 1em; padding-right: 1em; text-align: center; vertical-align: top\">26</td>\n",
       "        <td style=\"padding-left: 1em; padding-right: 1em; text-align: center; vertical-align: top\">0.113636363636</td>\n",
       "    </tr>\n",
       "    <tr>\n",
       "        <td style=\"padding-left: 1em; padding-right: 1em; text-align: center; vertical-align: top\">1</td>\n",
       "        <td style=\"padding-left: 1em; padding-right: 1em; text-align: center; vertical-align: top\">6</td>\n",
       "        <td style=\"padding-left: 1em; padding-right: 1em; text-align: center; vertical-align: top\">0.0714285714286</td>\n",
       "    </tr>\n",
       "    <tr>\n",
       "        <td style=\"padding-left: 1em; padding-right: 1em; text-align: center; vertical-align: top\">1</td>\n",
       "        <td style=\"padding-left: 1em; padding-right: 1em; text-align: center; vertical-align: top\">47</td>\n",
       "        <td style=\"padding-left: 1em; padding-right: 1em; text-align: center; vertical-align: top\">0.160714285714</td>\n",
       "    </tr>\n",
       "    <tr>\n",
       "        <td style=\"padding-left: 1em; padding-right: 1em; text-align: center; vertical-align: top\">2</td>\n",
       "        <td style=\"padding-left: 1em; padding-right: 1em; text-align: center; vertical-align: top\">5</td>\n",
       "        <td style=\"padding-left: 1em; padding-right: 1em; text-align: center; vertical-align: top\">0.1</td>\n",
       "    </tr>\n",
       "    <tr>\n",
       "        <td style=\"padding-left: 1em; padding-right: 1em; text-align: center; vertical-align: top\">2</td>\n",
       "        <td style=\"padding-left: 1em; padding-right: 1em; text-align: center; vertical-align: top\">38</td>\n",
       "        <td style=\"padding-left: 1em; padding-right: 1em; text-align: center; vertical-align: top\">0.1</td>\n",
       "    </tr>\n",
       "    <tr>\n",
       "        <td style=\"padding-left: 1em; padding-right: 1em; text-align: center; vertical-align: top\">3</td>\n",
       "        <td style=\"padding-left: 1em; padding-right: 1em; text-align: center; vertical-align: top\">33</td>\n",
       "        <td style=\"padding-left: 1em; padding-right: 1em; text-align: center; vertical-align: top\">0.051724137931</td>\n",
       "    </tr>\n",
       "    <tr>\n",
       "        <td style=\"padding-left: 1em; padding-right: 1em; text-align: center; vertical-align: top\">3</td>\n",
       "        <td style=\"padding-left: 1em; padding-right: 1em; text-align: center; vertical-align: top\">49</td>\n",
       "        <td style=\"padding-left: 1em; padding-right: 1em; text-align: center; vertical-align: top\">0.051724137931</td>\n",
       "    </tr>\n",
       "    <tr>\n",
       "        <td style=\"padding-left: 1em; padding-right: 1em; text-align: center; vertical-align: top\">4</td>\n",
       "        <td style=\"padding-left: 1em; padding-right: 1em; text-align: center; vertical-align: top\">49</td>\n",
       "        <td style=\"padding-left: 1em; padding-right: 1em; text-align: center; vertical-align: top\">0.118644067797</td>\n",
       "    </tr>\n",
       "    <tr>\n",
       "        <td style=\"padding-left: 1em; padding-right: 1em; text-align: center; vertical-align: top\">4</td>\n",
       "        <td style=\"padding-left: 1em; padding-right: 1em; text-align: center; vertical-align: top\">17</td>\n",
       "        <td style=\"padding-left: 1em; padding-right: 1em; text-align: center; vertical-align: top\">0.0762711864407</td>\n",
       "    </tr>\n",
       "</table>\n",
       "[10 rows x 3 columns]<br/>\n",
       "</div>"
      ],
      "text/plain": [
       "Columns:\n",
       "\tid\tint\n",
       "\ttopic\tint\n",
       "\tprobability\tfloat\n",
       "\n",
       "Rows: 10\n",
       "\n",
       "Data:\n",
       "+----+-------+-----------------+\n",
       "| id | topic |   probability   |\n",
       "+----+-------+-----------------+\n",
       "| 0  |   48  | 0.0568181818182 |\n",
       "| 0  |   26  |  0.113636363636 |\n",
       "| 1  |   6   | 0.0714285714286 |\n",
       "| 1  |   47  |  0.160714285714 |\n",
       "| 2  |   5   |       0.1       |\n",
       "| 2  |   38  |       0.1       |\n",
       "| 3  |   33  |  0.051724137931 |\n",
       "| 3  |   49  |  0.051724137931 |\n",
       "| 4  |   49  |  0.118644067797 |\n",
       "| 4  |   17  | 0.0762711864407 |\n",
       "+----+-------+-----------------+\n",
       "[10 rows x 3 columns]"
      ]
     },
     "execution_count": 145,
     "metadata": {},
     "output_type": "execute_result"
    }
   ],
   "source": [
    "sf_train = sf_train.stack('predictions', ['topic', 'probability'])\n",
    "sf_train.head()"
   ]
  },
  {
   "cell_type": "code",
   "execution_count": 83,
   "metadata": {
    "collapsed": false
   },
   "outputs": [
    {
     "data": {
      "text/html": [
       "<div style=\"max-height:1000px;max-width:1500px;overflow:auto;\"><table frame=\"box\" rules=\"cols\">\n",
       "    <tr>\n",
       "        <th style=\"padding-left: 1em; padding-right: 1em; text-align: center\">id</th>\n",
       "        <th style=\"padding-left: 1em; padding-right: 1em; text-align: center\">topic</th>\n",
       "        <th style=\"padding-left: 1em; padding-right: 1em; text-align: center\">probability</th>\n",
       "    </tr>\n",
       "    <tr>\n",
       "        <td style=\"padding-left: 1em; padding-right: 1em; text-align: center; vertical-align: top\">0</td>\n",
       "        <td style=\"padding-left: 1em; padding-right: 1em; text-align: center; vertical-align: top\">33</td>\n",
       "        <td style=\"padding-left: 1em; padding-right: 1em; text-align: center; vertical-align: top\">0.0625</td>\n",
       "    </tr>\n",
       "    <tr>\n",
       "        <td style=\"padding-left: 1em; padding-right: 1em; text-align: center; vertical-align: top\">0</td>\n",
       "        <td style=\"padding-left: 1em; padding-right: 1em; text-align: center; vertical-align: top\">3</td>\n",
       "        <td style=\"padding-left: 1em; padding-right: 1em; text-align: center; vertical-align: top\">0.0625</td>\n",
       "    </tr>\n",
       "    <tr>\n",
       "        <td style=\"padding-left: 1em; padding-right: 1em; text-align: center; vertical-align: top\">1</td>\n",
       "        <td style=\"padding-left: 1em; padding-right: 1em; text-align: center; vertical-align: top\">40</td>\n",
       "        <td style=\"padding-left: 1em; padding-right: 1em; text-align: center; vertical-align: top\">0.0595238095238</td>\n",
       "    </tr>\n",
       "    <tr>\n",
       "        <td style=\"padding-left: 1em; padding-right: 1em; text-align: center; vertical-align: top\">1</td>\n",
       "        <td style=\"padding-left: 1em; padding-right: 1em; text-align: center; vertical-align: top\">5</td>\n",
       "        <td style=\"padding-left: 1em; padding-right: 1em; text-align: center; vertical-align: top\">0.0595238095238</td>\n",
       "    </tr>\n",
       "    <tr>\n",
       "        <td style=\"padding-left: 1em; padding-right: 1em; text-align: center; vertical-align: top\">2</td>\n",
       "        <td style=\"padding-left: 1em; padding-right: 1em; text-align: center; vertical-align: top\">9</td>\n",
       "        <td style=\"padding-left: 1em; padding-right: 1em; text-align: center; vertical-align: top\">0.0659340659341</td>\n",
       "    </tr>\n",
       "    <tr>\n",
       "        <td style=\"padding-left: 1em; padding-right: 1em; text-align: center; vertical-align: top\">2</td>\n",
       "        <td style=\"padding-left: 1em; padding-right: 1em; text-align: center; vertical-align: top\">47</td>\n",
       "        <td style=\"padding-left: 1em; padding-right: 1em; text-align: center; vertical-align: top\">0.0989010989011</td>\n",
       "    </tr>\n",
       "    <tr>\n",
       "        <td style=\"padding-left: 1em; padding-right: 1em; text-align: center; vertical-align: top\">3</td>\n",
       "        <td style=\"padding-left: 1em; padding-right: 1em; text-align: center; vertical-align: top\">14</td>\n",
       "        <td style=\"padding-left: 1em; padding-right: 1em; text-align: center; vertical-align: top\">0.0588235294118</td>\n",
       "    </tr>\n",
       "    <tr>\n",
       "        <td style=\"padding-left: 1em; padding-right: 1em; text-align: center; vertical-align: top\">3</td>\n",
       "        <td style=\"padding-left: 1em; padding-right: 1em; text-align: center; vertical-align: top\">47</td>\n",
       "        <td style=\"padding-left: 1em; padding-right: 1em; text-align: center; vertical-align: top\">0.247058823529</td>\n",
       "    </tr>\n",
       "    <tr>\n",
       "        <td style=\"padding-left: 1em; padding-right: 1em; text-align: center; vertical-align: top\">4</td>\n",
       "        <td style=\"padding-left: 1em; padding-right: 1em; text-align: center; vertical-align: top\">4</td>\n",
       "        <td style=\"padding-left: 1em; padding-right: 1em; text-align: center; vertical-align: top\">0.100775193798</td>\n",
       "    </tr>\n",
       "    <tr>\n",
       "        <td style=\"padding-left: 1em; padding-right: 1em; text-align: center; vertical-align: top\">4</td>\n",
       "        <td style=\"padding-left: 1em; padding-right: 1em; text-align: center; vertical-align: top\">20</td>\n",
       "        <td style=\"padding-left: 1em; padding-right: 1em; text-align: center; vertical-align: top\">0.108527131783</td>\n",
       "    </tr>\n",
       "</table>\n",
       "[10 rows x 3 columns]<br/>\n",
       "</div>"
      ],
      "text/plain": [
       "Columns:\n",
       "\tid\tint\n",
       "\ttopic\tint\n",
       "\tprobability\tfloat\n",
       "\n",
       "Rows: 10\n",
       "\n",
       "Data:\n",
       "+----+-------+-----------------+\n",
       "| id | topic |   probability   |\n",
       "+----+-------+-----------------+\n",
       "| 0  |   33  |      0.0625     |\n",
       "| 0  |   3   |      0.0625     |\n",
       "| 1  |   40  | 0.0595238095238 |\n",
       "| 1  |   5   | 0.0595238095238 |\n",
       "| 2  |   9   | 0.0659340659341 |\n",
       "| 2  |   47  | 0.0989010989011 |\n",
       "| 3  |   14  | 0.0588235294118 |\n",
       "| 3  |   47  |  0.247058823529 |\n",
       "| 4  |   4   |  0.100775193798 |\n",
       "| 4  |   20  |  0.108527131783 |\n",
       "+----+-------+-----------------+\n",
       "[10 rows x 3 columns]"
      ]
     },
     "execution_count": 83,
     "metadata": {},
     "output_type": "execute_result"
    }
   ],
   "source": [
    "sf = sf.stack('predictions', ['topic', 'probability'])\n",
    "sf.head()"
   ]
  },
  {
   "cell_type": "markdown",
   "metadata": {},
   "source": [
    "## Assigning Meaningful Label to Topics"
   ]
  },
  {
   "cell_type": "code",
   "execution_count": 121,
   "metadata": {
    "collapsed": false
   },
   "outputs": [],
   "source": [
    "def addLabel(x):\n",
    "    if(x == 1 or x==26 or x==35 or x==46 or x==47):\n",
    "        return \"Food\"\n",
    "    elif(x == 2):\n",
    "        return \"Italian\"\n",
    "    elif(x == 3 or x==19 or x==30):\n",
    "        return \"Service\"\n",
    "    elif(x == 4):\n",
    "        return \"Price\"\n",
    "    elif(x == 5):\n",
    "        return \"Lunch\"\n",
    "    elif(x == 9 or x==6 or x==18 or x==20 or x== 28 or x==32 or x==33 or x==39):\n",
    "        return \"Location\"\n",
    "    elif(x == 8):\n",
    "        return \"Club\"\n",
    "    elif(x == 12):\n",
    "        return \"Chinese Food\"\n",
    "    elif(x == 17):\n",
    "        return \"Experience\"\n",
    "    elif(x == 22):\n",
    "        return \"Store\"\n",
    "    elif(x == 25 or x==36):\n",
    "        return \"Time\"\n",
    "    elif(x == 31 or x==34 or x==48):\n",
    "        return \"Ambiance\"\n",
    "    elif(x == 38):\n",
    "        return \"Drink\"\n",
    "    elif(x == 40):\n",
    "        return \"Desserts\"\n",
    "    elif(x == 41):\n",
    "        return \"SeaFood\"\n",
    "    elif(x == 43):\n",
    "        return \"Breakfast\"\n",
    "    elif(x == 44):\n",
    "        return \"Mexican Food\"\n",
    "    elif(x == 45):\n",
    "        return \"Beverages\"\n",
    "    elif(x == 49):\n",
    "        return \"Car\"\n",
    "    else:\n",
    "        return \"Misc\""
   ]
  },
  {
   "cell_type": "code",
   "execution_count": 146,
   "metadata": {
    "collapsed": true
   },
   "outputs": [],
   "source": [
    "sf_train['topicLabel'] = sf_train['topic'].apply(addLabel)"
   ]
  },
  {
   "cell_type": "code",
   "execution_count": 122,
   "metadata": {
    "collapsed": false
   },
   "outputs": [],
   "source": [
    "sf['topicLabel'] = sf['topic'].apply(addLabel)"
   ]
  },
  {
   "cell_type": "code",
   "execution_count": 127,
   "metadata": {
    "collapsed": false
   },
   "outputs": [
    {
     "data": {
      "text/plain": [
       "['id', 'topic', 'probability', 'topicLabel']"
      ]
     },
     "execution_count": 127,
     "metadata": {},
     "output_type": "execute_result"
    }
   ],
   "source": [
    "sf.column_names()"
   ]
  },
  {
   "cell_type": "code",
   "execution_count": 147,
   "metadata": {
    "collapsed": true
   },
   "outputs": [],
   "source": [
    "sff_train = sf_train.groupby('id',{'topic' : graphlab.aggregate.CONCAT('topic'),\n",
    "                       'topicLabel':graphlab.aggregate.CONCAT('topicLabel')})"
   ]
  },
  {
   "cell_type": "code",
   "execution_count": 128,
   "metadata": {
    "collapsed": false
   },
   "outputs": [],
   "source": [
    "sff = sf.groupby('id',{'topic' : graphlab.aggregate.CONCAT('topic'),\n",
    "                       'topicLabel':graphlab.aggregate.CONCAT('topicLabel')})"
   ]
  },
  {
   "cell_type": "code",
   "execution_count": 148,
   "metadata": {
    "collapsed": true
   },
   "outputs": [],
   "source": [
    "train_dataset = train_rev.join(sff_train,on = \"id\",how = \"inner\")"
   ]
  },
  {
   "cell_type": "code",
   "execution_count": 149,
   "metadata": {
    "collapsed": false
   },
   "outputs": [
    {
     "data": {
      "text/plain": [
       "1335067"
      ]
     },
     "execution_count": 149,
     "metadata": {},
     "output_type": "execute_result"
    }
   ],
   "source": [
    "train_dataset.num_rows()"
   ]
  },
  {
   "cell_type": "code",
   "execution_count": 150,
   "metadata": {
    "collapsed": false
   },
   "outputs": [
    {
     "data": {
      "text/html": [
       "<div style=\"max-height:1000px;max-width:1500px;overflow:auto;\"><table frame=\"box\" rules=\"cols\">\n",
       "    <tr>\n",
       "        <th style=\"padding-left: 1em; padding-right: 1em; text-align: center\">id</th>\n",
       "        <th style=\"padding-left: 1em; padding-right: 1em; text-align: center\">business_id</th>\n",
       "        <th style=\"padding-left: 1em; padding-right: 1em; text-align: center\">date</th>\n",
       "        <th style=\"padding-left: 1em; padding-right: 1em; text-align: center\">review_id</th>\n",
       "        <th style=\"padding-left: 1em; padding-right: 1em; text-align: center\">stars</th>\n",
       "        <th style=\"padding-left: 1em; padding-right: 1em; text-align: center\">text</th>\n",
       "        <th style=\"padding-left: 1em; padding-right: 1em; text-align: center\">type</th>\n",
       "    </tr>\n",
       "    <tr>\n",
       "        <td style=\"padding-left: 1em; padding-right: 1em; text-align: center; vertical-align: top\">0</td>\n",
       "        <td style=\"padding-left: 1em; padding-right: 1em; text-align: center; vertical-align: top\">5UmKMjUEUNdYWqANhGckJw</td>\n",
       "        <td style=\"padding-left: 1em; padding-right: 1em; text-align: center; vertical-align: top\">2012-08-01</td>\n",
       "        <td style=\"padding-left: 1em; padding-right: 1em; text-align: center; vertical-align: top\">Ya85v4eqdd6k9Od8HbQjyA</td>\n",
       "        <td style=\"padding-left: 1em; padding-right: 1em; text-align: center; vertical-align: top\">4</td>\n",
       "        <td style=\"padding-left: 1em; padding-right: 1em; text-align: center; vertical-align: top\">Mr Hoagie is an<br>institution. Walking in, ...</td>\n",
       "        <td style=\"padding-left: 1em; padding-right: 1em; text-align: center; vertical-align: top\">review</td>\n",
       "    </tr>\n",
       "    <tr>\n",
       "        <td style=\"padding-left: 1em; padding-right: 1em; text-align: center; vertical-align: top\">1</td>\n",
       "        <td style=\"padding-left: 1em; padding-right: 1em; text-align: center; vertical-align: top\">UsFtqoBl7naz8AVUBZMjQQ</td>\n",
       "        <td style=\"padding-left: 1em; padding-right: 1em; text-align: center; vertical-align: top\">2014-03-29</td>\n",
       "        <td style=\"padding-left: 1em; padding-right: 1em; text-align: center; vertical-align: top\">0Lua2-PbqEQMjD9r89-asw</td>\n",
       "        <td style=\"padding-left: 1em; padding-right: 1em; text-align: center; vertical-align: top\">3</td>\n",
       "        <td style=\"padding-left: 1em; padding-right: 1em; text-align: center; vertical-align: top\">We checked this place out<br>this past Monday for ...</td>\n",
       "        <td style=\"padding-left: 1em; padding-right: 1em; text-align: center; vertical-align: top\">review</td>\n",
       "    </tr>\n",
       "    <tr>\n",
       "        <td style=\"padding-left: 1em; padding-right: 1em; text-align: center; vertical-align: top\">2</td>\n",
       "        <td style=\"padding-left: 1em; padding-right: 1em; text-align: center; vertical-align: top\">UsFtqoBl7naz8AVUBZMjQQ</td>\n",
       "        <td style=\"padding-left: 1em; padding-right: 1em; text-align: center; vertical-align: top\">2014-11-28</td>\n",
       "        <td style=\"padding-left: 1em; padding-right: 1em; text-align: center; vertical-align: top\">mjCJR33jvUNt41iJCxDU_g</td>\n",
       "        <td style=\"padding-left: 1em; padding-right: 1em; text-align: center; vertical-align: top\">4</td>\n",
       "        <td style=\"padding-left: 1em; padding-right: 1em; text-align: center; vertical-align: top\">Cold cheap beer. Good bar<br>food. Good service. ...</td>\n",
       "        <td style=\"padding-left: 1em; padding-right: 1em; text-align: center; vertical-align: top\">review</td>\n",
       "    </tr>\n",
       "    <tr>\n",
       "        <td style=\"padding-left: 1em; padding-right: 1em; text-align: center; vertical-align: top\">3</td>\n",
       "        <td style=\"padding-left: 1em; padding-right: 1em; text-align: center; vertical-align: top\">3eu6MEFlq2Dg7bQh8QbdOg</td>\n",
       "        <td style=\"padding-left: 1em; padding-right: 1em; text-align: center; vertical-align: top\">2014-02-27</td>\n",
       "        <td style=\"padding-left: 1em; padding-right: 1em; text-align: center; vertical-align: top\">Ieh3kfZ-5J9pLju4JiQDvQ</td>\n",
       "        <td style=\"padding-left: 1em; padding-right: 1em; text-align: center; vertical-align: top\">5</td>\n",
       "        <td style=\"padding-left: 1em; padding-right: 1em; text-align: center; vertical-align: top\">I highly recommend this<br>place. The mechanics are ...</td>\n",
       "        <td style=\"padding-left: 1em; padding-right: 1em; text-align: center; vertical-align: top\">review</td>\n",
       "    </tr>\n",
       "    <tr>\n",
       "        <td style=\"padding-left: 1em; padding-right: 1em; text-align: center; vertical-align: top\">4</td>\n",
       "        <td style=\"padding-left: 1em; padding-right: 1em; text-align: center; vertical-align: top\">3eu6MEFlq2Dg7bQh8QbdOg</td>\n",
       "        <td style=\"padding-left: 1em; padding-right: 1em; text-align: center; vertical-align: top\">2015-06-16</td>\n",
       "        <td style=\"padding-left: 1em; padding-right: 1em; text-align: center; vertical-align: top\">PU28OoBSHpZLkYGCmNxlmg</td>\n",
       "        <td style=\"padding-left: 1em; padding-right: 1em; text-align: center; vertical-align: top\">5</td>\n",
       "        <td style=\"padding-left: 1em; padding-right: 1em; text-align: center; vertical-align: top\">I am a big believer in<br>first impressions, so ...</td>\n",
       "        <td style=\"padding-left: 1em; padding-right: 1em; text-align: center; vertical-align: top\">review</td>\n",
       "    </tr>\n",
       "    <tr>\n",
       "        <td style=\"padding-left: 1em; padding-right: 1em; text-align: center; vertical-align: top\">5</td>\n",
       "        <td style=\"padding-left: 1em; padding-right: 1em; text-align: center; vertical-align: top\">cE27W9VPgO88Qxe4ol6y_g</td>\n",
       "        <td style=\"padding-left: 1em; padding-right: 1em; text-align: center; vertical-align: top\">2012-08-19</td>\n",
       "        <td style=\"padding-left: 1em; padding-right: 1em; text-align: center; vertical-align: top\">XsA6AojkWjOHA4FmuAb8XQ</td>\n",
       "        <td style=\"padding-left: 1em; padding-right: 1em; text-align: center; vertical-align: top\">3</td>\n",
       "        <td style=\"padding-left: 1em; padding-right: 1em; text-align: center; vertical-align: top\">Decent range somewhat<br>close to the city.  The ...</td>\n",
       "        <td style=\"padding-left: 1em; padding-right: 1em; text-align: center; vertical-align: top\">review</td>\n",
       "    </tr>\n",
       "    <tr>\n",
       "        <td style=\"padding-left: 1em; padding-right: 1em; text-align: center; vertical-align: top\">6</td>\n",
       "        <td style=\"padding-left: 1em; padding-right: 1em; text-align: center; vertical-align: top\">cE27W9VPgO88Qxe4ol6y_g</td>\n",
       "        <td style=\"padding-left: 1em; padding-right: 1em; text-align: center; vertical-align: top\">2013-04-18</td>\n",
       "        <td style=\"padding-left: 1em; padding-right: 1em; text-align: center; vertical-align: top\">rkD7UDbQ9VM3Va6bI-eBHQ</td>\n",
       "        <td style=\"padding-left: 1em; padding-right: 1em; text-align: center; vertical-align: top\">1</td>\n",
       "        <td style=\"padding-left: 1em; padding-right: 1em; text-align: center; vertical-align: top\">Owning a driving range<br>inside the city limit ...</td>\n",
       "        <td style=\"padding-left: 1em; padding-right: 1em; text-align: center; vertical-align: top\">review</td>\n",
       "    </tr>\n",
       "    <tr>\n",
       "        <td style=\"padding-left: 1em; padding-right: 1em; text-align: center; vertical-align: top\">7</td>\n",
       "        <td style=\"padding-left: 1em; padding-right: 1em; text-align: center; vertical-align: top\">cE27W9VPgO88Qxe4ol6y_g</td>\n",
       "        <td style=\"padding-left: 1em; padding-right: 1em; text-align: center; vertical-align: top\">2013-07-14</td>\n",
       "        <td style=\"padding-left: 1em; padding-right: 1em; text-align: center; vertical-align: top\">WExNE-f93SL4D1q8s9QWKg</td>\n",
       "        <td style=\"padding-left: 1em; padding-right: 1em; text-align: center; vertical-align: top\">1</td>\n",
       "        <td style=\"padding-left: 1em; padding-right: 1em; text-align: center; vertical-align: top\">This place is absolute<br>garbage...  Half of the ...</td>\n",
       "        <td style=\"padding-left: 1em; padding-right: 1em; text-align: center; vertical-align: top\">review</td>\n",
       "    </tr>\n",
       "    <tr>\n",
       "        <td style=\"padding-left: 1em; padding-right: 1em; text-align: center; vertical-align: top\">8</td>\n",
       "        <td style=\"padding-left: 1em; padding-right: 1em; text-align: center; vertical-align: top\">cE27W9VPgO88Qxe4ol6y_g</td>\n",
       "        <td style=\"padding-left: 1em; padding-right: 1em; text-align: center; vertical-align: top\">2014-07-11</td>\n",
       "        <td style=\"padding-left: 1em; padding-right: 1em; text-align: center; vertical-align: top\">S-G0D8Cy7PnqShoBZu8PCA</td>\n",
       "        <td style=\"padding-left: 1em; padding-right: 1em; text-align: center; vertical-align: top\">4</td>\n",
       "        <td style=\"padding-left: 1em; padding-right: 1em; text-align: center; vertical-align: top\">I drove by yesterday to<br>get a sneak peak.  It ...</td>\n",
       "        <td style=\"padding-left: 1em; padding-right: 1em; text-align: center; vertical-align: top\">review</td>\n",
       "    </tr>\n",
       "    <tr>\n",
       "        <td style=\"padding-left: 1em; padding-right: 1em; text-align: center; vertical-align: top\">9</td>\n",
       "        <td style=\"padding-left: 1em; padding-right: 1em; text-align: center; vertical-align: top\">HZdLhv6COCleJMo7nPl-RA</td>\n",
       "        <td style=\"padding-left: 1em; padding-right: 1em; text-align: center; vertical-align: top\">2014-09-04</td>\n",
       "        <td style=\"padding-left: 1em; padding-right: 1em; text-align: center; vertical-align: top\">UzMViMQZuSxOr5wrru3LwQ</td>\n",
       "        <td style=\"padding-left: 1em; padding-right: 1em; text-align: center; vertical-align: top\">4</td>\n",
       "        <td style=\"padding-left: 1em; padding-right: 1em; text-align: center; vertical-align: top\">I visited this store<br>several months ago to ...</td>\n",
       "        <td style=\"padding-left: 1em; padding-right: 1em; text-align: center; vertical-align: top\">review</td>\n",
       "    </tr>\n",
       "</table>\n",
       "<table frame=\"box\" rules=\"cols\">\n",
       "    <tr>\n",
       "        <th style=\"padding-left: 1em; padding-right: 1em; text-align: center\">user_id</th>\n",
       "        <th style=\"padding-left: 1em; padding-right: 1em; text-align: center\">votes</th>\n",
       "        <th style=\"padding-left: 1em; padding-right: 1em; text-align: center\">attributes</th>\n",
       "        <th style=\"padding-left: 1em; padding-right: 1em; text-align: center\">categories</th>\n",
       "    </tr>\n",
       "    <tr>\n",
       "        <td style=\"padding-left: 1em; padding-right: 1em; text-align: center; vertical-align: top\">PUFPaY9KxDAcGqfsorJp3Q</td>\n",
       "        <td style=\"padding-left: 1em; padding-right: 1em; text-align: center; vertical-align: top\">{'funny': 0L, 'useful':<br>0L, 'cool': 0L} ...</td>\n",
       "        <td style=\"padding-left: 1em; padding-right: 1em; text-align: center; vertical-align: top\">{'Take-out': 'true',<br>'Drive-Thru': 'false', ...</td>\n",
       "        <td style=\"padding-left: 1em; padding-right: 1em; text-align: center; vertical-align: top\">[Fast Food, Restaurants]</td>\n",
       "    </tr>\n",
       "    <tr>\n",
       "        <td style=\"padding-left: 1em; padding-right: 1em; text-align: center; vertical-align: top\">I_47G-R2_egp7ME5u_ltew</td>\n",
       "        <td style=\"padding-left: 1em; padding-right: 1em; text-align: center; vertical-align: top\">{'funny': 0L, 'useful':<br>0L, 'cool': 0L} ...</td>\n",
       "        <td style=\"padding-left: 1em; padding-right: 1em; text-align: center; vertical-align: top\">{'Happy Hour': 'true',<br>'Accepts Credit Cards': ...</td>\n",
       "        <td style=\"padding-left: 1em; padding-right: 1em; text-align: center; vertical-align: top\">[Nightlife]</td>\n",
       "    </tr>\n",
       "    <tr>\n",
       "        <td style=\"padding-left: 1em; padding-right: 1em; text-align: center; vertical-align: top\">JPPhyFE-UE453zA6K0TVgw</td>\n",
       "        <td style=\"padding-left: 1em; padding-right: 1em; text-align: center; vertical-align: top\">{'funny': 0L, 'useful':<br>0L, 'cool': 0L} ...</td>\n",
       "        <td style=\"padding-left: 1em; padding-right: 1em; text-align: center; vertical-align: top\">{'Happy Hour': 'true',<br>'Accepts Credit Cards': ...</td>\n",
       "        <td style=\"padding-left: 1em; padding-right: 1em; text-align: center; vertical-align: top\">[Nightlife]</td>\n",
       "    </tr>\n",
       "    <tr>\n",
       "        <td style=\"padding-left: 1em; padding-right: 1em; text-align: center; vertical-align: top\">2d5HeDvZTDUNVog_WuUpSg</td>\n",
       "        <td style=\"padding-left: 1em; padding-right: 1em; text-align: center; vertical-align: top\">{'funny': 0L, 'useful':<br>0L, 'cool': 0L} ...</td>\n",
       "        <td style=\"padding-left: 1em; padding-right: 1em; text-align: center; vertical-align: top\">{}</td>\n",
       "        <td style=\"padding-left: 1em; padding-right: 1em; text-align: center; vertical-align: top\">[Auto Repair, Automotive]</td>\n",
       "    </tr>\n",
       "    <tr>\n",
       "        <td style=\"padding-left: 1em; padding-right: 1em; text-align: center; vertical-align: top\">BShxMIUwaJS378xcrz4Nmg</td>\n",
       "        <td style=\"padding-left: 1em; padding-right: 1em; text-align: center; vertical-align: top\">{'funny': 0L, 'useful':<br>0L, 'cool': 0L} ...</td>\n",
       "        <td style=\"padding-left: 1em; padding-right: 1em; text-align: center; vertical-align: top\">{}</td>\n",
       "        <td style=\"padding-left: 1em; padding-right: 1em; text-align: center; vertical-align: top\">[Auto Repair, Automotive]</td>\n",
       "    </tr>\n",
       "    <tr>\n",
       "        <td style=\"padding-left: 1em; padding-right: 1em; text-align: center; vertical-align: top\">fhNxoMwwTipzjO8A9LFe8Q</td>\n",
       "        <td style=\"padding-left: 1em; padding-right: 1em; text-align: center; vertical-align: top\">{'funny': 0L, 'useful':<br>1L, 'cool': 0L} ...</td>\n",
       "        <td style=\"padding-left: 1em; padding-right: 1em; text-align: center; vertical-align: top\">{'Good for Kids': 'true'}</td>\n",
       "        <td style=\"padding-left: 1em; padding-right: 1em; text-align: center; vertical-align: top\">[Active Life, Mini Golf,<br>Golf] ...</td>\n",
       "    </tr>\n",
       "    <tr>\n",
       "        <td style=\"padding-left: 1em; padding-right: 1em; text-align: center; vertical-align: top\">-6rEfobYjMxpUWLNxszaxQ</td>\n",
       "        <td style=\"padding-left: 1em; padding-right: 1em; text-align: center; vertical-align: top\">{'funny': 0L, 'useful':<br>1L, 'cool': 0L} ...</td>\n",
       "        <td style=\"padding-left: 1em; padding-right: 1em; text-align: center; vertical-align: top\">{'Good for Kids': 'true'}</td>\n",
       "        <td style=\"padding-left: 1em; padding-right: 1em; text-align: center; vertical-align: top\">[Active Life, Mini Golf,<br>Golf] ...</td>\n",
       "    </tr>\n",
       "    <tr>\n",
       "        <td style=\"padding-left: 1em; padding-right: 1em; text-align: center; vertical-align: top\">KZuaJtFindQM9x2ZoMBxcQ</td>\n",
       "        <td style=\"padding-left: 1em; padding-right: 1em; text-align: center; vertical-align: top\">{'funny': 0L, 'useful':<br>0L, 'cool': 0L} ...</td>\n",
       "        <td style=\"padding-left: 1em; padding-right: 1em; text-align: center; vertical-align: top\">{'Good for Kids': 'true'}</td>\n",
       "        <td style=\"padding-left: 1em; padding-right: 1em; text-align: center; vertical-align: top\">[Active Life, Mini Golf,<br>Golf] ...</td>\n",
       "    </tr>\n",
       "    <tr>\n",
       "        <td style=\"padding-left: 1em; padding-right: 1em; text-align: center; vertical-align: top\">ljwgUJowB69klaR8Au-H7g</td>\n",
       "        <td style=\"padding-left: 1em; padding-right: 1em; text-align: center; vertical-align: top\">{'funny': 0L, 'useful':<br>0L, 'cool': 0L} ...</td>\n",
       "        <td style=\"padding-left: 1em; padding-right: 1em; text-align: center; vertical-align: top\">{'Good for Kids': 'true'}</td>\n",
       "        <td style=\"padding-left: 1em; padding-right: 1em; text-align: center; vertical-align: top\">[Active Life, Mini Golf,<br>Golf] ...</td>\n",
       "    </tr>\n",
       "    <tr>\n",
       "        <td style=\"padding-left: 1em; padding-right: 1em; text-align: center; vertical-align: top\">zo_soThZw8eVglPbCRNC9A</td>\n",
       "        <td style=\"padding-left: 1em; padding-right: 1em; text-align: center; vertical-align: top\">{'funny': 0L, 'useful':<br>0L, 'cool': 0L} ...</td>\n",
       "        <td style=\"padding-left: 1em; padding-right: 1em; text-align: center; vertical-align: top\">{'Accepts Credit Cards':<br>'false', 'Price Range': ...</td>\n",
       "        <td style=\"padding-left: 1em; padding-right: 1em; text-align: center; vertical-align: top\">[Shopping, Home Services,<br>Internet Service ...</td>\n",
       "    </tr>\n",
       "</table>\n",
       "<table frame=\"box\" rules=\"cols\">\n",
       "    <tr>\n",
       "        <th style=\"padding-left: 1em; padding-right: 1em; text-align: center\">city</th>\n",
       "        <th style=\"padding-left: 1em; padding-right: 1em; text-align: center\">full_address</th>\n",
       "        <th style=\"padding-left: 1em; padding-right: 1em; text-align: center\">hours</th>\n",
       "        <th style=\"padding-left: 1em; padding-right: 1em; text-align: center\">latitude</th>\n",
       "        <th style=\"padding-left: 1em; padding-right: 1em; text-align: center\">longitude</th>\n",
       "    </tr>\n",
       "    <tr>\n",
       "        <td style=\"padding-left: 1em; padding-right: 1em; text-align: center; vertical-align: top\">Dravosburg</td>\n",
       "        <td style=\"padding-left: 1em; padding-right: 1em; text-align: center; vertical-align: top\">4734 Lebanon Church<br>Rd\\nDravosburg, PA 15034 ...</td>\n",
       "        <td style=\"padding-left: 1em; padding-right: 1em; text-align: center; vertical-align: top\">{'Tuesday': {'close':<br>'21:00', 'open': ...</td>\n",
       "        <td style=\"padding-left: 1em; padding-right: 1em; text-align: center; vertical-align: top\">40.3543266</td>\n",
       "        <td style=\"padding-left: 1em; padding-right: 1em; text-align: center; vertical-align: top\">-79.9007057</td>\n",
       "    </tr>\n",
       "    <tr>\n",
       "        <td style=\"padding-left: 1em; padding-right: 1em; text-align: center; vertical-align: top\">Dravosburg</td>\n",
       "        <td style=\"padding-left: 1em; padding-right: 1em; text-align: center; vertical-align: top\">202 McClure<br>St\\nDravosburg, PA 15034 ...</td>\n",
       "        <td style=\"padding-left: 1em; padding-right: 1em; text-align: center; vertical-align: top\">{}</td>\n",
       "        <td style=\"padding-left: 1em; padding-right: 1em; text-align: center; vertical-align: top\">40.3505527</td>\n",
       "        <td style=\"padding-left: 1em; padding-right: 1em; text-align: center; vertical-align: top\">-79.8868138</td>\n",
       "    </tr>\n",
       "    <tr>\n",
       "        <td style=\"padding-left: 1em; padding-right: 1em; text-align: center; vertical-align: top\">Dravosburg</td>\n",
       "        <td style=\"padding-left: 1em; padding-right: 1em; text-align: center; vertical-align: top\">202 McClure<br>St\\nDravosburg, PA 15034 ...</td>\n",
       "        <td style=\"padding-left: 1em; padding-right: 1em; text-align: center; vertical-align: top\">{}</td>\n",
       "        <td style=\"padding-left: 1em; padding-right: 1em; text-align: center; vertical-align: top\">40.3505527</td>\n",
       "        <td style=\"padding-left: 1em; padding-right: 1em; text-align: center; vertical-align: top\">-79.8868138</td>\n",
       "    </tr>\n",
       "    <tr>\n",
       "        <td style=\"padding-left: 1em; padding-right: 1em; text-align: center; vertical-align: top\">Dravosburg</td>\n",
       "        <td style=\"padding-left: 1em; padding-right: 1em; text-align: center; vertical-align: top\">1 Ravine St\\nDravosburg,<br>PA 15034 ...</td>\n",
       "        <td style=\"padding-left: 1em; padding-right: 1em; text-align: center; vertical-align: top\">{}</td>\n",
       "        <td style=\"padding-left: 1em; padding-right: 1em; text-align: center; vertical-align: top\">40.3509559</td>\n",
       "        <td style=\"padding-left: 1em; padding-right: 1em; text-align: center; vertical-align: top\">-79.889059</td>\n",
       "    </tr>\n",
       "    <tr>\n",
       "        <td style=\"padding-left: 1em; padding-right: 1em; text-align: center; vertical-align: top\">Dravosburg</td>\n",
       "        <td style=\"padding-left: 1em; padding-right: 1em; text-align: center; vertical-align: top\">1 Ravine St\\nDravosburg,<br>PA 15034 ...</td>\n",
       "        <td style=\"padding-left: 1em; padding-right: 1em; text-align: center; vertical-align: top\">{}</td>\n",
       "        <td style=\"padding-left: 1em; padding-right: 1em; text-align: center; vertical-align: top\">40.3509559</td>\n",
       "        <td style=\"padding-left: 1em; padding-right: 1em; text-align: center; vertical-align: top\">-79.889059</td>\n",
       "    </tr>\n",
       "    <tr>\n",
       "        <td style=\"padding-left: 1em; padding-right: 1em; text-align: center; vertical-align: top\">Bethel Park</td>\n",
       "        <td style=\"padding-left: 1em; padding-right: 1em; text-align: center; vertical-align: top\">1530 Hamilton Rd\\nBethel<br>Park, PA 15234 ...</td>\n",
       "        <td style=\"padding-left: 1em; padding-right: 1em; text-align: center; vertical-align: top\">{}</td>\n",
       "        <td style=\"padding-left: 1em; padding-right: 1em; text-align: center; vertical-align: top\">40.3541155</td>\n",
       "        <td style=\"padding-left: 1em; padding-right: 1em; text-align: center; vertical-align: top\">-80.0146597</td>\n",
       "    </tr>\n",
       "    <tr>\n",
       "        <td style=\"padding-left: 1em; padding-right: 1em; text-align: center; vertical-align: top\">Bethel Park</td>\n",
       "        <td style=\"padding-left: 1em; padding-right: 1em; text-align: center; vertical-align: top\">1530 Hamilton Rd\\nBethel<br>Park, PA 15234 ...</td>\n",
       "        <td style=\"padding-left: 1em; padding-right: 1em; text-align: center; vertical-align: top\">{}</td>\n",
       "        <td style=\"padding-left: 1em; padding-right: 1em; text-align: center; vertical-align: top\">40.3541155</td>\n",
       "        <td style=\"padding-left: 1em; padding-right: 1em; text-align: center; vertical-align: top\">-80.0146597</td>\n",
       "    </tr>\n",
       "    <tr>\n",
       "        <td style=\"padding-left: 1em; padding-right: 1em; text-align: center; vertical-align: top\">Bethel Park</td>\n",
       "        <td style=\"padding-left: 1em; padding-right: 1em; text-align: center; vertical-align: top\">1530 Hamilton Rd\\nBethel<br>Park, PA 15234 ...</td>\n",
       "        <td style=\"padding-left: 1em; padding-right: 1em; text-align: center; vertical-align: top\">{}</td>\n",
       "        <td style=\"padding-left: 1em; padding-right: 1em; text-align: center; vertical-align: top\">40.3541155</td>\n",
       "        <td style=\"padding-left: 1em; padding-right: 1em; text-align: center; vertical-align: top\">-80.0146597</td>\n",
       "    </tr>\n",
       "    <tr>\n",
       "        <td style=\"padding-left: 1em; padding-right: 1em; text-align: center; vertical-align: top\">Bethel Park</td>\n",
       "        <td style=\"padding-left: 1em; padding-right: 1em; text-align: center; vertical-align: top\">1530 Hamilton Rd\\nBethel<br>Park, PA 15234 ...</td>\n",
       "        <td style=\"padding-left: 1em; padding-right: 1em; text-align: center; vertical-align: top\">{}</td>\n",
       "        <td style=\"padding-left: 1em; padding-right: 1em; text-align: center; vertical-align: top\">40.3541155</td>\n",
       "        <td style=\"padding-left: 1em; padding-right: 1em; text-align: center; vertical-align: top\">-80.0146597</td>\n",
       "    </tr>\n",
       "    <tr>\n",
       "        <td style=\"padding-left: 1em; padding-right: 1em; text-align: center; vertical-align: top\">Pittsburgh</td>\n",
       "        <td style=\"padding-left: 1em; padding-right: 1em; text-align: center; vertical-align: top\">301 South Hills<br>Village\\nPittsburgh, PA ...</td>\n",
       "        <td style=\"padding-left: 1em; padding-right: 1em; text-align: center; vertical-align: top\">{'Monday': {'close':<br>'21:00', 'open': ...</td>\n",
       "        <td style=\"padding-left: 1em; padding-right: 1em; text-align: center; vertical-align: top\">40.35762</td>\n",
       "        <td style=\"padding-left: 1em; padding-right: 1em; text-align: center; vertical-align: top\">-80.05998</td>\n",
       "    </tr>\n",
       "</table>\n",
       "<table frame=\"box\" rules=\"cols\">\n",
       "    <tr>\n",
       "        <th style=\"padding-left: 1em; padding-right: 1em; text-align: center\">name</th>\n",
       "        <th style=\"padding-left: 1em; padding-right: 1em; text-align: center\">neighborhoods</th>\n",
       "        <th style=\"padding-left: 1em; padding-right: 1em; text-align: center\">open</th>\n",
       "        <th style=\"padding-left: 1em; padding-right: 1em; text-align: center\">review_count</th>\n",
       "        <th style=\"padding-left: 1em; padding-right: 1em; text-align: center\">stars.1</th>\n",
       "        <th style=\"padding-left: 1em; padding-right: 1em; text-align: center\">state</th>\n",
       "        <th style=\"padding-left: 1em; padding-right: 1em; text-align: center\">type.1</th>\n",
       "    </tr>\n",
       "    <tr>\n",
       "        <td style=\"padding-left: 1em; padding-right: 1em; text-align: center; vertical-align: top\">Mr Hoagie</td>\n",
       "        <td style=\"padding-left: 1em; padding-right: 1em; text-align: center; vertical-align: top\">[]</td>\n",
       "        <td style=\"padding-left: 1em; padding-right: 1em; text-align: center; vertical-align: top\">true</td>\n",
       "        <td style=\"padding-left: 1em; padding-right: 1em; text-align: center; vertical-align: top\">4</td>\n",
       "        <td style=\"padding-left: 1em; padding-right: 1em; text-align: center; vertical-align: top\">4.5</td>\n",
       "        <td style=\"padding-left: 1em; padding-right: 1em; text-align: center; vertical-align: top\">PA</td>\n",
       "        <td style=\"padding-left: 1em; padding-right: 1em; text-align: center; vertical-align: top\">business</td>\n",
       "    </tr>\n",
       "    <tr>\n",
       "        <td style=\"padding-left: 1em; padding-right: 1em; text-align: center; vertical-align: top\">Clancy's Pub</td>\n",
       "        <td style=\"padding-left: 1em; padding-right: 1em; text-align: center; vertical-align: top\">[]</td>\n",
       "        <td style=\"padding-left: 1em; padding-right: 1em; text-align: center; vertical-align: top\">true</td>\n",
       "        <td style=\"padding-left: 1em; padding-right: 1em; text-align: center; vertical-align: top\">4</td>\n",
       "        <td style=\"padding-left: 1em; padding-right: 1em; text-align: center; vertical-align: top\">3.5</td>\n",
       "        <td style=\"padding-left: 1em; padding-right: 1em; text-align: center; vertical-align: top\">PA</td>\n",
       "        <td style=\"padding-left: 1em; padding-right: 1em; text-align: center; vertical-align: top\">business</td>\n",
       "    </tr>\n",
       "    <tr>\n",
       "        <td style=\"padding-left: 1em; padding-right: 1em; text-align: center; vertical-align: top\">Clancy's Pub</td>\n",
       "        <td style=\"padding-left: 1em; padding-right: 1em; text-align: center; vertical-align: top\">[]</td>\n",
       "        <td style=\"padding-left: 1em; padding-right: 1em; text-align: center; vertical-align: top\">true</td>\n",
       "        <td style=\"padding-left: 1em; padding-right: 1em; text-align: center; vertical-align: top\">4</td>\n",
       "        <td style=\"padding-left: 1em; padding-right: 1em; text-align: center; vertical-align: top\">3.5</td>\n",
       "        <td style=\"padding-left: 1em; padding-right: 1em; text-align: center; vertical-align: top\">PA</td>\n",
       "        <td style=\"padding-left: 1em; padding-right: 1em; text-align: center; vertical-align: top\">business</td>\n",
       "    </tr>\n",
       "    <tr>\n",
       "        <td style=\"padding-left: 1em; padding-right: 1em; text-align: center; vertical-align: top\">Joe Cislo's Auto</td>\n",
       "        <td style=\"padding-left: 1em; padding-right: 1em; text-align: center; vertical-align: top\">[]</td>\n",
       "        <td style=\"padding-left: 1em; padding-right: 1em; text-align: center; vertical-align: top\">true</td>\n",
       "        <td style=\"padding-left: 1em; padding-right: 1em; text-align: center; vertical-align: top\">3</td>\n",
       "        <td style=\"padding-left: 1em; padding-right: 1em; text-align: center; vertical-align: top\">5.0</td>\n",
       "        <td style=\"padding-left: 1em; padding-right: 1em; text-align: center; vertical-align: top\">PA</td>\n",
       "        <td style=\"padding-left: 1em; padding-right: 1em; text-align: center; vertical-align: top\">business</td>\n",
       "    </tr>\n",
       "    <tr>\n",
       "        <td style=\"padding-left: 1em; padding-right: 1em; text-align: center; vertical-align: top\">Joe Cislo's Auto</td>\n",
       "        <td style=\"padding-left: 1em; padding-right: 1em; text-align: center; vertical-align: top\">[]</td>\n",
       "        <td style=\"padding-left: 1em; padding-right: 1em; text-align: center; vertical-align: top\">true</td>\n",
       "        <td style=\"padding-left: 1em; padding-right: 1em; text-align: center; vertical-align: top\">3</td>\n",
       "        <td style=\"padding-left: 1em; padding-right: 1em; text-align: center; vertical-align: top\">5.0</td>\n",
       "        <td style=\"padding-left: 1em; padding-right: 1em; text-align: center; vertical-align: top\">PA</td>\n",
       "        <td style=\"padding-left: 1em; padding-right: 1em; text-align: center; vertical-align: top\">business</td>\n",
       "    </tr>\n",
       "    <tr>\n",
       "        <td style=\"padding-left: 1em; padding-right: 1em; text-align: center; vertical-align: top\">Cool Springs Golf Center</td>\n",
       "        <td style=\"padding-left: 1em; padding-right: 1em; text-align: center; vertical-align: top\">[]</td>\n",
       "        <td style=\"padding-left: 1em; padding-right: 1em; text-align: center; vertical-align: top\">false</td>\n",
       "        <td style=\"padding-left: 1em; padding-right: 1em; text-align: center; vertical-align: top\">5</td>\n",
       "        <td style=\"padding-left: 1em; padding-right: 1em; text-align: center; vertical-align: top\">2.5</td>\n",
       "        <td style=\"padding-left: 1em; padding-right: 1em; text-align: center; vertical-align: top\">PA</td>\n",
       "        <td style=\"padding-left: 1em; padding-right: 1em; text-align: center; vertical-align: top\">business</td>\n",
       "    </tr>\n",
       "    <tr>\n",
       "        <td style=\"padding-left: 1em; padding-right: 1em; text-align: center; vertical-align: top\">Cool Springs Golf Center</td>\n",
       "        <td style=\"padding-left: 1em; padding-right: 1em; text-align: center; vertical-align: top\">[]</td>\n",
       "        <td style=\"padding-left: 1em; padding-right: 1em; text-align: center; vertical-align: top\">false</td>\n",
       "        <td style=\"padding-left: 1em; padding-right: 1em; text-align: center; vertical-align: top\">5</td>\n",
       "        <td style=\"padding-left: 1em; padding-right: 1em; text-align: center; vertical-align: top\">2.5</td>\n",
       "        <td style=\"padding-left: 1em; padding-right: 1em; text-align: center; vertical-align: top\">PA</td>\n",
       "        <td style=\"padding-left: 1em; padding-right: 1em; text-align: center; vertical-align: top\">business</td>\n",
       "    </tr>\n",
       "    <tr>\n",
       "        <td style=\"padding-left: 1em; padding-right: 1em; text-align: center; vertical-align: top\">Cool Springs Golf Center</td>\n",
       "        <td style=\"padding-left: 1em; padding-right: 1em; text-align: center; vertical-align: top\">[]</td>\n",
       "        <td style=\"padding-left: 1em; padding-right: 1em; text-align: center; vertical-align: top\">false</td>\n",
       "        <td style=\"padding-left: 1em; padding-right: 1em; text-align: center; vertical-align: top\">5</td>\n",
       "        <td style=\"padding-left: 1em; padding-right: 1em; text-align: center; vertical-align: top\">2.5</td>\n",
       "        <td style=\"padding-left: 1em; padding-right: 1em; text-align: center; vertical-align: top\">PA</td>\n",
       "        <td style=\"padding-left: 1em; padding-right: 1em; text-align: center; vertical-align: top\">business</td>\n",
       "    </tr>\n",
       "    <tr>\n",
       "        <td style=\"padding-left: 1em; padding-right: 1em; text-align: center; vertical-align: top\">Cool Springs Golf Center</td>\n",
       "        <td style=\"padding-left: 1em; padding-right: 1em; text-align: center; vertical-align: top\">[]</td>\n",
       "        <td style=\"padding-left: 1em; padding-right: 1em; text-align: center; vertical-align: top\">false</td>\n",
       "        <td style=\"padding-left: 1em; padding-right: 1em; text-align: center; vertical-align: top\">5</td>\n",
       "        <td style=\"padding-left: 1em; padding-right: 1em; text-align: center; vertical-align: top\">2.5</td>\n",
       "        <td style=\"padding-left: 1em; padding-right: 1em; text-align: center; vertical-align: top\">PA</td>\n",
       "        <td style=\"padding-left: 1em; padding-right: 1em; text-align: center; vertical-align: top\">business</td>\n",
       "    </tr>\n",
       "    <tr>\n",
       "        <td style=\"padding-left: 1em; padding-right: 1em; text-align: center; vertical-align: top\">Verizon</td>\n",
       "        <td style=\"padding-left: 1em; padding-right: 1em; text-align: center; vertical-align: top\">[]</td>\n",
       "        <td style=\"padding-left: 1em; padding-right: 1em; text-align: center; vertical-align: top\">true</td>\n",
       "        <td style=\"padding-left: 1em; padding-right: 1em; text-align: center; vertical-align: top\">5</td>\n",
       "        <td style=\"padding-left: 1em; padding-right: 1em; text-align: center; vertical-align: top\">2.5</td>\n",
       "        <td style=\"padding-left: 1em; padding-right: 1em; text-align: center; vertical-align: top\">PA</td>\n",
       "        <td style=\"padding-left: 1em; padding-right: 1em; text-align: center; vertical-align: top\">business</td>\n",
       "    </tr>\n",
       "</table>\n",
       "<table frame=\"box\" rules=\"cols\">\n",
       "    <tr>\n",
       "        <th style=\"padding-left: 1em; padding-right: 1em; text-align: center\">preprocessedText</th>\n",
       "        <th style=\"padding-left: 1em; padding-right: 1em; text-align: center\">test_rev_topics</th>\n",
       "        <th style=\"padding-left: 1em; padding-right: 1em; text-align: center\">topic</th>\n",
       "        <th style=\"padding-left: 1em; padding-right: 1em; text-align: center\">topicLabel</th>\n",
       "    </tr>\n",
       "    <tr>\n",
       "        <td style=\"padding-left: 1em; padding-right: 1em; text-align: center; vertical-align: top\">hoagie institution<br>walking seem like ...</td>\n",
       "        <td style=\"padding-left: 1em; padding-right: 1em; text-align: center; vertical-align: top\">[0.0113636363636,<br>0.0227272727273, ...</td>\n",
       "        <td style=\"padding-left: 1em; padding-right: 1em; text-align: center; vertical-align: top\">[48, 26]</td>\n",
       "        <td style=\"padding-left: 1em; padding-right: 1em; text-align: center; vertical-align: top\">[Ambiance, Food]</td>\n",
       "    </tr>\n",
       "    <tr>\n",
       "        <td style=\"padding-left: 1em; padding-right: 1em; text-align: center; vertical-align: top\">checked place past monday<br>wing night heard wings ...</td>\n",
       "        <td style=\"padding-left: 1em; padding-right: 1em; text-align: center; vertical-align: top\">[0.00892857142857,<br>0.00892857142857, 0.0 ...</td>\n",
       "        <td style=\"padding-left: 1em; padding-right: 1em; text-align: center; vertical-align: top\">[6, 47]</td>\n",
       "        <td style=\"padding-left: 1em; padding-right: 1em; text-align: center; vertical-align: top\">[Location, Food]</td>\n",
       "    </tr>\n",
       "    <tr>\n",
       "        <td style=\"padding-left: 1em; padding-right: 1em; text-align: center; vertical-align: top\">cold cheap beer good bar<br>food good service loo ...</td>\n",
       "        <td style=\"padding-left: 1em; padding-right: 1em; text-align: center; vertical-align: top\">[0.0111111111111,<br>0.0333333333333, ...</td>\n",
       "        <td style=\"padding-left: 1em; padding-right: 1em; text-align: center; vertical-align: top\">[5, 38]</td>\n",
       "        <td style=\"padding-left: 1em; padding-right: 1em; text-align: center; vertical-align: top\">[Lunch, Drink]</td>\n",
       "    </tr>\n",
       "    <tr>\n",
       "        <td style=\"padding-left: 1em; padding-right: 1em; text-align: center; vertical-align: top\">highly recommend place<br>mechanics really honest ...</td>\n",
       "        <td style=\"padding-left: 1em; padding-right: 1em; text-align: center; vertical-align: top\">[0.0172413793103,<br>0.0172413793103, ...</td>\n",
       "        <td style=\"padding-left: 1em; padding-right: 1em; text-align: center; vertical-align: top\">[33, 49]</td>\n",
       "        <td style=\"padding-left: 1em; padding-right: 1em; text-align: center; vertical-align: top\">[Location, Car]</td>\n",
       "    </tr>\n",
       "    <tr>\n",
       "        <td style=\"padding-left: 1em; padding-right: 1em; text-align: center; vertical-align: top\">big believer first<br>impressions new business ...</td>\n",
       "        <td style=\"padding-left: 1em; padding-right: 1em; text-align: center; vertical-align: top\">[0.0169491525424,<br>0.0169491525424, ...</td>\n",
       "        <td style=\"padding-left: 1em; padding-right: 1em; text-align: center; vertical-align: top\">[49, 17]</td>\n",
       "        <td style=\"padding-left: 1em; padding-right: 1em; text-align: center; vertical-align: top\">[Car, Experience]</td>\n",
       "    </tr>\n",
       "    <tr>\n",
       "        <td style=\"padding-left: 1em; padding-right: 1em; text-align: center; vertical-align: top\">decent range somewhat<br>close city mats pretty ...</td>\n",
       "        <td style=\"padding-left: 1em; padding-right: 1em; text-align: center; vertical-align: top\">[0.010752688172,<br>0.0322580645161, ...</td>\n",
       "        <td style=\"padding-left: 1em; padding-right: 1em; text-align: center; vertical-align: top\">[21, 14]</td>\n",
       "        <td style=\"padding-left: 1em; padding-right: 1em; text-align: center; vertical-align: top\">[Misc, Misc]</td>\n",
       "    </tr>\n",
       "    <tr>\n",
       "        <td style=\"padding-left: 1em; padding-right: 1em; text-align: center; vertical-align: top\">owning driving range<br>inside city limits like ...</td>\n",
       "        <td style=\"padding-left: 1em; padding-right: 1em; text-align: center; vertical-align: top\">[0.0248447204969,<br>0.0124223602484, ...</td>\n",
       "        <td style=\"padding-left: 1em; padding-right: 1em; text-align: center; vertical-align: top\">[20, 21]</td>\n",
       "        <td style=\"padding-left: 1em; padding-right: 1em; text-align: center; vertical-align: top\">[Location, Misc]</td>\n",
       "    </tr>\n",
       "    <tr>\n",
       "        <td style=\"padding-left: 1em; padding-right: 1em; text-align: center; vertical-align: top\">place absolute garbage<br>half tees available ...</td>\n",
       "        <td style=\"padding-left: 1em; padding-right: 1em; text-align: center; vertical-align: top\">[0.0208333333333,<br>0.0104166666667, ...</td>\n",
       "        <td style=\"padding-left: 1em; padding-right: 1em; text-align: center; vertical-align: top\">[48, 22]</td>\n",
       "        <td style=\"padding-left: 1em; padding-right: 1em; text-align: center; vertical-align: top\">[Ambiance, Store]</td>\n",
       "    </tr>\n",
       "    <tr>\n",
       "        <td style=\"padding-left: 1em; padding-right: 1em; text-align: center; vertical-align: top\">drove yesterday get sneak<br>peak opens july wait  ...</td>\n",
       "        <td style=\"padding-left: 1em; padding-right: 1em; text-align: center; vertical-align: top\">[0.0111111111111,<br>0.0111111111111, ...</td>\n",
       "        <td style=\"padding-left: 1em; padding-right: 1em; text-align: center; vertical-align: top\">[25, 22]</td>\n",
       "        <td style=\"padding-left: 1em; padding-right: 1em; text-align: center; vertical-align: top\">[Time, Store]</td>\n",
       "    </tr>\n",
       "    <tr>\n",
       "        <td style=\"padding-left: 1em; padding-right: 1em; text-align: center; vertical-align: top\">visited store several<br>months ago simply ask ...</td>\n",
       "        <td style=\"padding-left: 1em; padding-right: 1em; text-align: center; vertical-align: top\">[0.0151515151515,<br>0.0151515151515, ...</td>\n",
       "        <td style=\"padding-left: 1em; padding-right: 1em; text-align: center; vertical-align: top\">[16, 36]</td>\n",
       "        <td style=\"padding-left: 1em; padding-right: 1em; text-align: center; vertical-align: top\">[Misc, Time]</td>\n",
       "    </tr>\n",
       "</table>\n",
       "[10 rows x 27 columns]<br/>\n",
       "</div>"
      ],
      "text/plain": [
       "Columns:\n",
       "\tid\tint\n",
       "\tbusiness_id\tstr\n",
       "\tdate\tstr\n",
       "\treview_id\tstr\n",
       "\tstars\tint\n",
       "\ttext\tstr\n",
       "\ttype\tstr\n",
       "\tuser_id\tstr\n",
       "\tvotes\tdict\n",
       "\tattributes\tdict\n",
       "\tcategories\tlist\n",
       "\tcity\tstr\n",
       "\tfull_address\tstr\n",
       "\thours\tdict\n",
       "\tlatitude\tfloat\n",
       "\tlongitude\tfloat\n",
       "\tname\tstr\n",
       "\tneighborhoods\tlist\n",
       "\topen\tstr\n",
       "\treview_count\tint\n",
       "\tstars.1\tfloat\n",
       "\tstate\tstr\n",
       "\ttype.1\tstr\n",
       "\tpreprocessedText\tstr\n",
       "\ttest_rev_topics\tarray\n",
       "\ttopic\tlist\n",
       "\ttopicLabel\tlist\n",
       "\n",
       "Rows: 10\n",
       "\n",
       "Data:\n",
       "+----+------------------------+------------+------------------------+-------+\n",
       "| id |      business_id       |    date    |       review_id        | stars |\n",
       "+----+------------------------+------------+------------------------+-------+\n",
       "| 0  | 5UmKMjUEUNdYWqANhGckJw | 2012-08-01 | Ya85v4eqdd6k9Od8HbQjyA |   4   |\n",
       "| 1  | UsFtqoBl7naz8AVUBZMjQQ | 2014-03-29 | 0Lua2-PbqEQMjD9r89-asw |   3   |\n",
       "| 2  | UsFtqoBl7naz8AVUBZMjQQ | 2014-11-28 | mjCJR33jvUNt41iJCxDU_g |   4   |\n",
       "| 3  | 3eu6MEFlq2Dg7bQh8QbdOg | 2014-02-27 | Ieh3kfZ-5J9pLju4JiQDvQ |   5   |\n",
       "| 4  | 3eu6MEFlq2Dg7bQh8QbdOg | 2015-06-16 | PU28OoBSHpZLkYGCmNxlmg |   5   |\n",
       "| 5  | cE27W9VPgO88Qxe4ol6y_g | 2012-08-19 | XsA6AojkWjOHA4FmuAb8XQ |   3   |\n",
       "| 6  | cE27W9VPgO88Qxe4ol6y_g | 2013-04-18 | rkD7UDbQ9VM3Va6bI-eBHQ |   1   |\n",
       "| 7  | cE27W9VPgO88Qxe4ol6y_g | 2013-07-14 | WExNE-f93SL4D1q8s9QWKg |   1   |\n",
       "| 8  | cE27W9VPgO88Qxe4ol6y_g | 2014-07-11 | S-G0D8Cy7PnqShoBZu8PCA |   4   |\n",
       "| 9  | HZdLhv6COCleJMo7nPl-RA | 2014-09-04 | UzMViMQZuSxOr5wrru3LwQ |   4   |\n",
       "+----+------------------------+------------+------------------------+-------+\n",
       "+-------------------------------+--------+------------------------+\n",
       "|              text             |  type  |        user_id         |\n",
       "+-------------------------------+--------+------------------------+\n",
       "| Mr Hoagie is an institutio... | review | PUFPaY9KxDAcGqfsorJp3Q |\n",
       "| We checked this place out ... | review | I_47G-R2_egp7ME5u_ltew |\n",
       "| Cold cheap beer. Good bar ... | review | JPPhyFE-UE453zA6K0TVgw |\n",
       "| I highly recommend this pl... | review | 2d5HeDvZTDUNVog_WuUpSg |\n",
       "| I am a big believer in fir... | review | BShxMIUwaJS378xcrz4Nmg |\n",
       "| Decent range somewhat clos... | review | fhNxoMwwTipzjO8A9LFe8Q |\n",
       "| Owning a driving range ins... | review | -6rEfobYjMxpUWLNxszaxQ |\n",
       "| This place is absolute gar... | review | KZuaJtFindQM9x2ZoMBxcQ |\n",
       "| I drove by yesterday to ge... | review | ljwgUJowB69klaR8Au-H7g |\n",
       "| I visited this store sever... | review | zo_soThZw8eVglPbCRNC9A |\n",
       "+-------------------------------+--------+------------------------+\n",
       "+-------------------------------+-------------------------------+\n",
       "|             votes             |           attributes          |\n",
       "+-------------------------------+-------------------------------+\n",
       "| {'funny': 0L, 'useful': 0L... | {'Take-out': 'true', 'Driv... |\n",
       "| {'funny': 0L, 'useful': 0L... | {'Happy Hour': 'true', 'Ac... |\n",
       "| {'funny': 0L, 'useful': 0L... | {'Happy Hour': 'true', 'Ac... |\n",
       "| {'funny': 0L, 'useful': 0L... |               {}              |\n",
       "| {'funny': 0L, 'useful': 0L... |               {}              |\n",
       "| {'funny': 0L, 'useful': 1L... |   {'Good for Kids': 'true'}   |\n",
       "| {'funny': 0L, 'useful': 1L... |   {'Good for Kids': 'true'}   |\n",
       "| {'funny': 0L, 'useful': 0L... |   {'Good for Kids': 'true'}   |\n",
       "| {'funny': 0L, 'useful': 0L... |   {'Good for Kids': 'true'}   |\n",
       "| {'funny': 0L, 'useful': 0L... | {'Accepts Credit Cards': '... |\n",
       "+-------------------------------+-------------------------------+\n",
       "+--------------------------------+-------------+-------------------------------+\n",
       "|           categories           |     city    |          full_address         |\n",
       "+--------------------------------+-------------+-------------------------------+\n",
       "|    [Fast Food, Restaurants]    |  Dravosburg | 4734 Lebanon Church Rd\\nDr... |\n",
       "|          [Nightlife]           |  Dravosburg | 202 McClure St\\nDravosburg... |\n",
       "|          [Nightlife]           |  Dravosburg | 202 McClure St\\nDravosburg... |\n",
       "|   [Auto Repair, Automotive]    |  Dravosburg | 1 Ravine St\\nDravosburg, P... |\n",
       "|   [Auto Repair, Automotive]    |  Dravosburg | 1 Ravine St\\nDravosburg, P... |\n",
       "| [Active Life, Mini Golf, Golf] | Bethel Park | 1530 Hamilton Rd\\nBethel P... |\n",
       "| [Active Life, Mini Golf, Golf] | Bethel Park | 1530 Hamilton Rd\\nBethel P... |\n",
       "| [Active Life, Mini Golf, Golf] | Bethel Park | 1530 Hamilton Rd\\nBethel P... |\n",
       "| [Active Life, Mini Golf, Golf] | Bethel Park | 1530 Hamilton Rd\\nBethel P... |\n",
       "| [Shopping, Home Services, ...  |  Pittsburgh | 301 South Hills Village\\nP... |\n",
       "+--------------------------------+-------------+-------------------------------+\n",
       "+-------------------------------+------------+-------------+\n",
       "|             hours             |  latitude  |  longitude  |\n",
       "+-------------------------------+------------+-------------+\n",
       "| {'Tuesday': {'close': '21:... | 40.3543266 | -79.9007057 |\n",
       "|               {}              | 40.3505527 | -79.8868138 |\n",
       "|               {}              | 40.3505527 | -79.8868138 |\n",
       "|               {}              | 40.3509559 |  -79.889059 |\n",
       "|               {}              | 40.3509559 |  -79.889059 |\n",
       "|               {}              | 40.3541155 | -80.0146597 |\n",
       "|               {}              | 40.3541155 | -80.0146597 |\n",
       "|               {}              | 40.3541155 | -80.0146597 |\n",
       "|               {}              | 40.3541155 | -80.0146597 |\n",
       "| {'Monday': {'close': '21:0... |  40.35762  |  -80.05998  |\n",
       "+-------------------------------+------------+-------------+\n",
       "+--------------------------+---------------+-------+--------------+-----+\n",
       "|           name           | neighborhoods |  open | review_count | ... |\n",
       "+--------------------------+---------------+-------+--------------+-----+\n",
       "|        Mr Hoagie         |       []      |  true |      4       | ... |\n",
       "|       Clancy's Pub       |       []      |  true |      4       | ... |\n",
       "|       Clancy's Pub       |       []      |  true |      4       | ... |\n",
       "|     Joe Cislo's Auto     |       []      |  true |      3       | ... |\n",
       "|     Joe Cislo's Auto     |       []      |  true |      3       | ... |\n",
       "| Cool Springs Golf Center |       []      | false |      5       | ... |\n",
       "| Cool Springs Golf Center |       []      | false |      5       | ... |\n",
       "| Cool Springs Golf Center |       []      | false |      5       | ... |\n",
       "| Cool Springs Golf Center |       []      | false |      5       | ... |\n",
       "|         Verizon          |       []      |  true |      5       | ... |\n",
       "+--------------------------+---------------+-------+--------------+-----+\n",
       "[10 rows x 27 columns]"
      ]
     },
     "execution_count": 150,
     "metadata": {},
     "output_type": "execute_result"
    }
   ],
   "source": [
    "train_dataset.head()"
   ]
  },
  {
   "cell_type": "code",
   "execution_count": 137,
   "metadata": {
    "collapsed": true
   },
   "outputs": [],
   "source": [
    "test_dataset = test_rev.join(sff,on = \"id\",how = \"inner\")"
   ]
  },
  {
   "cell_type": "code",
   "execution_count": 139,
   "metadata": {
    "collapsed": false
   },
   "outputs": [
    {
     "data": {
      "text/html": [
       "<div style=\"max-height:1000px;max-width:1500px;overflow:auto;\"><table frame=\"box\" rules=\"cols\">\n",
       "    <tr>\n",
       "        <th style=\"padding-left: 1em; padding-right: 1em; text-align: center\">id</th>\n",
       "        <th style=\"padding-left: 1em; padding-right: 1em; text-align: center\">business_id</th>\n",
       "        <th style=\"padding-left: 1em; padding-right: 1em; text-align: center\">date</th>\n",
       "        <th style=\"padding-left: 1em; padding-right: 1em; text-align: center\">review_id</th>\n",
       "        <th style=\"padding-left: 1em; padding-right: 1em; text-align: center\">stars</th>\n",
       "        <th style=\"padding-left: 1em; padding-right: 1em; text-align: center\">text</th>\n",
       "        <th style=\"padding-left: 1em; padding-right: 1em; text-align: center\">type</th>\n",
       "    </tr>\n",
       "    <tr>\n",
       "        <td style=\"padding-left: 1em; padding-right: 1em; text-align: center; vertical-align: top\">0</td>\n",
       "        <td style=\"padding-left: 1em; padding-right: 1em; text-align: center; vertical-align: top\">5UmKMjUEUNdYWqANhGckJw</td>\n",
       "        <td style=\"padding-left: 1em; padding-right: 1em; text-align: center; vertical-align: top\">2014-02-13</td>\n",
       "        <td style=\"padding-left: 1em; padding-right: 1em; text-align: center; vertical-align: top\">KPvLNJ21_4wbYNctrOwWdQ</td>\n",
       "        <td style=\"padding-left: 1em; padding-right: 1em; text-align: center; vertical-align: top\">5</td>\n",
       "        <td style=\"padding-left: 1em; padding-right: 1em; text-align: center; vertical-align: top\">Excellent food. Superb<br>customer service. I miss ...</td>\n",
       "        <td style=\"padding-left: 1em; padding-right: 1em; text-align: center; vertical-align: top\">review</td>\n",
       "    </tr>\n",
       "    <tr>\n",
       "        <td style=\"padding-left: 1em; padding-right: 1em; text-align: center; vertical-align: top\">1</td>\n",
       "        <td style=\"padding-left: 1em; padding-right: 1em; text-align: center; vertical-align: top\">5UmKMjUEUNdYWqANhGckJw</td>\n",
       "        <td style=\"padding-left: 1em; padding-right: 1em; text-align: center; vertical-align: top\">2015-10-31</td>\n",
       "        <td style=\"padding-left: 1em; padding-right: 1em; text-align: center; vertical-align: top\">fFSoGV46Yxuwbr3fHNuZig</td>\n",
       "        <td style=\"padding-left: 1em; padding-right: 1em; text-align: center; vertical-align: top\">5</td>\n",
       "        <td style=\"padding-left: 1em; padding-right: 1em; text-align: center; vertical-align: top\">Yes this place is a<br>little out dated and not ...</td>\n",
       "        <td style=\"padding-left: 1em; padding-right: 1em; text-align: center; vertical-align: top\">review</td>\n",
       "    </tr>\n",
       "    <tr>\n",
       "        <td style=\"padding-left: 1em; padding-right: 1em; text-align: center; vertical-align: top\">2</td>\n",
       "        <td style=\"padding-left: 1em; padding-right: 1em; text-align: center; vertical-align: top\">UsFtqoBl7naz8AVUBZMjQQ</td>\n",
       "        <td style=\"padding-left: 1em; padding-right: 1em; text-align: center; vertical-align: top\">2013-11-08</td>\n",
       "        <td style=\"padding-left: 1em; padding-right: 1em; text-align: center; vertical-align: top\">Di3exaUCFNw1V4kSNW5pgA</td>\n",
       "        <td style=\"padding-left: 1em; padding-right: 1em; text-align: center; vertical-align: top\">5</td>\n",
       "        <td style=\"padding-left: 1em; padding-right: 1em; text-align: center; vertical-align: top\">All the food is great<br>here. But the best thing ...</td>\n",
       "        <td style=\"padding-left: 1em; padding-right: 1em; text-align: center; vertical-align: top\">review</td>\n",
       "    </tr>\n",
       "    <tr>\n",
       "        <td style=\"padding-left: 1em; padding-right: 1em; text-align: center; vertical-align: top\">3</td>\n",
       "        <td style=\"padding-left: 1em; padding-right: 1em; text-align: center; vertical-align: top\">UsFtqoBl7naz8AVUBZMjQQ</td>\n",
       "        <td style=\"padding-left: 1em; padding-right: 1em; text-align: center; vertical-align: top\">2014-10-29</td>\n",
       "        <td style=\"padding-left: 1em; padding-right: 1em; text-align: center; vertical-align: top\">7N9j5YbBHBW6qguE5DAeyA</td>\n",
       "        <td style=\"padding-left: 1em; padding-right: 1em; text-align: center; vertical-align: top\">1</td>\n",
       "        <td style=\"padding-left: 1em; padding-right: 1em; text-align: center; vertical-align: top\">Wing sauce is like water.<br>Pretty much a lot of ...</td>\n",
       "        <td style=\"padding-left: 1em; padding-right: 1em; text-align: center; vertical-align: top\">review</td>\n",
       "    </tr>\n",
       "    <tr>\n",
       "        <td style=\"padding-left: 1em; padding-right: 1em; text-align: center; vertical-align: top\">4</td>\n",
       "        <td style=\"padding-left: 1em; padding-right: 1em; text-align: center; vertical-align: top\">cE27W9VPgO88Qxe4ol6y_g</td>\n",
       "        <td style=\"padding-left: 1em; padding-right: 1em; text-align: center; vertical-align: top\">2013-08-16</td>\n",
       "        <td style=\"padding-left: 1em; padding-right: 1em; text-align: center; vertical-align: top\">iS34GJhMkkt9kCoTJLYEwA</td>\n",
       "        <td style=\"padding-left: 1em; padding-right: 1em; text-align: center; vertical-align: top\">4</td>\n",
       "        <td style=\"padding-left: 1em; padding-right: 1em; text-align: center; vertical-align: top\">Before I finally made it<br>over to this range I ...</td>\n",
       "        <td style=\"padding-left: 1em; padding-right: 1em; text-align: center; vertical-align: top\">review</td>\n",
       "    </tr>\n",
       "    <tr>\n",
       "        <td style=\"padding-left: 1em; padding-right: 1em; text-align: center; vertical-align: top\">5</td>\n",
       "        <td style=\"padding-left: 1em; padding-right: 1em; text-align: center; vertical-align: top\">HZdLhv6COCleJMo7nPl-RA</td>\n",
       "        <td style=\"padding-left: 1em; padding-right: 1em; text-align: center; vertical-align: top\">2013-06-10</td>\n",
       "        <td style=\"padding-left: 1em; padding-right: 1em; text-align: center; vertical-align: top\">fBQ69-NU9ZyTjjS7Tb5tww</td>\n",
       "        <td style=\"padding-left: 1em; padding-right: 1em; text-align: center; vertical-align: top\">5</td>\n",
       "        <td style=\"padding-left: 1em; padding-right: 1em; text-align: center; vertical-align: top\">THANK YOU ROB! i truly<br>appreciated all the help ...</td>\n",
       "        <td style=\"padding-left: 1em; padding-right: 1em; text-align: center; vertical-align: top\">review</td>\n",
       "    </tr>\n",
       "    <tr>\n",
       "        <td style=\"padding-left: 1em; padding-right: 1em; text-align: center; vertical-align: top\">6</td>\n",
       "        <td style=\"padding-left: 1em; padding-right: 1em; text-align: center; vertical-align: top\">HZdLhv6COCleJMo7nPl-RA</td>\n",
       "        <td style=\"padding-left: 1em; padding-right: 1em; text-align: center; vertical-align: top\">2013-12-23</td>\n",
       "        <td style=\"padding-left: 1em; padding-right: 1em; text-align: center; vertical-align: top\">CFiLh7WvH7dM3qVZvNiacQ</td>\n",
       "        <td style=\"padding-left: 1em; padding-right: 1em; text-align: center; vertical-align: top\">2</td>\n",
       "        <td style=\"padding-left: 1em; padding-right: 1em; text-align: center; vertical-align: top\">After waiting for almost<br>30 minutes to trade i ...</td>\n",
       "        <td style=\"padding-left: 1em; padding-right: 1em; text-align: center; vertical-align: top\">review</td>\n",
       "    </tr>\n",
       "    <tr>\n",
       "        <td style=\"padding-left: 1em; padding-right: 1em; text-align: center; vertical-align: top\">7</td>\n",
       "        <td style=\"padding-left: 1em; padding-right: 1em; text-align: center; vertical-align: top\">mVHrayjG3uZ_RLHkLj-AMg</td>\n",
       "        <td style=\"padding-left: 1em; padding-right: 1em; text-align: center; vertical-align: top\">2013-03-30</td>\n",
       "        <td style=\"padding-left: 1em; padding-right: 1em; text-align: center; vertical-align: top\">3Es8GsjkssusYgeU6_ZVpQ</td>\n",
       "        <td style=\"padding-left: 1em; padding-right: 1em; text-align: center; vertical-align: top\">5</td>\n",
       "        <td style=\"padding-left: 1em; padding-right: 1em; text-align: center; vertical-align: top\">This place should have a<br>lot more reviews - but ...</td>\n",
       "        <td style=\"padding-left: 1em; padding-right: 1em; text-align: center; vertical-align: top\">review</td>\n",
       "    </tr>\n",
       "    <tr>\n",
       "        <td style=\"padding-left: 1em; padding-right: 1em; text-align: center; vertical-align: top\">8</td>\n",
       "        <td style=\"padding-left: 1em; padding-right: 1em; text-align: center; vertical-align: top\">mVHrayjG3uZ_RLHkLj-AMg</td>\n",
       "        <td style=\"padding-left: 1em; padding-right: 1em; text-align: center; vertical-align: top\">2014-05-01</td>\n",
       "        <td style=\"padding-left: 1em; padding-right: 1em; text-align: center; vertical-align: top\">PY6nIMMLP2pqARlbIOJuRA</td>\n",
       "        <td style=\"padding-left: 1em; padding-right: 1em; text-align: center; vertical-align: top\">5</td>\n",
       "        <td style=\"padding-left: 1em; padding-right: 1em; text-align: center; vertical-align: top\">Like a lot of recent<br>patrons, I heard about ...</td>\n",
       "        <td style=\"padding-left: 1em; padding-right: 1em; text-align: center; vertical-align: top\">review</td>\n",
       "    </tr>\n",
       "    <tr>\n",
       "        <td style=\"padding-left: 1em; padding-right: 1em; text-align: center; vertical-align: top\">9</td>\n",
       "        <td style=\"padding-left: 1em; padding-right: 1em; text-align: center; vertical-align: top\">mVHrayjG3uZ_RLHkLj-AMg</td>\n",
       "        <td style=\"padding-left: 1em; padding-right: 1em; text-align: center; vertical-align: top\">2014-09-29</td>\n",
       "        <td style=\"padding-left: 1em; padding-right: 1em; text-align: center; vertical-align: top\">5uyYmniYyIB_wtKtyXDudQ</td>\n",
       "        <td style=\"padding-left: 1em; padding-right: 1em; text-align: center; vertical-align: top\">4</td>\n",
       "        <td style=\"padding-left: 1em; padding-right: 1em; text-align: center; vertical-align: top\">Wonderful reuben.  Map<br>shown on Yelp page is ...</td>\n",
       "        <td style=\"padding-left: 1em; padding-right: 1em; text-align: center; vertical-align: top\">review</td>\n",
       "    </tr>\n",
       "</table>\n",
       "<table frame=\"box\" rules=\"cols\">\n",
       "    <tr>\n",
       "        <th style=\"padding-left: 1em; padding-right: 1em; text-align: center\">user_id</th>\n",
       "        <th style=\"padding-left: 1em; padding-right: 1em; text-align: center\">votes</th>\n",
       "        <th style=\"padding-left: 1em; padding-right: 1em; text-align: center\">attributes</th>\n",
       "        <th style=\"padding-left: 1em; padding-right: 1em; text-align: center\">categories</th>\n",
       "    </tr>\n",
       "    <tr>\n",
       "        <td style=\"padding-left: 1em; padding-right: 1em; text-align: center; vertical-align: top\">Iu6AxdBYGR4A0wspR9BYHA</td>\n",
       "        <td style=\"padding-left: 1em; padding-right: 1em; text-align: center; vertical-align: top\">{'funny': 0L, 'useful':<br>0L, 'cool': 0L} ...</td>\n",
       "        <td style=\"padding-left: 1em; padding-right: 1em; text-align: center; vertical-align: top\">{'Take-out': 'true',<br>'Drive-Thru': 'false', ...</td>\n",
       "        <td style=\"padding-left: 1em; padding-right: 1em; text-align: center; vertical-align: top\">[Fast Food, Restaurants]</td>\n",
       "    </tr>\n",
       "    <tr>\n",
       "        <td style=\"padding-left: 1em; padding-right: 1em; text-align: center; vertical-align: top\">auESFwWvW42h6alXgFxAXQ</td>\n",
       "        <td style=\"padding-left: 1em; padding-right: 1em; text-align: center; vertical-align: top\">{'funny': 0L, 'useful':<br>0L, 'cool': 0L} ...</td>\n",
       "        <td style=\"padding-left: 1em; padding-right: 1em; text-align: center; vertical-align: top\">{'Take-out': 'true',<br>'Drive-Thru': 'false', ...</td>\n",
       "        <td style=\"padding-left: 1em; padding-right: 1em; text-align: center; vertical-align: top\">[Fast Food, Restaurants]</td>\n",
       "    </tr>\n",
       "    <tr>\n",
       "        <td style=\"padding-left: 1em; padding-right: 1em; text-align: center; vertical-align: top\">uK8tzraOp4M5u3uYrqIBXg</td>\n",
       "        <td style=\"padding-left: 1em; padding-right: 1em; text-align: center; vertical-align: top\">{'funny': 0L, 'useful':<br>0L, 'cool': 0L} ...</td>\n",
       "        <td style=\"padding-left: 1em; padding-right: 1em; text-align: center; vertical-align: top\">{'Happy Hour': 'true',<br>'Accepts Credit Cards': ...</td>\n",
       "        <td style=\"padding-left: 1em; padding-right: 1em; text-align: center; vertical-align: top\">[Nightlife]</td>\n",
       "    </tr>\n",
       "    <tr>\n",
       "        <td style=\"padding-left: 1em; padding-right: 1em; text-align: center; vertical-align: top\">PP_xoMSYlGr2pb67BbqBdA</td>\n",
       "        <td style=\"padding-left: 1em; padding-right: 1em; text-align: center; vertical-align: top\">{'funny': 0L, 'useful':<br>0L, 'cool': 0L} ...</td>\n",
       "        <td style=\"padding-left: 1em; padding-right: 1em; text-align: center; vertical-align: top\">{'Happy Hour': 'true',<br>'Accepts Credit Cards': ...</td>\n",
       "        <td style=\"padding-left: 1em; padding-right: 1em; text-align: center; vertical-align: top\">[Nightlife]</td>\n",
       "    </tr>\n",
       "    <tr>\n",
       "        <td style=\"padding-left: 1em; padding-right: 1em; text-align: center; vertical-align: top\">H9E5VejGEsRhwcbOMFknmQ</td>\n",
       "        <td style=\"padding-left: 1em; padding-right: 1em; text-align: center; vertical-align: top\">{'funny': 0L, 'useful':<br>0L, 'cool': 0L} ...</td>\n",
       "        <td style=\"padding-left: 1em; padding-right: 1em; text-align: center; vertical-align: top\">{'Good for Kids': 'true'}</td>\n",
       "        <td style=\"padding-left: 1em; padding-right: 1em; text-align: center; vertical-align: top\">[Active Life, Mini Golf,<br>Golf] ...</td>\n",
       "    </tr>\n",
       "    <tr>\n",
       "        <td style=\"padding-left: 1em; padding-right: 1em; text-align: center; vertical-align: top\">JbAeIYc89Sk8SWmrBCJs9g</td>\n",
       "        <td style=\"padding-left: 1em; padding-right: 1em; text-align: center; vertical-align: top\">{'funny': 3L, 'useful':<br>7L, 'cool': 7L} ...</td>\n",
       "        <td style=\"padding-left: 1em; padding-right: 1em; text-align: center; vertical-align: top\">{'Accepts Credit Cards':<br>'false', 'Price Range': ...</td>\n",
       "        <td style=\"padding-left: 1em; padding-right: 1em; text-align: center; vertical-align: top\">[Shopping, Home Services,<br>Internet Service ...</td>\n",
       "    </tr>\n",
       "    <tr>\n",
       "        <td style=\"padding-left: 1em; padding-right: 1em; text-align: center; vertical-align: top\">l_szjd-ken3ma6oHDkTYXg</td>\n",
       "        <td style=\"padding-left: 1em; padding-right: 1em; text-align: center; vertical-align: top\">{'funny': 1L, 'useful':<br>1L, 'cool': 1L} ...</td>\n",
       "        <td style=\"padding-left: 1em; padding-right: 1em; text-align: center; vertical-align: top\">{'Accepts Credit Cards':<br>'false', 'Price Range': ...</td>\n",
       "        <td style=\"padding-left: 1em; padding-right: 1em; text-align: center; vertical-align: top\">[Shopping, Home Services,<br>Internet Service ...</td>\n",
       "    </tr>\n",
       "    <tr>\n",
       "        <td style=\"padding-left: 1em; padding-right: 1em; text-align: center; vertical-align: top\">8fApIAMHn2MZJFUiCQto5Q</td>\n",
       "        <td style=\"padding-left: 1em; padding-right: 1em; text-align: center; vertical-align: top\">{'funny': 0L, 'useful':<br>3L, 'cool': 1L} ...</td>\n",
       "        <td style=\"padding-left: 1em; padding-right: 1em; text-align: center; vertical-align: top\">{'Alcohol': 'full_bar',<br>'Noise Level': 'avera ...</td>\n",
       "        <td style=\"padding-left: 1em; padding-right: 1em; text-align: center; vertical-align: top\">[Bars, American (New),<br>Nightlife, Lounges, ...</td>\n",
       "    </tr>\n",
       "    <tr>\n",
       "        <td style=\"padding-left: 1em; padding-right: 1em; text-align: center; vertical-align: top\">r1Uk-h_bddXb2ScCetoMPA</td>\n",
       "        <td style=\"padding-left: 1em; padding-right: 1em; text-align: center; vertical-align: top\">{'funny': 0L, 'useful':<br>0L, 'cool': 0L} ...</td>\n",
       "        <td style=\"padding-left: 1em; padding-right: 1em; text-align: center; vertical-align: top\">{'Alcohol': 'full_bar',<br>'Noise Level': 'avera ...</td>\n",
       "        <td style=\"padding-left: 1em; padding-right: 1em; text-align: center; vertical-align: top\">[Bars, American (New),<br>Nightlife, Lounges, ...</td>\n",
       "    </tr>\n",
       "    <tr>\n",
       "        <td style=\"padding-left: 1em; padding-right: 1em; text-align: center; vertical-align: top\">u9ULAsnYTdYH65Haj5LMSw</td>\n",
       "        <td style=\"padding-left: 1em; padding-right: 1em; text-align: center; vertical-align: top\">{'funny': 0L, 'useful':<br>0L, 'cool': 0L} ...</td>\n",
       "        <td style=\"padding-left: 1em; padding-right: 1em; text-align: center; vertical-align: top\">{'Alcohol': 'full_bar',<br>'Noise Level': 'avera ...</td>\n",
       "        <td style=\"padding-left: 1em; padding-right: 1em; text-align: center; vertical-align: top\">[Bars, American (New),<br>Nightlife, Lounges, ...</td>\n",
       "    </tr>\n",
       "</table>\n",
       "<table frame=\"box\" rules=\"cols\">\n",
       "    <tr>\n",
       "        <th style=\"padding-left: 1em; padding-right: 1em; text-align: center\">city</th>\n",
       "        <th style=\"padding-left: 1em; padding-right: 1em; text-align: center\">full_address</th>\n",
       "        <th style=\"padding-left: 1em; padding-right: 1em; text-align: center\">hours</th>\n",
       "        <th style=\"padding-left: 1em; padding-right: 1em; text-align: center\">latitude</th>\n",
       "        <th style=\"padding-left: 1em; padding-right: 1em; text-align: center\">longitude</th>\n",
       "    </tr>\n",
       "    <tr>\n",
       "        <td style=\"padding-left: 1em; padding-right: 1em; text-align: center; vertical-align: top\">Dravosburg</td>\n",
       "        <td style=\"padding-left: 1em; padding-right: 1em; text-align: center; vertical-align: top\">4734 Lebanon Church<br>Rd\\nDravosburg, PA 15034 ...</td>\n",
       "        <td style=\"padding-left: 1em; padding-right: 1em; text-align: center; vertical-align: top\">{'Tuesday': {'close':<br>'21:00', 'open': ...</td>\n",
       "        <td style=\"padding-left: 1em; padding-right: 1em; text-align: center; vertical-align: top\">40.3543266</td>\n",
       "        <td style=\"padding-left: 1em; padding-right: 1em; text-align: center; vertical-align: top\">-79.9007057</td>\n",
       "    </tr>\n",
       "    <tr>\n",
       "        <td style=\"padding-left: 1em; padding-right: 1em; text-align: center; vertical-align: top\">Dravosburg</td>\n",
       "        <td style=\"padding-left: 1em; padding-right: 1em; text-align: center; vertical-align: top\">4734 Lebanon Church<br>Rd\\nDravosburg, PA 15034 ...</td>\n",
       "        <td style=\"padding-left: 1em; padding-right: 1em; text-align: center; vertical-align: top\">{'Tuesday': {'close':<br>'21:00', 'open': ...</td>\n",
       "        <td style=\"padding-left: 1em; padding-right: 1em; text-align: center; vertical-align: top\">40.3543266</td>\n",
       "        <td style=\"padding-left: 1em; padding-right: 1em; text-align: center; vertical-align: top\">-79.9007057</td>\n",
       "    </tr>\n",
       "    <tr>\n",
       "        <td style=\"padding-left: 1em; padding-right: 1em; text-align: center; vertical-align: top\">Dravosburg</td>\n",
       "        <td style=\"padding-left: 1em; padding-right: 1em; text-align: center; vertical-align: top\">202 McClure<br>St\\nDravosburg, PA 15034 ...</td>\n",
       "        <td style=\"padding-left: 1em; padding-right: 1em; text-align: center; vertical-align: top\">{}</td>\n",
       "        <td style=\"padding-left: 1em; padding-right: 1em; text-align: center; vertical-align: top\">40.3505527</td>\n",
       "        <td style=\"padding-left: 1em; padding-right: 1em; text-align: center; vertical-align: top\">-79.8868138</td>\n",
       "    </tr>\n",
       "    <tr>\n",
       "        <td style=\"padding-left: 1em; padding-right: 1em; text-align: center; vertical-align: top\">Dravosburg</td>\n",
       "        <td style=\"padding-left: 1em; padding-right: 1em; text-align: center; vertical-align: top\">202 McClure<br>St\\nDravosburg, PA 15034 ...</td>\n",
       "        <td style=\"padding-left: 1em; padding-right: 1em; text-align: center; vertical-align: top\">{}</td>\n",
       "        <td style=\"padding-left: 1em; padding-right: 1em; text-align: center; vertical-align: top\">40.3505527</td>\n",
       "        <td style=\"padding-left: 1em; padding-right: 1em; text-align: center; vertical-align: top\">-79.8868138</td>\n",
       "    </tr>\n",
       "    <tr>\n",
       "        <td style=\"padding-left: 1em; padding-right: 1em; text-align: center; vertical-align: top\">Bethel Park</td>\n",
       "        <td style=\"padding-left: 1em; padding-right: 1em; text-align: center; vertical-align: top\">1530 Hamilton Rd\\nBethel<br>Park, PA 15234 ...</td>\n",
       "        <td style=\"padding-left: 1em; padding-right: 1em; text-align: center; vertical-align: top\">{}</td>\n",
       "        <td style=\"padding-left: 1em; padding-right: 1em; text-align: center; vertical-align: top\">40.3541155</td>\n",
       "        <td style=\"padding-left: 1em; padding-right: 1em; text-align: center; vertical-align: top\">-80.0146597</td>\n",
       "    </tr>\n",
       "    <tr>\n",
       "        <td style=\"padding-left: 1em; padding-right: 1em; text-align: center; vertical-align: top\">Pittsburgh</td>\n",
       "        <td style=\"padding-left: 1em; padding-right: 1em; text-align: center; vertical-align: top\">301 South Hills<br>Village\\nPittsburgh, PA ...</td>\n",
       "        <td style=\"padding-left: 1em; padding-right: 1em; text-align: center; vertical-align: top\">{'Monday': {'close':<br>'21:00', 'open': ...</td>\n",
       "        <td style=\"padding-left: 1em; padding-right: 1em; text-align: center; vertical-align: top\">40.35762</td>\n",
       "        <td style=\"padding-left: 1em; padding-right: 1em; text-align: center; vertical-align: top\">-80.05998</td>\n",
       "    </tr>\n",
       "    <tr>\n",
       "        <td style=\"padding-left: 1em; padding-right: 1em; text-align: center; vertical-align: top\">Pittsburgh</td>\n",
       "        <td style=\"padding-left: 1em; padding-right: 1em; text-align: center; vertical-align: top\">301 South Hills<br>Village\\nPittsburgh, PA ...</td>\n",
       "        <td style=\"padding-left: 1em; padding-right: 1em; text-align: center; vertical-align: top\">{'Monday': {'close':<br>'21:00', 'open': ...</td>\n",
       "        <td style=\"padding-left: 1em; padding-right: 1em; text-align: center; vertical-align: top\">40.35762</td>\n",
       "        <td style=\"padding-left: 1em; padding-right: 1em; text-align: center; vertical-align: top\">-80.05998</td>\n",
       "    </tr>\n",
       "    <tr>\n",
       "        <td style=\"padding-left: 1em; padding-right: 1em; text-align: center; vertical-align: top\">rankin</td>\n",
       "        <td style=\"padding-left: 1em; padding-right: 1em; text-align: center; vertical-align: top\">414 Hawkins Ave\\nrankin,<br>PA 15104 ...</td>\n",
       "        <td style=\"padding-left: 1em; padding-right: 1em; text-align: center; vertical-align: top\">{'Tuesday': {'close':<br>'19:00', 'open': ...</td>\n",
       "        <td style=\"padding-left: 1em; padding-right: 1em; text-align: center; vertical-align: top\">40.4134643</td>\n",
       "        <td style=\"padding-left: 1em; padding-right: 1em; text-align: center; vertical-align: top\">-79.8802474</td>\n",
       "    </tr>\n",
       "    <tr>\n",
       "        <td style=\"padding-left: 1em; padding-right: 1em; text-align: center; vertical-align: top\">rankin</td>\n",
       "        <td style=\"padding-left: 1em; padding-right: 1em; text-align: center; vertical-align: top\">414 Hawkins Ave\\nrankin,<br>PA 15104 ...</td>\n",
       "        <td style=\"padding-left: 1em; padding-right: 1em; text-align: center; vertical-align: top\">{'Tuesday': {'close':<br>'19:00', 'open': ...</td>\n",
       "        <td style=\"padding-left: 1em; padding-right: 1em; text-align: center; vertical-align: top\">40.4134643</td>\n",
       "        <td style=\"padding-left: 1em; padding-right: 1em; text-align: center; vertical-align: top\">-79.8802474</td>\n",
       "    </tr>\n",
       "    <tr>\n",
       "        <td style=\"padding-left: 1em; padding-right: 1em; text-align: center; vertical-align: top\">rankin</td>\n",
       "        <td style=\"padding-left: 1em; padding-right: 1em; text-align: center; vertical-align: top\">414 Hawkins Ave\\nrankin,<br>PA 15104 ...</td>\n",
       "        <td style=\"padding-left: 1em; padding-right: 1em; text-align: center; vertical-align: top\">{'Tuesday': {'close':<br>'19:00', 'open': ...</td>\n",
       "        <td style=\"padding-left: 1em; padding-right: 1em; text-align: center; vertical-align: top\">40.4134643</td>\n",
       "        <td style=\"padding-left: 1em; padding-right: 1em; text-align: center; vertical-align: top\">-79.8802474</td>\n",
       "    </tr>\n",
       "</table>\n",
       "<table frame=\"box\" rules=\"cols\">\n",
       "    <tr>\n",
       "        <th style=\"padding-left: 1em; padding-right: 1em; text-align: center\">name</th>\n",
       "        <th style=\"padding-left: 1em; padding-right: 1em; text-align: center\">neighborhoods</th>\n",
       "        <th style=\"padding-left: 1em; padding-right: 1em; text-align: center\">open</th>\n",
       "        <th style=\"padding-left: 1em; padding-right: 1em; text-align: center\">review_count</th>\n",
       "        <th style=\"padding-left: 1em; padding-right: 1em; text-align: center\">stars.1</th>\n",
       "        <th style=\"padding-left: 1em; padding-right: 1em; text-align: center\">state</th>\n",
       "        <th style=\"padding-left: 1em; padding-right: 1em; text-align: center\">type.1</th>\n",
       "    </tr>\n",
       "    <tr>\n",
       "        <td style=\"padding-left: 1em; padding-right: 1em; text-align: center; vertical-align: top\">Mr Hoagie</td>\n",
       "        <td style=\"padding-left: 1em; padding-right: 1em; text-align: center; vertical-align: top\">[]</td>\n",
       "        <td style=\"padding-left: 1em; padding-right: 1em; text-align: center; vertical-align: top\">true</td>\n",
       "        <td style=\"padding-left: 1em; padding-right: 1em; text-align: center; vertical-align: top\">4</td>\n",
       "        <td style=\"padding-left: 1em; padding-right: 1em; text-align: center; vertical-align: top\">4.5</td>\n",
       "        <td style=\"padding-left: 1em; padding-right: 1em; text-align: center; vertical-align: top\">PA</td>\n",
       "        <td style=\"padding-left: 1em; padding-right: 1em; text-align: center; vertical-align: top\">business</td>\n",
       "    </tr>\n",
       "    <tr>\n",
       "        <td style=\"padding-left: 1em; padding-right: 1em; text-align: center; vertical-align: top\">Mr Hoagie</td>\n",
       "        <td style=\"padding-left: 1em; padding-right: 1em; text-align: center; vertical-align: top\">[]</td>\n",
       "        <td style=\"padding-left: 1em; padding-right: 1em; text-align: center; vertical-align: top\">true</td>\n",
       "        <td style=\"padding-left: 1em; padding-right: 1em; text-align: center; vertical-align: top\">4</td>\n",
       "        <td style=\"padding-left: 1em; padding-right: 1em; text-align: center; vertical-align: top\">4.5</td>\n",
       "        <td style=\"padding-left: 1em; padding-right: 1em; text-align: center; vertical-align: top\">PA</td>\n",
       "        <td style=\"padding-left: 1em; padding-right: 1em; text-align: center; vertical-align: top\">business</td>\n",
       "    </tr>\n",
       "    <tr>\n",
       "        <td style=\"padding-left: 1em; padding-right: 1em; text-align: center; vertical-align: top\">Clancy's Pub</td>\n",
       "        <td style=\"padding-left: 1em; padding-right: 1em; text-align: center; vertical-align: top\">[]</td>\n",
       "        <td style=\"padding-left: 1em; padding-right: 1em; text-align: center; vertical-align: top\">true</td>\n",
       "        <td style=\"padding-left: 1em; padding-right: 1em; text-align: center; vertical-align: top\">4</td>\n",
       "        <td style=\"padding-left: 1em; padding-right: 1em; text-align: center; vertical-align: top\">3.5</td>\n",
       "        <td style=\"padding-left: 1em; padding-right: 1em; text-align: center; vertical-align: top\">PA</td>\n",
       "        <td style=\"padding-left: 1em; padding-right: 1em; text-align: center; vertical-align: top\">business</td>\n",
       "    </tr>\n",
       "    <tr>\n",
       "        <td style=\"padding-left: 1em; padding-right: 1em; text-align: center; vertical-align: top\">Clancy's Pub</td>\n",
       "        <td style=\"padding-left: 1em; padding-right: 1em; text-align: center; vertical-align: top\">[]</td>\n",
       "        <td style=\"padding-left: 1em; padding-right: 1em; text-align: center; vertical-align: top\">true</td>\n",
       "        <td style=\"padding-left: 1em; padding-right: 1em; text-align: center; vertical-align: top\">4</td>\n",
       "        <td style=\"padding-left: 1em; padding-right: 1em; text-align: center; vertical-align: top\">3.5</td>\n",
       "        <td style=\"padding-left: 1em; padding-right: 1em; text-align: center; vertical-align: top\">PA</td>\n",
       "        <td style=\"padding-left: 1em; padding-right: 1em; text-align: center; vertical-align: top\">business</td>\n",
       "    </tr>\n",
       "    <tr>\n",
       "        <td style=\"padding-left: 1em; padding-right: 1em; text-align: center; vertical-align: top\">Cool Springs Golf Center</td>\n",
       "        <td style=\"padding-left: 1em; padding-right: 1em; text-align: center; vertical-align: top\">[]</td>\n",
       "        <td style=\"padding-left: 1em; padding-right: 1em; text-align: center; vertical-align: top\">false</td>\n",
       "        <td style=\"padding-left: 1em; padding-right: 1em; text-align: center; vertical-align: top\">5</td>\n",
       "        <td style=\"padding-left: 1em; padding-right: 1em; text-align: center; vertical-align: top\">2.5</td>\n",
       "        <td style=\"padding-left: 1em; padding-right: 1em; text-align: center; vertical-align: top\">PA</td>\n",
       "        <td style=\"padding-left: 1em; padding-right: 1em; text-align: center; vertical-align: top\">business</td>\n",
       "    </tr>\n",
       "    <tr>\n",
       "        <td style=\"padding-left: 1em; padding-right: 1em; text-align: center; vertical-align: top\">Verizon</td>\n",
       "        <td style=\"padding-left: 1em; padding-right: 1em; text-align: center; vertical-align: top\">[]</td>\n",
       "        <td style=\"padding-left: 1em; padding-right: 1em; text-align: center; vertical-align: top\">true</td>\n",
       "        <td style=\"padding-left: 1em; padding-right: 1em; text-align: center; vertical-align: top\">5</td>\n",
       "        <td style=\"padding-left: 1em; padding-right: 1em; text-align: center; vertical-align: top\">2.5</td>\n",
       "        <td style=\"padding-left: 1em; padding-right: 1em; text-align: center; vertical-align: top\">PA</td>\n",
       "        <td style=\"padding-left: 1em; padding-right: 1em; text-align: center; vertical-align: top\">business</td>\n",
       "    </tr>\n",
       "    <tr>\n",
       "        <td style=\"padding-left: 1em; padding-right: 1em; text-align: center; vertical-align: top\">Verizon</td>\n",
       "        <td style=\"padding-left: 1em; padding-right: 1em; text-align: center; vertical-align: top\">[]</td>\n",
       "        <td style=\"padding-left: 1em; padding-right: 1em; text-align: center; vertical-align: top\">true</td>\n",
       "        <td style=\"padding-left: 1em; padding-right: 1em; text-align: center; vertical-align: top\">5</td>\n",
       "        <td style=\"padding-left: 1em; padding-right: 1em; text-align: center; vertical-align: top\">2.5</td>\n",
       "        <td style=\"padding-left: 1em; padding-right: 1em; text-align: center; vertical-align: top\">PA</td>\n",
       "        <td style=\"padding-left: 1em; padding-right: 1em; text-align: center; vertical-align: top\">business</td>\n",
       "    </tr>\n",
       "    <tr>\n",
       "        <td style=\"padding-left: 1em; padding-right: 1em; text-align: center; vertical-align: top\">Emil's Lounge</td>\n",
       "        <td style=\"padding-left: 1em; padding-right: 1em; text-align: center; vertical-align: top\">[]</td>\n",
       "        <td style=\"padding-left: 1em; padding-right: 1em; text-align: center; vertical-align: top\">true</td>\n",
       "        <td style=\"padding-left: 1em; padding-right: 1em; text-align: center; vertical-align: top\">20</td>\n",
       "        <td style=\"padding-left: 1em; padding-right: 1em; text-align: center; vertical-align: top\">5.0</td>\n",
       "        <td style=\"padding-left: 1em; padding-right: 1em; text-align: center; vertical-align: top\">PA</td>\n",
       "        <td style=\"padding-left: 1em; padding-right: 1em; text-align: center; vertical-align: top\">business</td>\n",
       "    </tr>\n",
       "    <tr>\n",
       "        <td style=\"padding-left: 1em; padding-right: 1em; text-align: center; vertical-align: top\">Emil's Lounge</td>\n",
       "        <td style=\"padding-left: 1em; padding-right: 1em; text-align: center; vertical-align: top\">[]</td>\n",
       "        <td style=\"padding-left: 1em; padding-right: 1em; text-align: center; vertical-align: top\">true</td>\n",
       "        <td style=\"padding-left: 1em; padding-right: 1em; text-align: center; vertical-align: top\">20</td>\n",
       "        <td style=\"padding-left: 1em; padding-right: 1em; text-align: center; vertical-align: top\">5.0</td>\n",
       "        <td style=\"padding-left: 1em; padding-right: 1em; text-align: center; vertical-align: top\">PA</td>\n",
       "        <td style=\"padding-left: 1em; padding-right: 1em; text-align: center; vertical-align: top\">business</td>\n",
       "    </tr>\n",
       "    <tr>\n",
       "        <td style=\"padding-left: 1em; padding-right: 1em; text-align: center; vertical-align: top\">Emil's Lounge</td>\n",
       "        <td style=\"padding-left: 1em; padding-right: 1em; text-align: center; vertical-align: top\">[]</td>\n",
       "        <td style=\"padding-left: 1em; padding-right: 1em; text-align: center; vertical-align: top\">true</td>\n",
       "        <td style=\"padding-left: 1em; padding-right: 1em; text-align: center; vertical-align: top\">20</td>\n",
       "        <td style=\"padding-left: 1em; padding-right: 1em; text-align: center; vertical-align: top\">5.0</td>\n",
       "        <td style=\"padding-left: 1em; padding-right: 1em; text-align: center; vertical-align: top\">PA</td>\n",
       "        <td style=\"padding-left: 1em; padding-right: 1em; text-align: center; vertical-align: top\">business</td>\n",
       "    </tr>\n",
       "</table>\n",
       "<table frame=\"box\" rules=\"cols\">\n",
       "    <tr>\n",
       "        <th style=\"padding-left: 1em; padding-right: 1em; text-align: center\">preprocessedText</th>\n",
       "        <th style=\"padding-left: 1em; padding-right: 1em; text-align: center\">test_rev_topics</th>\n",
       "        <th style=\"padding-left: 1em; padding-right: 1em; text-align: center\">topic</th>\n",
       "        <th style=\"padding-left: 1em; padding-right: 1em; text-align: center\">topicLabel</th>\n",
       "    </tr>\n",
       "    <tr>\n",
       "        <td style=\"padding-left: 1em; padding-right: 1em; text-align: center; vertical-align: top\">excellent food superb<br>customer service miss ...</td>\n",
       "        <td style=\"padding-left: 1em; padding-right: 1em; text-align: center; vertical-align: top\">[0.015625, 0.03125,<br>0.03125, 0.0625, ...</td>\n",
       "        <td style=\"padding-left: 1em; padding-right: 1em; text-align: center; vertical-align: top\">[33, 3]</td>\n",
       "        <td style=\"padding-left: 1em; padding-right: 1em; text-align: center; vertical-align: top\">[Location, Service]</td>\n",
       "    </tr>\n",
       "    <tr>\n",
       "        <td style=\"padding-left: 1em; padding-right: 1em; text-align: center; vertical-align: top\">yes place little dated<br>opened weekend staff ...</td>\n",
       "        <td style=\"padding-left: 1em; padding-right: 1em; text-align: center; vertical-align: top\">[0.0238095238095,<br>0.047619047619, ...</td>\n",
       "        <td style=\"padding-left: 1em; padding-right: 1em; text-align: center; vertical-align: top\">[40, 5]</td>\n",
       "        <td style=\"padding-left: 1em; padding-right: 1em; text-align: center; vertical-align: top\">[Desserts, Lunch]</td>\n",
       "    </tr>\n",
       "    <tr>\n",
       "        <td style=\"padding-left: 1em; padding-right: 1em; text-align: center; vertical-align: top\">food great best thing<br>wings wings simply ...</td>\n",
       "        <td style=\"padding-left: 1em; padding-right: 1em; text-align: center; vertical-align: top\">[0.010989010989,<br>0.021978021978, ...</td>\n",
       "        <td style=\"padding-left: 1em; padding-right: 1em; text-align: center; vertical-align: top\">[9, 47]</td>\n",
       "        <td style=\"padding-left: 1em; padding-right: 1em; text-align: center; vertical-align: top\">[Location, Food]</td>\n",
       "    </tr>\n",
       "    <tr>\n",
       "        <td style=\"padding-left: 1em; padding-right: 1em; text-align: center; vertical-align: top\">wing sauce like water<br>pretty much lot butter ...</td>\n",
       "        <td style=\"padding-left: 1em; padding-right: 1em; text-align: center; vertical-align: top\">[0.0117647058824,<br>0.0117647058824, ...</td>\n",
       "        <td style=\"padding-left: 1em; padding-right: 1em; text-align: center; vertical-align: top\">[14, 47]</td>\n",
       "        <td style=\"padding-left: 1em; padding-right: 1em; text-align: center; vertical-align: top\">[Misc, Food]</td>\n",
       "    </tr>\n",
       "    <tr>\n",
       "        <td style=\"padding-left: 1em; padding-right: 1em; text-align: center; vertical-align: top\">finally made range heard<br>thing people fine work ...</td>\n",
       "        <td style=\"padding-left: 1em; padding-right: 1em; text-align: center; vertical-align: top\">[0.0077519379845,<br>0.0077519379845, ...</td>\n",
       "        <td style=\"padding-left: 1em; padding-right: 1em; text-align: center; vertical-align: top\">[4, 20]</td>\n",
       "        <td style=\"padding-left: 1em; padding-right: 1em; text-align: center; vertical-align: top\">[Price, Location]</td>\n",
       "    </tr>\n",
       "    <tr>\n",
       "        <td style=\"padding-left: 1em; padding-right: 1em; text-align: center; vertical-align: top\">thank rob truly<br>appreciated help rece ...</td>\n",
       "        <td style=\"padding-left: 1em; padding-right: 1em; text-align: center; vertical-align: top\">[0.00952380952381,<br>0.00952380952381, ...</td>\n",
       "        <td style=\"padding-left: 1em; padding-right: 1em; text-align: center; vertical-align: top\">[16, 17]</td>\n",
       "        <td style=\"padding-left: 1em; padding-right: 1em; text-align: center; vertical-align: top\">[Misc, Experience]</td>\n",
       "    </tr>\n",
       "    <tr>\n",
       "        <td style=\"padding-left: 1em; padding-right: 1em; text-align: center; vertical-align: top\">waiting almost minutes<br>trade old phone part buy ...</td>\n",
       "        <td style=\"padding-left: 1em; padding-right: 1em; text-align: center; vertical-align: top\">[0.012987012987,<br>0.012987012987, ...</td>\n",
       "        <td style=\"padding-left: 1em; padding-right: 1em; text-align: center; vertical-align: top\">[16, 15]</td>\n",
       "        <td style=\"padding-left: 1em; padding-right: 1em; text-align: center; vertical-align: top\">[Misc, Misc]</td>\n",
       "    </tr>\n",
       "    <tr>\n",
       "        <td style=\"padding-left: 1em; padding-right: 1em; text-align: center; vertical-align: top\">place lot reviews glad<br>need get busier ages ...</td>\n",
       "        <td style=\"padding-left: 1em; padding-right: 1em; text-align: center; vertical-align: top\">[0.00645161290323,<br>0.058064516129, ...</td>\n",
       "        <td style=\"padding-left: 1em; padding-right: 1em; text-align: center; vertical-align: top\">[2, 6]</td>\n",
       "        <td style=\"padding-left: 1em; padding-right: 1em; text-align: center; vertical-align: top\">[Italian, Location]</td>\n",
       "    </tr>\n",
       "    <tr>\n",
       "        <td style=\"padding-left: 1em; padding-right: 1em; text-align: center; vertical-align: top\">like lot recent patrons<br>heard emil wqed food ...</td>\n",
       "        <td style=\"padding-left: 1em; padding-right: 1em; text-align: center; vertical-align: top\">[0.025974025974,<br>0.0649350649351, ...</td>\n",
       "        <td style=\"padding-left: 1em; padding-right: 1em; text-align: center; vertical-align: top\">[1, 31]</td>\n",
       "        <td style=\"padding-left: 1em; padding-right: 1em; text-align: center; vertical-align: top\">[Food, Ambiance]</td>\n",
       "    </tr>\n",
       "    <tr>\n",
       "        <td style=\"padding-left: 1em; padding-right: 1em; text-align: center; vertical-align: top\">wonderful reuben map<br>shown yelp page incor ...</td>\n",
       "        <td style=\"padding-left: 1em; padding-right: 1em; text-align: center; vertical-align: top\">[0.015873015873,<br>0.015873015873, ...</td>\n",
       "        <td style=\"padding-left: 1em; padding-right: 1em; text-align: center; vertical-align: top\">[16, 7]</td>\n",
       "        <td style=\"padding-left: 1em; padding-right: 1em; text-align: center; vertical-align: top\">[Misc, Misc]</td>\n",
       "    </tr>\n",
       "</table>\n",
       "[10 rows x 27 columns]<br/>\n",
       "</div>"
      ],
      "text/plain": [
       "Columns:\n",
       "\tid\tint\n",
       "\tbusiness_id\tstr\n",
       "\tdate\tstr\n",
       "\treview_id\tstr\n",
       "\tstars\tint\n",
       "\ttext\tstr\n",
       "\ttype\tstr\n",
       "\tuser_id\tstr\n",
       "\tvotes\tdict\n",
       "\tattributes\tdict\n",
       "\tcategories\tlist\n",
       "\tcity\tstr\n",
       "\tfull_address\tstr\n",
       "\thours\tdict\n",
       "\tlatitude\tfloat\n",
       "\tlongitude\tfloat\n",
       "\tname\tstr\n",
       "\tneighborhoods\tlist\n",
       "\topen\tstr\n",
       "\treview_count\tint\n",
       "\tstars.1\tfloat\n",
       "\tstate\tstr\n",
       "\ttype.1\tstr\n",
       "\tpreprocessedText\tstr\n",
       "\ttest_rev_topics\tarray\n",
       "\ttopic\tlist\n",
       "\ttopicLabel\tlist\n",
       "\n",
       "Rows: 10\n",
       "\n",
       "Data:\n",
       "+----+------------------------+------------+------------------------+-------+\n",
       "| id |      business_id       |    date    |       review_id        | stars |\n",
       "+----+------------------------+------------+------------------------+-------+\n",
       "| 0  | 5UmKMjUEUNdYWqANhGckJw | 2014-02-13 | KPvLNJ21_4wbYNctrOwWdQ |   5   |\n",
       "| 1  | 5UmKMjUEUNdYWqANhGckJw | 2015-10-31 | fFSoGV46Yxuwbr3fHNuZig |   5   |\n",
       "| 2  | UsFtqoBl7naz8AVUBZMjQQ | 2013-11-08 | Di3exaUCFNw1V4kSNW5pgA |   5   |\n",
       "| 3  | UsFtqoBl7naz8AVUBZMjQQ | 2014-10-29 | 7N9j5YbBHBW6qguE5DAeyA |   1   |\n",
       "| 4  | cE27W9VPgO88Qxe4ol6y_g | 2013-08-16 | iS34GJhMkkt9kCoTJLYEwA |   4   |\n",
       "| 5  | HZdLhv6COCleJMo7nPl-RA | 2013-06-10 | fBQ69-NU9ZyTjjS7Tb5tww |   5   |\n",
       "| 6  | HZdLhv6COCleJMo7nPl-RA | 2013-12-23 | CFiLh7WvH7dM3qVZvNiacQ |   2   |\n",
       "| 7  | mVHrayjG3uZ_RLHkLj-AMg | 2013-03-30 | 3Es8GsjkssusYgeU6_ZVpQ |   5   |\n",
       "| 8  | mVHrayjG3uZ_RLHkLj-AMg | 2014-05-01 | PY6nIMMLP2pqARlbIOJuRA |   5   |\n",
       "| 9  | mVHrayjG3uZ_RLHkLj-AMg | 2014-09-29 | 5uyYmniYyIB_wtKtyXDudQ |   4   |\n",
       "+----+------------------------+------------+------------------------+-------+\n",
       "+-------------------------------+--------+------------------------+\n",
       "|              text             |  type  |        user_id         |\n",
       "+-------------------------------+--------+------------------------+\n",
       "| Excellent food. Superb cus... | review | Iu6AxdBYGR4A0wspR9BYHA |\n",
       "| Yes this place is a little... | review | auESFwWvW42h6alXgFxAXQ |\n",
       "| All the food is great here... | review | uK8tzraOp4M5u3uYrqIBXg |\n",
       "| Wing sauce is like water. ... | review | PP_xoMSYlGr2pb67BbqBdA |\n",
       "| Before I finally made it o... | review | H9E5VejGEsRhwcbOMFknmQ |\n",
       "| THANK YOU ROB! i truly app... | review | JbAeIYc89Sk8SWmrBCJs9g |\n",
       "| After waiting for almost 3... | review | l_szjd-ken3ma6oHDkTYXg |\n",
       "| This place should have a l... | review | 8fApIAMHn2MZJFUiCQto5Q |\n",
       "| Like a lot of recent patro... | review | r1Uk-h_bddXb2ScCetoMPA |\n",
       "| Wonderful reuben.  Map sho... | review | u9ULAsnYTdYH65Haj5LMSw |\n",
       "+-------------------------------+--------+------------------------+\n",
       "+-------------------------------+-------------------------------+\n",
       "|             votes             |           attributes          |\n",
       "+-------------------------------+-------------------------------+\n",
       "| {'funny': 0L, 'useful': 0L... | {'Take-out': 'true', 'Driv... |\n",
       "| {'funny': 0L, 'useful': 0L... | {'Take-out': 'true', 'Driv... |\n",
       "| {'funny': 0L, 'useful': 0L... | {'Happy Hour': 'true', 'Ac... |\n",
       "| {'funny': 0L, 'useful': 0L... | {'Happy Hour': 'true', 'Ac... |\n",
       "| {'funny': 0L, 'useful': 0L... |   {'Good for Kids': 'true'}   |\n",
       "| {'funny': 3L, 'useful': 7L... | {'Accepts Credit Cards': '... |\n",
       "| {'funny': 1L, 'useful': 1L... | {'Accepts Credit Cards': '... |\n",
       "| {'funny': 0L, 'useful': 3L... | {'Alcohol': 'full_bar', 'N... |\n",
       "| {'funny': 0L, 'useful': 0L... | {'Alcohol': 'full_bar', 'N... |\n",
       "| {'funny': 0L, 'useful': 0L... | {'Alcohol': 'full_bar', 'N... |\n",
       "+-------------------------------+-------------------------------+\n",
       "+--------------------------------+-------------+-------------------------------+\n",
       "|           categories           |     city    |          full_address         |\n",
       "+--------------------------------+-------------+-------------------------------+\n",
       "|    [Fast Food, Restaurants]    |  Dravosburg | 4734 Lebanon Church Rd\\nDr... |\n",
       "|    [Fast Food, Restaurants]    |  Dravosburg | 4734 Lebanon Church Rd\\nDr... |\n",
       "|          [Nightlife]           |  Dravosburg | 202 McClure St\\nDravosburg... |\n",
       "|          [Nightlife]           |  Dravosburg | 202 McClure St\\nDravosburg... |\n",
       "| [Active Life, Mini Golf, Golf] | Bethel Park | 1530 Hamilton Rd\\nBethel P... |\n",
       "| [Shopping, Home Services, ...  |  Pittsburgh | 301 South Hills Village\\nP... |\n",
       "| [Shopping, Home Services, ...  |  Pittsburgh | 301 South Hills Village\\nP... |\n",
       "| [Bars, American (New), Nig...  |    rankin   | 414 Hawkins Ave\\nrankin, P... |\n",
       "| [Bars, American (New), Nig...  |    rankin   | 414 Hawkins Ave\\nrankin, P... |\n",
       "| [Bars, American (New), Nig...  |    rankin   | 414 Hawkins Ave\\nrankin, P... |\n",
       "+--------------------------------+-------------+-------------------------------+\n",
       "+-------------------------------+------------+-------------+\n",
       "|             hours             |  latitude  |  longitude  |\n",
       "+-------------------------------+------------+-------------+\n",
       "| {'Tuesday': {'close': '21:... | 40.3543266 | -79.9007057 |\n",
       "| {'Tuesday': {'close': '21:... | 40.3543266 | -79.9007057 |\n",
       "|               {}              | 40.3505527 | -79.8868138 |\n",
       "|               {}              | 40.3505527 | -79.8868138 |\n",
       "|               {}              | 40.3541155 | -80.0146597 |\n",
       "| {'Monday': {'close': '21:0... |  40.35762  |  -80.05998  |\n",
       "| {'Monday': {'close': '21:0... |  40.35762  |  -80.05998  |\n",
       "| {'Tuesday': {'close': '19:... | 40.4134643 | -79.8802474 |\n",
       "| {'Tuesday': {'close': '19:... | 40.4134643 | -79.8802474 |\n",
       "| {'Tuesday': {'close': '19:... | 40.4134643 | -79.8802474 |\n",
       "+-------------------------------+------------+-------------+\n",
       "+--------------------------+---------------+-------+--------------+-----+\n",
       "|           name           | neighborhoods |  open | review_count | ... |\n",
       "+--------------------------+---------------+-------+--------------+-----+\n",
       "|        Mr Hoagie         |       []      |  true |      4       | ... |\n",
       "|        Mr Hoagie         |       []      |  true |      4       | ... |\n",
       "|       Clancy's Pub       |       []      |  true |      4       | ... |\n",
       "|       Clancy's Pub       |       []      |  true |      4       | ... |\n",
       "| Cool Springs Golf Center |       []      | false |      5       | ... |\n",
       "|         Verizon          |       []      |  true |      5       | ... |\n",
       "|         Verizon          |       []      |  true |      5       | ... |\n",
       "|      Emil's Lounge       |       []      |  true |      20      | ... |\n",
       "|      Emil's Lounge       |       []      |  true |      20      | ... |\n",
       "|      Emil's Lounge       |       []      |  true |      20      | ... |\n",
       "+--------------------------+---------------+-------+--------------+-----+\n",
       "[10 rows x 27 columns]"
      ]
     },
     "execution_count": 139,
     "metadata": {},
     "output_type": "execute_result"
    }
   ],
   "source": [
    "test_dataset.head()"
   ]
  },
  {
   "cell_type": "code",
   "execution_count": 132,
   "metadata": {
    "collapsed": false
   },
   "outputs": [
    {
     "data": {
      "text/plain": [
       "890146"
      ]
     },
     "execution_count": 132,
     "metadata": {},
     "output_type": "execute_result"
    }
   ],
   "source": [
    "test_rev.num_rows()"
   ]
  },
  {
   "cell_type": "code",
   "execution_count": 133,
   "metadata": {
    "collapsed": false
   },
   "outputs": [
    {
     "data": {
      "text/html": [
       "<div style=\"max-height:1000px;max-width:1500px;overflow:auto;\"><table frame=\"box\" rules=\"cols\">\n",
       "    <tr>\n",
       "        <th style=\"padding-left: 1em; padding-right: 1em; text-align: center\">id</th>\n",
       "        <th style=\"padding-left: 1em; padding-right: 1em; text-align: center\">topic</th>\n",
       "        <th style=\"padding-left: 1em; padding-right: 1em; text-align: center\">topicLabel</th>\n",
       "    </tr>\n",
       "    <tr>\n",
       "        <td style=\"padding-left: 1em; padding-right: 1em; text-align: center; vertical-align: top\">0</td>\n",
       "        <td style=\"padding-left: 1em; padding-right: 1em; text-align: center; vertical-align: top\">[33, 3]</td>\n",
       "        <td style=\"padding-left: 1em; padding-right: 1em; text-align: center; vertical-align: top\">[Location, Service]</td>\n",
       "    </tr>\n",
       "</table>\n",
       "[? rows x 3 columns]<br/>Note: Only the head of the SFrame is printed. This SFrame is lazily evaluated.<br/>You can use len(sf) to force materialization.\n",
       "</div>"
      ],
      "text/plain": [
       "Columns:\n",
       "\tid\tint\n",
       "\ttopic\tlist\n",
       "\ttopicLabel\tlist\n",
       "\n",
       "Rows: Unknown\n",
       "\n",
       "Data:\n",
       "+----+---------+---------------------+\n",
       "| id |  topic  |      topicLabel     |\n",
       "+----+---------+---------------------+\n",
       "| 0  | [33, 3] | [Location, Service] |\n",
       "+----+---------+---------------------+\n",
       "[? rows x 3 columns]\n",
       "Note: Only the head of the SFrame is printed. This SFrame is lazily evaluated.\n",
       "You can use len(sf) to force materialization."
      ]
     },
     "execution_count": 133,
     "metadata": {},
     "output_type": "execute_result"
    }
   ],
   "source": [
    "sff[sff['id'] == 0]"
   ]
  },
  {
   "cell_type": "code",
   "execution_count": 55,
   "metadata": {
    "collapsed": true
   },
   "outputs": [],
   "source": [
    "train_rev['test_rev_topics'] = model.predict(reviews_train)"
   ]
  },
  {
   "cell_type": "code",
   "execution_count": 155,
   "metadata": {
    "collapsed": false
   },
   "outputs": [],
   "source": [
    "del reviews_business"
   ]
  },
  {
   "cell_type": "code",
   "execution_count": 156,
   "metadata": {
    "collapsed": true
   },
   "outputs": [],
   "source": [
    "reviews_business_topiclabels = train_dataset.append(test_dataset)"
   ]
  },
  {
   "cell_type": "code",
   "execution_count": 158,
   "metadata": {
    "collapsed": false
   },
   "outputs": [
    {
     "data": {
      "text/plain": [
       "2225213"
      ]
     },
     "execution_count": 158,
     "metadata": {},
     "output_type": "execute_result"
    }
   ],
   "source": [
    "reviews_business_topiclabels.num_rows()"
   ]
  },
  {
   "cell_type": "code",
   "execution_count": 159,
   "metadata": {
    "collapsed": true
   },
   "outputs": [],
   "source": [
    "reviews_business_topiclabels.save('reviews_business_topiclabels')"
   ]
  },
  {
   "cell_type": "markdown",
   "metadata": {},
   "source": [
    "## Evaluating Model Perplexity"
   ]
  },
  {
   "cell_type": "code",
   "execution_count": 54,
   "metadata": {
    "collapsed": false
   },
   "outputs": [
    {
     "data": {
      "text/plain": [
       "{'perplexity': 3379.4400268292516}"
      ]
     },
     "execution_count": 54,
     "metadata": {},
     "output_type": "execute_result"
    }
   ],
   "source": [
    "model.evaluate(reviews_train,reviews_test)"
   ]
  },
  {
   "cell_type": "code",
   "execution_count": 65,
   "metadata": {
    "collapsed": false
   },
   "outputs": [],
   "source": []
  }
 ],
 "metadata": {
  "kernelspec": {
   "display_name": "Python 2",
   "language": "python",
   "name": "python2"
  },
  "language_info": {
   "codemirror_mode": {
    "name": "ipython",
    "version": 2
   },
   "file_extension": ".py",
   "mimetype": "text/x-python",
   "name": "python",
   "nbconvert_exporter": "python",
   "pygments_lexer": "ipython2",
   "version": "2.7.11"
  }
 },
 "nbformat": 4,
 "nbformat_minor": 0
}
