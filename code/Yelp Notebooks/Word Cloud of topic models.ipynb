{
 "cells": [
  {
   "cell_type": "code",
   "execution_count": 1,
   "metadata": {
    "collapsed": true
   },
   "outputs": [],
   "source": [
    "import graphlab"
   ]
  },
  {
   "cell_type": "code",
   "execution_count": 165,
   "metadata": {
    "collapsed": false
   },
   "outputs": [
    {
     "name": "stderr",
     "output_type": "stream",
     "text": [
      "2016-05-28 01:58:01,496 [INFO] graphlab.cython.cy_server, 176: GraphLab Create v1.9 started. Logging: C:\\Users\\Zarmeen\\AppData\\Local\\Temp\\graphlab_server_1464382645.log.0\n"
     ]
    },
    {
     "name": "stdout",
     "output_type": "stream",
     "text": [
      "This non-commercial license of GraphLab Create is assigned to znasim@khi.iba.edu.pk and will expire on February 01, 2017. For commercial licensing options, visit https://dato.com/buy/.\n"
     ]
    }
   ],
   "source": [
    "reviews_business_topiclabels = graphlab.load_sframe('reviews_business_topiclabels/')"
   ]
  },
  {
   "cell_type": "code",
   "execution_count": 166,
   "metadata": {
    "collapsed": false
   },
   "outputs": [],
   "source": [
    "model = graphlab.load_model('my_topicModel_50topics_5000iters')"
   ]
  },
  {
   "cell_type": "code",
   "execution_count": 5,
   "metadata": {
    "collapsed": false
   },
   "outputs": [
    {
     "name": "stdout",
     "output_type": "stream",
     "text": [
      "+-------------------------------+------------+\n",
      "|      topic_probabilities      | vocabulary |\n",
      "+-------------------------------+------------+\n",
      "| [6.37830722408e-08, 0.4918... |    food    |\n",
      "| [6.37830722408e-08, 6.9383... |  italian   |\n",
      "| [6.37830722408e-08, 6.9383... |   pasta    |\n",
      "| [6.37830722408e-08, 6.9383... |   pizza    |\n",
      "| [6.37830722408e-08, 6.9383... |  service   |\n",
      "| [6.37830722408e-08, 6.9383... |   staff    |\n",
      "| [6.37830722408e-08, 6.9383... |   worker   |\n",
      "| [6.37830722408e-08, 6.9383... |   price    |\n",
      "| [6.37830722408e-08, 6.9383... |   money    |\n",
      "| [6.37830722408e-08, 6.9383... |   lunch    |\n",
      "+-------------------------------+------------+\n",
      "[300661 rows x 2 columns]\n",
      "Note: Only the head of the SFrame is printed.\n",
      "You can use print_rows(num_rows=m, num_columns=n) to print more rows and columns.\n"
     ]
    }
   ],
   "source": [
    "print model['topics']"
   ]
  },
  {
   "cell_type": "code",
   "execution_count": 168,
   "metadata": {
    "collapsed": true
   },
   "outputs": [],
   "source": [
    "topics  =  model.get_topics()"
   ]
  },
  {
   "cell_type": "code",
   "execution_count": 35,
   "metadata": {
    "collapsed": false
   },
   "outputs": [],
   "source": [
    "topicsFood = topics[(topics['topic'] == 1) | (topics['topic'] == 35) | (topics['topic'] == 46)| (topics['topic'] == 47) |(topics['topic'] == 26)]"
   ]
  },
  {
   "cell_type": "code",
   "execution_count": 44,
   "metadata": {
    "collapsed": true
   },
   "outputs": [],
   "source": [
    "topicsService = topics[(topics['topic'] == 3) | (topics['topic'] == 19) | (topics['topic'] == 30)]"
   ]
  },
  {
   "cell_type": "code",
   "execution_count": 36,
   "metadata": {
    "collapsed": true
   },
   "outputs": [],
   "source": [
    "topic_Food = graphlab.SFrame({'word' : topicsFood['word'],'count' : topicsFood['score']})"
   ]
  },
  {
   "cell_type": "code",
   "execution_count": 45,
   "metadata": {
    "collapsed": true
   },
   "outputs": [],
   "source": [
    "topic_Service = graphlab.SFrame({'word' : topicsService['word'],'count' : topicsService['score']})\n",
    "topic_Service.export_csv('topic_Service.csv')"
   ]
  },
  {
   "cell_type": "code",
   "execution_count": 169,
   "metadata": {
    "collapsed": false
   },
   "outputs": [],
   "source": [
    "topicsDrink = topics[(topics['topic'] == 38) |(topics['topic'] == 45)]\n",
    "topic_Drink = graphlab.SFrame({'word' : topicsDrink['word'],'count' : topicsDrink['score']})\n",
    "topic_Drink.export_csv('topic_Drink.csv')"
   ]
  },
  {
   "cell_type": "code",
   "execution_count": 56,
   "metadata": {
    "collapsed": true
   },
   "outputs": [],
   "source": [
    "topicsPlace = topics[(topics['topic'] == 9) | (topics['topic'] == 6) | (topics['topic'] == 20)| (topics['topic'] == 18) |\n",
    "                     (topics['topic'] == 28) | (topics['topic'] == 32) |(topics['topic'] == 33) |(topics['topic'] == 39)]\n",
    "topic_Place = graphlab.SFrame({'word' : topicsPlace['word'],'count' : topicsPlace['score']})\n",
    "topic_Place.export_csv('topic_Place.csv')"
   ]
  },
  {
   "cell_type": "code",
   "execution_count": 62,
   "metadata": {
    "collapsed": true
   },
   "outputs": [],
   "source": [
    "topicsTime = topics[(topics['topic'] == 25) | (topics['topic'] == 36)]\n",
    "topic_Time = graphlab.SFrame({'word' : topicsTime['word'],'count' : topicsTime['score']})\n",
    "topic_Time.export_csv('topic_Time.csv')"
   ]
  },
  {
   "cell_type": "code",
   "execution_count": 67,
   "metadata": {
    "collapsed": true
   },
   "outputs": [],
   "source": [
    "topicsAmbiance = topics[(topics['topic'] == 31) | (topics['topic'] == 34) | (topics['topic'] == 48)]\n",
    "topic_Ambiance = graphlab.SFrame({'word' : topicsAmbiance['word'],'count' : topicsAmbiance['score']})\n",
    "topic_Ambiance.export_csv('topic_Ambiance.csv')"
   ]
  },
  {
   "cell_type": "code",
   "execution_count": 89,
   "metadata": {
    "collapsed": true
   },
   "outputs": [],
   "source": [
    "topicsSea = topics[(topics['topic'] == 41)]\n",
    "topic_Sea = graphlab.SFrame({'word' : topicsSea['word'],'count' : topicsSea['score']})\n",
    "topic_Sea.export_csv('topic_Sea.csv')"
   ]
  },
  {
   "cell_type": "code",
   "execution_count": 37,
   "metadata": {
    "collapsed": false
   },
   "outputs": [],
   "source": [
    "topic_Food.export_csv('topic_Food.csv')"
   ]
  },
  {
   "cell_type": "code",
   "execution_count": 190,
   "metadata": {
    "collapsed": true
   },
   "outputs": [],
   "source": [
    "import numpy as np\n",
    "import csv\n",
    "import random\n",
    "from PIL import Image\n",
    "from wordcloud import WordCloud, STOPWORDS\n",
    "from palettable.colorbrewer.sequential import RdPu_9\n",
    "\n",
    "def color_func(word, font_size, position, orientation, random_state=None, **kwargs):\n",
    "    return tuple(RdPu_9.colors[random.randint(2,8)])"
   ]
  },
  {
   "cell_type": "code",
   "execution_count": 191,
   "metadata": {
    "collapsed": false
   },
   "outputs": [],
   "source": [
    "icon_path = 'wordcloudmasks/service.png'\n",
    "icon = Image.open(icon_path)\n",
    "mask = Image.new(\"RGB\", icon.size, (255,255,255))\n",
    "mask.paste(icon,icon)\n",
    "mask = np.array(mask)\n",
    "\n",
    "wc = WordCloud(background_color=\"white\", max_words=2000, mask=mask,\n",
    "               max_font_size=300, random_state=42)\n"
   ]
  },
  {
   "cell_type": "code",
   "execution_count": 192,
   "metadata": {
    "collapsed": true
   },
   "outputs": [],
   "source": [
    "csv_path = 'topic_Service.csv'"
   ]
  },
  {
   "cell_type": "code",
   "execution_count": 193,
   "metadata": {
    "collapsed": true
   },
   "outputs": [],
   "source": [
    "words_array = []\n",
    "with open(csv_path, 'rb') as csvfile:\n",
    "    reader = csv.DictReader(csvfile)\n",
    "    for row in reader:\n",
    "        if row['word'] not in STOPWORDS:\n",
    "            words_array.append((row['word'].upper(), float(row['count'])))"
   ]
  },
  {
   "cell_type": "code",
   "execution_count": 194,
   "metadata": {
    "collapsed": false
   },
   "outputs": [
    {
     "data": {
      "text/plain": [
       "<wordcloud.wordcloud.WordCloud at 0x17d2a828>"
      ]
     },
     "execution_count": 194,
     "metadata": {},
     "output_type": "execute_result"
    }
   ],
   "source": [
    "# generate word cloud\n",
    "wc.generate_from_frequencies(words_array)\n"
   ]
  },
  {
   "cell_type": "code",
   "execution_count": 195,
   "metadata": {
    "collapsed": false
   },
   "outputs": [
    {
     "data": {
      "text/plain": [
       "<wordcloud.wordcloud.WordCloud at 0x17d2a828>"
      ]
     },
     "execution_count": 195,
     "metadata": {},
     "output_type": "execute_result"
    }
   ],
   "source": [
    "wc.recolor(color_func=color_func, random_state=3)\n",
    "wc.to_file(\"topicService.png\")"
   ]
  },
  {
   "cell_type": "code",
   "execution_count": null,
   "metadata": {
    "collapsed": true
   },
   "outputs": [],
   "source": []
  },
  {
   "cell_type": "code",
   "execution_count": null,
   "metadata": {
    "collapsed": true
   },
   "outputs": [],
   "source": []
  }
 ],
 "metadata": {
  "kernelspec": {
   "display_name": "Python 2",
   "language": "python",
   "name": "python2"
  },
  "language_info": {
   "codemirror_mode": {
    "name": "ipython",
    "version": 2
   },
   "file_extension": ".py",
   "mimetype": "text/x-python",
   "name": "python",
   "nbconvert_exporter": "python",
   "pygments_lexer": "ipython2",
   "version": "2.7.11"
  }
 },
 "nbformat": 4,
 "nbformat_minor": 0
}
